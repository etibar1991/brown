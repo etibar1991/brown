{
 "cells": [
  {
   "cell_type": "markdown",
   "id": "3fc3f801",
   "metadata": {},
   "source": [
    "<h2> Комментарий ревьюера <a class=\"tocSkip\"></h2>\n",
    "\n",
    "Этибар, привет!\n",
    "\n",
    "Меня зовут Олег Михеев, и я буду проверять твой проект. Предлагаю общаться на \"ты\", но если тебе будет некомфортно, обязательно сообщи, и мы перейдем на \"вы\". Моя главная цель - не указать на твои ошибки, а поделиться опытом и подготовить тебя к работе аналитиком. Увидев у тебя ошибку, я постараюсь указать на её наличие и дам возможность найти и самостоятельно исправить её. \n",
    "\n",
    "В проверке проекта я буду использовать разные цвета для обозначения комментариев. Например:\n",
    "\n",
    "<br/>\n",
    "\n",
    "<div class=\"alert alert-success\">\n",
    "<h3> Комментарий ревьюера ✔️<a class=\"tocSkip\"> </h3>\n",
    "\n",
    "Так выделены удачные решения, на которые можно опираться в будущем.\n",
    "</div>\n",
    "\n",
    "<br/>\n",
    "\n",
    "<div class=\"alert alert-warning\">\n",
    "    <h3> Комментарий ревьюера ⚠️<a class=\"tocSkip\"> </h3>\n",
    " \n",
    "Когда решение на отдельном шаге станет лучше, если внести небольшие коррективы.\n",
    "</div>\n",
    "\n",
    "\n",
    "<br/>\n",
    "<div class=\"alert alert-block alert-danger\">\n",
    "<h3> Комментарий ревьюера ❌<a class=\"tocSkip\"></h3>\n",
    "\n",
    " А так выделены решения, которые необходимо доработать, чтобы я мог принять проект.\n",
    "</div>\n",
    "    \n",
    "  \n",
    "Если вносишь изменения в проект, указывай, пожалуйста, это в своих комментариях. Будет удобно, если обозначишь их заметным цветом. Например, вот так:\n",
    "       \n",
    "<div class=\"alert alert-block alert-info\">\n",
    "    \n",
    "<h3> Комментарий студента  <a class=\"tocSkip\"></h3> \n",
    "    \n",
    "Можешь кликнуть сюда два раза и скопировать код комментария. Также если что-то непонятно или остались вопросы по ревью, обязательно пиши.\n",
    "    \n",
    "</div>\n",
    "    \n",
    "Пожалуйста, не удаляй и не перемещай мои комментарии, чтобы не произошло путаницы, и я мог быстрее проверить проект.\n",
    "<br/>"
   ]
  },
  {
   "cell_type": "markdown",
   "id": "12779eda",
   "metadata": {},
   "source": [
    "<div style=\"border:solid Chocolate 2px; padding: 40px\">\n",
    "\n",
    "**Общий вывод по ревью**\n",
    "\n",
    "Хорошо, что получилось пройтись по всем шагам проекта.\n",
    "    \n",
    "Видно, что ты быстро усваиваешь теорию.\n",
    "\n",
    "**Что нужно сделать, чтобы я мог принять проект**:\n",
    "\n",
    "* Вывести сводные таблицы во всех вопросах исследовательской части и учитывать все группы клиентов при написании выводов \n",
    "* Написать подробный финальный вывод, учитывающий все группы клиентов с процентными показателями и информацию о предобработке\n",
    "\n",
    "**Успехов! Жду проект на повторное ревью!**"
   ]
  },
  {
   "cell_type": "markdown",
   "id": "43422f18",
   "metadata": {},
   "source": [
    "<div style=\"border:solid Chocolate 2px; padding: 40px\">\n",
    "\n",
    "**Общий вывод по ревью v2**\n",
    "\n",
    "Все замечания учтены.\n",
    "\n",
    "Работа стала ещё лучше. Видно, что ты быстро усваиваешь материал и пишешь качественные выводы.\n",
    "\n",
    "Продолжай в том же духе и станешь хорошим специалистом.\n",
    "\n",
    "**Проект принимаю. Успехов в дальнейшем обучении!**"
   ]
  },
  {
   "cell_type": "markdown",
   "id": "386f2ae7",
   "metadata": {
    "deletable": false,
    "editable": false,
    "id": "386f2ae7"
   },
   "source": [
    "# Исследование надежности заемщиков\n"
   ]
  },
  {
   "cell_type": "markdown",
   "id": "49a411c3",
   "metadata": {},
   "source": [
    "<div class=\"alert alert-warning\">\n",
    "    <h3> Комментарий ревьюера ⚠️<a class=\"tocSkip\"> </h3>\n",
    "\n",
    "Эта часть проверена автоматически, но я дам несколько рекомендаций, которые могут быть полезны в будущем.\n",
    "\n",
    "Чтобы сделать проект более понятным для потенциального работодателя или коллег после названия старайся добавлять бриф, цели исследования, описание данных и план работы. Это также уменьшит количество итераций проверок во взаимодействии с другими ревьюерами в других проектах.</div>"
   ]
  },
  {
   "cell_type": "markdown",
   "id": "ffe86f65",
   "metadata": {
    "deletable": false,
    "editable": false,
    "id": "ffe86f65"
   },
   "source": [
    "Во второй части проекта вы выполните шаги 3 и 4. Их вручную проверит ревьюер.\n",
    "Чтобы вам не пришлось писать код заново для шагов 1 и 2, мы добавили авторские решения в ячейки с кодом. \n",
    "\n"
   ]
  },
  {
   "cell_type": "markdown",
   "id": "26613308",
   "metadata": {
    "deletable": false,
    "editable": false,
    "id": "26613308"
   },
   "source": [
    "## Откройте таблицу и изучите общую информацию о данных"
   ]
  },
  {
   "cell_type": "markdown",
   "id": "3c9f838e",
   "metadata": {
    "deletable": false,
    "editable": false,
    "id": "3c9f838e"
   },
   "source": [
    "**Задание 1. Импортируйте библиотеку pandas. Считайте данные из csv-файла в датафрейм и сохраните в переменную `data`. Путь к файлу:**\n",
    "\n",
    "`/datasets/data.csv`"
   ]
  },
  {
   "cell_type": "code",
   "execution_count": 31,
   "id": "77a68a90",
   "metadata": {
    "deletable": false,
    "id": "77a68a90"
   },
   "outputs": [],
   "source": [
    "import pandas as pd\n",
    "\n",
    "try:\n",
    "    data = pd.read_csv('/datasets/data.csv')\n",
    "except:\n",
    "    data = pd.read_csv('https://code.s3.yandex.net/datasets/data.csv')"
   ]
  },
  {
   "cell_type": "markdown",
   "id": "2777cd4a",
   "metadata": {},
   "source": [
    "<div class=\"alert alert-warning\">\n",
    "    <h3> Комментарий ревьюера ⚠️<a class=\"tocSkip\"> </h3>\n",
    " \n",
    " Лучше писать блоки загрузки библиотек и данных в разных ячейках. Если захочешь загрузить дополнительную библиотеку, то датасет не будет загружаться заново, что позволит избежать ошибок.\n",
    "</div>"
   ]
  },
  {
   "cell_type": "markdown",
   "id": "45365635",
   "metadata": {
    "deletable": false,
    "editable": false,
    "id": "45365635"
   },
   "source": [
    "**Задание 2. Выведите первые 20 строчек датафрейма `data` на экран.**"
   ]
  },
  {
   "cell_type": "code",
   "execution_count": 32,
   "id": "b0451a9a",
   "metadata": {
    "deletable": false,
    "id": "b0451a9a",
    "outputId": "1a8f3ef2-d323-4ec2-ddf7-89670b5944c4"
   },
   "outputs": [
    {
     "data": {
      "text/html": [
       "<div>\n",
       "<style scoped>\n",
       "    .dataframe tbody tr th:only-of-type {\n",
       "        vertical-align: middle;\n",
       "    }\n",
       "\n",
       "    .dataframe tbody tr th {\n",
       "        vertical-align: top;\n",
       "    }\n",
       "\n",
       "    .dataframe thead th {\n",
       "        text-align: right;\n",
       "    }\n",
       "</style>\n",
       "<table border=\"1\" class=\"dataframe\">\n",
       "  <thead>\n",
       "    <tr style=\"text-align: right;\">\n",
       "      <th></th>\n",
       "      <th>children</th>\n",
       "      <th>days_employed</th>\n",
       "      <th>dob_years</th>\n",
       "      <th>education</th>\n",
       "      <th>education_id</th>\n",
       "      <th>family_status</th>\n",
       "      <th>family_status_id</th>\n",
       "      <th>gender</th>\n",
       "      <th>income_type</th>\n",
       "      <th>debt</th>\n",
       "      <th>total_income</th>\n",
       "      <th>purpose</th>\n",
       "    </tr>\n",
       "  </thead>\n",
       "  <tbody>\n",
       "    <tr>\n",
       "      <th>0</th>\n",
       "      <td>1</td>\n",
       "      <td>-8437.673028</td>\n",
       "      <td>42</td>\n",
       "      <td>высшее</td>\n",
       "      <td>0</td>\n",
       "      <td>женат / замужем</td>\n",
       "      <td>0</td>\n",
       "      <td>F</td>\n",
       "      <td>сотрудник</td>\n",
       "      <td>0</td>\n",
       "      <td>253875.639453</td>\n",
       "      <td>покупка жилья</td>\n",
       "    </tr>\n",
       "    <tr>\n",
       "      <th>1</th>\n",
       "      <td>1</td>\n",
       "      <td>-4024.803754</td>\n",
       "      <td>36</td>\n",
       "      <td>среднее</td>\n",
       "      <td>1</td>\n",
       "      <td>женат / замужем</td>\n",
       "      <td>0</td>\n",
       "      <td>F</td>\n",
       "      <td>сотрудник</td>\n",
       "      <td>0</td>\n",
       "      <td>112080.014102</td>\n",
       "      <td>приобретение автомобиля</td>\n",
       "    </tr>\n",
       "    <tr>\n",
       "      <th>2</th>\n",
       "      <td>0</td>\n",
       "      <td>-5623.422610</td>\n",
       "      <td>33</td>\n",
       "      <td>Среднее</td>\n",
       "      <td>1</td>\n",
       "      <td>женат / замужем</td>\n",
       "      <td>0</td>\n",
       "      <td>M</td>\n",
       "      <td>сотрудник</td>\n",
       "      <td>0</td>\n",
       "      <td>145885.952297</td>\n",
       "      <td>покупка жилья</td>\n",
       "    </tr>\n",
       "    <tr>\n",
       "      <th>3</th>\n",
       "      <td>3</td>\n",
       "      <td>-4124.747207</td>\n",
       "      <td>32</td>\n",
       "      <td>среднее</td>\n",
       "      <td>1</td>\n",
       "      <td>женат / замужем</td>\n",
       "      <td>0</td>\n",
       "      <td>M</td>\n",
       "      <td>сотрудник</td>\n",
       "      <td>0</td>\n",
       "      <td>267628.550329</td>\n",
       "      <td>дополнительное образование</td>\n",
       "    </tr>\n",
       "    <tr>\n",
       "      <th>4</th>\n",
       "      <td>0</td>\n",
       "      <td>340266.072047</td>\n",
       "      <td>53</td>\n",
       "      <td>среднее</td>\n",
       "      <td>1</td>\n",
       "      <td>гражданский брак</td>\n",
       "      <td>1</td>\n",
       "      <td>F</td>\n",
       "      <td>пенсионер</td>\n",
       "      <td>0</td>\n",
       "      <td>158616.077870</td>\n",
       "      <td>сыграть свадьбу</td>\n",
       "    </tr>\n",
       "    <tr>\n",
       "      <th>5</th>\n",
       "      <td>0</td>\n",
       "      <td>-926.185831</td>\n",
       "      <td>27</td>\n",
       "      <td>высшее</td>\n",
       "      <td>0</td>\n",
       "      <td>гражданский брак</td>\n",
       "      <td>1</td>\n",
       "      <td>M</td>\n",
       "      <td>компаньон</td>\n",
       "      <td>0</td>\n",
       "      <td>255763.565419</td>\n",
       "      <td>покупка жилья</td>\n",
       "    </tr>\n",
       "    <tr>\n",
       "      <th>6</th>\n",
       "      <td>0</td>\n",
       "      <td>-2879.202052</td>\n",
       "      <td>43</td>\n",
       "      <td>высшее</td>\n",
       "      <td>0</td>\n",
       "      <td>женат / замужем</td>\n",
       "      <td>0</td>\n",
       "      <td>F</td>\n",
       "      <td>компаньон</td>\n",
       "      <td>0</td>\n",
       "      <td>240525.971920</td>\n",
       "      <td>операции с жильем</td>\n",
       "    </tr>\n",
       "    <tr>\n",
       "      <th>7</th>\n",
       "      <td>0</td>\n",
       "      <td>-152.779569</td>\n",
       "      <td>50</td>\n",
       "      <td>СРЕДНЕЕ</td>\n",
       "      <td>1</td>\n",
       "      <td>женат / замужем</td>\n",
       "      <td>0</td>\n",
       "      <td>M</td>\n",
       "      <td>сотрудник</td>\n",
       "      <td>0</td>\n",
       "      <td>135823.934197</td>\n",
       "      <td>образование</td>\n",
       "    </tr>\n",
       "    <tr>\n",
       "      <th>8</th>\n",
       "      <td>2</td>\n",
       "      <td>-6929.865299</td>\n",
       "      <td>35</td>\n",
       "      <td>ВЫСШЕЕ</td>\n",
       "      <td>0</td>\n",
       "      <td>гражданский брак</td>\n",
       "      <td>1</td>\n",
       "      <td>F</td>\n",
       "      <td>сотрудник</td>\n",
       "      <td>0</td>\n",
       "      <td>95856.832424</td>\n",
       "      <td>на проведение свадьбы</td>\n",
       "    </tr>\n",
       "    <tr>\n",
       "      <th>9</th>\n",
       "      <td>0</td>\n",
       "      <td>-2188.756445</td>\n",
       "      <td>41</td>\n",
       "      <td>среднее</td>\n",
       "      <td>1</td>\n",
       "      <td>женат / замужем</td>\n",
       "      <td>0</td>\n",
       "      <td>M</td>\n",
       "      <td>сотрудник</td>\n",
       "      <td>0</td>\n",
       "      <td>144425.938277</td>\n",
       "      <td>покупка жилья для семьи</td>\n",
       "    </tr>\n",
       "    <tr>\n",
       "      <th>10</th>\n",
       "      <td>2</td>\n",
       "      <td>-4171.483647</td>\n",
       "      <td>36</td>\n",
       "      <td>высшее</td>\n",
       "      <td>0</td>\n",
       "      <td>женат / замужем</td>\n",
       "      <td>0</td>\n",
       "      <td>M</td>\n",
       "      <td>компаньон</td>\n",
       "      <td>0</td>\n",
       "      <td>113943.491460</td>\n",
       "      <td>покупка недвижимости</td>\n",
       "    </tr>\n",
       "    <tr>\n",
       "      <th>11</th>\n",
       "      <td>0</td>\n",
       "      <td>-792.701887</td>\n",
       "      <td>40</td>\n",
       "      <td>среднее</td>\n",
       "      <td>1</td>\n",
       "      <td>женат / замужем</td>\n",
       "      <td>0</td>\n",
       "      <td>F</td>\n",
       "      <td>сотрудник</td>\n",
       "      <td>0</td>\n",
       "      <td>77069.234271</td>\n",
       "      <td>покупка коммерческой недвижимости</td>\n",
       "    </tr>\n",
       "    <tr>\n",
       "      <th>12</th>\n",
       "      <td>0</td>\n",
       "      <td>NaN</td>\n",
       "      <td>65</td>\n",
       "      <td>среднее</td>\n",
       "      <td>1</td>\n",
       "      <td>гражданский брак</td>\n",
       "      <td>1</td>\n",
       "      <td>M</td>\n",
       "      <td>пенсионер</td>\n",
       "      <td>0</td>\n",
       "      <td>NaN</td>\n",
       "      <td>сыграть свадьбу</td>\n",
       "    </tr>\n",
       "    <tr>\n",
       "      <th>13</th>\n",
       "      <td>0</td>\n",
       "      <td>-1846.641941</td>\n",
       "      <td>54</td>\n",
       "      <td>неоконченное высшее</td>\n",
       "      <td>2</td>\n",
       "      <td>женат / замужем</td>\n",
       "      <td>0</td>\n",
       "      <td>F</td>\n",
       "      <td>сотрудник</td>\n",
       "      <td>0</td>\n",
       "      <td>130458.228857</td>\n",
       "      <td>приобретение автомобиля</td>\n",
       "    </tr>\n",
       "    <tr>\n",
       "      <th>14</th>\n",
       "      <td>0</td>\n",
       "      <td>-1844.956182</td>\n",
       "      <td>56</td>\n",
       "      <td>высшее</td>\n",
       "      <td>0</td>\n",
       "      <td>гражданский брак</td>\n",
       "      <td>1</td>\n",
       "      <td>F</td>\n",
       "      <td>компаньон</td>\n",
       "      <td>1</td>\n",
       "      <td>165127.911772</td>\n",
       "      <td>покупка жилой недвижимости</td>\n",
       "    </tr>\n",
       "    <tr>\n",
       "      <th>15</th>\n",
       "      <td>1</td>\n",
       "      <td>-972.364419</td>\n",
       "      <td>26</td>\n",
       "      <td>среднее</td>\n",
       "      <td>1</td>\n",
       "      <td>женат / замужем</td>\n",
       "      <td>0</td>\n",
       "      <td>F</td>\n",
       "      <td>сотрудник</td>\n",
       "      <td>0</td>\n",
       "      <td>116820.904450</td>\n",
       "      <td>строительство собственной недвижимости</td>\n",
       "    </tr>\n",
       "    <tr>\n",
       "      <th>16</th>\n",
       "      <td>0</td>\n",
       "      <td>-1719.934226</td>\n",
       "      <td>35</td>\n",
       "      <td>среднее</td>\n",
       "      <td>1</td>\n",
       "      <td>женат / замужем</td>\n",
       "      <td>0</td>\n",
       "      <td>F</td>\n",
       "      <td>сотрудник</td>\n",
       "      <td>0</td>\n",
       "      <td>289202.704229</td>\n",
       "      <td>недвижимость</td>\n",
       "    </tr>\n",
       "    <tr>\n",
       "      <th>17</th>\n",
       "      <td>0</td>\n",
       "      <td>-2369.999720</td>\n",
       "      <td>33</td>\n",
       "      <td>высшее</td>\n",
       "      <td>0</td>\n",
       "      <td>гражданский брак</td>\n",
       "      <td>1</td>\n",
       "      <td>M</td>\n",
       "      <td>сотрудник</td>\n",
       "      <td>0</td>\n",
       "      <td>90410.586745</td>\n",
       "      <td>строительство недвижимости</td>\n",
       "    </tr>\n",
       "    <tr>\n",
       "      <th>18</th>\n",
       "      <td>0</td>\n",
       "      <td>400281.136913</td>\n",
       "      <td>53</td>\n",
       "      <td>среднее</td>\n",
       "      <td>1</td>\n",
       "      <td>вдовец / вдова</td>\n",
       "      <td>2</td>\n",
       "      <td>F</td>\n",
       "      <td>пенсионер</td>\n",
       "      <td>0</td>\n",
       "      <td>56823.777243</td>\n",
       "      <td>на покупку подержанного автомобиля</td>\n",
       "    </tr>\n",
       "    <tr>\n",
       "      <th>19</th>\n",
       "      <td>0</td>\n",
       "      <td>-10038.818549</td>\n",
       "      <td>48</td>\n",
       "      <td>СРЕДНЕЕ</td>\n",
       "      <td>1</td>\n",
       "      <td>в разводе</td>\n",
       "      <td>3</td>\n",
       "      <td>F</td>\n",
       "      <td>сотрудник</td>\n",
       "      <td>0</td>\n",
       "      <td>242831.107982</td>\n",
       "      <td>на покупку своего автомобиля</td>\n",
       "    </tr>\n",
       "  </tbody>\n",
       "</table>\n",
       "</div>"
      ],
      "text/plain": [
       "    children  days_employed  dob_years            education  education_id  \\\n",
       "0          1   -8437.673028         42               высшее             0   \n",
       "1          1   -4024.803754         36              среднее             1   \n",
       "2          0   -5623.422610         33              Среднее             1   \n",
       "3          3   -4124.747207         32              среднее             1   \n",
       "4          0  340266.072047         53              среднее             1   \n",
       "5          0    -926.185831         27               высшее             0   \n",
       "6          0   -2879.202052         43               высшее             0   \n",
       "7          0    -152.779569         50              СРЕДНЕЕ             1   \n",
       "8          2   -6929.865299         35               ВЫСШЕЕ             0   \n",
       "9          0   -2188.756445         41              среднее             1   \n",
       "10         2   -4171.483647         36               высшее             0   \n",
       "11         0    -792.701887         40              среднее             1   \n",
       "12         0            NaN         65              среднее             1   \n",
       "13         0   -1846.641941         54  неоконченное высшее             2   \n",
       "14         0   -1844.956182         56               высшее             0   \n",
       "15         1    -972.364419         26              среднее             1   \n",
       "16         0   -1719.934226         35              среднее             1   \n",
       "17         0   -2369.999720         33               высшее             0   \n",
       "18         0  400281.136913         53              среднее             1   \n",
       "19         0  -10038.818549         48              СРЕДНЕЕ             1   \n",
       "\n",
       "       family_status  family_status_id gender income_type  debt  \\\n",
       "0    женат / замужем                 0      F   сотрудник     0   \n",
       "1    женат / замужем                 0      F   сотрудник     0   \n",
       "2    женат / замужем                 0      M   сотрудник     0   \n",
       "3    женат / замужем                 0      M   сотрудник     0   \n",
       "4   гражданский брак                 1      F   пенсионер     0   \n",
       "5   гражданский брак                 1      M   компаньон     0   \n",
       "6    женат / замужем                 0      F   компаньон     0   \n",
       "7    женат / замужем                 0      M   сотрудник     0   \n",
       "8   гражданский брак                 1      F   сотрудник     0   \n",
       "9    женат / замужем                 0      M   сотрудник     0   \n",
       "10   женат / замужем                 0      M   компаньон     0   \n",
       "11   женат / замужем                 0      F   сотрудник     0   \n",
       "12  гражданский брак                 1      M   пенсионер     0   \n",
       "13   женат / замужем                 0      F   сотрудник     0   \n",
       "14  гражданский брак                 1      F   компаньон     1   \n",
       "15   женат / замужем                 0      F   сотрудник     0   \n",
       "16   женат / замужем                 0      F   сотрудник     0   \n",
       "17  гражданский брак                 1      M   сотрудник     0   \n",
       "18    вдовец / вдова                 2      F   пенсионер     0   \n",
       "19         в разводе                 3      F   сотрудник     0   \n",
       "\n",
       "     total_income                                 purpose  \n",
       "0   253875.639453                           покупка жилья  \n",
       "1   112080.014102                 приобретение автомобиля  \n",
       "2   145885.952297                           покупка жилья  \n",
       "3   267628.550329              дополнительное образование  \n",
       "4   158616.077870                         сыграть свадьбу  \n",
       "5   255763.565419                           покупка жилья  \n",
       "6   240525.971920                       операции с жильем  \n",
       "7   135823.934197                             образование  \n",
       "8    95856.832424                   на проведение свадьбы  \n",
       "9   144425.938277                 покупка жилья для семьи  \n",
       "10  113943.491460                    покупка недвижимости  \n",
       "11   77069.234271       покупка коммерческой недвижимости  \n",
       "12            NaN                         сыграть свадьбу  \n",
       "13  130458.228857                 приобретение автомобиля  \n",
       "14  165127.911772              покупка жилой недвижимости  \n",
       "15  116820.904450  строительство собственной недвижимости  \n",
       "16  289202.704229                            недвижимость  \n",
       "17   90410.586745              строительство недвижимости  \n",
       "18   56823.777243      на покупку подержанного автомобиля  \n",
       "19  242831.107982            на покупку своего автомобиля  "
      ]
     },
     "execution_count": 32,
     "metadata": {},
     "output_type": "execute_result"
    }
   ],
   "source": [
    "data.head(20)\n"
   ]
  },
  {
   "cell_type": "markdown",
   "id": "0ed8f27f",
   "metadata": {
    "deletable": false,
    "editable": false,
    "id": "0ed8f27f"
   },
   "source": [
    "**Задание 3. Выведите основную информацию о датафрейме с помощью метода `info()`.**"
   ]
  },
  {
   "cell_type": "code",
   "execution_count": 33,
   "id": "ab3f863b",
   "metadata": {
    "deletable": false,
    "id": "ab3f863b",
    "outputId": "15376089-8dad-46c9-b520-c05248d43158"
   },
   "outputs": [
    {
     "name": "stdout",
     "output_type": "stream",
     "text": [
      "<class 'pandas.core.frame.DataFrame'>\n",
      "RangeIndex: 21525 entries, 0 to 21524\n",
      "Data columns (total 12 columns):\n",
      " #   Column            Non-Null Count  Dtype  \n",
      "---  ------            --------------  -----  \n",
      " 0   children          21525 non-null  int64  \n",
      " 1   days_employed     19351 non-null  float64\n",
      " 2   dob_years         21525 non-null  int64  \n",
      " 3   education         21525 non-null  object \n",
      " 4   education_id      21525 non-null  int64  \n",
      " 5   family_status     21525 non-null  object \n",
      " 6   family_status_id  21525 non-null  int64  \n",
      " 7   gender            21525 non-null  object \n",
      " 8   income_type       21525 non-null  object \n",
      " 9   debt              21525 non-null  int64  \n",
      " 10  total_income      19351 non-null  float64\n",
      " 11  purpose           21525 non-null  object \n",
      "dtypes: float64(2), int64(5), object(5)\n",
      "memory usage: 2.0+ MB\n"
     ]
    }
   ],
   "source": [
    "data.info()\n"
   ]
  },
  {
   "cell_type": "markdown",
   "id": "60e3e22d",
   "metadata": {
    "deletable": false,
    "editable": false,
    "id": "60e3e22d"
   },
   "source": [
    "## Предобработка данных"
   ]
  },
  {
   "cell_type": "markdown",
   "id": "03dc170c",
   "metadata": {
    "deletable": false,
    "editable": false,
    "id": "03dc170c"
   },
   "source": [
    "### Удаление пропусков"
   ]
  },
  {
   "cell_type": "markdown",
   "id": "a4f54eef",
   "metadata": {
    "deletable": false,
    "editable": false,
    "id": "a4f54eef"
   },
   "source": [
    "**Задание 4. Выведите количество пропущенных значений для каждого столбца. Используйте комбинацию двух методов.**"
   ]
  },
  {
   "cell_type": "code",
   "execution_count": 34,
   "id": "2dc372b2",
   "metadata": {
    "deletable": false,
    "id": "2dc372b2",
    "outputId": "81f4d817-781c-465c-ed15-91ce4446810d"
   },
   "outputs": [
    {
     "data": {
      "text/plain": [
       "children               0\n",
       "days_employed       2174\n",
       "dob_years              0\n",
       "education              0\n",
       "education_id           0\n",
       "family_status          0\n",
       "family_status_id       0\n",
       "gender                 0\n",
       "income_type            0\n",
       "debt                   0\n",
       "total_income        2174\n",
       "purpose                0\n",
       "dtype: int64"
      ]
     },
     "execution_count": 34,
     "metadata": {},
     "output_type": "execute_result"
    }
   ],
   "source": [
    "data.isna().sum()"
   ]
  },
  {
   "cell_type": "markdown",
   "id": "14f011b1",
   "metadata": {
    "deletable": false,
    "editable": false,
    "id": "14f011b1"
   },
   "source": [
    "**Задание 5. В двух столбцах есть пропущенные значения. Один из них — `days_employed`. Пропуски в этом столбце вы обработаете на следующем этапе. Другой столбец с пропущенными значениями — `total_income` — хранит данные о доходах. На сумму дохода сильнее всего влияет тип занятости, поэтому заполнить пропуски в этом столбце нужно медианным значением по каждому типу из столбца `income_type`. Например, у человека с типом занятости `сотрудник` пропуск в столбце `total_income` должен быть заполнен медианным доходом среди всех записей с тем же типом.**"
   ]
  },
  {
   "cell_type": "code",
   "execution_count": 35,
   "id": "bdabfb6e",
   "metadata": {
    "deletable": false,
    "id": "bdabfb6e"
   },
   "outputs": [],
   "source": [
    "for t in data['income_type'].unique():\n",
    "    data.loc[(data['income_type'] == t) & (data['total_income'].isna()), 'total_income'] = \\\n",
    "    data.loc[(data['income_type'] == t), 'total_income'].median()"
   ]
  },
  {
   "cell_type": "markdown",
   "id": "5be34059",
   "metadata": {
    "deletable": false,
    "editable": false,
    "id": "5be34059"
   },
   "source": [
    "### Обработка аномальных значений"
   ]
  },
  {
   "cell_type": "markdown",
   "id": "a87606cb",
   "metadata": {
    "deletable": false,
    "editable": false,
    "id": "a87606cb"
   },
   "source": [
    "**Задание 6. В данных могут встречаться артефакты (аномалии) — значения, которые не отражают действительность и появились по какой-то ошибке. таким артефактом будет отрицательное количество дней трудового стажа в столбце `days_employed`. Для реальных данных это нормально. Обработайте значения в этом столбце: замените все отрицательные значения положительными с помощью метода `abs()`.**"
   ]
  },
  {
   "cell_type": "code",
   "execution_count": 36,
   "id": "020c46cc",
   "metadata": {
    "deletable": false,
    "id": "020c46cc"
   },
   "outputs": [],
   "source": [
    "data['days_employed'] = data['days_employed'].abs()"
   ]
  },
  {
   "cell_type": "markdown",
   "id": "45538a3a",
   "metadata": {
    "deletable": false,
    "editable": false,
    "id": "45538a3a"
   },
   "source": [
    "**Задание 7. Для каждого типа занятости выведите медианное значение трудового стажа `days_employed` в днях.**"
   ]
  },
  {
   "cell_type": "code",
   "execution_count": 37,
   "id": "cd3e6328",
   "metadata": {
    "deletable": false,
    "id": "cd3e6328",
    "outputId": "801ef80e-522b-4668-f34e-565af7432bcf"
   },
   "outputs": [
    {
     "data": {
      "text/plain": [
       "income_type\n",
       "безработный        366413.652744\n",
       "в декрете            3296.759962\n",
       "госслужащий          2689.368353\n",
       "компаньон            1547.382223\n",
       "пенсионер          365213.306266\n",
       "предприниматель       520.848083\n",
       "сотрудник            1574.202821\n",
       "студент               578.751554\n",
       "Name: days_employed, dtype: float64"
      ]
     },
     "execution_count": 37,
     "metadata": {},
     "output_type": "execute_result"
    }
   ],
   "source": [
    "data.groupby('income_type')['days_employed'].agg('median')\n"
   ]
  },
  {
   "cell_type": "markdown",
   "id": "90c5f058",
   "metadata": {
    "deletable": false,
    "editable": false,
    "id": "90c5f058"
   },
   "source": [
    "У двух типов (безработные и пенсионеры) получатся аномально большие значения. Исправить такие значения сложно, поэтому оставьте их как есть."
   ]
  },
  {
   "cell_type": "markdown",
   "id": "9652e50d",
   "metadata": {
    "deletable": false,
    "editable": false,
    "id": "9652e50d"
   },
   "source": [
    "**Задание 8. Выведите перечень уникальных значений столбца `children`.**"
   ]
  },
  {
   "cell_type": "code",
   "execution_count": 38,
   "id": "dbb37b8e",
   "metadata": {
    "deletable": false,
    "id": "dbb37b8e",
    "outputId": "6975b15c-7f95-4697-d16d-a0c79b657b03"
   },
   "outputs": [
    {
     "data": {
      "text/plain": [
       "array([ 1,  0,  3,  2, -1,  4, 20,  5])"
      ]
     },
     "execution_count": 38,
     "metadata": {},
     "output_type": "execute_result"
    }
   ],
   "source": [
    "data['children'].unique()\n"
   ]
  },
  {
   "cell_type": "markdown",
   "id": "2b8b0715",
   "metadata": {
    "deletable": false,
    "editable": false,
    "id": "2b8b0715"
   },
   "source": [
    "**Задание 9. В столбце `children` есть два аномальных значения. Удалите строки, в которых встречаются такие аномальные значения из датафрейма `data`.**"
   ]
  },
  {
   "cell_type": "code",
   "execution_count": 39,
   "id": "20009df8",
   "metadata": {
    "deletable": false,
    "id": "20009df8"
   },
   "outputs": [],
   "source": [
    "data = data[(data['children'] != -1) & (data['children'] != 20)]"
   ]
  },
  {
   "cell_type": "markdown",
   "id": "8c6ac9f1",
   "metadata": {
    "deletable": false,
    "editable": false,
    "id": "8c6ac9f1"
   },
   "source": [
    "**Задание 10. Ещё раз выведите перечень уникальных значений столбца `children`, чтобы убедиться, что артефакты удалены.**"
   ]
  },
  {
   "cell_type": "code",
   "execution_count": 40,
   "id": "07337b81",
   "metadata": {
    "deletable": false,
    "id": "07337b81",
    "outputId": "b2097101-d49d-44d9-901b-32a65c9463d1"
   },
   "outputs": [
    {
     "data": {
      "text/plain": [
       "array([1, 0, 3, 2, 4, 5])"
      ]
     },
     "execution_count": 40,
     "metadata": {},
     "output_type": "execute_result"
    }
   ],
   "source": [
    "data['children'].unique()"
   ]
  },
  {
   "cell_type": "markdown",
   "id": "ee3f52d4",
   "metadata": {
    "deletable": false,
    "editable": false,
    "id": "ee3f52d4"
   },
   "source": [
    "### Удаление пропусков (продолжение)"
   ]
  },
  {
   "cell_type": "markdown",
   "id": "a700b0e4",
   "metadata": {
    "deletable": false,
    "editable": false,
    "id": "a700b0e4"
   },
   "source": [
    "**Задание 11. Заполните пропуски в столбце `days_employed` медианными значениями по каждого типа занятости `income_type`.**"
   ]
  },
  {
   "cell_type": "code",
   "execution_count": 41,
   "id": "61946b83",
   "metadata": {
    "deletable": false,
    "id": "61946b83"
   },
   "outputs": [],
   "source": [
    "for t in data['income_type'].unique():\n",
    "    data.loc[(data['income_type'] == t) & (data['days_employed'].isna()), 'days_employed'] = \\\n",
    "    data.loc[(data['income_type'] == t), 'days_employed'].median()"
   ]
  },
  {
   "cell_type": "markdown",
   "id": "550dcd9b",
   "metadata": {
    "deletable": false,
    "editable": false,
    "id": "550dcd9b"
   },
   "source": [
    "**Задание 12. Убедитесь, что все пропуски заполнены. Проверьте себя и ещё раз выведите количество пропущенных значений для каждого столбца с помощью двух методов.**"
   ]
  },
  {
   "cell_type": "code",
   "execution_count": 42,
   "id": "937c7014",
   "metadata": {
    "deletable": false,
    "id": "937c7014",
    "outputId": "8da1e4e1-358e-4e87-98c9-f261bce0a7b2"
   },
   "outputs": [
    {
     "data": {
      "text/plain": [
       "children            0\n",
       "days_employed       0\n",
       "dob_years           0\n",
       "education           0\n",
       "education_id        0\n",
       "family_status       0\n",
       "family_status_id    0\n",
       "gender              0\n",
       "income_type         0\n",
       "debt                0\n",
       "total_income        0\n",
       "purpose             0\n",
       "dtype: int64"
      ]
     },
     "execution_count": 42,
     "metadata": {},
     "output_type": "execute_result"
    }
   ],
   "source": [
    "data.isna().sum()"
   ]
  },
  {
   "cell_type": "markdown",
   "id": "d522e295",
   "metadata": {
    "deletable": false,
    "editable": false,
    "id": "d522e295"
   },
   "source": [
    "### Изменение типов данных"
   ]
  },
  {
   "cell_type": "markdown",
   "id": "c229c581",
   "metadata": {
    "deletable": false,
    "editable": false,
    "id": "c229c581"
   },
   "source": [
    "**Задание 13. Замените вещественный тип данных в столбце `total_income` на целочисленный с помощью метода `astype()`.**"
   ]
  },
  {
   "cell_type": "code",
   "execution_count": 43,
   "id": "31036462",
   "metadata": {
    "deletable": false,
    "id": "31036462"
   },
   "outputs": [],
   "source": [
    "data['total_income'] = data['total_income'].astype(int)"
   ]
  },
  {
   "cell_type": "markdown",
   "id": "b8e3d1d9",
   "metadata": {
    "deletable": false,
    "editable": false,
    "id": "b8e3d1d9"
   },
   "source": [
    "### Обработка дубликатов"
   ]
  },
  {
   "cell_type": "markdown",
   "id": "9be53c49",
   "metadata": {
    "deletable": false,
    "editable": false,
    "id": "9be53c49"
   },
   "source": [
    "**Задание 14. Обработайте неявные дубликаты в столбце `education`. В этом столбце есть одни и те же значения, но записанные по-разному: с использованием заглавных и строчных букв. Приведите их к нижнему регистру.**"
   ]
  },
  {
   "cell_type": "code",
   "execution_count": 44,
   "id": "d89e73e1",
   "metadata": {
    "deletable": false,
    "id": "d89e73e1"
   },
   "outputs": [],
   "source": [
    "data['education'] = data['education'].str.lower()"
   ]
  },
  {
   "cell_type": "markdown",
   "id": "01d4500e",
   "metadata": {
    "deletable": false,
    "editable": false,
    "id": "01d4500e"
   },
   "source": [
    "**Задание 15. Выведите на экран количество строк-дубликатов в данных. Если такие строки присутствуют, удалите их.**"
   ]
  },
  {
   "cell_type": "code",
   "execution_count": 45,
   "id": "e10efb23",
   "metadata": {
    "deletable": false,
    "id": "e10efb23",
    "outputId": "9684deba-1934-42d1-99e1-cda61740f822"
   },
   "outputs": [
    {
     "data": {
      "text/plain": [
       "71"
      ]
     },
     "execution_count": 45,
     "metadata": {},
     "output_type": "execute_result"
    }
   ],
   "source": [
    "data.duplicated().sum()"
   ]
  },
  {
   "cell_type": "code",
   "execution_count": 46,
   "id": "df853f20",
   "metadata": {
    "deletable": false,
    "id": "df853f20"
   },
   "outputs": [],
   "source": [
    "data = data.drop_duplicates()"
   ]
  },
  {
   "cell_type": "markdown",
   "id": "627be38f",
   "metadata": {
    "deletable": false,
    "editable": false,
    "id": "627be38f"
   },
   "source": [
    "### Категоризация данных"
   ]
  },
  {
   "cell_type": "markdown",
   "id": "4684c3e0",
   "metadata": {
    "deletable": false,
    "editable": false,
    "id": "4684c3e0"
   },
   "source": [
    "**Задание 16. На основании диапазонов, указанных ниже, создайте в датафрейме `data` столбец `total_income_category` с категориями:**\n",
    "\n",
    "- 0–30000 — `'E'`;\n",
    "- 30001–50000 — `'D'`;\n",
    "- 50001–200000 — `'C'`;\n",
    "- 200001–1000000 — `'B'`;\n",
    "- 1000001 и выше — `'A'`.\n",
    "\n",
    "\n",
    "**Например, кредитополучателю с доходом 25000 нужно назначить категорию `'E'`, а клиенту, получающему 235000, — `'B'`. Используйте собственную функцию с именем `categorize_income()` и метод `apply()`.**"
   ]
  },
  {
   "cell_type": "code",
   "execution_count": 47,
   "id": "78965238",
   "metadata": {
    "deletable": false,
    "id": "78965238"
   },
   "outputs": [],
   "source": [
    "def categorize_income(income):\n",
    "    try:\n",
    "        if 0 <= income <= 30000:\n",
    "            return 'E'\n",
    "        elif 30001 <= income <= 50000:\n",
    "            return 'D'\n",
    "        elif 50001 <= income <= 200000:\n",
    "            return 'C'\n",
    "        elif 200001 <= income <= 1000000:\n",
    "            return 'B'\n",
    "        elif income >= 1000001:\n",
    "            return 'A'\n",
    "    except:\n",
    "        pass"
   ]
  },
  {
   "cell_type": "code",
   "execution_count": 48,
   "id": "0980ada1",
   "metadata": {
    "deletable": false,
    "id": "0980ada1"
   },
   "outputs": [],
   "source": [
    "data['total_income_category'] = data['total_income'].apply(categorize_income)"
   ]
  },
  {
   "cell_type": "markdown",
   "id": "9917bba0",
   "metadata": {
    "deletable": false,
    "editable": false,
    "id": "9917bba0"
   },
   "source": [
    "**Задание 17. Выведите на экран перечень уникальных целей взятия кредита из столбца `purpose`.**"
   ]
  },
  {
   "cell_type": "code",
   "execution_count": 49,
   "id": "ee07b65e",
   "metadata": {
    "deletable": false,
    "id": "ee07b65e",
    "outputId": "673c12d9-7d7e-4ae0-9812-c622c89dd244"
   },
   "outputs": [
    {
     "data": {
      "text/plain": [
       "array(['покупка жилья', 'приобретение автомобиля',\n",
       "       'дополнительное образование', 'сыграть свадьбу',\n",
       "       'операции с жильем', 'образование', 'на проведение свадьбы',\n",
       "       'покупка жилья для семьи', 'покупка недвижимости',\n",
       "       'покупка коммерческой недвижимости', 'покупка жилой недвижимости',\n",
       "       'строительство собственной недвижимости', 'недвижимость',\n",
       "       'строительство недвижимости', 'на покупку подержанного автомобиля',\n",
       "       'на покупку своего автомобиля',\n",
       "       'операции с коммерческой недвижимостью',\n",
       "       'строительство жилой недвижимости', 'жилье',\n",
       "       'операции со своей недвижимостью', 'автомобили',\n",
       "       'заняться образованием', 'сделка с подержанным автомобилем',\n",
       "       'получение образования', 'автомобиль', 'свадьба',\n",
       "       'получение дополнительного образования', 'покупка своего жилья',\n",
       "       'операции с недвижимостью', 'получение высшего образования',\n",
       "       'свой автомобиль', 'сделка с автомобилем',\n",
       "       'профильное образование', 'высшее образование',\n",
       "       'покупка жилья для сдачи', 'на покупку автомобиля', 'ремонт жилью',\n",
       "       'заняться высшим образованием'], dtype=object)"
      ]
     },
     "execution_count": 49,
     "metadata": {},
     "output_type": "execute_result"
    }
   ],
   "source": [
    "data['purpose'].unique()\n",
    "\n"
   ]
  },
  {
   "cell_type": "markdown",
   "id": "52b79d56",
   "metadata": {
    "deletable": false,
    "editable": false,
    "id": "52b79d56"
   },
   "source": [
    "**Задание 18. Создайте функцию, которая на основании данных из столбца `purpose` сформирует новый столбец `purpose_category`, в который войдут следующие категории:**\n",
    "\n",
    "- `'операции с автомобилем'`,\n",
    "- `'операции с недвижимостью'`,\n",
    "- `'проведение свадьбы'`,\n",
    "- `'получение образования'`.\n",
    "\n",
    "**Например, если в столбце `purpose` находится подстрока `'на покупку автомобиля'`, то в столбце `purpose_category` должна появиться строка `'операции с автомобилем'`.**\n",
    "\n",
    "**Используйте собственную функцию с именем `categorize_purpose()` и метод `apply()`. Изучите данные в столбце `purpose` и определите, какие подстроки помогут вам правильно определить категорию.**"
   ]
  },
  {
   "cell_type": "code",
   "execution_count": 50,
   "id": "be41da5d",
   "metadata": {
    "deletable": false,
    "id": "be41da5d"
   },
   "outputs": [],
   "source": [
    "def categorize_purpose(row):\n",
    "    try:\n",
    "        if 'автом' in row:\n",
    "            return 'операции с автомобилем'\n",
    "        elif 'жил' in row or 'недвиж' in row:\n",
    "            return 'операции с недвижимостью'\n",
    "        elif 'свад' in row:\n",
    "            return 'проведение свадьбы'\n",
    "        elif 'образов' in row:\n",
    "            return 'получение образования'\n",
    "    except:\n",
    "        return 'нет категории'"
   ]
  },
  {
   "cell_type": "code",
   "execution_count": 51,
   "id": "94c4a19a",
   "metadata": {
    "deletable": false,
    "id": "94c4a19a"
   },
   "outputs": [],
   "source": [
    "data['purpose_category'] = data['purpose'].apply(categorize_purpose)"
   ]
  },
  {
   "cell_type": "markdown",
   "id": "3d596c34",
   "metadata": {
    "deletable": false,
    "editable": false,
    "id": "3d596c34"
   },
   "source": [
    "### Шаг 3. Исследуйте данные и ответьте на вопросы"
   ]
  },
  {
   "cell_type": "markdown",
   "id": "648db036",
   "metadata": {
    "deletable": false,
    "editable": false,
    "id": "648db036"
   },
   "source": [
    "#### 3.1 Есть ли зависимость между количеством детей и возвратом кредита в срок?"
   ]
  },
  {
   "cell_type": "code",
   "execution_count": 68,
   "id": "7fcff25e",
   "metadata": {
    "deletable": false,
    "id": "7fcff25e"
   },
   "outputs": [
    {
     "data": {
      "text/html": [
       "<div>\n",
       "<style scoped>\n",
       "    .dataframe tbody tr th:only-of-type {\n",
       "        vertical-align: middle;\n",
       "    }\n",
       "\n",
       "    .dataframe tbody tr th {\n",
       "        vertical-align: top;\n",
       "    }\n",
       "\n",
       "    .dataframe thead tr th {\n",
       "        text-align: left;\n",
       "    }\n",
       "\n",
       "    .dataframe thead tr:last-of-type th {\n",
       "        text-align: right;\n",
       "    }\n",
       "</style>\n",
       "<table border=\"1\" class=\"dataframe\">\n",
       "  <thead>\n",
       "    <tr>\n",
       "      <th></th>\n",
       "      <th colspan=\"2\" halign=\"left\">debt</th>\n",
       "      <th>debts</th>\n",
       "    </tr>\n",
       "    <tr>\n",
       "      <th></th>\n",
       "      <th>count</th>\n",
       "      <th>sum</th>\n",
       "      <th></th>\n",
       "    </tr>\n",
       "    <tr>\n",
       "      <th>children</th>\n",
       "      <th></th>\n",
       "      <th></th>\n",
       "      <th></th>\n",
       "    </tr>\n",
       "  </thead>\n",
       "  <tbody>\n",
       "    <tr>\n",
       "      <th>4</th>\n",
       "      <td>41</td>\n",
       "      <td>4</td>\n",
       "      <td>9.756098</td>\n",
       "    </tr>\n",
       "    <tr>\n",
       "      <th>2</th>\n",
       "      <td>2052</td>\n",
       "      <td>194</td>\n",
       "      <td>9.454191</td>\n",
       "    </tr>\n",
       "    <tr>\n",
       "      <th>1</th>\n",
       "      <td>4808</td>\n",
       "      <td>444</td>\n",
       "      <td>9.234609</td>\n",
       "    </tr>\n",
       "    <tr>\n",
       "      <th>3</th>\n",
       "      <td>330</td>\n",
       "      <td>27</td>\n",
       "      <td>8.181818</td>\n",
       "    </tr>\n",
       "    <tr>\n",
       "      <th>0</th>\n",
       "      <td>14091</td>\n",
       "      <td>1063</td>\n",
       "      <td>7.543822</td>\n",
       "    </tr>\n",
       "    <tr>\n",
       "      <th>5</th>\n",
       "      <td>9</td>\n",
       "      <td>0</td>\n",
       "      <td>0.000000</td>\n",
       "    </tr>\n",
       "  </tbody>\n",
       "</table>\n",
       "</div>"
      ],
      "text/plain": [
       "           debt           debts\n",
       "          count   sum          \n",
       "children                       \n",
       "4            41     4  9.756098\n",
       "2          2052   194  9.454191\n",
       "1          4808   444  9.234609\n",
       "3           330    27  8.181818\n",
       "0         14091  1063  7.543822\n",
       "5             9     0  0.000000"
      ]
     },
     "execution_count": 68,
     "metadata": {},
     "output_type": "execute_result"
    }
   ],
   "source": [
    "children_correl = data.groupby('children').agg({'debt':['count','sum']})\n",
    "children_correl['debts'] = data.groupby('children')['debt'].sum()/data.groupby('children')['debt'].count() * 100\n",
    "children_correl.sort_values(by='debts', ascending=False)"
   ]
  },
  {
   "cell_type": "markdown",
   "id": "2eb9088e",
   "metadata": {
    "deletable": false,
    "id": "2eb9088e"
   },
   "source": [
    "**Вывод:** По итогам анализа видно:\n",
    "1. Ранжирование размера выборки: без детей - 14 091, 1 ребенок - 4808, 2 детей - 2052, 3 детей - 330, 4 детей - 41, 5 детей - 9.\n",
    "2. Соотвественно абсолютное количество должников тоже идет по ниспадающей, начиная от самой большой выборки (бездетные) до 5 детей.\n",
    "4. Но! процент невозврата кредитов самый высокий среди соискателей с 4 детьми, 2мя и 1 ребенком в семье (9,8%, 9,5%, 9,2%)\n",
    "Вывод: 3 группы риска невозврата долга - с 4 детьмя, 2 детьми и с 1 ребенком. Но т.к.абсолютное кол-во соискателей с 4 детьми невелико, то группы риска сокращаются до двух - с 2 детьми и с 1 ребенком. Абсолютное количество должников выше в группе с 1 ребенком."
   ]
  },
  {
   "cell_type": "markdown",
   "id": "45e64794",
   "metadata": {},
   "source": [
    "<div class=\"alert alert-danger\">\n",
    "    <h3> Комментарий ревьюера ❌<a class=\"tocSkip\"> </h3>\n",
    " \n",
    "Если говорить только о проценте просроченных платежей, то вывод верный. Но его нельзя назвать объективным, так как не выведены данные о объёме выборок категорий заёмщиков.\n",
    "\n",
    "Я хочу убедиться, что тебе удалось освоить сводные таблицы на хорошем уровне. Потому что в дальнейшем ты будешь пользоваться ими постоянно. Выведи, пожалуйста, общую сводную таблицу с количеством клиентов, количеством должников и процентом должников. В параметрах сводных таблиц можно указать сразу несколько агрегирующих функций.\n",
    "\n",
    "Даю несколько ссылок, в которых есть описание, как это можно сделать:       \n",
    "* С помощью pivot_table и аргумента aggfunc https://pandas.pydata.org/pandas-docs/stable/reference/api/pandas.pivot_table.html\n",
    "* С помощью groupby и функции .agg() https://dfedorov.spb.ru/pandas/Подробное%20руководство%20по%20группировке%20и%20агрегированию%20с%20помощью%20pandas.html\n",
    "        \n",
    "При написании выводов учитывай, пожалуйста, все категории и их размеры.\n",
    "\n",
    "</div>"
   ]
  },
  {
   "cell_type": "markdown",
   "id": "720b0474",
   "metadata": {},
   "source": [
    "<div class=\"alert alert-success\">\n",
    "<h3> Комментарий ревьюера v2 ✔️<a class=\"tocSkip\"> </h3>\n",
    "\n",
    " Отлично, учтены нерепрезентативные группы. С выводом согласен.\n",
    "</div>"
   ]
  },
  {
   "cell_type": "markdown",
   "id": "74c9b3a7",
   "metadata": {
    "deletable": false,
    "editable": false,
    "id": "74c9b3a7"
   },
   "source": [
    "#### 3.2 Есть ли зависимость между семейным положением и возвратом кредита в срок?"
   ]
  },
  {
   "cell_type": "code",
   "execution_count": 74,
   "id": "8098ab3b",
   "metadata": {
    "deletable": false,
    "id": "8098ab3b",
    "scrolled": false
   },
   "outputs": [
    {
     "data": {
      "text/html": [
       "<div>\n",
       "<style scoped>\n",
       "    .dataframe tbody tr th:only-of-type {\n",
       "        vertical-align: middle;\n",
       "    }\n",
       "\n",
       "    .dataframe tbody tr th {\n",
       "        vertical-align: top;\n",
       "    }\n",
       "\n",
       "    .dataframe thead tr th {\n",
       "        text-align: left;\n",
       "    }\n",
       "\n",
       "    .dataframe thead tr:last-of-type th {\n",
       "        text-align: right;\n",
       "    }\n",
       "</style>\n",
       "<table border=\"1\" class=\"dataframe\">\n",
       "  <thead>\n",
       "    <tr>\n",
       "      <th></th>\n",
       "      <th colspan=\"2\" halign=\"left\">debt</th>\n",
       "      <th>debts</th>\n",
       "    </tr>\n",
       "    <tr>\n",
       "      <th></th>\n",
       "      <th>count</th>\n",
       "      <th>sum</th>\n",
       "      <th></th>\n",
       "    </tr>\n",
       "    <tr>\n",
       "      <th>family_status</th>\n",
       "      <th></th>\n",
       "      <th></th>\n",
       "      <th></th>\n",
       "    </tr>\n",
       "  </thead>\n",
       "  <tbody>\n",
       "    <tr>\n",
       "      <th>Не женат / не замужем</th>\n",
       "      <td>2796</td>\n",
       "      <td>273</td>\n",
       "      <td>9.763948</td>\n",
       "    </tr>\n",
       "    <tr>\n",
       "      <th>гражданский брак</th>\n",
       "      <td>4134</td>\n",
       "      <td>385</td>\n",
       "      <td>9.313014</td>\n",
       "    </tr>\n",
       "    <tr>\n",
       "      <th>женат / замужем</th>\n",
       "      <td>12261</td>\n",
       "      <td>927</td>\n",
       "      <td>7.560558</td>\n",
       "    </tr>\n",
       "    <tr>\n",
       "      <th>в разводе</th>\n",
       "      <td>1189</td>\n",
       "      <td>84</td>\n",
       "      <td>7.064760</td>\n",
       "    </tr>\n",
       "    <tr>\n",
       "      <th>вдовец / вдова</th>\n",
       "      <td>951</td>\n",
       "      <td>63</td>\n",
       "      <td>6.624606</td>\n",
       "    </tr>\n",
       "  </tbody>\n",
       "</table>\n",
       "</div>"
      ],
      "text/plain": [
       "                        debt          debts\n",
       "                       count  sum          \n",
       "family_status                              \n",
       "Не женат / не замужем   2796  273  9.763948\n",
       "гражданский брак        4134  385  9.313014\n",
       "женат / замужем        12261  927  7.560558\n",
       "в разводе               1189   84  7.064760\n",
       "вдовец / вдова           951   63  6.624606"
      ]
     },
     "execution_count": 74,
     "metadata": {},
     "output_type": "execute_result"
    }
   ],
   "source": [
    "family_correl = data.groupby('family_status').agg({'debt':['count','sum']}) #группирую в сводную таблицу с помощью метода groupby\n",
    "family_correl['debts'] = data.groupby('family_status')['debt'].sum()/data.groupby('family_status')['debt'].count() * 100 #вычисляю стобец с процентом должников и добавляю его к новой таблице\n",
    "family_correl.sort_values(by='debts', ascending=False)\n",
    "#data['family_status'] = data['family_status'].str.lower() #привожу столбец к нижнему регистру\n",
    "#family_correl = (data.groupby('family_status')['debt'].sum()/data['family_status'].value_counts()).sort_values(ascending=False) #с помощью групировки с методом sum\n",
    "                                                                                         #выясняем корреляцию семейного статуса и задолженности"
   ]
  },
  {
   "cell_type": "markdown",
   "id": "805c47b4",
   "metadata": {
    "deletable": false,
    "id": "c389ca63"
   },
   "source": [
    "**Вывод:** По итогам анализа видно:\n",
    "1. Ранжирование размера выборки: женат/замужем - 12 261, гражданский брак - 4134, не женат/не замужем - 2796, в разводе - 1189, \n",
    "   вдовец/вдова - 951.\n",
    "2. Соотвественно абсолютное количество должников тоже идет по ниспадающей, начиная от самой большой выборки (женат/замужем)\n",
    "   до вдовец/вдова.\n",
    "4. Но! процент невозврата кредитов самый высокий среди соискателей с семейным статусом - не женат/не замужем и в гражданском браке (9,8% и 9,3% соотвественно)\n",
    "Вывод: 2 группы риска невозврата долга - неженатые/незамужние и в гражданском браке. Абсолютное количество выше в группе в гражданском браке."
   ]
  },
  {
   "cell_type": "markdown",
   "id": "09bdf09f",
   "metadata": {},
   "source": [
    "<div class=\"alert alert-block alert-danger\">\n",
    "<h3> Комментарий ревьюера ❌<a class=\"tocSkip\"></h3>\n",
    "\n",
    " Также выведи сводную таблицу с теми же параметрами и оцени репрезентативность групп.\n",
    "</div>"
   ]
  },
  {
   "cell_type": "markdown",
   "id": "2d5d5cf9",
   "metadata": {},
   "source": [
    "<div class=\"alert alert-success\">\n",
    "<h3> Комментарий ревьюера v2 ✔️<a class=\"tocSkip\"> </h3>\n",
    "\n",
    " Верно, получается, что люди, никогда не состоявшие в официальном браке, в среднем хуже выплчачивают кредиты.\n",
    "</div>"
   ]
  },
  {
   "cell_type": "markdown",
   "id": "9529de68",
   "metadata": {
    "deletable": false,
    "editable": false,
    "id": "9529de68"
   },
   "source": [
    "#### 3.3 Есть ли зависимость между уровнем дохода и возвратом кредита в срок?"
   ]
  },
  {
   "cell_type": "code",
   "execution_count": 82,
   "id": "8787f44a",
   "metadata": {
    "deletable": false,
    "id": "8787f44a"
   },
   "outputs": [
    {
     "data": {
      "text/html": [
       "<div>\n",
       "<style scoped>\n",
       "    .dataframe tbody tr th:only-of-type {\n",
       "        vertical-align: middle;\n",
       "    }\n",
       "\n",
       "    .dataframe tbody tr th {\n",
       "        vertical-align: top;\n",
       "    }\n",
       "\n",
       "    .dataframe thead tr th {\n",
       "        text-align: left;\n",
       "    }\n",
       "\n",
       "    .dataframe thead tr:last-of-type th {\n",
       "        text-align: right;\n",
       "    }\n",
       "</style>\n",
       "<table border=\"1\" class=\"dataframe\">\n",
       "  <thead>\n",
       "    <tr>\n",
       "      <th></th>\n",
       "      <th colspan=\"2\" halign=\"left\">debt</th>\n",
       "      <th>debts</th>\n",
       "    </tr>\n",
       "    <tr>\n",
       "      <th></th>\n",
       "      <th>count</th>\n",
       "      <th>sum</th>\n",
       "      <th></th>\n",
       "    </tr>\n",
       "    <tr>\n",
       "      <th>total_income_category</th>\n",
       "      <th></th>\n",
       "      <th></th>\n",
       "      <th></th>\n",
       "    </tr>\n",
       "  </thead>\n",
       "  <tbody>\n",
       "    <tr>\n",
       "      <th>E</th>\n",
       "      <td>22</td>\n",
       "      <td>2</td>\n",
       "      <td>9.090909</td>\n",
       "    </tr>\n",
       "    <tr>\n",
       "      <th>C</th>\n",
       "      <td>15921</td>\n",
       "      <td>1353</td>\n",
       "      <td>8.498210</td>\n",
       "    </tr>\n",
       "    <tr>\n",
       "      <th>A</th>\n",
       "      <td>25</td>\n",
       "      <td>2</td>\n",
       "      <td>8.000000</td>\n",
       "    </tr>\n",
       "    <tr>\n",
       "      <th>B</th>\n",
       "      <td>5014</td>\n",
       "      <td>354</td>\n",
       "      <td>7.060231</td>\n",
       "    </tr>\n",
       "    <tr>\n",
       "      <th>D</th>\n",
       "      <td>349</td>\n",
       "      <td>21</td>\n",
       "      <td>6.017192</td>\n",
       "    </tr>\n",
       "  </tbody>\n",
       "</table>\n",
       "</div>"
      ],
      "text/plain": [
       "                        debt           debts\n",
       "                       count   sum          \n",
       "total_income_category                       \n",
       "E                         22     2  9.090909\n",
       "C                      15921  1353  8.498210\n",
       "A                         25     2  8.000000\n",
       "B                       5014   354  7.060231\n",
       "D                        349    21  6.017192"
      ]
     },
     "execution_count": 82,
     "metadata": {},
     "output_type": "execute_result"
    }
   ],
   "source": [
    "income_correl = data.groupby('total_income_category').agg({'debt':['count','sum']}) #группирую в сводную таблицу с помощью метода groupby\n",
    "income_correl['debts'] = data.groupby('total_income_category')['debt'].sum()/data.groupby('total_income_category')['debt'].count() * 100 #вычисляю стобец с процентом должников и добавляю его к новой таблице\n",
    "income_correl.sort_values(by='debts', ascending=False)\n",
    "#income_correl = (data.groupby('total_income_category')['debt'].sum()/data.groupby('total_income_category')['debt'].count()).sort_values(ascending=False) #теперь группируем тем же способом по уровню дохода "
   ]
  },
  {
   "cell_type": "markdown",
   "id": "6dd14b57",
   "metadata": {
    "deletable": false,
    "id": "6dd14b57"
   },
   "source": [
    "**Вывод:** Напоминание: \n",
    "- 0–30000 — 'E';\n",
    "- 30001–50000 — 'D';\n",
    "- 50001–200000 — 'C';\n",
    "- 200001–1000000 — 'B';\n",
    "- 1000001 и выше — 'A'.\n",
    "По итогам анализа видно:\n",
    "1. Ранжирование размера выборки по доходам: С - 15 921, В - 5014, D - 349, А - 25, Е - 22.\n",
    "2. Соотвественно абсолютное количество должников тоже идет по ниспадающей, начиная от самой большой выборки по доходам: С (50-200 тысяч) до Е (до 30 тысяч).\n",
    "4. Но! процент невозврата кредитов самый высокий среди соискателей с самым низким уровнем дохода - Е (9,1%), далее с разницей в 0,5% идет самая большая группа выборки - С (8,5%).\n",
    "Вывод: 2 группы риска невозврата кредитов - с доходом до 30 тысяч и с доходом от 50 до 200. Абсолютное количество должников в группе Е (до 30 тысяч) невелико - 2 человека. В группе С (от 50 до 200 тысяч) абсолютное количество в разы выше - 1353. Но стоит учитывать, что это самая многочисленная в выборке группа (15921 человек)."
   ]
  },
  {
   "cell_type": "markdown",
   "id": "fb8747ca",
   "metadata": {},
   "source": [
    "<div class=\"alert alert-block alert-danger\">\n",
    "<h3> Комментарий ревьюера ❌<a class=\"tocSkip\"></h3>\n",
    "\n",
    " Выведи сводную таблицу по примеру из первого комментария, пожалуйста. Пересмотри вывод, если будет необходимость. Учитывай все группы клиентов.\n",
    "</div>"
   ]
  },
  {
   "cell_type": "markdown",
   "id": "d1d01887",
   "metadata": {},
   "source": [
    "<div class=\"alert alert-warning\">\n",
    "    <h3> Комментарий ревьюера v2 ⚠️<a class=\"tocSkip\"> </h3>\n",
    " \n",
    "Согласен, но здесь можно учитывать только группы B и C, так как они включают 98 процентов от общей выборки.\n",
    "</div>"
   ]
  },
  {
   "cell_type": "markdown",
   "id": "1dcc9b12",
   "metadata": {
    "deletable": false,
    "editable": false,
    "id": "1dcc9b12"
   },
   "source": [
    "#### 3.4 Как разные цели кредита влияют на его возврат в срок?"
   ]
  },
  {
   "cell_type": "code",
   "execution_count": 83,
   "id": "c602bc8b",
   "metadata": {
    "deletable": false,
    "id": "c602bc8b",
    "scrolled": false
   },
   "outputs": [
    {
     "data": {
      "text/html": [
       "<div>\n",
       "<style scoped>\n",
       "    .dataframe tbody tr th:only-of-type {\n",
       "        vertical-align: middle;\n",
       "    }\n",
       "\n",
       "    .dataframe tbody tr th {\n",
       "        vertical-align: top;\n",
       "    }\n",
       "\n",
       "    .dataframe thead tr th {\n",
       "        text-align: left;\n",
       "    }\n",
       "\n",
       "    .dataframe thead tr:last-of-type th {\n",
       "        text-align: right;\n",
       "    }\n",
       "</style>\n",
       "<table border=\"1\" class=\"dataframe\">\n",
       "  <thead>\n",
       "    <tr>\n",
       "      <th></th>\n",
       "      <th colspan=\"2\" halign=\"left\">debt</th>\n",
       "      <th>debts</th>\n",
       "    </tr>\n",
       "    <tr>\n",
       "      <th></th>\n",
       "      <th>count</th>\n",
       "      <th>sum</th>\n",
       "      <th></th>\n",
       "    </tr>\n",
       "    <tr>\n",
       "      <th>purpose_category</th>\n",
       "      <th></th>\n",
       "      <th></th>\n",
       "      <th></th>\n",
       "    </tr>\n",
       "  </thead>\n",
       "  <tbody>\n",
       "    <tr>\n",
       "      <th>операции с автомобилем</th>\n",
       "      <td>4279</td>\n",
       "      <td>400</td>\n",
       "      <td>9.347978</td>\n",
       "    </tr>\n",
       "    <tr>\n",
       "      <th>получение образования</th>\n",
       "      <td>3988</td>\n",
       "      <td>369</td>\n",
       "      <td>9.252758</td>\n",
       "    </tr>\n",
       "    <tr>\n",
       "      <th>проведение свадьбы</th>\n",
       "      <td>2313</td>\n",
       "      <td>183</td>\n",
       "      <td>7.911803</td>\n",
       "    </tr>\n",
       "    <tr>\n",
       "      <th>операции с недвижимостью</th>\n",
       "      <td>10751</td>\n",
       "      <td>780</td>\n",
       "      <td>7.255139</td>\n",
       "    </tr>\n",
       "  </tbody>\n",
       "</table>\n",
       "</div>"
      ],
      "text/plain": [
       "                           debt          debts\n",
       "                          count  sum          \n",
       "purpose_category                              \n",
       "операции с автомобилем     4279  400  9.347978\n",
       "получение образования      3988  369  9.252758\n",
       "проведение свадьбы         2313  183  7.911803\n",
       "операции с недвижимостью  10751  780  7.255139"
      ]
     },
     "execution_count": 83,
     "metadata": {},
     "output_type": "execute_result"
    }
   ],
   "source": [
    "purpose_correl = data.groupby('purpose_category').agg({'debt':['count','sum']}) #группирую в сводную таблицу с помощью метода groupby\n",
    "purpose_correl['debts'] = data.groupby('purpose_category')['debt'].sum()/data.groupby('purpose_category')['debt'].count() * 100 #вычисляю стобец с процентом должников и добавляю его к новой таблице\n",
    "purpose_correl.sort_values(by='debts', ascending=False)\n",
    "\n",
    "#purpose_correl = (data.groupby('purpose_category')['debt'].sum()/data.groupby('purpose_category')['debt'].count()).sort_values(ascending=False) #группируем по целям кредита"
   ]
  },
  {
   "cell_type": "markdown",
   "id": "cf05ed63",
   "metadata": {
    "deletable": false,
    "id": "cf05ed63"
   },
   "source": [
    "**Вывод:** По итогам анализа видно:\n",
    "1. Ранжирование размера выборки по целям кредита: операции с недвижимостью - 10 751, операции с автомобилем - 4279, получение образования - 3988, проведение свадьбы - 2313.\n",
    "2. Соотвественно абсолютное количество должников тоже идет по ниспадающей, начиная от самой большой выборки по доходам: операции с недвижимостью до проведение свадьбы.\n",
    "4. Но! процент невозврата кредитов самый высокий среди тех, чья цель это операции с автомобилем (9,4%) и получение образования (9,3%).\n",
    "Вывод: 2 группы риска невозврата долгов - для операций с авто и для получения образования. Абсолютное кол-во должников в двух этих группах сопоставимо (400 и 369 соотвественно)."
   ]
  },
  {
   "cell_type": "code",
   "execution_count": 28,
   "id": "98cc5c0e",
   "metadata": {
    "scrolled": true
   },
   "outputs": [
    {
     "data": {
      "text/html": [
       "<div>\n",
       "<style scoped>\n",
       "    .dataframe tbody tr th:only-of-type {\n",
       "        vertical-align: middle;\n",
       "    }\n",
       "\n",
       "    .dataframe tbody tr th {\n",
       "        vertical-align: top;\n",
       "    }\n",
       "\n",
       "    .dataframe thead th {\n",
       "        text-align: right;\n",
       "    }\n",
       "</style>\n",
       "<table border=\"1\" class=\"dataframe\">\n",
       "  <thead>\n",
       "    <tr style=\"text-align: right;\">\n",
       "      <th></th>\n",
       "      <th>children</th>\n",
       "      <th>days_employed</th>\n",
       "      <th>dob_years</th>\n",
       "      <th>education</th>\n",
       "      <th>education_id</th>\n",
       "      <th>family_status</th>\n",
       "      <th>family_status_id</th>\n",
       "      <th>gender</th>\n",
       "      <th>income_type</th>\n",
       "      <th>debt</th>\n",
       "      <th>total_income</th>\n",
       "      <th>purpose</th>\n",
       "      <th>total_income_category</th>\n",
       "      <th>purpose_category</th>\n",
       "    </tr>\n",
       "  </thead>\n",
       "  <tbody>\n",
       "    <tr>\n",
       "      <th>0</th>\n",
       "      <td>1</td>\n",
       "      <td>8437.673028</td>\n",
       "      <td>42</td>\n",
       "      <td>высшее</td>\n",
       "      <td>0</td>\n",
       "      <td>женат / замужем</td>\n",
       "      <td>0</td>\n",
       "      <td>F</td>\n",
       "      <td>сотрудник</td>\n",
       "      <td>0</td>\n",
       "      <td>253875</td>\n",
       "      <td>покупка жилья</td>\n",
       "      <td>B</td>\n",
       "      <td>операции с недвижимостью</td>\n",
       "    </tr>\n",
       "    <tr>\n",
       "      <th>1</th>\n",
       "      <td>1</td>\n",
       "      <td>4024.803754</td>\n",
       "      <td>36</td>\n",
       "      <td>среднее</td>\n",
       "      <td>1</td>\n",
       "      <td>женат / замужем</td>\n",
       "      <td>0</td>\n",
       "      <td>F</td>\n",
       "      <td>сотрудник</td>\n",
       "      <td>0</td>\n",
       "      <td>112080</td>\n",
       "      <td>приобретение автомобиля</td>\n",
       "      <td>C</td>\n",
       "      <td>операции с автомобилем</td>\n",
       "    </tr>\n",
       "    <tr>\n",
       "      <th>2</th>\n",
       "      <td>0</td>\n",
       "      <td>5623.422610</td>\n",
       "      <td>33</td>\n",
       "      <td>среднее</td>\n",
       "      <td>1</td>\n",
       "      <td>женат / замужем</td>\n",
       "      <td>0</td>\n",
       "      <td>M</td>\n",
       "      <td>сотрудник</td>\n",
       "      <td>0</td>\n",
       "      <td>145885</td>\n",
       "      <td>покупка жилья</td>\n",
       "      <td>C</td>\n",
       "      <td>операции с недвижимостью</td>\n",
       "    </tr>\n",
       "    <tr>\n",
       "      <th>3</th>\n",
       "      <td>3</td>\n",
       "      <td>4124.747207</td>\n",
       "      <td>32</td>\n",
       "      <td>среднее</td>\n",
       "      <td>1</td>\n",
       "      <td>женат / замужем</td>\n",
       "      <td>0</td>\n",
       "      <td>M</td>\n",
       "      <td>сотрудник</td>\n",
       "      <td>0</td>\n",
       "      <td>267628</td>\n",
       "      <td>дополнительное образование</td>\n",
       "      <td>B</td>\n",
       "      <td>получение образования</td>\n",
       "    </tr>\n",
       "    <tr>\n",
       "      <th>4</th>\n",
       "      <td>0</td>\n",
       "      <td>340266.072047</td>\n",
       "      <td>53</td>\n",
       "      <td>среднее</td>\n",
       "      <td>1</td>\n",
       "      <td>гражданский брак</td>\n",
       "      <td>1</td>\n",
       "      <td>F</td>\n",
       "      <td>пенсионер</td>\n",
       "      <td>0</td>\n",
       "      <td>158616</td>\n",
       "      <td>сыграть свадьбу</td>\n",
       "      <td>C</td>\n",
       "      <td>проведение свадьбы</td>\n",
       "    </tr>\n",
       "    <tr>\n",
       "      <th>5</th>\n",
       "      <td>0</td>\n",
       "      <td>926.185831</td>\n",
       "      <td>27</td>\n",
       "      <td>высшее</td>\n",
       "      <td>0</td>\n",
       "      <td>гражданский брак</td>\n",
       "      <td>1</td>\n",
       "      <td>M</td>\n",
       "      <td>компаньон</td>\n",
       "      <td>0</td>\n",
       "      <td>255763</td>\n",
       "      <td>покупка жилья</td>\n",
       "      <td>B</td>\n",
       "      <td>операции с недвижимостью</td>\n",
       "    </tr>\n",
       "    <tr>\n",
       "      <th>6</th>\n",
       "      <td>0</td>\n",
       "      <td>2879.202052</td>\n",
       "      <td>43</td>\n",
       "      <td>высшее</td>\n",
       "      <td>0</td>\n",
       "      <td>женат / замужем</td>\n",
       "      <td>0</td>\n",
       "      <td>F</td>\n",
       "      <td>компаньон</td>\n",
       "      <td>0</td>\n",
       "      <td>240525</td>\n",
       "      <td>операции с жильем</td>\n",
       "      <td>B</td>\n",
       "      <td>операции с недвижимостью</td>\n",
       "    </tr>\n",
       "    <tr>\n",
       "      <th>7</th>\n",
       "      <td>0</td>\n",
       "      <td>152.779569</td>\n",
       "      <td>50</td>\n",
       "      <td>среднее</td>\n",
       "      <td>1</td>\n",
       "      <td>женат / замужем</td>\n",
       "      <td>0</td>\n",
       "      <td>M</td>\n",
       "      <td>сотрудник</td>\n",
       "      <td>0</td>\n",
       "      <td>135823</td>\n",
       "      <td>образование</td>\n",
       "      <td>C</td>\n",
       "      <td>получение образования</td>\n",
       "    </tr>\n",
       "    <tr>\n",
       "      <th>8</th>\n",
       "      <td>2</td>\n",
       "      <td>6929.865299</td>\n",
       "      <td>35</td>\n",
       "      <td>высшее</td>\n",
       "      <td>0</td>\n",
       "      <td>гражданский брак</td>\n",
       "      <td>1</td>\n",
       "      <td>F</td>\n",
       "      <td>сотрудник</td>\n",
       "      <td>0</td>\n",
       "      <td>95856</td>\n",
       "      <td>на проведение свадьбы</td>\n",
       "      <td>C</td>\n",
       "      <td>проведение свадьбы</td>\n",
       "    </tr>\n",
       "    <tr>\n",
       "      <th>9</th>\n",
       "      <td>0</td>\n",
       "      <td>2188.756445</td>\n",
       "      <td>41</td>\n",
       "      <td>среднее</td>\n",
       "      <td>1</td>\n",
       "      <td>женат / замужем</td>\n",
       "      <td>0</td>\n",
       "      <td>M</td>\n",
       "      <td>сотрудник</td>\n",
       "      <td>0</td>\n",
       "      <td>144425</td>\n",
       "      <td>покупка жилья для семьи</td>\n",
       "      <td>C</td>\n",
       "      <td>операции с недвижимостью</td>\n",
       "    </tr>\n",
       "    <tr>\n",
       "      <th>10</th>\n",
       "      <td>2</td>\n",
       "      <td>4171.483647</td>\n",
       "      <td>36</td>\n",
       "      <td>высшее</td>\n",
       "      <td>0</td>\n",
       "      <td>женат / замужем</td>\n",
       "      <td>0</td>\n",
       "      <td>M</td>\n",
       "      <td>компаньон</td>\n",
       "      <td>0</td>\n",
       "      <td>113943</td>\n",
       "      <td>покупка недвижимости</td>\n",
       "      <td>C</td>\n",
       "      <td>операции с недвижимостью</td>\n",
       "    </tr>\n",
       "    <tr>\n",
       "      <th>11</th>\n",
       "      <td>0</td>\n",
       "      <td>792.701887</td>\n",
       "      <td>40</td>\n",
       "      <td>среднее</td>\n",
       "      <td>1</td>\n",
       "      <td>женат / замужем</td>\n",
       "      <td>0</td>\n",
       "      <td>F</td>\n",
       "      <td>сотрудник</td>\n",
       "      <td>0</td>\n",
       "      <td>77069</td>\n",
       "      <td>покупка коммерческой недвижимости</td>\n",
       "      <td>C</td>\n",
       "      <td>операции с недвижимостью</td>\n",
       "    </tr>\n",
       "    <tr>\n",
       "      <th>12</th>\n",
       "      <td>0</td>\n",
       "      <td>365286.622650</td>\n",
       "      <td>65</td>\n",
       "      <td>среднее</td>\n",
       "      <td>1</td>\n",
       "      <td>гражданский брак</td>\n",
       "      <td>1</td>\n",
       "      <td>M</td>\n",
       "      <td>пенсионер</td>\n",
       "      <td>0</td>\n",
       "      <td>118514</td>\n",
       "      <td>сыграть свадьбу</td>\n",
       "      <td>C</td>\n",
       "      <td>проведение свадьбы</td>\n",
       "    </tr>\n",
       "    <tr>\n",
       "      <th>13</th>\n",
       "      <td>0</td>\n",
       "      <td>1846.641941</td>\n",
       "      <td>54</td>\n",
       "      <td>неоконченное высшее</td>\n",
       "      <td>2</td>\n",
       "      <td>женат / замужем</td>\n",
       "      <td>0</td>\n",
       "      <td>F</td>\n",
       "      <td>сотрудник</td>\n",
       "      <td>0</td>\n",
       "      <td>130458</td>\n",
       "      <td>приобретение автомобиля</td>\n",
       "      <td>C</td>\n",
       "      <td>операции с автомобилем</td>\n",
       "    </tr>\n",
       "    <tr>\n",
       "      <th>14</th>\n",
       "      <td>0</td>\n",
       "      <td>1844.956182</td>\n",
       "      <td>56</td>\n",
       "      <td>высшее</td>\n",
       "      <td>0</td>\n",
       "      <td>гражданский брак</td>\n",
       "      <td>1</td>\n",
       "      <td>F</td>\n",
       "      <td>компаньон</td>\n",
       "      <td>1</td>\n",
       "      <td>165127</td>\n",
       "      <td>покупка жилой недвижимости</td>\n",
       "      <td>C</td>\n",
       "      <td>операции с недвижимостью</td>\n",
       "    </tr>\n",
       "    <tr>\n",
       "      <th>15</th>\n",
       "      <td>1</td>\n",
       "      <td>972.364419</td>\n",
       "      <td>26</td>\n",
       "      <td>среднее</td>\n",
       "      <td>1</td>\n",
       "      <td>женат / замужем</td>\n",
       "      <td>0</td>\n",
       "      <td>F</td>\n",
       "      <td>сотрудник</td>\n",
       "      <td>0</td>\n",
       "      <td>116820</td>\n",
       "      <td>строительство собственной недвижимости</td>\n",
       "      <td>C</td>\n",
       "      <td>операции с недвижимостью</td>\n",
       "    </tr>\n",
       "    <tr>\n",
       "      <th>16</th>\n",
       "      <td>0</td>\n",
       "      <td>1719.934226</td>\n",
       "      <td>35</td>\n",
       "      <td>среднее</td>\n",
       "      <td>1</td>\n",
       "      <td>женат / замужем</td>\n",
       "      <td>0</td>\n",
       "      <td>F</td>\n",
       "      <td>сотрудник</td>\n",
       "      <td>0</td>\n",
       "      <td>289202</td>\n",
       "      <td>недвижимость</td>\n",
       "      <td>B</td>\n",
       "      <td>операции с недвижимостью</td>\n",
       "    </tr>\n",
       "    <tr>\n",
       "      <th>17</th>\n",
       "      <td>0</td>\n",
       "      <td>2369.999720</td>\n",
       "      <td>33</td>\n",
       "      <td>высшее</td>\n",
       "      <td>0</td>\n",
       "      <td>гражданский брак</td>\n",
       "      <td>1</td>\n",
       "      <td>M</td>\n",
       "      <td>сотрудник</td>\n",
       "      <td>0</td>\n",
       "      <td>90410</td>\n",
       "      <td>строительство недвижимости</td>\n",
       "      <td>C</td>\n",
       "      <td>операции с недвижимостью</td>\n",
       "    </tr>\n",
       "    <tr>\n",
       "      <th>18</th>\n",
       "      <td>0</td>\n",
       "      <td>400281.136913</td>\n",
       "      <td>53</td>\n",
       "      <td>среднее</td>\n",
       "      <td>1</td>\n",
       "      <td>вдовец / вдова</td>\n",
       "      <td>2</td>\n",
       "      <td>F</td>\n",
       "      <td>пенсионер</td>\n",
       "      <td>0</td>\n",
       "      <td>56823</td>\n",
       "      <td>на покупку подержанного автомобиля</td>\n",
       "      <td>C</td>\n",
       "      <td>операции с автомобилем</td>\n",
       "    </tr>\n",
       "    <tr>\n",
       "      <th>19</th>\n",
       "      <td>0</td>\n",
       "      <td>10038.818549</td>\n",
       "      <td>48</td>\n",
       "      <td>среднее</td>\n",
       "      <td>1</td>\n",
       "      <td>в разводе</td>\n",
       "      <td>3</td>\n",
       "      <td>F</td>\n",
       "      <td>сотрудник</td>\n",
       "      <td>0</td>\n",
       "      <td>242831</td>\n",
       "      <td>на покупку своего автомобиля</td>\n",
       "      <td>B</td>\n",
       "      <td>операции с автомобилем</td>\n",
       "    </tr>\n",
       "  </tbody>\n",
       "</table>\n",
       "</div>"
      ],
      "text/plain": [
       "    children  days_employed  dob_years            education  education_id  \\\n",
       "0          1    8437.673028         42               высшее             0   \n",
       "1          1    4024.803754         36              среднее             1   \n",
       "2          0    5623.422610         33              среднее             1   \n",
       "3          3    4124.747207         32              среднее             1   \n",
       "4          0  340266.072047         53              среднее             1   \n",
       "5          0     926.185831         27               высшее             0   \n",
       "6          0    2879.202052         43               высшее             0   \n",
       "7          0     152.779569         50              среднее             1   \n",
       "8          2    6929.865299         35               высшее             0   \n",
       "9          0    2188.756445         41              среднее             1   \n",
       "10         2    4171.483647         36               высшее             0   \n",
       "11         0     792.701887         40              среднее             1   \n",
       "12         0  365286.622650         65              среднее             1   \n",
       "13         0    1846.641941         54  неоконченное высшее             2   \n",
       "14         0    1844.956182         56               высшее             0   \n",
       "15         1     972.364419         26              среднее             1   \n",
       "16         0    1719.934226         35              среднее             1   \n",
       "17         0    2369.999720         33               высшее             0   \n",
       "18         0  400281.136913         53              среднее             1   \n",
       "19         0   10038.818549         48              среднее             1   \n",
       "\n",
       "       family_status  family_status_id gender income_type  debt  total_income  \\\n",
       "0    женат / замужем                 0      F   сотрудник     0        253875   \n",
       "1    женат / замужем                 0      F   сотрудник     0        112080   \n",
       "2    женат / замужем                 0      M   сотрудник     0        145885   \n",
       "3    женат / замужем                 0      M   сотрудник     0        267628   \n",
       "4   гражданский брак                 1      F   пенсионер     0        158616   \n",
       "5   гражданский брак                 1      M   компаньон     0        255763   \n",
       "6    женат / замужем                 0      F   компаньон     0        240525   \n",
       "7    женат / замужем                 0      M   сотрудник     0        135823   \n",
       "8   гражданский брак                 1      F   сотрудник     0         95856   \n",
       "9    женат / замужем                 0      M   сотрудник     0        144425   \n",
       "10   женат / замужем                 0      M   компаньон     0        113943   \n",
       "11   женат / замужем                 0      F   сотрудник     0         77069   \n",
       "12  гражданский брак                 1      M   пенсионер     0        118514   \n",
       "13   женат / замужем                 0      F   сотрудник     0        130458   \n",
       "14  гражданский брак                 1      F   компаньон     1        165127   \n",
       "15   женат / замужем                 0      F   сотрудник     0        116820   \n",
       "16   женат / замужем                 0      F   сотрудник     0        289202   \n",
       "17  гражданский брак                 1      M   сотрудник     0         90410   \n",
       "18    вдовец / вдова                 2      F   пенсионер     0         56823   \n",
       "19         в разводе                 3      F   сотрудник     0        242831   \n",
       "\n",
       "                                   purpose total_income_category  \\\n",
       "0                            покупка жилья                     B   \n",
       "1                  приобретение автомобиля                     C   \n",
       "2                            покупка жилья                     C   \n",
       "3               дополнительное образование                     B   \n",
       "4                          сыграть свадьбу                     C   \n",
       "5                            покупка жилья                     B   \n",
       "6                        операции с жильем                     B   \n",
       "7                              образование                     C   \n",
       "8                    на проведение свадьбы                     C   \n",
       "9                  покупка жилья для семьи                     C   \n",
       "10                    покупка недвижимости                     C   \n",
       "11       покупка коммерческой недвижимости                     C   \n",
       "12                         сыграть свадьбу                     C   \n",
       "13                 приобретение автомобиля                     C   \n",
       "14              покупка жилой недвижимости                     C   \n",
       "15  строительство собственной недвижимости                     C   \n",
       "16                            недвижимость                     B   \n",
       "17              строительство недвижимости                     C   \n",
       "18      на покупку подержанного автомобиля                     C   \n",
       "19            на покупку своего автомобиля                     B   \n",
       "\n",
       "            purpose_category  \n",
       "0   операции с недвижимостью  \n",
       "1     операции с автомобилем  \n",
       "2   операции с недвижимостью  \n",
       "3      получение образования  \n",
       "4         проведение свадьбы  \n",
       "5   операции с недвижимостью  \n",
       "6   операции с недвижимостью  \n",
       "7      получение образования  \n",
       "8         проведение свадьбы  \n",
       "9   операции с недвижимостью  \n",
       "10  операции с недвижимостью  \n",
       "11  операции с недвижимостью  \n",
       "12        проведение свадьбы  \n",
       "13    операции с автомобилем  \n",
       "14  операции с недвижимостью  \n",
       "15  операции с недвижимостью  \n",
       "16  операции с недвижимостью  \n",
       "17  операции с недвижимостью  \n",
       "18    операции с автомобилем  \n",
       "19    операции с автомобилем  "
      ]
     },
     "execution_count": 28,
     "metadata": {},
     "output_type": "execute_result"
    }
   ],
   "source": [
    "data.head(20)"
   ]
  },
  {
   "cell_type": "markdown",
   "id": "c99d322b",
   "metadata": {},
   "source": [
    "<div class=\"alert alert-block alert-danger\">\n",
    "<h3> Комментарий ревьюера ❌<a class=\"tocSkip\"></h3>\n",
    "\n",
    " Также выведи сводную таблицу и опиши все группы клиентов, пожалуйста. Пересмотри вывод, если будет необходимость.\n",
    "</div>"
   ]
  },
  {
   "cell_type": "markdown",
   "id": "30aea920",
   "metadata": {},
   "source": [
    "<div class=\"alert alert-success\">\n",
    "<h3> Комментарий ревьюера v2 ✔️<a class=\"tocSkip\"> </h3>\n",
    "\n",
    " Всё верно\n",
    "</div>"
   ]
  },
  {
   "cell_type": "markdown",
   "id": "46c1f10b",
   "metadata": {
    "deletable": false,
    "editable": false,
    "id": "46c1f10b"
   },
   "source": [
    "#### 3.5 Приведите возможные причины появления пропусков в исходных данных."
   ]
  },
  {
   "cell_type": "markdown",
   "id": "3697d2a9",
   "metadata": {
    "deletable": false,
    "id": "3697d2a9"
   },
   "source": [
    "*Ответ:* Пропуски были в двух столбцах: days_employed (стаж) и total_income (доход). В первом столбце причинами могли стать отсутствие трудового стажа (студенты), неработающие люди (пенсионеры, в декрете, безработные), а во втором столбце - те, кто не заполнил данные о свохи доходах, либо не имеющие сейчас никакого дохода."
   ]
  },
  {
   "cell_type": "markdown",
   "id": "35b70fba",
   "metadata": {},
   "source": [
    "<div class=\"alert alert-warning\">\n",
    "    <h3> Комментарий ревьюера ⚠️<a class=\"tocSkip\"> </h3>\n",
    " \n",
    "Верный пример, намеренное или ненамеренное сокрытие информации - это человеческий фактор. А какую ещё причину пропусков ты можешь назвать?\n",
    "</div>"
   ]
  },
  {
   "cell_type": "markdown",
   "id": "d4788a1b",
   "metadata": {},
   "source": [
    "**Еще одной причиной пропуска может быть техническая ошибка: либо при загрузке данных, либо при выгрузке**"
   ]
  },
  {
   "cell_type": "markdown",
   "id": "3137d257",
   "metadata": {
    "deletable": false,
    "editable": false,
    "id": "3137d257"
   },
   "source": [
    "#### 3.6 Объясните, почему заполнить пропуски медианным значением — лучшее решение для количественных переменных."
   ]
  },
  {
   "cell_type": "markdown",
   "id": "cf40012a",
   "metadata": {
    "deletable": false,
    "id": "cf40012a"
   },
   "source": [
    "*Ответ:* На медианное значение не влияют выбивающиеся из общего списка числа (чересчур большие или маленькие). Поэтому выбираем медианное, как максимально близкое к истинно среднему показателю значений."
   ]
  },
  {
   "cell_type": "markdown",
   "id": "21d0dec8",
   "metadata": {},
   "source": [
    "<div class=\"alert alert-success\">\n",
    "<h3> Комментарий ревьюера ✔️<a class=\"tocSkip\"> </h3>\n",
    "\n",
    "Абсолютно верно, такие сильно выделяющиеся значения ещё называют выбросами.\n",
    "</div>"
   ]
  },
  {
   "cell_type": "markdown",
   "id": "57bc304e",
   "metadata": {
    "deletable": false,
    "editable": false,
    "id": "57bc304e"
   },
   "source": [
    "### Шаг 4: общий вывод."
   ]
  },
  {
   "cell_type": "markdown",
   "id": "1ab75d1c",
   "metadata": {
    "deletable": false,
    "id": "1ab75d1c"
   },
   "source": [
    "Исходя из результатов проведенного анализа, есть я прихожу к выводу, что:\n",
    "1. Самый высокий процент невозварта среди семей с 4 детьми. При этом семьи с 2 детьми и с 1 ребенком тоже имеют высокий процент невозврата долга.\n",
    "2. Неженатые/незамужние, а также люди, живущие в гражданском браке имеют также высокий процент невозврата кредитов.\n",
    "3. Люди с доходом до 30 000 рублей имеют самый высокий процент невозврата кредитов.\n",
    "4. Операции с автомобилем и образование - 2 цели для кредитов, которые имеют самый выскоий процент невозврата."
   ]
  },
  {
   "cell_type": "markdown",
   "id": "ee7870dd",
   "metadata": {},
   "source": [
    "**Задачей для анализа данных было узнать, влияет ли семейное положение и количество детей клиента на факт погашения кредита в срок. В качестве входных данных — статистика о платёжеспособности клиентов от банка.\n",
    "Результаты исследования будут учтены как рекомендация при построении модели кредитного скоринга — специальной системы, которая оценивает способность потенциального заёмщика вернуть кредит банку.\n",
    "\n",
    "Обработка данных.\n",
    "1. При обработке данных были найдены пропуски в данных о трудовом стаже и уровне дохода, а также аномальные значения в данных о кол-ве детей. Пропуски в данных заполнил медианным значением по данным  виде деятельности. Таким образом каждый пропуск заполнен максимально приближенным значениям по типу деятельности.\n",
    "2. Аномальные значения в данных о детях удалены, чтобы не влиять на итоги анализа.\n",
    "3. Данные о доходах приведены в целочисленный формат.\n",
    "4. Данные об образовании приведены к нижнему регистру и удалены дубликаты.\n",
    "5. Добавлены 2 столбца в датафрейм для категоризации данных о доходах и целях кредита.\n",
    "\n",
    "Выводы:\n",
    "**Гипотеза 1. Количество детей влияет на погашение кредита в срок**\n",
    "Исходя из анализа данных, я прихожу к выводу, что наличие детей влияет на погашение кредита в срок. Группа без детей самая многичсленная, но при этом с наименьшим процентом невозврата долга - 7,5% (кроме группы с 5 дтьми, которая немногочисленна сама по себе). Группы риска - соискатели с 4,2 и 1 детьми (9,8%, 9,5%, 9,2%).\n",
    "**Гипотеза 2. Семейное положение влияет на погашение кредита в срок**\n",
    "Исходя из анализа данных, я прихожу к выводу, что семейное положение влияет на выплату кредита в срок. Группы риска - неженатые/незамужние, а также живущие в гражданском браке (9,8% и 9,3% невозврата). Эти 2 группы многочисленны и составляют 32% от общего числа респондентов.\n",
    "Также при анализе данных, было выявлено, что основные группы риска по целям на кредит это \"операции с автомобилем\", а также \"для получения образования\" - 9,3%. \n",
    "Аналитика также показала, что группа риска в размере дохода - это соискатели с доходом от 50 до 200 тысяч рублей в месяц (8,5%). Но т.к. это самая многочисленная по кол-ву респондентов группа, рекомендую не использовать для скоринга данные по доходам."
   ]
  },
  {
   "cell_type": "markdown",
   "id": "06c56eea",
   "metadata": {},
   "source": [
    "<div class=\"alert alert-danger\">\n",
    "    <h3> Комментарий ревьюера ❌<a class=\"tocSkip\"> </h3>\n",
    "    \n",
    "Вывод описывает все шаги исследовательской части, но недостаточно подробно.\n",
    "\n",
    "Твой потенциальный руководитель, в первую очередь, обратит внимание на общий вывод. Поэтому важно отразить в нём все основные результаты из всех шагов проекта. Необходимо описать информацию о проведённой предобработке, в числах описать выявленные закономерности. Сделай это, пожалуйста, учитывая все репрезентативные группы клиентов и их процентные показатели. \n",
    " \n",
    "</div>"
   ]
  },
  {
   "cell_type": "markdown",
   "id": "b159cf43",
   "metadata": {},
   "source": [
    "<div class=\"alert alert-success\">\n",
    "<h3> Комментарий ревьюера v2 ✔️<a class=\"tocSkip\"> </h3>\n",
    "\n",
    " Супер, вывод теперь учитывает основные группы клиентов исследовательской части и описывает все этапы проекта.\n",
    "</div>"
   ]
  }
 ],
 "metadata": {
  "ExecuteTimeLog": [
   {
    "duration": 80,
    "start_time": "2023-05-04T18:35:56.028Z"
   },
   {
    "duration": 7,
    "start_time": "2023-05-04T18:36:04.190Z"
   },
   {
    "duration": 841,
    "start_time": "2023-05-04T18:36:19.980Z"
   },
   {
    "duration": 36,
    "start_time": "2023-05-04T18:36:22.543Z"
   },
   {
    "duration": 20,
    "start_time": "2023-05-04T18:36:26.576Z"
   },
   {
    "duration": 15,
    "start_time": "2023-05-04T18:36:29.189Z"
   },
   {
    "duration": 35,
    "start_time": "2023-05-04T18:36:32.310Z"
   },
   {
    "duration": 4,
    "start_time": "2023-05-04T18:36:34.741Z"
   },
   {
    "duration": 9,
    "start_time": "2023-05-04T18:36:38.756Z"
   },
   {
    "duration": 5,
    "start_time": "2023-05-04T18:36:52.293Z"
   },
   {
    "duration": 8,
    "start_time": "2023-05-04T18:36:56.391Z"
   },
   {
    "duration": 9,
    "start_time": "2023-05-04T18:36:59.175Z"
   },
   {
    "duration": 51,
    "start_time": "2023-05-04T18:37:01.588Z"
   },
   {
    "duration": 19,
    "start_time": "2023-05-04T18:37:03.808Z"
   },
   {
    "duration": 5,
    "start_time": "2023-05-04T18:37:06.821Z"
   },
   {
    "duration": 17,
    "start_time": "2023-05-04T18:37:08.815Z"
   },
   {
    "duration": 29,
    "start_time": "2023-05-04T18:37:10.841Z"
   },
   {
    "duration": 29,
    "start_time": "2023-05-04T18:37:13.378Z"
   },
   {
    "duration": 4,
    "start_time": "2023-05-04T18:37:15.620Z"
   },
   {
    "duration": 16,
    "start_time": "2023-05-04T18:37:17.681Z"
   },
   {
    "duration": 9,
    "start_time": "2023-05-04T18:37:21.506Z"
   },
   {
    "duration": 4,
    "start_time": "2023-05-04T18:37:27.594Z"
   },
   {
    "duration": 14,
    "start_time": "2023-05-04T18:37:30.029Z"
   },
   {
    "duration": 9,
    "start_time": "2023-05-04T18:37:33.394Z"
   },
   {
    "duration": 75,
    "start_time": "2023-05-04T18:37:51.579Z"
   },
   {
    "duration": 5,
    "start_time": "2023-05-04T18:38:39.757Z"
   },
   {
    "duration": 10,
    "start_time": "2023-05-04T18:39:13.208Z"
   },
   {
    "duration": 9,
    "start_time": "2023-05-04T18:39:20.097Z"
   },
   {
    "duration": 5,
    "start_time": "2023-05-04T18:39:29.993Z"
   },
   {
    "duration": 936,
    "start_time": "2023-05-04T18:39:38.384Z"
   },
   {
    "duration": 54,
    "start_time": "2023-05-04T18:41:27.785Z"
   },
   {
    "duration": 486,
    "start_time": "2023-05-04T18:41:39.773Z"
   },
   {
    "duration": 30,
    "start_time": "2023-05-04T18:41:43.026Z"
   },
   {
    "duration": 15,
    "start_time": "2023-05-04T18:41:46.433Z"
   },
   {
    "duration": 10,
    "start_time": "2023-05-04T18:41:49.250Z"
   },
   {
    "duration": 32,
    "start_time": "2023-05-04T18:41:52.643Z"
   },
   {
    "duration": 5,
    "start_time": "2023-05-04T18:41:54.543Z"
   },
   {
    "duration": 8,
    "start_time": "2023-05-04T18:41:58.970Z"
   },
   {
    "duration": 4,
    "start_time": "2023-05-04T18:42:00.933Z"
   },
   {
    "duration": 7,
    "start_time": "2023-05-04T18:42:03.137Z"
   },
   {
    "duration": 5,
    "start_time": "2023-05-04T18:42:05.090Z"
   },
   {
    "duration": 53,
    "start_time": "2023-05-04T18:42:09.729Z"
   },
   {
    "duration": 10,
    "start_time": "2023-05-04T18:42:11.327Z"
   },
   {
    "duration": 4,
    "start_time": "2023-05-04T18:42:13.476Z"
   },
   {
    "duration": 11,
    "start_time": "2023-05-04T18:42:15.432Z"
   },
   {
    "duration": 20,
    "start_time": "2023-05-04T18:42:16.703Z"
   },
   {
    "duration": 17,
    "start_time": "2023-05-04T18:42:17.781Z"
   },
   {
    "duration": 4,
    "start_time": "2023-05-04T18:42:20.321Z"
   },
   {
    "duration": 9,
    "start_time": "2023-05-04T18:42:21.902Z"
   },
   {
    "duration": 10,
    "start_time": "2023-05-04T18:42:23.275Z"
   },
   {
    "duration": 3,
    "start_time": "2023-05-04T18:42:26.035Z"
   },
   {
    "duration": 8,
    "start_time": "2023-05-04T18:42:27.545Z"
   },
   {
    "duration": 15,
    "start_time": "2023-05-04T18:42:32.181Z"
   },
   {
    "duration": 22,
    "start_time": "2023-05-04T18:42:53.072Z"
   },
   {
    "duration": 6,
    "start_time": "2023-05-04T18:43:18.876Z"
   },
   {
    "duration": 7,
    "start_time": "2023-05-04T18:45:09.302Z"
   },
   {
    "duration": 8,
    "start_time": "2023-05-04T18:45:30.636Z"
   },
   {
    "duration": 5,
    "start_time": "2023-05-04T18:45:49.129Z"
   },
   {
    "duration": 7,
    "start_time": "2023-05-04T18:47:20.690Z"
   },
   {
    "duration": 74,
    "start_time": "2023-05-04T18:49:47.312Z"
   },
   {
    "duration": 12,
    "start_time": "2023-05-04T18:50:00.271Z"
   },
   {
    "duration": 12,
    "start_time": "2023-05-04T18:50:08.489Z"
   },
   {
    "duration": 8,
    "start_time": "2023-05-04T18:51:24.043Z"
   },
   {
    "duration": 8,
    "start_time": "2023-05-04T18:57:46.038Z"
   },
   {
    "duration": 18,
    "start_time": "2023-05-04T18:58:51.965Z"
   },
   {
    "duration": 21,
    "start_time": "2023-05-04T18:59:01.866Z"
   },
   {
    "duration": 563,
    "start_time": "2023-05-04T18:59:53.002Z"
   },
   {
    "duration": 625,
    "start_time": "2023-05-04T18:59:56.514Z"
   },
   {
    "duration": 807,
    "start_time": "2023-05-04T19:00:05.515Z"
   },
   {
    "duration": 71,
    "start_time": "2023-05-04T19:00:12.192Z"
   },
   {
    "duration": 16,
    "start_time": "2023-05-04T19:00:15.197Z"
   },
   {
    "duration": 14,
    "start_time": "2023-05-04T19:00:18.652Z"
   },
   {
    "duration": 11,
    "start_time": "2023-05-04T19:00:22.727Z"
   },
   {
    "duration": 32,
    "start_time": "2023-05-04T19:00:25.558Z"
   },
   {
    "duration": 3,
    "start_time": "2023-05-04T19:00:28.150Z"
   },
   {
    "duration": 8,
    "start_time": "2023-05-04T19:00:30.039Z"
   },
   {
    "duration": 5,
    "start_time": "2023-05-04T19:00:32.964Z"
   },
   {
    "duration": 6,
    "start_time": "2023-05-04T19:00:34.990Z"
   },
   {
    "duration": 4,
    "start_time": "2023-05-04T19:00:38.653Z"
   },
   {
    "duration": 33,
    "start_time": "2023-05-04T19:00:41.290Z"
   },
   {
    "duration": 10,
    "start_time": "2023-05-04T19:00:43.344Z"
   },
   {
    "duration": 4,
    "start_time": "2023-05-04T19:00:46.058Z"
   },
   {
    "duration": 11,
    "start_time": "2023-05-04T19:00:48.111Z"
   },
   {
    "duration": 18,
    "start_time": "2023-05-04T19:00:50.096Z"
   },
   {
    "duration": 19,
    "start_time": "2023-05-04T19:00:53.080Z"
   },
   {
    "duration": 4,
    "start_time": "2023-05-04T19:00:56.725Z"
   },
   {
    "duration": 9,
    "start_time": "2023-05-04T19:00:59.037Z"
   },
   {
    "duration": 6,
    "start_time": "2023-05-04T19:01:02.951Z"
   },
   {
    "duration": 3,
    "start_time": "2023-05-04T19:01:07.910Z"
   },
   {
    "duration": 12,
    "start_time": "2023-05-04T19:01:10.438Z"
   },
   {
    "duration": 8,
    "start_time": "2023-05-04T19:01:13.062Z"
   },
   {
    "duration": 20,
    "start_time": "2023-05-04T19:01:18.233Z"
   },
   {
    "duration": 24,
    "start_time": "2023-05-04T19:03:00.550Z"
   },
   {
    "duration": 54,
    "start_time": "2023-05-04T19:03:14.538Z"
   },
   {
    "duration": 44,
    "start_time": "2023-05-04T19:04:54.241Z"
   },
   {
    "duration": 806,
    "start_time": "2023-05-04T19:05:15.209Z"
   },
   {
    "duration": 69,
    "start_time": "2023-05-04T19:05:23.629Z"
   },
   {
    "duration": 14,
    "start_time": "2023-05-04T19:05:26.047Z"
   },
   {
    "duration": 15,
    "start_time": "2023-05-04T19:05:30.007Z"
   },
   {
    "duration": 11,
    "start_time": "2023-05-04T19:05:32.824Z"
   },
   {
    "duration": 34,
    "start_time": "2023-05-04T19:05:35.596Z"
   },
   {
    "duration": 3,
    "start_time": "2023-05-04T19:05:37.800Z"
   },
   {
    "duration": 9,
    "start_time": "2023-05-04T19:05:40.455Z"
   },
   {
    "duration": 9,
    "start_time": "2023-05-04T19:05:45.784Z"
   },
   {
    "duration": 7,
    "start_time": "2023-05-04T19:05:47.493Z"
   },
   {
    "duration": 6,
    "start_time": "2023-05-04T19:05:48.666Z"
   },
   {
    "duration": 5,
    "start_time": "2023-05-04T19:05:49.952Z"
   },
   {
    "duration": 5,
    "start_time": "2023-05-04T19:05:51.939Z"
   },
   {
    "duration": 31,
    "start_time": "2023-05-04T19:05:53.284Z"
   },
   {
    "duration": 9,
    "start_time": "2023-05-04T19:05:54.338Z"
   },
   {
    "duration": 4,
    "start_time": "2023-05-04T19:05:56.565Z"
   },
   {
    "duration": 10,
    "start_time": "2023-05-04T19:05:58.293Z"
   },
   {
    "duration": 19,
    "start_time": "2023-05-04T19:05:59.512Z"
   },
   {
    "duration": 28,
    "start_time": "2023-05-04T19:06:01.309Z"
   },
   {
    "duration": 5,
    "start_time": "2023-05-04T19:06:03.500Z"
   },
   {
    "duration": 17,
    "start_time": "2023-05-04T19:06:05.053Z"
   },
   {
    "duration": 9,
    "start_time": "2023-05-04T19:06:06.530Z"
   },
   {
    "duration": 5,
    "start_time": "2023-05-04T19:06:08.869Z"
   },
   {
    "duration": 9,
    "start_time": "2023-05-04T19:06:10.843Z"
   },
   {
    "duration": 8,
    "start_time": "2023-05-04T19:06:12.451Z"
   },
   {
    "duration": 785,
    "start_time": "2023-05-04T19:06:15.234Z"
   },
   {
    "duration": 21,
    "start_time": "2023-05-04T19:06:33.493Z"
   },
   {
    "duration": 949,
    "start_time": "2023-05-04T19:07:27.511Z"
   },
   {
    "duration": 19,
    "start_time": "2023-05-04T19:07:38.543Z"
   },
   {
    "duration": 34,
    "start_time": "2023-05-04T19:09:08.134Z"
   },
   {
    "duration": 30,
    "start_time": "2023-05-04T19:15:13.677Z"
   },
   {
    "duration": 8,
    "start_time": "2023-05-04T19:16:01.863Z"
   },
   {
    "duration": 8,
    "start_time": "2023-05-04T20:30:47.421Z"
   },
   {
    "duration": 10,
    "start_time": "2023-05-04T20:31:24.072Z"
   },
   {
    "duration": 7,
    "start_time": "2023-05-04T20:32:04.237Z"
   },
   {
    "duration": 59,
    "start_time": "2023-05-05T12:49:47.649Z"
   },
   {
    "duration": 519,
    "start_time": "2023-05-05T12:49:56.424Z"
   },
   {
    "duration": 21,
    "start_time": "2023-05-05T12:49:59.050Z"
   },
   {
    "duration": 22,
    "start_time": "2023-05-05T12:50:03.630Z"
   },
   {
    "duration": 10,
    "start_time": "2023-05-05T12:50:06.992Z"
   },
   {
    "duration": 33,
    "start_time": "2023-05-05T12:50:11.478Z"
   },
   {
    "duration": 4,
    "start_time": "2023-05-05T12:50:14.131Z"
   },
   {
    "duration": 10,
    "start_time": "2023-05-05T12:50:16.675Z"
   },
   {
    "duration": 5,
    "start_time": "2023-05-05T12:50:20.603Z"
   },
   {
    "duration": 7,
    "start_time": "2023-05-05T12:50:22.790Z"
   },
   {
    "duration": 5,
    "start_time": "2023-05-05T12:50:24.665Z"
   },
   {
    "duration": 33,
    "start_time": "2023-05-05T12:50:35.015Z"
   },
   {
    "duration": 11,
    "start_time": "2023-05-05T12:50:38.297Z"
   },
   {
    "duration": 4,
    "start_time": "2023-05-05T12:50:41.387Z"
   },
   {
    "duration": 16,
    "start_time": "2023-05-05T12:50:43.699Z"
   },
   {
    "duration": 19,
    "start_time": "2023-05-05T12:50:46.558Z"
   },
   {
    "duration": 16,
    "start_time": "2023-05-05T12:50:50.529Z"
   },
   {
    "duration": 5,
    "start_time": "2023-05-05T12:50:53.425Z"
   },
   {
    "duration": 14,
    "start_time": "2023-05-05T12:50:56.105Z"
   },
   {
    "duration": 5,
    "start_time": "2023-05-05T12:50:58.427Z"
   },
   {
    "duration": 3,
    "start_time": "2023-05-05T12:51:01.554Z"
   },
   {
    "duration": 11,
    "start_time": "2023-05-05T12:51:05.326Z"
   },
   {
    "duration": 8,
    "start_time": "2023-05-05T12:51:11.145Z"
   },
   {
    "duration": 28,
    "start_time": "2023-05-05T12:51:14.622Z"
   },
   {
    "duration": 7,
    "start_time": "2023-05-05T12:51:18.371Z"
   },
   {
    "duration": 9,
    "start_time": "2023-05-05T12:51:22.438Z"
   },
   {
    "duration": 22,
    "start_time": "2023-05-05T12:51:26.074Z"
   },
   {
    "duration": 21,
    "start_time": "2023-05-05T12:51:41.376Z"
   },
   {
    "duration": 8,
    "start_time": "2023-05-05T12:55:21.810Z"
   },
   {
    "duration": 7,
    "start_time": "2023-05-05T12:55:53.648Z"
   },
   {
    "duration": 24,
    "start_time": "2023-05-05T12:57:37.673Z"
   },
   {
    "duration": 8,
    "start_time": "2023-05-05T13:00:18.080Z"
   },
   {
    "duration": 10,
    "start_time": "2023-05-05T13:01:29.922Z"
   },
   {
    "duration": 72,
    "start_time": "2023-05-05T13:03:42.392Z"
   },
   {
    "duration": 72,
    "start_time": "2023-05-05T13:03:48.312Z"
   },
   {
    "duration": 12,
    "start_time": "2023-05-05T13:12:50.573Z"
   },
   {
    "duration": 173,
    "start_time": "2023-05-05T17:30:34.296Z"
   },
   {
    "duration": 47,
    "start_time": "2023-05-08T17:54:04.915Z"
   },
   {
    "duration": 556,
    "start_time": "2023-05-08T17:55:16.341Z"
   },
   {
    "duration": 21,
    "start_time": "2023-05-08T17:55:19.549Z"
   },
   {
    "duration": 17,
    "start_time": "2023-05-08T17:55:23.820Z"
   },
   {
    "duration": 10,
    "start_time": "2023-05-08T17:55:27.136Z"
   },
   {
    "duration": 32,
    "start_time": "2023-05-08T17:55:30.458Z"
   },
   {
    "duration": 5,
    "start_time": "2023-05-08T17:55:32.808Z"
   },
   {
    "duration": 10,
    "start_time": "2023-05-08T17:55:34.905Z"
   },
   {
    "duration": 6,
    "start_time": "2023-05-08T17:55:37.657Z"
   },
   {
    "duration": 7,
    "start_time": "2023-05-08T17:55:40.042Z"
   },
   {
    "duration": 5,
    "start_time": "2023-05-08T17:55:44.575Z"
   },
   {
    "duration": 41,
    "start_time": "2023-05-08T17:55:47.014Z"
   },
   {
    "duration": 10,
    "start_time": "2023-05-08T17:55:49.427Z"
   },
   {
    "duration": 5,
    "start_time": "2023-05-08T17:55:52.512Z"
   },
   {
    "duration": 20,
    "start_time": "2023-05-08T17:55:54.783Z"
   },
   {
    "duration": 20,
    "start_time": "2023-05-08T17:55:57.012Z"
   },
   {
    "duration": 16,
    "start_time": "2023-05-08T17:56:00.567Z"
   },
   {
    "duration": 4,
    "start_time": "2023-05-08T17:56:03.128Z"
   },
   {
    "duration": 10,
    "start_time": "2023-05-08T17:56:05.828Z"
   },
   {
    "duration": 7,
    "start_time": "2023-05-08T17:56:08.112Z"
   },
   {
    "duration": 5,
    "start_time": "2023-05-08T17:56:13.812Z"
   },
   {
    "duration": 10,
    "start_time": "2023-05-08T17:56:16.223Z"
   },
   {
    "duration": 15,
    "start_time": "2023-05-08T17:56:25.810Z"
   },
   {
    "duration": 67,
    "start_time": "2023-05-08T17:57:06.311Z"
   },
   {
    "duration": 41,
    "start_time": "2023-05-08T17:57:13.266Z"
   },
   {
    "duration": 13,
    "start_time": "2023-05-08T17:57:24.273Z"
   },
   {
    "duration": 82,
    "start_time": "2023-05-08T18:08:13.634Z"
   },
   {
    "duration": 11,
    "start_time": "2023-05-08T18:13:06.770Z"
   },
   {
    "duration": 1397,
    "start_time": "2023-05-08T18:13:38.558Z"
   },
   {
    "duration": 1211,
    "start_time": "2023-05-08T18:14:09.816Z"
   },
   {
    "duration": 73,
    "start_time": "2023-05-08T18:14:17.439Z"
   },
   {
    "duration": 15,
    "start_time": "2023-05-08T18:14:19.850Z"
   },
   {
    "duration": 16,
    "start_time": "2023-05-08T18:14:23.511Z"
   },
   {
    "duration": 10,
    "start_time": "2023-05-08T18:14:26.263Z"
   },
   {
    "duration": 32,
    "start_time": "2023-05-08T18:14:28.713Z"
   },
   {
    "duration": 4,
    "start_time": "2023-05-08T18:14:30.715Z"
   },
   {
    "duration": 14,
    "start_time": "2023-05-08T18:14:32.985Z"
   },
   {
    "duration": 4,
    "start_time": "2023-05-08T18:14:35.368Z"
   },
   {
    "duration": 5,
    "start_time": "2023-05-08T18:14:37.857Z"
   },
   {
    "duration": 4,
    "start_time": "2023-05-08T18:14:39.740Z"
   },
   {
    "duration": 43,
    "start_time": "2023-05-08T18:14:42.285Z"
   },
   {
    "duration": 10,
    "start_time": "2023-05-08T18:14:44.611Z"
   },
   {
    "duration": 4,
    "start_time": "2023-05-08T18:14:47.680Z"
   },
   {
    "duration": 12,
    "start_time": "2023-05-08T18:14:52.011Z"
   },
   {
    "duration": 18,
    "start_time": "2023-05-08T18:14:55.671Z"
   },
   {
    "duration": 27,
    "start_time": "2023-05-08T18:14:58.677Z"
   },
   {
    "duration": 4,
    "start_time": "2023-05-08T18:15:02.172Z"
   },
   {
    "duration": 18,
    "start_time": "2023-05-08T18:15:04.985Z"
   },
   {
    "duration": 6,
    "start_time": "2023-05-08T18:15:06.948Z"
   },
   {
    "duration": 4,
    "start_time": "2023-05-08T18:15:10.210Z"
   },
   {
    "duration": 8,
    "start_time": "2023-05-08T18:15:12.736Z"
   },
   {
    "duration": 1239,
    "start_time": "2023-05-08T18:15:17.264Z"
   },
   {
    "duration": 1100,
    "start_time": "2023-05-08T18:15:40.384Z"
   },
   {
    "duration": 1119,
    "start_time": "2023-05-08T18:15:51.009Z"
   },
   {
    "duration": 1284,
    "start_time": "2023-05-08T18:16:14.737Z"
   },
   {
    "duration": 16,
    "start_time": "2023-05-08T18:18:15.606Z"
   },
   {
    "duration": 14,
    "start_time": "2023-05-08T18:19:01.040Z"
   },
   {
    "duration": 1219,
    "start_time": "2023-05-08T18:19:19.856Z"
   },
   {
    "duration": 16,
    "start_time": "2023-05-08T18:20:05.661Z"
   },
   {
    "duration": 76,
    "start_time": "2023-05-08T18:21:13.364Z"
   },
   {
    "duration": 17,
    "start_time": "2023-05-08T18:21:35.120Z"
   },
   {
    "duration": 17,
    "start_time": "2023-05-08T18:22:26.411Z"
   },
   {
    "duration": 83,
    "start_time": "2023-05-08T18:23:15.275Z"
   },
   {
    "duration": 16,
    "start_time": "2023-05-08T18:23:20.625Z"
   },
   {
    "duration": 15,
    "start_time": "2023-05-08T18:23:48.614Z"
   },
   {
    "duration": 75,
    "start_time": "2023-05-08T18:33:07.777Z"
   },
   {
    "duration": 15,
    "start_time": "2023-05-08T18:34:56.304Z"
   },
   {
    "duration": 17,
    "start_time": "2023-05-08T18:38:13.558Z"
   },
   {
    "duration": 11,
    "start_time": "2023-05-08T18:52:14.672Z"
   },
   {
    "duration": 22,
    "start_time": "2023-05-08T18:52:59.568Z"
   },
   {
    "duration": 23,
    "start_time": "2023-05-08T18:57:11.167Z"
   },
   {
    "duration": 28,
    "start_time": "2023-05-08T18:58:17.837Z"
   },
   {
    "duration": 28,
    "start_time": "2023-05-08T18:58:41.015Z"
   },
   {
    "duration": 24,
    "start_time": "2023-05-08T18:58:46.881Z"
   },
   {
    "duration": 72,
    "start_time": "2023-05-08T19:04:28.753Z"
   },
   {
    "duration": 67,
    "start_time": "2023-05-08T19:04:59.731Z"
   },
   {
    "duration": 1974,
    "start_time": "2023-05-08T19:05:20.050Z"
   },
   {
    "duration": 25,
    "start_time": "2023-05-08T19:05:39.575Z"
   },
   {
    "duration": 53,
    "start_time": "2023-05-08T19:07:23.516Z"
   },
   {
    "duration": 118,
    "start_time": "2023-05-08T19:08:08.517Z"
   },
   {
    "duration": 32,
    "start_time": "2023-05-08T19:08:48.789Z"
   },
   {
    "duration": 21,
    "start_time": "2023-05-08T19:09:05.259Z"
   },
   {
    "duration": 22,
    "start_time": "2023-05-08T19:23:55.962Z"
   },
   {
    "duration": 106,
    "start_time": "2023-05-09T20:25:52.923Z"
   },
   {
    "duration": 74,
    "start_time": "2023-05-09T20:26:48.505Z"
   }
  ],
  "colab": {
   "provenance": []
  },
  "kernelspec": {
   "display_name": "Python 3 (ipykernel)",
   "language": "python",
   "name": "python3"
  },
  "language_info": {
   "codemirror_mode": {
    "name": "ipython",
    "version": 3
   },
   "file_extension": ".py",
   "mimetype": "text/x-python",
   "name": "python",
   "nbconvert_exporter": "python",
   "pygments_lexer": "ipython3",
   "version": "3.9.5"
  },
  "toc": {
   "base_numbering": 1,
   "nav_menu": {},
   "number_sections": true,
   "sideBar": true,
   "skip_h1_title": true,
   "title_cell": "Table of Contents",
   "title_sidebar": "Contents",
   "toc_cell": false,
   "toc_position": {},
   "toc_section_display": true,
   "toc_window_display": false
  }
 },
 "nbformat": 4,
 "nbformat_minor": 5
}
