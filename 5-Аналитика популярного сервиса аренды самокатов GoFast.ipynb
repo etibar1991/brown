{
 "cells": [
  {
   "cell_type": "markdown",
   "id": "7af2a2f8",
   "metadata": {},
   "source": [
    "<div style=\"border:solid Chocolate 2px; padding: 40px\">\n",
    "\n",
    "<b>Этибар, привет!</b>\n",
    "\n",
    "Меня зовут Евгений Головин, я буду ревьюером твоего проекта. Если ты не против, то предлагаю построить наше общение на \"ты\" ;) Если удобнее на \"вы\", то нет проблем, только скажи об этом. \n",
    "\n",
    "В ходе работы я оставил тебе комментарии <font color='green'>зеленого</font>, <font color='gold'>желтого</font> и <font color='red'>красного</font> цветов. Сейчас объясню, что они значат:\n",
    "\n",
    "<br/>\n",
    "\n",
    "<div class=\"alert alert-success\">\n",
    "<h2> Комментарий ревьюера <a class=\"tocSkip\"> </h2>\n",
    "\n",
    "<b>Все супер!👍:</b> Решение на этом шаге является полностью правильным.\n",
    "</div>\n",
    "\n",
    "<br/>\n",
    "\n",
    "<div class=\"alert alert-warning\">\n",
    "    <h2> Комментарий ревьюера <a class=\"tocSkip\"> </h2>\n",
    "    \n",
    "<b>Небольшие замечания и рекомендации💡:</b> Решение на этом шаге станет еще лучше, если внести небольшие коррективы.\n",
    "</div>\n",
    "\n",
    "\n",
    "<br/>\n",
    "<div class=\"alert alert-block alert-danger\">\n",
    "<h2> Комментарий ревьюера <a class=\"tocSkip\"></h2>\n",
    "\n",
    "    \n",
    "<b>На доработку🤔:</b>\n",
    " Решение на этом шаге требует существенной переработки и внесения правок. Напоминаю, что проект не может быть принят с первого раза, если ревью содержит комментарии, рекомендующие доработать шаги.\n",
    "</div>\n",
    "    \n",
    "Увидев мой комментарий, не удаляй его, он будет очень полезен в случае повторной проверки работы :)\n",
    "    \n",
    "<div class=\"alert alert-info\">\n",
    "<b>А свой помечай вот так, чтобы я его не потерял ;)</b> \n",
    "</div>\n",
    "    \n",
    "На мои комменатрии можно и нужно реагировать, только делать это стоит так, чтобы твои и мои комменты не смешались: выделяй свои цветами, сильно отличающимися от моих.\n",
    "    \n",
    "Увидев у тебя неточность, в первый раз я лишь укажу на ее наличие и дам тебе возможность самому найти и исправить ее. На реальной работе твой руководитель будет поступать также, и я пытаюсь подготовить тебя именно к работе аналитиком. Но если ты пока не справишься с такой задачей - при следующей проверке я дам более точную подсказку!"
   ]
  },
  {
   "cell_type": "markdown",
   "id": "02dd8b8d",
   "metadata": {},
   "source": [
    "Вы аналитик популярного сервиса аренды самокатов GoFast. Вам передали данные о некоторых пользователях из нескольких городов, а также об их поездках. Проанализируйте данные и проверьте некоторые гипотезы, которые могут помочь бизнесу вырасти.\n",
    "Чтобы совершать поездки по городу, пользователи сервиса GoFast пользуются мобильным приложением. Сервисом можно пользоваться:\n",
    "без подписки\n",
    "абонентская плата отсутствует;\n",
    "стоимость одной минуты поездки — \n",
    "8\n",
    "8 рублей;\n",
    "стоимость старта (начала поездки) — \n",
    "50\n",
    "50 рублей;\n",
    "с подпиской Ultra\n",
    "абонентская плата — \n",
    "199\n",
    "199 рублей в месяц;\n",
    "стоимость одной минуты поездки — \n",
    "6\n",
    "6 рублей;\n",
    "стоимость старта — бесплатно.\n"
   ]
  },
  {
   "cell_type": "markdown",
   "id": "40a114b0",
   "metadata": {},
   "source": [
    "Импорт библиотек\n",
    "Шаг 1. \n",
    "1.1 Считайте CSV-файлы с данными с помощью библиотеки pandas и сохраните их в датафреймы. Пути к файлам:\n",
    "/datasets/users_go.csv\n",
    "/datasets/rides_go.csv\n",
    "/datasets/subscriptions_go.csv\n",
    "1.2 Выведите первые строки каждого набора данных. Изучите общую информацию о каждом датафрейме.\n",
    "Шаг 2. Предобработка данных\n",
    "2.1 Приведите столбец date к типу даты pandas.\n",
    "2.2 Создайте новый столбец с номером месяца на основе столбца date.\n",
    "2.3 Проверьте наличие пропущенных значений и дубликатов в датафреймах. Обработайте их, если такие значения присутствуют.\n",
    "Шаг 3. Исследовательский анализ данных\n",
    "Опишите и визуализируйте общую информацию о пользователях и поездках:\n",
    "3.1 частота встречаемости городов;\n",
    "3.2 соотношение пользователей с подпиской и без подписки;\n",
    "3.3 возраст пользователей;\n",
    "3.4 расстояние, которое пользователь преодолел за одну поездку;\n",
    "3.5 продолжительность поездок.\n",
    "Шаг 4. Объединение данных\n",
    "4.1 Объедините данные о пользователях, поездках и подписках в один датафрейм.\n",
    "4.2 Создайте ещё два датафрейма из датафрейма, созданного на этапе 4.1:\n",
    "c данными о пользователях без подписки;\n",
    "с данными о пользователях с подпиской.\n",
    "4.3 Визуализируйте информацию о расстоянии и времени поездок для пользователей обеих категорий.\n",
    "Шаг 5. Подсчёт выручки\n",
    "5.1 Создайте датафрейм с агрегированными данными о поездках на основе датафрейма с объединёнными данными из шага 4: найдите суммарное расстояние, количество поездок и суммарное время для каждого пользователя за каждый месяц.\n",
    "5.2 В этот же датафрейм добавьте столбец с помесячной выручкой, которую принёс каждый пользователь. Для этого обратитесь к информации об условиях оплаты для подписчиков и тех, у кого нет подписки. Продолжительность каждой поездки в каждой строке исходного датафрейма для подсчёта стоимости округляется до следующего целого числа\n",
    "Шаг 6. Проверка гипотез\n",
    "Продакт-менеджеры сервиса хотят увеличить количество пользователей с подпиской. Для этого они будут проводить различные акции, но сначала нужно выяснить несколько важных моментов.\n",
    "6.1 Важно понять, тратят ли пользователи с подпиской больше времени на поездки? Если да, то пользователи с подпиской могут быть «выгоднее» для компании. Проверьте гипотезу. Используйте исходные данные о продолжительности каждой сессии — отдельно для подписчиков и тех, у кого нет подписки.\n",
    "6.2 Расстояние одной поездки в 3130 метров — оптимальное с точки зрения износа самоката. Можно ли сказать, что расстояние, которое проезжают пользователи с подпиской за одну поездку, не превышает 3130 метров? Проверьте гипотезу и сделайте выводы.\n",
    "6.3. Проверьте гипотезу о том, будет ли помесячная выручка от пользователей с подпиской по месяцам выше, чем выручка от пользователей без подписки. Сделайте вывод.\n",
    "6.4. Представьте такую ситуацию: техническая команда сервиса обновила сервера, с которыми взаимодействует мобильное приложение. Она надеется, что из-за этого количество обращений в техподдержку значимо снизилось. Некоторый файл содержит для каждого пользователя данные о количестве обращений до обновления и после него. Какой тест вам понадобился бы для проверки этой гипотезы?\n",
    "Шаг 7 (необязательное задание). Распределения\n",
    "7.1 Отделу маркетинга GoFast поставили задачу: нужно провести акцию с раздачей промокодов на один бесплатный месяц подписки, в рамках которой как минимум 100 существующих клиентов должны продлить эту подписку. То есть по завершении периода действия подписки пользователь может либо отказаться от неё, либо продлить, совершив соответствующий платёж. \n",
    "Эта акция уже проводилась ранее и по итогу выяснилось, что после бесплатного пробного периода подписку продлевают 10 % пользователей. Выясните, какое минимальное количество промокодов нужно разослать, чтобы вероятность не выполнить план была примерно 5 %. Подберите параметры распределения, описывающего эту ситуацию, постройте график распределения и сформулируйте ответ на вопрос о количестве промокодов.\n",
    "7.2 Отдел маркетинга рассылает клиентам push-уведомления в мобильном приложении. Клиенты могут открыть его или не открывать. Известно, что уведомления открывают около 40 % получивших клиентов. Отдел планирует разослать 1 млн уведомлений. С помощью аппроксимации постройте примерный график распределения и оцените вероятность того, что уведомление откроют не более 399,5 тыс. пользователей."
   ]
  },
  {
   "cell_type": "markdown",
   "id": "0efdb43e",
   "metadata": {},
   "source": [
    "<div class=\"alert alert-warning\">\n",
    "    <h2> Комментарий ревьюера v1 <a class=\"tocSkip\"> </h2>\n",
    "    \n",
    "<b>Небольшие замечания и рекомендации💡:</b> Введение неплохое! Только давай опишем данные, поставим цель и напишем краткий план работы) "
   ]
  },
  {
   "cell_type": "markdown",
   "id": "aae9670d",
   "metadata": {},
   "source": [
    "<div class=\"alert alert-info\">\n",
    "Описание данных.\n",
    "    Даны 3 источника информации, содержащие: данные о пользователях сервисам GoFast, данные о поездках (длительность и дистанция), а также данные о типах подписки и их стоимости.\n",
    "    Цель - найти точки роста для бизнеса GoFast через аналитику гипотез, используя доступную информацию.\n",
    "    План работы:\n",
    "    1. Загрузить доступные данные\n",
    "    2. Обработать доступные данные\n",
    "    3. Исследовать доступные данные\n",
    "    4. Преобразовать доступные данные\n",
    "    5. Построить гипотезы, доказать или опровергнуть их.\n",
    "    6. Дать рекомендации сервису."
   ]
  },
  {
   "cell_type": "markdown",
   "id": "5a7ee8ee",
   "metadata": {},
   "source": [
    "Начнем с импорта библиотек."
   ]
  },
  {
   "cell_type": "code",
   "execution_count": 2,
   "id": "e40402e8",
   "metadata": {},
   "outputs": [],
   "source": [
    "import pandas as pd\n",
    "import numpy as np\n",
    "import matplotlib.pyplot as plt\n",
    "\n",
    "from datetime import datetime\n",
    "from scipy import stats as st\n",
    "#импортируем нужные библиотеки"
   ]
  },
  {
   "cell_type": "markdown",
   "id": "2889f092",
   "metadata": {},
   "source": [
    "<div class=\"alert alert-success\">\n",
    "<h2> Комментарий ревьюера v1 <a class=\"tocSkip\"> </h2>\n",
    "\n",
    "<b>Все супер!👍:</b> Лайк, что импортируешь библиотеки в отдельной ячейке "
   ]
  },
  {
   "cell_type": "markdown",
   "id": "c42cbe00",
   "metadata": {},
   "source": [
    "#### Шаг 1. Загрузка данных"
   ]
  },
  {
   "cell_type": "code",
   "execution_count": 3,
   "id": "eff9f206",
   "metadata": {},
   "outputs": [],
   "source": [
    "users = pd.read_csv('/datasets/users_go.csv')\n",
    "rides = pd.read_csv('/datasets/rides_go.csv')\n",
    "subs = pd.read_csv('/datasets/subscriptions_go.csv')\n",
    "#выгружаем датасеты"
   ]
  },
  {
   "cell_type": "code",
   "execution_count": 4,
   "id": "991dd556",
   "metadata": {},
   "outputs": [
    {
     "name": "stdout",
     "output_type": "stream",
     "text": [
      "<class 'pandas.core.frame.DataFrame'>\n",
      "RangeIndex: 1565 entries, 0 to 1564\n",
      "Data columns (total 5 columns):\n",
      " #   Column             Non-Null Count  Dtype \n",
      "---  ------             --------------  ----- \n",
      " 0   user_id            1565 non-null   int64 \n",
      " 1   name               1565 non-null   object\n",
      " 2   age                1565 non-null   int64 \n",
      " 3   city               1565 non-null   object\n",
      " 4   subscription_type  1565 non-null   object\n",
      "dtypes: int64(2), object(3)\n",
      "memory usage: 61.3+ KB\n"
     ]
    },
    {
     "data": {
      "text/plain": [
       "None"
      ]
     },
     "metadata": {},
     "output_type": "display_data"
    },
    {
     "data": {
      "text/html": [
       "<div>\n",
       "<style scoped>\n",
       "    .dataframe tbody tr th:only-of-type {\n",
       "        vertical-align: middle;\n",
       "    }\n",
       "\n",
       "    .dataframe tbody tr th {\n",
       "        vertical-align: top;\n",
       "    }\n",
       "\n",
       "    .dataframe thead th {\n",
       "        text-align: right;\n",
       "    }\n",
       "</style>\n",
       "<table border=\"1\" class=\"dataframe\">\n",
       "  <thead>\n",
       "    <tr style=\"text-align: right;\">\n",
       "      <th></th>\n",
       "      <th>user_id</th>\n",
       "      <th>age</th>\n",
       "    </tr>\n",
       "  </thead>\n",
       "  <tbody>\n",
       "    <tr>\n",
       "      <th>count</th>\n",
       "      <td>1565.000000</td>\n",
       "      <td>1565.000000</td>\n",
       "    </tr>\n",
       "    <tr>\n",
       "      <th>mean</th>\n",
       "      <td>762.633866</td>\n",
       "      <td>24.922045</td>\n",
       "    </tr>\n",
       "    <tr>\n",
       "      <th>std</th>\n",
       "      <td>443.260155</td>\n",
       "      <td>4.553496</td>\n",
       "    </tr>\n",
       "    <tr>\n",
       "      <th>min</th>\n",
       "      <td>1.000000</td>\n",
       "      <td>12.000000</td>\n",
       "    </tr>\n",
       "    <tr>\n",
       "      <th>25%</th>\n",
       "      <td>378.000000</td>\n",
       "      <td>22.000000</td>\n",
       "    </tr>\n",
       "    <tr>\n",
       "      <th>50%</th>\n",
       "      <td>762.000000</td>\n",
       "      <td>25.000000</td>\n",
       "    </tr>\n",
       "    <tr>\n",
       "      <th>75%</th>\n",
       "      <td>1146.000000</td>\n",
       "      <td>28.000000</td>\n",
       "    </tr>\n",
       "    <tr>\n",
       "      <th>max</th>\n",
       "      <td>1534.000000</td>\n",
       "      <td>43.000000</td>\n",
       "    </tr>\n",
       "  </tbody>\n",
       "</table>\n",
       "</div>"
      ],
      "text/plain": [
       "           user_id          age\n",
       "count  1565.000000  1565.000000\n",
       "mean    762.633866    24.922045\n",
       "std     443.260155     4.553496\n",
       "min       1.000000    12.000000\n",
       "25%     378.000000    22.000000\n",
       "50%     762.000000    25.000000\n",
       "75%    1146.000000    28.000000\n",
       "max    1534.000000    43.000000"
      ]
     },
     "metadata": {},
     "output_type": "display_data"
    },
    {
     "data": {
      "text/html": [
       "<div>\n",
       "<style scoped>\n",
       "    .dataframe tbody tr th:only-of-type {\n",
       "        vertical-align: middle;\n",
       "    }\n",
       "\n",
       "    .dataframe tbody tr th {\n",
       "        vertical-align: top;\n",
       "    }\n",
       "\n",
       "    .dataframe thead th {\n",
       "        text-align: right;\n",
       "    }\n",
       "</style>\n",
       "<table border=\"1\" class=\"dataframe\">\n",
       "  <thead>\n",
       "    <tr style=\"text-align: right;\">\n",
       "      <th></th>\n",
       "      <th>user_id</th>\n",
       "      <th>name</th>\n",
       "      <th>age</th>\n",
       "      <th>city</th>\n",
       "      <th>subscription_type</th>\n",
       "    </tr>\n",
       "  </thead>\n",
       "  <tbody>\n",
       "    <tr>\n",
       "      <th>0</th>\n",
       "      <td>1</td>\n",
       "      <td>Кира</td>\n",
       "      <td>22</td>\n",
       "      <td>Тюмень</td>\n",
       "      <td>ultra</td>\n",
       "    </tr>\n",
       "    <tr>\n",
       "      <th>1</th>\n",
       "      <td>2</td>\n",
       "      <td>Станислав</td>\n",
       "      <td>31</td>\n",
       "      <td>Омск</td>\n",
       "      <td>ultra</td>\n",
       "    </tr>\n",
       "    <tr>\n",
       "      <th>2</th>\n",
       "      <td>3</td>\n",
       "      <td>Алексей</td>\n",
       "      <td>20</td>\n",
       "      <td>Москва</td>\n",
       "      <td>ultra</td>\n",
       "    </tr>\n",
       "    <tr>\n",
       "      <th>3</th>\n",
       "      <td>4</td>\n",
       "      <td>Константин</td>\n",
       "      <td>26</td>\n",
       "      <td>Ростов-на-Дону</td>\n",
       "      <td>ultra</td>\n",
       "    </tr>\n",
       "    <tr>\n",
       "      <th>4</th>\n",
       "      <td>5</td>\n",
       "      <td>Адель</td>\n",
       "      <td>28</td>\n",
       "      <td>Омск</td>\n",
       "      <td>ultra</td>\n",
       "    </tr>\n",
       "  </tbody>\n",
       "</table>\n",
       "</div>"
      ],
      "text/plain": [
       "   user_id        name  age            city subscription_type\n",
       "0        1        Кира   22          Тюмень             ultra\n",
       "1        2   Станислав   31            Омск             ultra\n",
       "2        3     Алексей   20          Москва             ultra\n",
       "3        4  Константин   26  Ростов-на-Дону             ultra\n",
       "4        5       Адель   28            Омск             ultra"
      ]
     },
     "execution_count": 4,
     "metadata": {},
     "output_type": "execute_result"
    }
   ],
   "source": [
    "display(users.info())\n",
    "display(users.describe())\n",
    "users.head() #посмотрим на датасет users"
   ]
  },
  {
   "cell_type": "markdown",
   "id": "5d99d642",
   "metadata": {},
   "source": [
    "Датасет с пользователями сервиса с 5 стобцами. Пропусков нет. Средний возраст пользователя почти 25 лет."
   ]
  },
  {
   "cell_type": "code",
   "execution_count": 5,
   "id": "eeee607b",
   "metadata": {},
   "outputs": [
    {
     "name": "stdout",
     "output_type": "stream",
     "text": [
      "<class 'pandas.core.frame.DataFrame'>\n",
      "RangeIndex: 18068 entries, 0 to 18067\n",
      "Data columns (total 4 columns):\n",
      " #   Column    Non-Null Count  Dtype  \n",
      "---  ------    --------------  -----  \n",
      " 0   user_id   18068 non-null  int64  \n",
      " 1   distance  18068 non-null  float64\n",
      " 2   duration  18068 non-null  float64\n",
      " 3   date      18068 non-null  object \n",
      "dtypes: float64(2), int64(1), object(1)\n",
      "memory usage: 564.8+ KB\n"
     ]
    },
    {
     "data": {
      "text/plain": [
       "None"
      ]
     },
     "metadata": {},
     "output_type": "display_data"
    },
    {
     "data": {
      "text/html": [
       "<div>\n",
       "<style scoped>\n",
       "    .dataframe tbody tr th:only-of-type {\n",
       "        vertical-align: middle;\n",
       "    }\n",
       "\n",
       "    .dataframe tbody tr th {\n",
       "        vertical-align: top;\n",
       "    }\n",
       "\n",
       "    .dataframe thead th {\n",
       "        text-align: right;\n",
       "    }\n",
       "</style>\n",
       "<table border=\"1\" class=\"dataframe\">\n",
       "  <thead>\n",
       "    <tr style=\"text-align: right;\">\n",
       "      <th></th>\n",
       "      <th>user_id</th>\n",
       "      <th>distance</th>\n",
       "      <th>duration</th>\n",
       "    </tr>\n",
       "  </thead>\n",
       "  <tbody>\n",
       "    <tr>\n",
       "      <th>count</th>\n",
       "      <td>18068.000000</td>\n",
       "      <td>18068.000000</td>\n",
       "      <td>18068.000000</td>\n",
       "    </tr>\n",
       "    <tr>\n",
       "      <th>mean</th>\n",
       "      <td>842.869936</td>\n",
       "      <td>3070.659976</td>\n",
       "      <td>17.805011</td>\n",
       "    </tr>\n",
       "    <tr>\n",
       "      <th>std</th>\n",
       "      <td>434.734317</td>\n",
       "      <td>1116.831209</td>\n",
       "      <td>6.091051</td>\n",
       "    </tr>\n",
       "    <tr>\n",
       "      <th>min</th>\n",
       "      <td>1.000000</td>\n",
       "      <td>0.855683</td>\n",
       "      <td>0.500000</td>\n",
       "    </tr>\n",
       "    <tr>\n",
       "      <th>25%</th>\n",
       "      <td>487.000000</td>\n",
       "      <td>2543.226360</td>\n",
       "      <td>13.597563</td>\n",
       "    </tr>\n",
       "    <tr>\n",
       "      <th>50%</th>\n",
       "      <td>889.000000</td>\n",
       "      <td>3133.609994</td>\n",
       "      <td>17.678395</td>\n",
       "    </tr>\n",
       "    <tr>\n",
       "      <th>75%</th>\n",
       "      <td>1213.250000</td>\n",
       "      <td>3776.222735</td>\n",
       "      <td>21.724800</td>\n",
       "    </tr>\n",
       "    <tr>\n",
       "      <th>max</th>\n",
       "      <td>1534.000000</td>\n",
       "      <td>7211.007745</td>\n",
       "      <td>40.823963</td>\n",
       "    </tr>\n",
       "  </tbody>\n",
       "</table>\n",
       "</div>"
      ],
      "text/plain": [
       "            user_id      distance      duration\n",
       "count  18068.000000  18068.000000  18068.000000\n",
       "mean     842.869936   3070.659976     17.805011\n",
       "std      434.734317   1116.831209      6.091051\n",
       "min        1.000000      0.855683      0.500000\n",
       "25%      487.000000   2543.226360     13.597563\n",
       "50%      889.000000   3133.609994     17.678395\n",
       "75%     1213.250000   3776.222735     21.724800\n",
       "max     1534.000000   7211.007745     40.823963"
      ]
     },
     "metadata": {},
     "output_type": "display_data"
    },
    {
     "data": {
      "text/html": [
       "<div>\n",
       "<style scoped>\n",
       "    .dataframe tbody tr th:only-of-type {\n",
       "        vertical-align: middle;\n",
       "    }\n",
       "\n",
       "    .dataframe tbody tr th {\n",
       "        vertical-align: top;\n",
       "    }\n",
       "\n",
       "    .dataframe thead th {\n",
       "        text-align: right;\n",
       "    }\n",
       "</style>\n",
       "<table border=\"1\" class=\"dataframe\">\n",
       "  <thead>\n",
       "    <tr style=\"text-align: right;\">\n",
       "      <th></th>\n",
       "      <th>user_id</th>\n",
       "      <th>distance</th>\n",
       "      <th>duration</th>\n",
       "      <th>date</th>\n",
       "    </tr>\n",
       "  </thead>\n",
       "  <tbody>\n",
       "    <tr>\n",
       "      <th>0</th>\n",
       "      <td>1</td>\n",
       "      <td>4409.919140</td>\n",
       "      <td>25.599769</td>\n",
       "      <td>2021-01-01</td>\n",
       "    </tr>\n",
       "    <tr>\n",
       "      <th>1</th>\n",
       "      <td>1</td>\n",
       "      <td>2617.592153</td>\n",
       "      <td>15.816871</td>\n",
       "      <td>2021-01-18</td>\n",
       "    </tr>\n",
       "    <tr>\n",
       "      <th>2</th>\n",
       "      <td>1</td>\n",
       "      <td>754.159807</td>\n",
       "      <td>6.232113</td>\n",
       "      <td>2021-04-20</td>\n",
       "    </tr>\n",
       "    <tr>\n",
       "      <th>3</th>\n",
       "      <td>1</td>\n",
       "      <td>2694.783254</td>\n",
       "      <td>18.511000</td>\n",
       "      <td>2021-08-11</td>\n",
       "    </tr>\n",
       "    <tr>\n",
       "      <th>4</th>\n",
       "      <td>1</td>\n",
       "      <td>4028.687306</td>\n",
       "      <td>26.265803</td>\n",
       "      <td>2021-08-28</td>\n",
       "    </tr>\n",
       "  </tbody>\n",
       "</table>\n",
       "</div>"
      ],
      "text/plain": [
       "   user_id     distance   duration        date\n",
       "0        1  4409.919140  25.599769  2021-01-01\n",
       "1        1  2617.592153  15.816871  2021-01-18\n",
       "2        1   754.159807   6.232113  2021-04-20\n",
       "3        1  2694.783254  18.511000  2021-08-11\n",
       "4        1  4028.687306  26.265803  2021-08-28"
      ]
     },
     "execution_count": 5,
     "metadata": {},
     "output_type": "execute_result"
    }
   ],
   "source": [
    "display(rides.info())\n",
    "display(rides.describe())\n",
    "rides.head() #посмотрим на датасет rides"
   ]
  },
  {
   "cell_type": "markdown",
   "id": "27f34219",
   "metadata": {},
   "source": [
    "Датасет с поездками содежит 4 столбца. Пропусков нет, но надо привести даты к нужному типу значений. "
   ]
  },
  {
   "cell_type": "code",
   "execution_count": 6,
   "id": "40031e86",
   "metadata": {},
   "outputs": [
    {
     "name": "stdout",
     "output_type": "stream",
     "text": [
      "<class 'pandas.core.frame.DataFrame'>\n",
      "RangeIndex: 2 entries, 0 to 1\n",
      "Data columns (total 4 columns):\n",
      " #   Column             Non-Null Count  Dtype \n",
      "---  ------             --------------  ----- \n",
      " 0   subscription_type  2 non-null      object\n",
      " 1   minute_price       2 non-null      int64 \n",
      " 2   start_ride_price   2 non-null      int64 \n",
      " 3   subscription_fee   2 non-null      int64 \n",
      "dtypes: int64(3), object(1)\n",
      "memory usage: 192.0+ bytes\n"
     ]
    },
    {
     "data": {
      "text/plain": [
       "None"
      ]
     },
     "metadata": {},
     "output_type": "display_data"
    },
    {
     "data": {
      "text/html": [
       "<div>\n",
       "<style scoped>\n",
       "    .dataframe tbody tr th:only-of-type {\n",
       "        vertical-align: middle;\n",
       "    }\n",
       "\n",
       "    .dataframe tbody tr th {\n",
       "        vertical-align: top;\n",
       "    }\n",
       "\n",
       "    .dataframe thead th {\n",
       "        text-align: right;\n",
       "    }\n",
       "</style>\n",
       "<table border=\"1\" class=\"dataframe\">\n",
       "  <thead>\n",
       "    <tr style=\"text-align: right;\">\n",
       "      <th></th>\n",
       "      <th>minute_price</th>\n",
       "      <th>start_ride_price</th>\n",
       "      <th>subscription_fee</th>\n",
       "    </tr>\n",
       "  </thead>\n",
       "  <tbody>\n",
       "    <tr>\n",
       "      <th>count</th>\n",
       "      <td>2.000000</td>\n",
       "      <td>2.000000</td>\n",
       "      <td>2.000000</td>\n",
       "    </tr>\n",
       "    <tr>\n",
       "      <th>mean</th>\n",
       "      <td>7.000000</td>\n",
       "      <td>25.000000</td>\n",
       "      <td>99.500000</td>\n",
       "    </tr>\n",
       "    <tr>\n",
       "      <th>std</th>\n",
       "      <td>1.414214</td>\n",
       "      <td>35.355339</td>\n",
       "      <td>140.714249</td>\n",
       "    </tr>\n",
       "    <tr>\n",
       "      <th>min</th>\n",
       "      <td>6.000000</td>\n",
       "      <td>0.000000</td>\n",
       "      <td>0.000000</td>\n",
       "    </tr>\n",
       "    <tr>\n",
       "      <th>25%</th>\n",
       "      <td>6.500000</td>\n",
       "      <td>12.500000</td>\n",
       "      <td>49.750000</td>\n",
       "    </tr>\n",
       "    <tr>\n",
       "      <th>50%</th>\n",
       "      <td>7.000000</td>\n",
       "      <td>25.000000</td>\n",
       "      <td>99.500000</td>\n",
       "    </tr>\n",
       "    <tr>\n",
       "      <th>75%</th>\n",
       "      <td>7.500000</td>\n",
       "      <td>37.500000</td>\n",
       "      <td>149.250000</td>\n",
       "    </tr>\n",
       "    <tr>\n",
       "      <th>max</th>\n",
       "      <td>8.000000</td>\n",
       "      <td>50.000000</td>\n",
       "      <td>199.000000</td>\n",
       "    </tr>\n",
       "  </tbody>\n",
       "</table>\n",
       "</div>"
      ],
      "text/plain": [
       "       minute_price  start_ride_price  subscription_fee\n",
       "count      2.000000          2.000000          2.000000\n",
       "mean       7.000000         25.000000         99.500000\n",
       "std        1.414214         35.355339        140.714249\n",
       "min        6.000000          0.000000          0.000000\n",
       "25%        6.500000         12.500000         49.750000\n",
       "50%        7.000000         25.000000         99.500000\n",
       "75%        7.500000         37.500000        149.250000\n",
       "max        8.000000         50.000000        199.000000"
      ]
     },
     "metadata": {},
     "output_type": "display_data"
    },
    {
     "data": {
      "text/html": [
       "<div>\n",
       "<style scoped>\n",
       "    .dataframe tbody tr th:only-of-type {\n",
       "        vertical-align: middle;\n",
       "    }\n",
       "\n",
       "    .dataframe tbody tr th {\n",
       "        vertical-align: top;\n",
       "    }\n",
       "\n",
       "    .dataframe thead th {\n",
       "        text-align: right;\n",
       "    }\n",
       "</style>\n",
       "<table border=\"1\" class=\"dataframe\">\n",
       "  <thead>\n",
       "    <tr style=\"text-align: right;\">\n",
       "      <th></th>\n",
       "      <th>subscription_type</th>\n",
       "      <th>minute_price</th>\n",
       "      <th>start_ride_price</th>\n",
       "      <th>subscription_fee</th>\n",
       "    </tr>\n",
       "  </thead>\n",
       "  <tbody>\n",
       "    <tr>\n",
       "      <th>0</th>\n",
       "      <td>free</td>\n",
       "      <td>8</td>\n",
       "      <td>50</td>\n",
       "      <td>0</td>\n",
       "    </tr>\n",
       "    <tr>\n",
       "      <th>1</th>\n",
       "      <td>ultra</td>\n",
       "      <td>6</td>\n",
       "      <td>0</td>\n",
       "      <td>199</td>\n",
       "    </tr>\n",
       "  </tbody>\n",
       "</table>\n",
       "</div>"
      ],
      "text/plain": [
       "  subscription_type  minute_price  start_ride_price  subscription_fee\n",
       "0              free             8                50                 0\n",
       "1             ultra             6                 0               199"
      ]
     },
     "execution_count": 6,
     "metadata": {},
     "output_type": "execute_result"
    }
   ],
   "source": [
    "display(subs.info())\n",
    "display(subs.describe())\n",
    "subs.head() #посмотрим на датасет subs"
   ]
  },
  {
   "cell_type": "markdown",
   "id": "51d22b04",
   "metadata": {},
   "source": [
    "Посмотрим на датасет с подписками. Всего 2 строки, обозначающие типы подписок (free и ultra). Пропусков нет))) "
   ]
  },
  {
   "cell_type": "markdown",
   "id": "a1ca69bf",
   "metadata": {},
   "source": [
    "<div class=\"alert alert-success\">\n",
    "<h2> Комментарий ревьюера v1 <a class=\"tocSkip\"> </h2>\n",
    "\n",
    "<b>Все супер!👍:</b> Обзор данных выполнен верно "
   ]
  },
  {
   "cell_type": "markdown",
   "id": "e5d16f5c",
   "metadata": {},
   "source": [
    "<div class=\"alert alert-warning\">\n",
    "    <h2> Комментарий ревьюера v1 <a class=\"tocSkip\"> </h2>\n",
    "    \n",
    "<b>Небольшие замечания и рекомендации💡:</b> Только print() работал для списков и словарей, а для датафрейм лучше использовать display()"
   ]
  },
  {
   "cell_type": "markdown",
   "id": "c4d5e1bd",
   "metadata": {},
   "source": [
    "<div class=\"alert alert-info\">\n",
    "<b>Заменил на display</b> \n",
    "</div>"
   ]
  },
  {
   "cell_type": "markdown",
   "id": "ed9b468f",
   "metadata": {},
   "source": [
    "<div class=\"alert alert-success\">\n",
    "<h2> Комментарий ревьюера v2 <a class=\"tocSkip\"> </h2>\n",
    "\n",
    "<b>Все супер!👍:</b> +++"
   ]
  },
  {
   "cell_type": "markdown",
   "id": "e95ebca7",
   "metadata": {},
   "source": [
    "#### Шаг 2. Предобработка данных"
   ]
  },
  {
   "cell_type": "markdown",
   "id": "4c852ec6",
   "metadata": {},
   "source": [
    "Теперь приступим к предобработке данных."
   ]
  },
  {
   "cell_type": "code",
   "execution_count": 7,
   "id": "c9589f3b",
   "metadata": {
    "scrolled": true
   },
   "outputs": [
    {
     "name": "stdout",
     "output_type": "stream",
     "text": [
      "<class 'pandas.core.frame.DataFrame'>\n",
      "RangeIndex: 18068 entries, 0 to 18067\n",
      "Data columns (total 4 columns):\n",
      " #   Column    Non-Null Count  Dtype         \n",
      "---  ------    --------------  -----         \n",
      " 0   user_id   18068 non-null  int64         \n",
      " 1   distance  18068 non-null  float64       \n",
      " 2   duration  18068 non-null  float64       \n",
      " 3   date      18068 non-null  datetime64[ns]\n",
      "dtypes: datetime64[ns](1), float64(2), int64(1)\n",
      "memory usage: 564.8 KB\n"
     ]
    }
   ],
   "source": [
    "rides['date'] = pd.to_datetime(rides['date'], format=\"%Y-%m-%d\") #приведем столбец с датами в датасете rides к формату date\n",
    "rides.info()"
   ]
  },
  {
   "cell_type": "markdown",
   "id": "88c41095",
   "metadata": {},
   "source": [
    "<div class=\"alert alert-success\">\n",
    "<h2> Комментарий ревьюера v1 <a class=\"tocSkip\"> </h2>\n",
    "\n",
    "<b>Все супер!👍:</b> Верно, дата должна быть датой"
   ]
  },
  {
   "cell_type": "code",
   "execution_count": 8,
   "id": "7fd50b3a",
   "metadata": {},
   "outputs": [
    {
     "data": {
      "text/html": [
       "<div>\n",
       "<style scoped>\n",
       "    .dataframe tbody tr th:only-of-type {\n",
       "        vertical-align: middle;\n",
       "    }\n",
       "\n",
       "    .dataframe tbody tr th {\n",
       "        vertical-align: top;\n",
       "    }\n",
       "\n",
       "    .dataframe thead th {\n",
       "        text-align: right;\n",
       "    }\n",
       "</style>\n",
       "<table border=\"1\" class=\"dataframe\">\n",
       "  <thead>\n",
       "    <tr style=\"text-align: right;\">\n",
       "      <th></th>\n",
       "      <th>user_id</th>\n",
       "      <th>distance</th>\n",
       "      <th>duration</th>\n",
       "      <th>date</th>\n",
       "      <th>month</th>\n",
       "    </tr>\n",
       "  </thead>\n",
       "  <tbody>\n",
       "    <tr>\n",
       "      <th>0</th>\n",
       "      <td>1</td>\n",
       "      <td>4409.919140</td>\n",
       "      <td>25.599769</td>\n",
       "      <td>2021-01-01</td>\n",
       "      <td>1</td>\n",
       "    </tr>\n",
       "    <tr>\n",
       "      <th>1</th>\n",
       "      <td>1</td>\n",
       "      <td>2617.592153</td>\n",
       "      <td>15.816871</td>\n",
       "      <td>2021-01-18</td>\n",
       "      <td>1</td>\n",
       "    </tr>\n",
       "    <tr>\n",
       "      <th>2</th>\n",
       "      <td>1</td>\n",
       "      <td>754.159807</td>\n",
       "      <td>6.232113</td>\n",
       "      <td>2021-04-20</td>\n",
       "      <td>4</td>\n",
       "    </tr>\n",
       "    <tr>\n",
       "      <th>3</th>\n",
       "      <td>1</td>\n",
       "      <td>2694.783254</td>\n",
       "      <td>18.511000</td>\n",
       "      <td>2021-08-11</td>\n",
       "      <td>8</td>\n",
       "    </tr>\n",
       "    <tr>\n",
       "      <th>4</th>\n",
       "      <td>1</td>\n",
       "      <td>4028.687306</td>\n",
       "      <td>26.265803</td>\n",
       "      <td>2021-08-28</td>\n",
       "      <td>8</td>\n",
       "    </tr>\n",
       "  </tbody>\n",
       "</table>\n",
       "</div>"
      ],
      "text/plain": [
       "   user_id     distance   duration       date  month\n",
       "0        1  4409.919140  25.599769 2021-01-01      1\n",
       "1        1  2617.592153  15.816871 2021-01-18      1\n",
       "2        1   754.159807   6.232113 2021-04-20      4\n",
       "3        1  2694.783254  18.511000 2021-08-11      8\n",
       "4        1  4028.687306  26.265803 2021-08-28      8"
      ]
     },
     "execution_count": 8,
     "metadata": {},
     "output_type": "execute_result"
    }
   ],
   "source": [
    "rides['month'] = pd.DatetimeIndex(rides['date']).month #добавляем столбец month к датафрейму\n",
    "rides.head()"
   ]
  },
  {
   "cell_type": "markdown",
   "id": "718469ab",
   "metadata": {},
   "source": [
    "<div class=\"alert alert-success\">\n",
    "<h2> Комментарий ревьюера v1 <a class=\"tocSkip\"> </h2>\n",
    "\n",
    "<b>Все супер!👍:</b> Месяц добавлен верно "
   ]
  },
  {
   "cell_type": "markdown",
   "id": "0a0c151d",
   "metadata": {},
   "source": [
    "Дубликаты и пропуски."
   ]
  },
  {
   "cell_type": "code",
   "execution_count": 9,
   "id": "44eaddc9",
   "metadata": {},
   "outputs": [
    {
     "data": {
      "text/plain": [
       "31"
      ]
     },
     "metadata": {},
     "output_type": "display_data"
    },
    {
     "data": {
      "text/plain": [
       "0"
      ]
     },
     "metadata": {},
     "output_type": "display_data"
    },
    {
     "data": {
      "text/plain": [
       "0"
      ]
     },
     "execution_count": 9,
     "metadata": {},
     "output_type": "execute_result"
    }
   ],
   "source": [
    "display(users.duplicated().sum()) #проверим на дубликаты все 3 датасета\n",
    "display(rides.duplicated().sum())\n",
    "subs.duplicated().sum()"
   ]
  },
  {
   "cell_type": "markdown",
   "id": "1019163d",
   "metadata": {},
   "source": [
    "Дубликаты только в одном датасете - users."
   ]
  },
  {
   "cell_type": "code",
   "execution_count": 10,
   "id": "5457d0e6",
   "metadata": {},
   "outputs": [],
   "source": [
    "users = users.drop_duplicates().reset_index(drop\n",
    "= True) #удалим дубликаты"
   ]
  },
  {
   "cell_type": "code",
   "execution_count": 11,
   "id": "1fb40c06",
   "metadata": {},
   "outputs": [
    {
     "name": "stdout",
     "output_type": "stream",
     "text": [
      "<class 'pandas.core.frame.DataFrame'>\n",
      "RangeIndex: 1534 entries, 0 to 1533\n",
      "Data columns (total 5 columns):\n",
      " #   Column             Non-Null Count  Dtype \n",
      "---  ------             --------------  ----- \n",
      " 0   user_id            1534 non-null   int64 \n",
      " 1   name               1534 non-null   object\n",
      " 2   age                1534 non-null   int64 \n",
      " 3   city               1534 non-null   object\n",
      " 4   subscription_type  1534 non-null   object\n",
      "dtypes: int64(2), object(3)\n",
      "memory usage: 60.0+ KB\n"
     ]
    }
   ],
   "source": [
    "users.info() #проверим"
   ]
  },
  {
   "cell_type": "markdown",
   "id": "70208018",
   "metadata": {},
   "source": [
    "Ранее в просмотре датасетов мы увидели, что пропусков в датасетах нет."
   ]
  },
  {
   "cell_type": "markdown",
   "id": "b6b510e5",
   "metadata": {},
   "source": [
    "<div class=\"alert alert-success\">\n",
    "<h2> Комментарий ревьюера v1 <a class=\"tocSkip\"> </h2>\n",
    "\n",
    "<b>Все супер!👍:</b> Хорошо, пропусков нет, а дубли удалили) "
   ]
  },
  {
   "cell_type": "markdown",
   "id": "212593c7",
   "metadata": {},
   "source": [
    "#### Шаг 3. Исследовательский анализ данных"
   ]
  },
  {
   "cell_type": "markdown",
   "id": "1389a5b7",
   "metadata": {},
   "source": [
    "**Частота встречаемости городов**"
   ]
  },
  {
   "cell_type": "code",
   "execution_count": 12,
   "id": "8b56f4cd",
   "metadata": {},
   "outputs": [
    {
     "data": {
      "text/plain": [
       "array(['Тюмень', 'Омск', 'Москва', 'Ростов-на-Дону', 'Краснодар',\n",
       "       'Пятигорск', 'Екатеринбург', 'Сочи'], dtype=object)"
      ]
     },
     "execution_count": 12,
     "metadata": {},
     "output_type": "execute_result"
    }
   ],
   "source": [
    "users['city'].unique() #посмотрим на общий список городов"
   ]
  },
  {
   "cell_type": "code",
   "execution_count": 35,
   "id": "4ab0501b",
   "metadata": {},
   "outputs": [
    {
     "data": {
      "text/plain": [
       "city\n",
       "Пятигорск         219\n",
       "Екатеринбург      204\n",
       "Ростов-на-Дону    198\n",
       "Краснодар         193\n",
       "Сочи              189\n",
       "Омск              183\n",
       "Тюмень            180\n",
       "Москва            168\n",
       "Name: name, dtype: int64"
      ]
     },
     "execution_count": 35,
     "metadata": {},
     "output_type": "execute_result"
    }
   ],
   "source": [
    "users.groupby('city')['name'].count().sort_values(ascending = False) #посмотрим какой город встречается чаще всего"
   ]
  },
  {
   "cell_type": "markdown",
   "id": "f2ce6b3f",
   "metadata": {},
   "source": [
    "Любители погонять на самокатах в Пятигорске. Попробуем визуализировать."
   ]
  },
  {
   "cell_type": "code",
   "execution_count": 37,
   "id": "fe8e3c5f",
   "metadata": {},
   "outputs": [
    {
     "data": {
      "image/png": "[encoded data removed]",
      "text/plain": [
       "<Figure size 432x288 with 1 Axes>"
      ]
     },
     "metadata": {
      "needs_background": "light"
     },
     "output_type": "display_data"
    }
   ],
   "source": [
    "users.groupby('city')['name'].count().sort_values(ascending = False).plot.bar()\n",
    "plt.title('Рейтинг городов', fontsize = 20, color = 'green')\n",
    "plt.xlabel('Города')\n",
    "plt.ylabel('Количество пользователей')\n",
    "plt.xticks(rotation = 90)\n",
    "plt.show()"
   ]
  },
  {
   "cell_type": "markdown",
   "id": "974a0b32",
   "metadata": {},
   "source": [
    "Пятигорск - лидер."
   ]
  },
  {
   "cell_type": "markdown",
   "id": "2e26d90b",
   "metadata": {},
   "source": [
    "<div class=\"alert alert-block alert-danger\">\n",
    "<h2> Комментарий ревьюера v1 <a class=\"tocSkip\"></h2>\n",
    "\n",
    "<b>На доработку🤔:</b>  Очень хорошо) Но тебе понятно на графике какие города расположены по оси Х? Мне вот, например, нет) "
   ]
  },
  {
   "cell_type": "markdown",
   "id": "f321d6b4",
   "metadata": {},
   "source": [
    "<div class=\"alert alert-block alert-danger\">\n",
    "<h2> Комментарий ревьюера v1 <a class=\"tocSkip\"></h2>\n",
    "\n",
    "<b>На доработку🤔:</b> Необходимо подписать оси и заголовки на графике + сортировка) "
   ]
  },
  {
   "cell_type": "markdown",
   "id": "adce3aaf",
   "metadata": {},
   "source": [
    "<div class=\"alert alert-info\">\n",
    "<b>Добавил сортировку в таблицу + оформил визуализацию графиков. </b> \n",
    "\n",
    "    "
   ]
  },
  {
   "cell_type": "markdown",
   "id": "abb6a047",
   "metadata": {},
   "source": [
    "<div class=\"alert alert-block alert-danger\">\n",
    "<h2> Комментарий ревьюера v2 <a class=\"tocSkip\"></h2>\n",
    "   \n",
    "<b>На доработку🤔:</b> А сортировка графика? А подпись по оси У?"
   ]
  },
  {
   "cell_type": "markdown",
   "id": "2b992c86",
   "metadata": {},
   "source": [
    "<div class=\"alert alert-info\">\n",
    "<b>done </b> "
   ]
  },
  {
   "cell_type": "markdown",
   "id": "98889585",
   "metadata": {},
   "source": [
    "<div class=\"alert alert-success\">\n",
    "<h2> Комментарий ревьюера v3 <a class=\"tocSkip\"> </h2>\n",
    "\n",
    "<b>Все супер!👍:</b> Победа! Ты молодец!"
   ]
  },
  {
   "cell_type": "markdown",
   "id": "eba3f575",
   "metadata": {},
   "source": [
    "**Теперь посмотрим какое количество пользователей с подпиской, а какое без.**"
   ]
  },
  {
   "cell_type": "code",
   "execution_count": 14,
   "id": "f1ddd2b5",
   "metadata": {},
   "outputs": [
    {
     "data": {
      "text/html": [
       "<div>\n",
       "<style scoped>\n",
       "    .dataframe tbody tr th:only-of-type {\n",
       "        vertical-align: middle;\n",
       "    }\n",
       "\n",
       "    .dataframe tbody tr th {\n",
       "        vertical-align: top;\n",
       "    }\n",
       "\n",
       "    .dataframe thead th {\n",
       "        text-align: right;\n",
       "    }\n",
       "</style>\n",
       "<table border=\"1\" class=\"dataframe\">\n",
       "  <thead>\n",
       "    <tr style=\"text-align: right;\">\n",
       "      <th></th>\n",
       "      <th>user_id</th>\n",
       "      <th>name</th>\n",
       "      <th>age</th>\n",
       "      <th>city</th>\n",
       "    </tr>\n",
       "    <tr>\n",
       "      <th>subscription_type</th>\n",
       "      <th></th>\n",
       "      <th></th>\n",
       "      <th></th>\n",
       "      <th></th>\n",
       "    </tr>\n",
       "  </thead>\n",
       "  <tbody>\n",
       "    <tr>\n",
       "      <th>free</th>\n",
       "      <td>835</td>\n",
       "      <td>835</td>\n",
       "      <td>835</td>\n",
       "      <td>835</td>\n",
       "    </tr>\n",
       "    <tr>\n",
       "      <th>ultra</th>\n",
       "      <td>699</td>\n",
       "      <td>699</td>\n",
       "      <td>699</td>\n",
       "      <td>699</td>\n",
       "    </tr>\n",
       "  </tbody>\n",
       "</table>\n",
       "</div>"
      ],
      "text/plain": [
       "                   user_id  name  age  city\n",
       "subscription_type                          \n",
       "free                   835   835  835   835\n",
       "ultra                  699   699  699   699"
      ]
     },
     "execution_count": 14,
     "metadata": {},
     "output_type": "execute_result"
    }
   ],
   "source": [
    "users.groupby('subscription_type').count() #сгруппируем строки по виду подписки\n"
   ]
  },
  {
   "cell_type": "code",
   "execution_count": 15,
   "id": "33220864",
   "metadata": {},
   "outputs": [
    {
     "data": {
      "text/plain": [
       "0.5443285528031291"
      ]
     },
     "metadata": {},
     "output_type": "display_data"
    },
    {
     "data": {
      "text/plain": [
       "0.4556714471968709"
      ]
     },
     "metadata": {},
     "output_type": "display_data"
    }
   ],
   "source": [
    "free = 835/(835+699)\n",
    "ultra = 699/(835+699)\n",
    "display(free, ultra) #рассчитаем % типа подписок"
   ]
  },
  {
   "cell_type": "code",
   "execution_count": 16,
   "id": "6228541b",
   "metadata": {},
   "outputs": [
    {
     "data": {
      "image/png": "[encoded data removed]",
      "text/plain": [
       "<Figure size 432x288 with 1 Axes>"
      ]
     },
     "metadata": {},
     "output_type": "display_data"
    }
   ],
   "source": [
    "y = free, ultra\n",
    "labels = [\"Без подписки\", \"С подпиской\"]\n",
    "plt.title('Доля пользователей с подпиской и без', fontsize = 20, color = 'Green')\n",
    "plt.pie(y, labels = labels, autopct='%.0f%%')\n",
    "plt.show() # построим гистограмму"
   ]
  },
  {
   "cell_type": "markdown",
   "id": "b1997099",
   "metadata": {},
   "source": [
    "54% пользователей предпочитают без подписки, 46% - с подпиской. Субъективно кажется, что достаточно высокая доля пользователей с подпиской."
   ]
  },
  {
   "cell_type": "markdown",
   "id": "05795579",
   "metadata": {},
   "source": [
    "<div class=\"alert alert-block alert-danger\">\n",
    "<h2> Комментарий ревьюера v1 <a class=\"tocSkip\"></h2>\n",
    "\n",
    "<b>На доработку🤔:</b>  А давай лучше отразим доли на круговой диарамме? И также не забывай о подписях осей и заголовков"
   ]
  },
  {
   "cell_type": "markdown",
   "id": "d8c7a0a0",
   "metadata": {},
   "source": [
    "<div class=\"alert alert-info\">\n",
    "<b>Отразил в виде круговой диаграмыы. </b> "
   ]
  },
  {
   "cell_type": "markdown",
   "id": "62f77c02",
   "metadata": {},
   "source": [
    "<div class=\"alert alert-success\">\n",
    "<h2> Комментарий ревьюера v2 <a class=\"tocSkip\"> </h2>\n",
    "\n",
    "<b>Все супер!👍:</b> Отилчно) "
   ]
  },
  {
   "cell_type": "markdown",
   "id": "db0815a2",
   "metadata": {},
   "source": [
    "**Возраст пользователей**"
   ]
  },
  {
   "cell_type": "code",
   "execution_count": 17,
   "id": "42e41e71",
   "metadata": {},
   "outputs": [
    {
     "data": {
      "text/html": [
       "<div>\n",
       "<style scoped>\n",
       "    .dataframe tbody tr th:only-of-type {\n",
       "        vertical-align: middle;\n",
       "    }\n",
       "\n",
       "    .dataframe tbody tr th {\n",
       "        vertical-align: top;\n",
       "    }\n",
       "\n",
       "    .dataframe thead th {\n",
       "        text-align: right;\n",
       "    }\n",
       "</style>\n",
       "<table border=\"1\" class=\"dataframe\">\n",
       "  <thead>\n",
       "    <tr style=\"text-align: right;\">\n",
       "      <th></th>\n",
       "      <th>user_id</th>\n",
       "      <th>name</th>\n",
       "      <th>city</th>\n",
       "      <th>subscription_type</th>\n",
       "    </tr>\n",
       "    <tr>\n",
       "      <th>age</th>\n",
       "      <th></th>\n",
       "      <th></th>\n",
       "      <th></th>\n",
       "      <th></th>\n",
       "    </tr>\n",
       "  </thead>\n",
       "  <tbody>\n",
       "    <tr>\n",
       "      <th>12</th>\n",
       "      <td>4</td>\n",
       "      <td>4</td>\n",
       "      <td>4</td>\n",
       "      <td>4</td>\n",
       "    </tr>\n",
       "    <tr>\n",
       "      <th>13</th>\n",
       "      <td>8</td>\n",
       "      <td>8</td>\n",
       "      <td>8</td>\n",
       "      <td>8</td>\n",
       "    </tr>\n",
       "    <tr>\n",
       "      <th>14</th>\n",
       "      <td>9</td>\n",
       "      <td>9</td>\n",
       "      <td>9</td>\n",
       "      <td>9</td>\n",
       "    </tr>\n",
       "    <tr>\n",
       "      <th>15</th>\n",
       "      <td>13</td>\n",
       "      <td>13</td>\n",
       "      <td>13</td>\n",
       "      <td>13</td>\n",
       "    </tr>\n",
       "    <tr>\n",
       "      <th>16</th>\n",
       "      <td>19</td>\n",
       "      <td>19</td>\n",
       "      <td>19</td>\n",
       "      <td>19</td>\n",
       "    </tr>\n",
       "    <tr>\n",
       "      <th>17</th>\n",
       "      <td>26</td>\n",
       "      <td>26</td>\n",
       "      <td>26</td>\n",
       "      <td>26</td>\n",
       "    </tr>\n",
       "    <tr>\n",
       "      <th>18</th>\n",
       "      <td>46</td>\n",
       "      <td>46</td>\n",
       "      <td>46</td>\n",
       "      <td>46</td>\n",
       "    </tr>\n",
       "    <tr>\n",
       "      <th>19</th>\n",
       "      <td>47</td>\n",
       "      <td>47</td>\n",
       "      <td>47</td>\n",
       "      <td>47</td>\n",
       "    </tr>\n",
       "    <tr>\n",
       "      <th>20</th>\n",
       "      <td>71</td>\n",
       "      <td>71</td>\n",
       "      <td>71</td>\n",
       "      <td>71</td>\n",
       "    </tr>\n",
       "    <tr>\n",
       "      <th>21</th>\n",
       "      <td>93</td>\n",
       "      <td>93</td>\n",
       "      <td>93</td>\n",
       "      <td>93</td>\n",
       "    </tr>\n",
       "    <tr>\n",
       "      <th>22</th>\n",
       "      <td>119</td>\n",
       "      <td>119</td>\n",
       "      <td>119</td>\n",
       "      <td>119</td>\n",
       "    </tr>\n",
       "    <tr>\n",
       "      <th>23</th>\n",
       "      <td>129</td>\n",
       "      <td>129</td>\n",
       "      <td>129</td>\n",
       "      <td>129</td>\n",
       "    </tr>\n",
       "    <tr>\n",
       "      <th>24</th>\n",
       "      <td>132</td>\n",
       "      <td>132</td>\n",
       "      <td>132</td>\n",
       "      <td>132</td>\n",
       "    </tr>\n",
       "    <tr>\n",
       "      <th>25</th>\n",
       "      <td>145</td>\n",
       "      <td>145</td>\n",
       "      <td>145</td>\n",
       "      <td>145</td>\n",
       "    </tr>\n",
       "    <tr>\n",
       "      <th>26</th>\n",
       "      <td>131</td>\n",
       "      <td>131</td>\n",
       "      <td>131</td>\n",
       "      <td>131</td>\n",
       "    </tr>\n",
       "    <tr>\n",
       "      <th>27</th>\n",
       "      <td>119</td>\n",
       "      <td>119</td>\n",
       "      <td>119</td>\n",
       "      <td>119</td>\n",
       "    </tr>\n",
       "    <tr>\n",
       "      <th>28</th>\n",
       "      <td>112</td>\n",
       "      <td>112</td>\n",
       "      <td>112</td>\n",
       "      <td>112</td>\n",
       "    </tr>\n",
       "    <tr>\n",
       "      <th>29</th>\n",
       "      <td>68</td>\n",
       "      <td>68</td>\n",
       "      <td>68</td>\n",
       "      <td>68</td>\n",
       "    </tr>\n",
       "    <tr>\n",
       "      <th>30</th>\n",
       "      <td>68</td>\n",
       "      <td>68</td>\n",
       "      <td>68</td>\n",
       "      <td>68</td>\n",
       "    </tr>\n",
       "    <tr>\n",
       "      <th>31</th>\n",
       "      <td>48</td>\n",
       "      <td>48</td>\n",
       "      <td>48</td>\n",
       "      <td>48</td>\n",
       "    </tr>\n",
       "    <tr>\n",
       "      <th>32</th>\n",
       "      <td>41</td>\n",
       "      <td>41</td>\n",
       "      <td>41</td>\n",
       "      <td>41</td>\n",
       "    </tr>\n",
       "    <tr>\n",
       "      <th>33</th>\n",
       "      <td>39</td>\n",
       "      <td>39</td>\n",
       "      <td>39</td>\n",
       "      <td>39</td>\n",
       "    </tr>\n",
       "    <tr>\n",
       "      <th>34</th>\n",
       "      <td>19</td>\n",
       "      <td>19</td>\n",
       "      <td>19</td>\n",
       "      <td>19</td>\n",
       "    </tr>\n",
       "    <tr>\n",
       "      <th>35</th>\n",
       "      <td>15</td>\n",
       "      <td>15</td>\n",
       "      <td>15</td>\n",
       "      <td>15</td>\n",
       "    </tr>\n",
       "    <tr>\n",
       "      <th>36</th>\n",
       "      <td>6</td>\n",
       "      <td>6</td>\n",
       "      <td>6</td>\n",
       "      <td>6</td>\n",
       "    </tr>\n",
       "    <tr>\n",
       "      <th>37</th>\n",
       "      <td>2</td>\n",
       "      <td>2</td>\n",
       "      <td>2</td>\n",
       "      <td>2</td>\n",
       "    </tr>\n",
       "    <tr>\n",
       "      <th>38</th>\n",
       "      <td>3</td>\n",
       "      <td>3</td>\n",
       "      <td>3</td>\n",
       "      <td>3</td>\n",
       "    </tr>\n",
       "    <tr>\n",
       "      <th>39</th>\n",
       "      <td>1</td>\n",
       "      <td>1</td>\n",
       "      <td>1</td>\n",
       "      <td>1</td>\n",
       "    </tr>\n",
       "    <tr>\n",
       "      <th>43</th>\n",
       "      <td>1</td>\n",
       "      <td>1</td>\n",
       "      <td>1</td>\n",
       "      <td>1</td>\n",
       "    </tr>\n",
       "  </tbody>\n",
       "</table>\n",
       "</div>"
      ],
      "text/plain": [
       "     user_id  name  city  subscription_type\n",
       "age                                        \n",
       "12         4     4     4                  4\n",
       "13         8     8     8                  8\n",
       "14         9     9     9                  9\n",
       "15        13    13    13                 13\n",
       "16        19    19    19                 19\n",
       "17        26    26    26                 26\n",
       "18        46    46    46                 46\n",
       "19        47    47    47                 47\n",
       "20        71    71    71                 71\n",
       "21        93    93    93                 93\n",
       "22       119   119   119                119\n",
       "23       129   129   129                129\n",
       "24       132   132   132                132\n",
       "25       145   145   145                145\n",
       "26       131   131   131                131\n",
       "27       119   119   119                119\n",
       "28       112   112   112                112\n",
       "29        68    68    68                 68\n",
       "30        68    68    68                 68\n",
       "31        48    48    48                 48\n",
       "32        41    41    41                 41\n",
       "33        39    39    39                 39\n",
       "34        19    19    19                 19\n",
       "35        15    15    15                 15\n",
       "36         6     6     6                  6\n",
       "37         2     2     2                  2\n",
       "38         3     3     3                  3\n",
       "39         1     1     1                  1\n",
       "43         1     1     1                  1"
      ]
     },
     "execution_count": 17,
     "metadata": {},
     "output_type": "execute_result"
    }
   ],
   "source": [
    "users.groupby('age').count() #сгруппируем по возрасту пользователей"
   ]
  },
  {
   "cell_type": "code",
   "execution_count": 18,
   "id": "e0344f7a",
   "metadata": {},
   "outputs": [
    {
     "data": {
      "text/html": [
       "<div>\n",
       "<style scoped>\n",
       "    .dataframe tbody tr th:only-of-type {\n",
       "        vertical-align: middle;\n",
       "    }\n",
       "\n",
       "    .dataframe tbody tr th {\n",
       "        vertical-align: top;\n",
       "    }\n",
       "\n",
       "    .dataframe thead th {\n",
       "        text-align: right;\n",
       "    }\n",
       "</style>\n",
       "<table border=\"1\" class=\"dataframe\">\n",
       "  <thead>\n",
       "    <tr style=\"text-align: right;\">\n",
       "      <th></th>\n",
       "      <th>user_id</th>\n",
       "      <th>name</th>\n",
       "      <th>city</th>\n",
       "      <th>subscription_type</th>\n",
       "    </tr>\n",
       "    <tr>\n",
       "      <th>age</th>\n",
       "      <th></th>\n",
       "      <th></th>\n",
       "      <th></th>\n",
       "      <th></th>\n",
       "    </tr>\n",
       "  </thead>\n",
       "  <tbody>\n",
       "    <tr>\n",
       "      <th>12</th>\n",
       "      <td>0.26</td>\n",
       "      <td>0.26</td>\n",
       "      <td>0.26</td>\n",
       "      <td>0.26</td>\n",
       "    </tr>\n",
       "    <tr>\n",
       "      <th>13</th>\n",
       "      <td>0.52</td>\n",
       "      <td>0.52</td>\n",
       "      <td>0.52</td>\n",
       "      <td>0.52</td>\n",
       "    </tr>\n",
       "    <tr>\n",
       "      <th>14</th>\n",
       "      <td>0.59</td>\n",
       "      <td>0.59</td>\n",
       "      <td>0.59</td>\n",
       "      <td>0.59</td>\n",
       "    </tr>\n",
       "    <tr>\n",
       "      <th>15</th>\n",
       "      <td>0.85</td>\n",
       "      <td>0.85</td>\n",
       "      <td>0.85</td>\n",
       "      <td>0.85</td>\n",
       "    </tr>\n",
       "    <tr>\n",
       "      <th>16</th>\n",
       "      <td>1.24</td>\n",
       "      <td>1.24</td>\n",
       "      <td>1.24</td>\n",
       "      <td>1.24</td>\n",
       "    </tr>\n",
       "    <tr>\n",
       "      <th>17</th>\n",
       "      <td>1.69</td>\n",
       "      <td>1.69</td>\n",
       "      <td>1.69</td>\n",
       "      <td>1.69</td>\n",
       "    </tr>\n",
       "    <tr>\n",
       "      <th>18</th>\n",
       "      <td>3.00</td>\n",
       "      <td>3.00</td>\n",
       "      <td>3.00</td>\n",
       "      <td>3.00</td>\n",
       "    </tr>\n",
       "    <tr>\n",
       "      <th>19</th>\n",
       "      <td>3.06</td>\n",
       "      <td>3.06</td>\n",
       "      <td>3.06</td>\n",
       "      <td>3.06</td>\n",
       "    </tr>\n",
       "    <tr>\n",
       "      <th>20</th>\n",
       "      <td>4.63</td>\n",
       "      <td>4.63</td>\n",
       "      <td>4.63</td>\n",
       "      <td>4.63</td>\n",
       "    </tr>\n",
       "    <tr>\n",
       "      <th>21</th>\n",
       "      <td>6.06</td>\n",
       "      <td>6.06</td>\n",
       "      <td>6.06</td>\n",
       "      <td>6.06</td>\n",
       "    </tr>\n",
       "    <tr>\n",
       "      <th>22</th>\n",
       "      <td>7.76</td>\n",
       "      <td>7.76</td>\n",
       "      <td>7.76</td>\n",
       "      <td>7.76</td>\n",
       "    </tr>\n",
       "    <tr>\n",
       "      <th>23</th>\n",
       "      <td>8.41</td>\n",
       "      <td>8.41</td>\n",
       "      <td>8.41</td>\n",
       "      <td>8.41</td>\n",
       "    </tr>\n",
       "    <tr>\n",
       "      <th>24</th>\n",
       "      <td>8.60</td>\n",
       "      <td>8.60</td>\n",
       "      <td>8.60</td>\n",
       "      <td>8.60</td>\n",
       "    </tr>\n",
       "    <tr>\n",
       "      <th>25</th>\n",
       "      <td>9.45</td>\n",
       "      <td>9.45</td>\n",
       "      <td>9.45</td>\n",
       "      <td>9.45</td>\n",
       "    </tr>\n",
       "    <tr>\n",
       "      <th>26</th>\n",
       "      <td>8.54</td>\n",
       "      <td>8.54</td>\n",
       "      <td>8.54</td>\n",
       "      <td>8.54</td>\n",
       "    </tr>\n",
       "    <tr>\n",
       "      <th>27</th>\n",
       "      <td>7.76</td>\n",
       "      <td>7.76</td>\n",
       "      <td>7.76</td>\n",
       "      <td>7.76</td>\n",
       "    </tr>\n",
       "    <tr>\n",
       "      <th>28</th>\n",
       "      <td>7.30</td>\n",
       "      <td>7.30</td>\n",
       "      <td>7.30</td>\n",
       "      <td>7.30</td>\n",
       "    </tr>\n",
       "    <tr>\n",
       "      <th>29</th>\n",
       "      <td>4.43</td>\n",
       "      <td>4.43</td>\n",
       "      <td>4.43</td>\n",
       "      <td>4.43</td>\n",
       "    </tr>\n",
       "    <tr>\n",
       "      <th>30</th>\n",
       "      <td>4.43</td>\n",
       "      <td>4.43</td>\n",
       "      <td>4.43</td>\n",
       "      <td>4.43</td>\n",
       "    </tr>\n",
       "    <tr>\n",
       "      <th>31</th>\n",
       "      <td>3.13</td>\n",
       "      <td>3.13</td>\n",
       "      <td>3.13</td>\n",
       "      <td>3.13</td>\n",
       "    </tr>\n",
       "    <tr>\n",
       "      <th>32</th>\n",
       "      <td>2.67</td>\n",
       "      <td>2.67</td>\n",
       "      <td>2.67</td>\n",
       "      <td>2.67</td>\n",
       "    </tr>\n",
       "    <tr>\n",
       "      <th>33</th>\n",
       "      <td>2.54</td>\n",
       "      <td>2.54</td>\n",
       "      <td>2.54</td>\n",
       "      <td>2.54</td>\n",
       "    </tr>\n",
       "    <tr>\n",
       "      <th>34</th>\n",
       "      <td>1.24</td>\n",
       "      <td>1.24</td>\n",
       "      <td>1.24</td>\n",
       "      <td>1.24</td>\n",
       "    </tr>\n",
       "    <tr>\n",
       "      <th>35</th>\n",
       "      <td>0.98</td>\n",
       "      <td>0.98</td>\n",
       "      <td>0.98</td>\n",
       "      <td>0.98</td>\n",
       "    </tr>\n",
       "    <tr>\n",
       "      <th>36</th>\n",
       "      <td>0.39</td>\n",
       "      <td>0.39</td>\n",
       "      <td>0.39</td>\n",
       "      <td>0.39</td>\n",
       "    </tr>\n",
       "    <tr>\n",
       "      <th>37</th>\n",
       "      <td>0.13</td>\n",
       "      <td>0.13</td>\n",
       "      <td>0.13</td>\n",
       "      <td>0.13</td>\n",
       "    </tr>\n",
       "    <tr>\n",
       "      <th>38</th>\n",
       "      <td>0.20</td>\n",
       "      <td>0.20</td>\n",
       "      <td>0.20</td>\n",
       "      <td>0.20</td>\n",
       "    </tr>\n",
       "    <tr>\n",
       "      <th>39</th>\n",
       "      <td>0.07</td>\n",
       "      <td>0.07</td>\n",
       "      <td>0.07</td>\n",
       "      <td>0.07</td>\n",
       "    </tr>\n",
       "    <tr>\n",
       "      <th>43</th>\n",
       "      <td>0.07</td>\n",
       "      <td>0.07</td>\n",
       "      <td>0.07</td>\n",
       "      <td>0.07</td>\n",
       "    </tr>\n",
       "  </tbody>\n",
       "</table>\n",
       "</div>"
      ],
      "text/plain": [
       "     user_id  name  city  subscription_type\n",
       "age                                        \n",
       "12      0.26  0.26  0.26               0.26\n",
       "13      0.52  0.52  0.52               0.52\n",
       "14      0.59  0.59  0.59               0.59\n",
       "15      0.85  0.85  0.85               0.85\n",
       "16      1.24  1.24  1.24               1.24\n",
       "17      1.69  1.69  1.69               1.69\n",
       "18      3.00  3.00  3.00               3.00\n",
       "19      3.06  3.06  3.06               3.06\n",
       "20      4.63  4.63  4.63               4.63\n",
       "21      6.06  6.06  6.06               6.06\n",
       "22      7.76  7.76  7.76               7.76\n",
       "23      8.41  8.41  8.41               8.41\n",
       "24      8.60  8.60  8.60               8.60\n",
       "25      9.45  9.45  9.45               9.45\n",
       "26      8.54  8.54  8.54               8.54\n",
       "27      7.76  7.76  7.76               7.76\n",
       "28      7.30  7.30  7.30               7.30\n",
       "29      4.43  4.43  4.43               4.43\n",
       "30      4.43  4.43  4.43               4.43\n",
       "31      3.13  3.13  3.13               3.13\n",
       "32      2.67  2.67  2.67               2.67\n",
       "33      2.54  2.54  2.54               2.54\n",
       "34      1.24  1.24  1.24               1.24\n",
       "35      0.98  0.98  0.98               0.98\n",
       "36      0.39  0.39  0.39               0.39\n",
       "37      0.13  0.13  0.13               0.13\n",
       "38      0.20  0.20  0.20               0.20\n",
       "39      0.07  0.07  0.07               0.07\n",
       "43      0.07  0.07  0.07               0.07"
      ]
     },
     "execution_count": 18,
     "metadata": {},
     "output_type": "execute_result"
    }
   ],
   "source": [
    "percent = round(users.groupby('age').count()/users['age'].count() *100, 2)\n",
    "percent #найдем % составляющую каждого возраста"
   ]
  },
  {
   "cell_type": "code",
   "execution_count": 19,
   "id": "10913aea",
   "metadata": {},
   "outputs": [
    {
     "data": {
      "text/plain": [
       "count    1534.000000\n",
       "mean       24.903520\n",
       "std         4.572367\n",
       "min        12.000000\n",
       "25%        22.000000\n",
       "50%        25.000000\n",
       "75%        28.000000\n",
       "max        43.000000\n",
       "Name: age, dtype: float64"
      ]
     },
     "execution_count": 19,
     "metadata": {},
     "output_type": "execute_result"
    }
   ],
   "source": [
    "users['age'].describe() #посмотрим на основные параметры этого столбца"
   ]
  },
  {
   "cell_type": "code",
   "execution_count": 38,
   "id": "f5b76ac3",
   "metadata": {},
   "outputs": [
    {
     "data": {
      "text/plain": [
       "Text(0, 0.5, 'Количество пользователей')"
      ]
     },
     "execution_count": 38,
     "metadata": {},
     "output_type": "execute_result"
    },
    {
     "data": {
      "image/png": "[encoded data removed]",
      "text/plain": [
       "<Figure size 432x288 with 1 Axes>"
      ]
     },
     "metadata": {
      "needs_background": "light"
     },
     "output_type": "display_data"
    }
   ],
   "source": [
    "users['age'].hist(bins = 100)\n",
    "plt.title('Распределение пользователей по возрасту', fontsize = 20, color = 'Green') #построим гистограмму\n",
    "plt.xlabel('Возраст')\n",
    "plt.ylabel('Количество пользователей')"
   ]
  },
  {
   "cell_type": "markdown",
   "id": "87e560d3",
   "metadata": {},
   "source": [
    "Минимальный возраст пользователя 12, максимальный - 43. Средний возраст пользователя - почти 25 лет. Гистограмма с нормальным распределением. Большая часть пользователей в возрасте от 22 до 28 лет (молодые, платежеспособные)."
   ]
  },
  {
   "cell_type": "markdown",
   "id": "3247b3b9",
   "metadata": {},
   "source": [
    "<div class=\"alert alert-success\">\n",
    "<h2> Комментарий ревьюера v1 <a class=\"tocSkip\"> </h2>\n",
    "\n",
    "<b>Все супер!👍:</b> Тут все супер, молодец! Круто, что используешь метод describe()"
   ]
  },
  {
   "cell_type": "markdown",
   "id": "8c0246a5",
   "metadata": {},
   "source": [
    "<div class=\"alert alert-block alert-danger\">\n",
    "<h2> Комментарий ревьюера v1 <a class=\"tocSkip\"></h2>\n",
    "\n",
    "<b>На доработку🤔:</b>  Не хватет оформления графика"
   ]
  },
  {
   "cell_type": "markdown",
   "id": "16f994cd",
   "metadata": {},
   "source": [
    "<div class=\"alert alert-info\">\n",
    "<b>Done</b> "
   ]
  },
  {
   "cell_type": "markdown",
   "id": "30a3b391",
   "metadata": {},
   "source": [
    "<div class=\"alert alert-block alert-danger\">\n",
    "<h2> Комментарий ревьюера v2 <a class=\"tocSkip\"></h2>\n",
    "   \n",
    "<b>На доработку🤔:</b>А ось У?"
   ]
  },
  {
   "cell_type": "markdown",
   "id": "2a8c9053",
   "metadata": {},
   "source": [
    "<div class=\"alert alert-info\">\n",
    "<b>done </b> "
   ]
  },
  {
   "cell_type": "markdown",
   "id": "fe65e20d",
   "metadata": {},
   "source": [
    "<div class=\"alert alert-success\">\n",
    "<h2> Комментарий ревьюера v3 <a class=\"tocSkip\"> </h2>\n",
    "\n",
    "<b>Все супер!👍:</b> Топ!"
   ]
  },
  {
   "cell_type": "markdown",
   "id": "b6ce6f88",
   "metadata": {},
   "source": [
    "**Растояние, преодоленное за 1 поездку**"
   ]
  },
  {
   "cell_type": "code",
   "execution_count": 21,
   "id": "895cf7fd",
   "metadata": {},
   "outputs": [
    {
     "data": {
      "text/plain": [
       "user_id\n",
       "1       2806.504429\n",
       "2       3105.086678\n",
       "3       2858.693148\n",
       "4       3373.276987\n",
       "5       3244.021903\n",
       "           ...     \n",
       "1530    2724.331740\n",
       "1531    2999.913238\n",
       "1532    2615.477834\n",
       "1533    2965.546552\n",
       "1534    3434.290912\n",
       "Name: distance, Length: 1534, dtype: float64"
      ]
     },
     "execution_count": 21,
     "metadata": {},
     "output_type": "execute_result"
    }
   ],
   "source": [
    "rides.groupby('user_id')['distance'].median() #сгруппируем по user_id и посмотрим медианную дистанцию за 1 поездку"
   ]
  },
  {
   "cell_type": "markdown",
   "id": "9ee0a136",
   "metadata": {},
   "source": [
    "На текущем этапе эта информация нам ничего не дает, без привязки user_id к другим параметрам пользователей. Поэтому посмотрим в общем."
   ]
  },
  {
   "cell_type": "code",
   "execution_count": 22,
   "id": "38b9ad3e",
   "metadata": {},
   "outputs": [
    {
     "data": {
      "text/plain": [
       "3.1"
      ]
     },
     "execution_count": 22,
     "metadata": {},
     "output_type": "execute_result"
    }
   ],
   "source": [
    "round(rides['distance'].median()/1000, 1)#посмотрим медианное значение по столбцу"
   ]
  },
  {
   "cell_type": "code",
   "execution_count": 39,
   "id": "14729f4e",
   "metadata": {},
   "outputs": [
    {
     "data": {
      "image/png": "[encoded data removed]",
      "text/plain": [
       "<Figure size 432x288 with 1 Axes>"
      ]
     },
     "metadata": {
      "needs_background": "light"
     },
     "output_type": "display_data"
    }
   ],
   "source": [
    "rides['distance'].hist(bins = 50)\n",
    "plt.title('Распределение дистанции', fontsize = 20, color = 'Green')\n",
    "plt.xlabel('Дистанция, м')\n",
    "plt.ylabel('Количество заездов')\n",
    "plt.show() #построим гистограмму"
   ]
  },
  {
   "cell_type": "code",
   "execution_count": 24,
   "id": "c3dad337",
   "metadata": {},
   "outputs": [
    {
     "data": {
      "text/plain": [
       "count    18068.000000\n",
       "mean      3070.659976\n",
       "std       1116.831209\n",
       "min          0.855683\n",
       "25%       2543.226360\n",
       "50%       3133.609994\n",
       "75%       3776.222735\n",
       "max       7211.007745\n",
       "Name: distance, dtype: float64"
      ]
     },
     "execution_count": 24,
     "metadata": {},
     "output_type": "execute_result"
    }
   ],
   "source": [
    "rides['distance'].describe() #опишем"
   ]
  },
  {
   "cell_type": "markdown",
   "id": "8238dca0",
   "metadata": {},
   "source": [
    "Исходя из графика, вижу, что средний показатель на уровне 3100 метров. Основная часто данных на участке 2500-3800 метров. "
   ]
  },
  {
   "cell_type": "markdown",
   "id": "9b6bf44c",
   "metadata": {},
   "source": [
    "**Продолжительность поездки**"
   ]
  },
  {
   "cell_type": "code",
   "execution_count": 25,
   "id": "3c830463",
   "metadata": {},
   "outputs": [
    {
     "data": {
      "text/plain": [
       "17.7"
      ]
     },
     "execution_count": 25,
     "metadata": {},
     "output_type": "execute_result"
    }
   ],
   "source": [
    "round(rides['duration'].median(),1) #посмотрим медаинное значение по столбцу"
   ]
  },
  {
   "cell_type": "code",
   "execution_count": 40,
   "id": "a8855304",
   "metadata": {},
   "outputs": [
    {
     "data": {
      "image/png": "[encoded data removed]",
      "text/plain": [
       "<Figure size 432x288 with 1 Axes>"
      ]
     },
     "metadata": {
      "needs_background": "light"
     },
     "output_type": "display_data"
    }
   ],
   "source": [
    "rides['duration'].hist(bins = 50)\n",
    "plt.title('Распределение длительности поездки', fontsize = 20, color = 'Green')\n",
    "plt.xlabel('Длительность, мин')\n",
    "plt.ylabel('Количество заездов')\n",
    "plt.show()#построим гистограмму"
   ]
  },
  {
   "cell_type": "code",
   "execution_count": 42,
   "id": "6944c6c7",
   "metadata": {},
   "outputs": [
    {
     "data": {
      "text/plain": [
       "count    18068.000000\n",
       "mean        17.805011\n",
       "std          6.091051\n",
       "min          0.500000\n",
       "25%         13.597563\n",
       "50%         17.678395\n",
       "75%         21.724800\n",
       "max         40.823963\n",
       "Name: duration, dtype: float64"
      ]
     },
     "execution_count": 42,
     "metadata": {},
     "output_type": "execute_result"
    }
   ],
   "source": [
    "rides['duration'].describe() #опишем"
   ]
  },
  {
   "cell_type": "markdown",
   "id": "0992e606",
   "metadata": {},
   "source": [
    "По той же логике посмотрим на среднюю дистанцию 1 поездки. Это почти 18 минут.Основная часть данных на промежутке 13-22 минуты."
   ]
  },
  {
   "cell_type": "markdown",
   "id": "223d4516",
   "metadata": {},
   "source": [
    "<div class=\"alert alert-block alert-danger\">\n",
    "<h2> Комментарий ревьюера v1 <a class=\"tocSkip\"></h2>\n",
    "\n",
    "<b>На доработку🤔:</b>  А тут тоже давай сделаем подписи осей и заголовков + рассомтрим статистические значения через метод describe() и сделаем выводы подробнее"
   ]
  },
  {
   "cell_type": "markdown",
   "id": "d3b45892",
   "metadata": {},
   "source": [
    "<div class=\"alert alert-info\">\n",
    "<b>Done</b>"
   ]
  },
  {
   "cell_type": "markdown",
   "id": "2765f171",
   "metadata": {},
   "source": [
    "<div class=\"alert alert-block alert-danger\">\n",
    "<h2> Комментарий ревьюера v2 <a class=\"tocSkip\"></h2>\n",
    "   \n",
    "<b>На доработку🤔:</b> Уже лучше, но не хватает подписи осей У"
   ]
  },
  {
   "cell_type": "markdown",
   "id": "43debd71",
   "metadata": {},
   "source": [
    "<div class=\"alert alert-info\">\n",
    "<b>done </b> "
   ]
  },
  {
   "cell_type": "markdown",
   "id": "d12a507e",
   "metadata": {},
   "source": [
    "<div class=\"alert alert-success\">\n",
    "<h2> Комментарий ревьюера v3 <a class=\"tocSkip\"> </h2>\n",
    "\n",
    "<b>Все супер!👍:</b> Подтверждаю!"
   ]
  },
  {
   "cell_type": "markdown",
   "id": "4ef51331",
   "metadata": {},
   "source": [
    "#### Шаг 4. Объединение данных"
   ]
  },
  {
   "cell_type": "markdown",
   "id": "256710ae",
   "metadata": {},
   "source": [
    "**Создание новых датасетов**"
   ]
  },
  {
   "cell_type": "code",
   "execution_count": 43,
   "id": "6bf288b5",
   "metadata": {
    "scrolled": true
   },
   "outputs": [
    {
     "data": {
      "text/html": [
       "<div>\n",
       "<style scoped>\n",
       "    .dataframe tbody tr th:only-of-type {\n",
       "        vertical-align: middle;\n",
       "    }\n",
       "\n",
       "    .dataframe tbody tr th {\n",
       "        vertical-align: top;\n",
       "    }\n",
       "\n",
       "    .dataframe thead th {\n",
       "        text-align: right;\n",
       "    }\n",
       "</style>\n",
       "<table border=\"1\" class=\"dataframe\">\n",
       "  <thead>\n",
       "    <tr style=\"text-align: right;\">\n",
       "      <th></th>\n",
       "      <th>user_id</th>\n",
       "      <th>name</th>\n",
       "      <th>age</th>\n",
       "      <th>city</th>\n",
       "      <th>subscription_type</th>\n",
       "      <th>distance</th>\n",
       "      <th>duration</th>\n",
       "      <th>date</th>\n",
       "      <th>month</th>\n",
       "    </tr>\n",
       "  </thead>\n",
       "  <tbody>\n",
       "    <tr>\n",
       "      <th>0</th>\n",
       "      <td>1</td>\n",
       "      <td>Кира</td>\n",
       "      <td>22</td>\n",
       "      <td>Тюмень</td>\n",
       "      <td>ultra</td>\n",
       "      <td>4409.919140</td>\n",
       "      <td>25.599769</td>\n",
       "      <td>2021-01-01</td>\n",
       "      <td>1</td>\n",
       "    </tr>\n",
       "    <tr>\n",
       "      <th>1</th>\n",
       "      <td>1</td>\n",
       "      <td>Кира</td>\n",
       "      <td>22</td>\n",
       "      <td>Тюмень</td>\n",
       "      <td>ultra</td>\n",
       "      <td>2617.592153</td>\n",
       "      <td>15.816871</td>\n",
       "      <td>2021-01-18</td>\n",
       "      <td>1</td>\n",
       "    </tr>\n",
       "    <tr>\n",
       "      <th>2</th>\n",
       "      <td>1</td>\n",
       "      <td>Кира</td>\n",
       "      <td>22</td>\n",
       "      <td>Тюмень</td>\n",
       "      <td>ultra</td>\n",
       "      <td>754.159807</td>\n",
       "      <td>6.232113</td>\n",
       "      <td>2021-04-20</td>\n",
       "      <td>4</td>\n",
       "    </tr>\n",
       "    <tr>\n",
       "      <th>3</th>\n",
       "      <td>1</td>\n",
       "      <td>Кира</td>\n",
       "      <td>22</td>\n",
       "      <td>Тюмень</td>\n",
       "      <td>ultra</td>\n",
       "      <td>2694.783254</td>\n",
       "      <td>18.511000</td>\n",
       "      <td>2021-08-11</td>\n",
       "      <td>8</td>\n",
       "    </tr>\n",
       "    <tr>\n",
       "      <th>4</th>\n",
       "      <td>1</td>\n",
       "      <td>Кира</td>\n",
       "      <td>22</td>\n",
       "      <td>Тюмень</td>\n",
       "      <td>ultra</td>\n",
       "      <td>4028.687306</td>\n",
       "      <td>26.265803</td>\n",
       "      <td>2021-08-28</td>\n",
       "      <td>8</td>\n",
       "    </tr>\n",
       "  </tbody>\n",
       "</table>\n",
       "</div>"
      ],
      "text/plain": [
       "   user_id  name  age    city subscription_type     distance   duration  \\\n",
       "0        1  Кира   22  Тюмень             ultra  4409.919140  25.599769   \n",
       "1        1  Кира   22  Тюмень             ultra  2617.592153  15.816871   \n",
       "2        1  Кира   22  Тюмень             ultra   754.159807   6.232113   \n",
       "3        1  Кира   22  Тюмень             ultra  2694.783254  18.511000   \n",
       "4        1  Кира   22  Тюмень             ultra  4028.687306  26.265803   \n",
       "\n",
       "        date  month  \n",
       "0 2021-01-01      1  \n",
       "1 2021-01-18      1  \n",
       "2 2021-04-20      4  \n",
       "3 2021-08-11      8  \n",
       "4 2021-08-28      8  "
      ]
     },
     "execution_count": 43,
     "metadata": {},
     "output_type": "execute_result"
    }
   ],
   "source": [
    "new_1 = users.merge(rides, on = 'user_id', how = 'left') #объединим первые 2 датасета\n",
    "new_1.head()"
   ]
  },
  {
   "cell_type": "code",
   "execution_count": 44,
   "id": "362d7f59",
   "metadata": {},
   "outputs": [
    {
     "name": "stdout",
     "output_type": "stream",
     "text": [
      "<class 'pandas.core.frame.DataFrame'>\n",
      "RangeIndex: 18068 entries, 0 to 18067\n",
      "Data columns (total 5 columns):\n",
      " #   Column    Non-Null Count  Dtype         \n",
      "---  ------    --------------  -----         \n",
      " 0   user_id   18068 non-null  int64         \n",
      " 1   distance  18068 non-null  float64       \n",
      " 2   duration  18068 non-null  float64       \n",
      " 3   date      18068 non-null  datetime64[ns]\n",
      " 4   month     18068 non-null  int64         \n",
      "dtypes: datetime64[ns](1), float64(2), int64(2)\n",
      "memory usage: 705.9 KB\n",
      "<class 'pandas.core.frame.DataFrame'>\n",
      "Int64Index: 18068 entries, 0 to 18067\n",
      "Data columns (total 9 columns):\n",
      " #   Column             Non-Null Count  Dtype         \n",
      "---  ------             --------------  -----         \n",
      " 0   user_id            18068 non-null  int64         \n",
      " 1   name               18068 non-null  object        \n",
      " 2   age                18068 non-null  int64         \n",
      " 3   city               18068 non-null  object        \n",
      " 4   subscription_type  18068 non-null  object        \n",
      " 5   distance           18068 non-null  float64       \n",
      " 6   duration           18068 non-null  float64       \n",
      " 7   date               18068 non-null  datetime64[ns]\n",
      " 8   month              18068 non-null  int64         \n",
      "dtypes: datetime64[ns](1), float64(2), int64(3), object(3)\n",
      "memory usage: 1.4+ MB\n"
     ]
    }
   ],
   "source": [
    "rides.info()\n",
    "new_1.info() #проверим размеры таблиц до и после"
   ]
  },
  {
   "cell_type": "markdown",
   "id": "6490de95",
   "metadata": {},
   "source": [
    "Объединилось правильно (максимальное кол-во данных попало в финалную таблицу)"
   ]
  },
  {
   "cell_type": "markdown",
   "id": "3231b3fe",
   "metadata": {},
   "source": [
    "<div class=\"alert alert-block alert-danger\">\n",
    "<h2> Комментарий ревьюера v1 <a class=\"tocSkip\"></h2>\n",
    "\n",
    "<b>На доработку🤔:</b>  А проверим размерность таблиц до и после объединения?"
   ]
  },
  {
   "cell_type": "markdown",
   "id": "965c9c76",
   "metadata": {},
   "source": [
    "<div class=\"alert alert-info\">\n",
    "<b>Done</b> "
   ]
  },
  {
   "cell_type": "markdown",
   "id": "d506b88d",
   "metadata": {},
   "source": [
    "<div class=\"alert alert-success\">\n",
    "<h2> Комментарий ревьюера v2 <a class=\"tocSkip\"> </h2>\n",
    "\n",
    "<b>Все супер!👍:</b> Супер) "
   ]
  },
  {
   "cell_type": "code",
   "execution_count": 45,
   "id": "f94a64a4",
   "metadata": {},
   "outputs": [
    {
     "data": {
      "text/html": [
       "<div>\n",
       "<style scoped>\n",
       "    .dataframe tbody tr th:only-of-type {\n",
       "        vertical-align: middle;\n",
       "    }\n",
       "\n",
       "    .dataframe tbody tr th {\n",
       "        vertical-align: top;\n",
       "    }\n",
       "\n",
       "    .dataframe thead th {\n",
       "        text-align: right;\n",
       "    }\n",
       "</style>\n",
       "<table border=\"1\" class=\"dataframe\">\n",
       "  <thead>\n",
       "    <tr style=\"text-align: right;\">\n",
       "      <th></th>\n",
       "      <th>user_id</th>\n",
       "      <th>name</th>\n",
       "      <th>age</th>\n",
       "      <th>city</th>\n",
       "      <th>subscription_type</th>\n",
       "      <th>distance</th>\n",
       "      <th>duration</th>\n",
       "      <th>date</th>\n",
       "      <th>month</th>\n",
       "      <th>minute_price</th>\n",
       "      <th>start_ride_price</th>\n",
       "      <th>subscription_fee</th>\n",
       "    </tr>\n",
       "  </thead>\n",
       "  <tbody>\n",
       "    <tr>\n",
       "      <th>0</th>\n",
       "      <td>1</td>\n",
       "      <td>Кира</td>\n",
       "      <td>22</td>\n",
       "      <td>Тюмень</td>\n",
       "      <td>ultra</td>\n",
       "      <td>4409.919140</td>\n",
       "      <td>25.599769</td>\n",
       "      <td>2021-01-01</td>\n",
       "      <td>1</td>\n",
       "      <td>6</td>\n",
       "      <td>0</td>\n",
       "      <td>199</td>\n",
       "    </tr>\n",
       "    <tr>\n",
       "      <th>1</th>\n",
       "      <td>1</td>\n",
       "      <td>Кира</td>\n",
       "      <td>22</td>\n",
       "      <td>Тюмень</td>\n",
       "      <td>ultra</td>\n",
       "      <td>2617.592153</td>\n",
       "      <td>15.816871</td>\n",
       "      <td>2021-01-18</td>\n",
       "      <td>1</td>\n",
       "      <td>6</td>\n",
       "      <td>0</td>\n",
       "      <td>199</td>\n",
       "    </tr>\n",
       "    <tr>\n",
       "      <th>2</th>\n",
       "      <td>1</td>\n",
       "      <td>Кира</td>\n",
       "      <td>22</td>\n",
       "      <td>Тюмень</td>\n",
       "      <td>ultra</td>\n",
       "      <td>754.159807</td>\n",
       "      <td>6.232113</td>\n",
       "      <td>2021-04-20</td>\n",
       "      <td>4</td>\n",
       "      <td>6</td>\n",
       "      <td>0</td>\n",
       "      <td>199</td>\n",
       "    </tr>\n",
       "    <tr>\n",
       "      <th>3</th>\n",
       "      <td>1</td>\n",
       "      <td>Кира</td>\n",
       "      <td>22</td>\n",
       "      <td>Тюмень</td>\n",
       "      <td>ultra</td>\n",
       "      <td>2694.783254</td>\n",
       "      <td>18.511000</td>\n",
       "      <td>2021-08-11</td>\n",
       "      <td>8</td>\n",
       "      <td>6</td>\n",
       "      <td>0</td>\n",
       "      <td>199</td>\n",
       "    </tr>\n",
       "    <tr>\n",
       "      <th>4</th>\n",
       "      <td>1</td>\n",
       "      <td>Кира</td>\n",
       "      <td>22</td>\n",
       "      <td>Тюмень</td>\n",
       "      <td>ultra</td>\n",
       "      <td>4028.687306</td>\n",
       "      <td>26.265803</td>\n",
       "      <td>2021-08-28</td>\n",
       "      <td>8</td>\n",
       "      <td>6</td>\n",
       "      <td>0</td>\n",
       "      <td>199</td>\n",
       "    </tr>\n",
       "    <tr>\n",
       "      <th>5</th>\n",
       "      <td>1</td>\n",
       "      <td>Кира</td>\n",
       "      <td>22</td>\n",
       "      <td>Тюмень</td>\n",
       "      <td>ultra</td>\n",
       "      <td>2770.890808</td>\n",
       "      <td>16.650138</td>\n",
       "      <td>2021-10-09</td>\n",
       "      <td>10</td>\n",
       "      <td>6</td>\n",
       "      <td>0</td>\n",
       "      <td>199</td>\n",
       "    </tr>\n",
       "    <tr>\n",
       "      <th>6</th>\n",
       "      <td>1</td>\n",
       "      <td>Кира</td>\n",
       "      <td>22</td>\n",
       "      <td>Тюмень</td>\n",
       "      <td>ultra</td>\n",
       "      <td>3039.020292</td>\n",
       "      <td>14.927879</td>\n",
       "      <td>2021-10-19</td>\n",
       "      <td>10</td>\n",
       "      <td>6</td>\n",
       "      <td>0</td>\n",
       "      <td>199</td>\n",
       "    </tr>\n",
       "    <tr>\n",
       "      <th>7</th>\n",
       "      <td>1</td>\n",
       "      <td>Кира</td>\n",
       "      <td>22</td>\n",
       "      <td>Тюмень</td>\n",
       "      <td>ultra</td>\n",
       "      <td>2842.118050</td>\n",
       "      <td>23.117468</td>\n",
       "      <td>2021-11-06</td>\n",
       "      <td>11</td>\n",
       "      <td>6</td>\n",
       "      <td>0</td>\n",
       "      <td>199</td>\n",
       "    </tr>\n",
       "    <tr>\n",
       "      <th>8</th>\n",
       "      <td>1</td>\n",
       "      <td>Кира</td>\n",
       "      <td>22</td>\n",
       "      <td>Тюмень</td>\n",
       "      <td>ultra</td>\n",
       "      <td>3412.690668</td>\n",
       "      <td>15.238072</td>\n",
       "      <td>2021-11-14</td>\n",
       "      <td>11</td>\n",
       "      <td>6</td>\n",
       "      <td>0</td>\n",
       "      <td>199</td>\n",
       "    </tr>\n",
       "    <tr>\n",
       "      <th>9</th>\n",
       "      <td>1</td>\n",
       "      <td>Кира</td>\n",
       "      <td>22</td>\n",
       "      <td>Тюмень</td>\n",
       "      <td>ultra</td>\n",
       "      <td>748.690645</td>\n",
       "      <td>15.041884</td>\n",
       "      <td>2021-11-22</td>\n",
       "      <td>11</td>\n",
       "      <td>6</td>\n",
       "      <td>0</td>\n",
       "      <td>199</td>\n",
       "    </tr>\n",
       "    <tr>\n",
       "      <th>10</th>\n",
       "      <td>1</td>\n",
       "      <td>Кира</td>\n",
       "      <td>22</td>\n",
       "      <td>Тюмень</td>\n",
       "      <td>ultra</td>\n",
       "      <td>4031.020195</td>\n",
       "      <td>17.674448</td>\n",
       "      <td>2021-12-14</td>\n",
       "      <td>12</td>\n",
       "      <td>6</td>\n",
       "      <td>0</td>\n",
       "      <td>199</td>\n",
       "    </tr>\n",
       "    <tr>\n",
       "      <th>11</th>\n",
       "      <td>1</td>\n",
       "      <td>Кира</td>\n",
       "      <td>22</td>\n",
       "      <td>Тюмень</td>\n",
       "      <td>ultra</td>\n",
       "      <td>2720.609748</td>\n",
       "      <td>9.529463</td>\n",
       "      <td>2021-12-22</td>\n",
       "      <td>12</td>\n",
       "      <td>6</td>\n",
       "      <td>0</td>\n",
       "      <td>199</td>\n",
       "    </tr>\n",
       "    <tr>\n",
       "      <th>12</th>\n",
       "      <td>2</td>\n",
       "      <td>Станислав</td>\n",
       "      <td>31</td>\n",
       "      <td>Омск</td>\n",
       "      <td>ultra</td>\n",
       "      <td>3105.086678</td>\n",
       "      <td>24.307514</td>\n",
       "      <td>2021-03-15</td>\n",
       "      <td>3</td>\n",
       "      <td>6</td>\n",
       "      <td>0</td>\n",
       "      <td>199</td>\n",
       "    </tr>\n",
       "    <tr>\n",
       "      <th>13</th>\n",
       "      <td>2</td>\n",
       "      <td>Станислав</td>\n",
       "      <td>31</td>\n",
       "      <td>Омск</td>\n",
       "      <td>ultra</td>\n",
       "      <td>3053.519401</td>\n",
       "      <td>11.543256</td>\n",
       "      <td>2021-03-18</td>\n",
       "      <td>3</td>\n",
       "      <td>6</td>\n",
       "      <td>0</td>\n",
       "      <td>199</td>\n",
       "    </tr>\n",
       "    <tr>\n",
       "      <th>14</th>\n",
       "      <td>2</td>\n",
       "      <td>Станислав</td>\n",
       "      <td>31</td>\n",
       "      <td>Омск</td>\n",
       "      <td>ultra</td>\n",
       "      <td>4029.116927</td>\n",
       "      <td>25.109188</td>\n",
       "      <td>2021-03-23</td>\n",
       "      <td>3</td>\n",
       "      <td>6</td>\n",
       "      <td>0</td>\n",
       "      <td>199</td>\n",
       "    </tr>\n",
       "    <tr>\n",
       "      <th>15</th>\n",
       "      <td>2</td>\n",
       "      <td>Станислав</td>\n",
       "      <td>31</td>\n",
       "      <td>Омск</td>\n",
       "      <td>ultra</td>\n",
       "      <td>2805.786329</td>\n",
       "      <td>20.652145</td>\n",
       "      <td>2021-04-08</td>\n",
       "      <td>4</td>\n",
       "      <td>6</td>\n",
       "      <td>0</td>\n",
       "      <td>199</td>\n",
       "    </tr>\n",
       "    <tr>\n",
       "      <th>16</th>\n",
       "      <td>2</td>\n",
       "      <td>Станислав</td>\n",
       "      <td>31</td>\n",
       "      <td>Омск</td>\n",
       "      <td>ultra</td>\n",
       "      <td>3358.595495</td>\n",
       "      <td>18.396489</td>\n",
       "      <td>2021-04-13</td>\n",
       "      <td>4</td>\n",
       "      <td>6</td>\n",
       "      <td>0</td>\n",
       "      <td>199</td>\n",
       "    </tr>\n",
       "    <tr>\n",
       "      <th>17</th>\n",
       "      <td>2</td>\n",
       "      <td>Станислав</td>\n",
       "      <td>31</td>\n",
       "      <td>Омск</td>\n",
       "      <td>ultra</td>\n",
       "      <td>3255.338202</td>\n",
       "      <td>13.851127</td>\n",
       "      <td>2021-06-20</td>\n",
       "      <td>6</td>\n",
       "      <td>6</td>\n",
       "      <td>0</td>\n",
       "      <td>199</td>\n",
       "    </tr>\n",
       "    <tr>\n",
       "      <th>18</th>\n",
       "      <td>2</td>\n",
       "      <td>Станислав</td>\n",
       "      <td>31</td>\n",
       "      <td>Омск</td>\n",
       "      <td>ultra</td>\n",
       "      <td>3942.817648</td>\n",
       "      <td>20.142725</td>\n",
       "      <td>2021-07-02</td>\n",
       "      <td>7</td>\n",
       "      <td>6</td>\n",
       "      <td>0</td>\n",
       "      <td>199</td>\n",
       "    </tr>\n",
       "    <tr>\n",
       "      <th>19</th>\n",
       "      <td>2</td>\n",
       "      <td>Станислав</td>\n",
       "      <td>31</td>\n",
       "      <td>Омск</td>\n",
       "      <td>ultra</td>\n",
       "      <td>2837.905316</td>\n",
       "      <td>26.027432</td>\n",
       "      <td>2021-07-18</td>\n",
       "      <td>7</td>\n",
       "      <td>6</td>\n",
       "      <td>0</td>\n",
       "      <td>199</td>\n",
       "    </tr>\n",
       "  </tbody>\n",
       "</table>\n",
       "</div>"
      ],
      "text/plain": [
       "    user_id       name  age    city subscription_type     distance   duration  \\\n",
       "0         1       Кира   22  Тюмень             ultra  4409.919140  25.599769   \n",
       "1         1       Кира   22  Тюмень             ultra  2617.592153  15.816871   \n",
       "2         1       Кира   22  Тюмень             ultra   754.159807   6.232113   \n",
       "3         1       Кира   22  Тюмень             ultra  2694.783254  18.511000   \n",
       "4         1       Кира   22  Тюмень             ultra  4028.687306  26.265803   \n",
       "5         1       Кира   22  Тюмень             ultra  2770.890808  16.650138   \n",
       "6         1       Кира   22  Тюмень             ultra  3039.020292  14.927879   \n",
       "7         1       Кира   22  Тюмень             ultra  2842.118050  23.117468   \n",
       "8         1       Кира   22  Тюмень             ultra  3412.690668  15.238072   \n",
       "9         1       Кира   22  Тюмень             ultra   748.690645  15.041884   \n",
       "10        1       Кира   22  Тюмень             ultra  4031.020195  17.674448   \n",
       "11        1       Кира   22  Тюмень             ultra  2720.609748   9.529463   \n",
       "12        2  Станислав   31    Омск             ultra  3105.086678  24.307514   \n",
       "13        2  Станислав   31    Омск             ultra  3053.519401  11.543256   \n",
       "14        2  Станислав   31    Омск             ultra  4029.116927  25.109188   \n",
       "15        2  Станислав   31    Омск             ultra  2805.786329  20.652145   \n",
       "16        2  Станислав   31    Омск             ultra  3358.595495  18.396489   \n",
       "17        2  Станислав   31    Омск             ultra  3255.338202  13.851127   \n",
       "18        2  Станислав   31    Омск             ultra  3942.817648  20.142725   \n",
       "19        2  Станислав   31    Омск             ultra  2837.905316  26.027432   \n",
       "\n",
       "         date  month  minute_price  start_ride_price  subscription_fee  \n",
       "0  2021-01-01      1             6                 0               199  \n",
       "1  2021-01-18      1             6                 0               199  \n",
       "2  2021-04-20      4             6                 0               199  \n",
       "3  2021-08-11      8             6                 0               199  \n",
       "4  2021-08-28      8             6                 0               199  \n",
       "5  2021-10-09     10             6                 0               199  \n",
       "6  2021-10-19     10             6                 0               199  \n",
       "7  2021-11-06     11             6                 0               199  \n",
       "8  2021-11-14     11             6                 0               199  \n",
       "9  2021-11-22     11             6                 0               199  \n",
       "10 2021-12-14     12             6                 0               199  \n",
       "11 2021-12-22     12             6                 0               199  \n",
       "12 2021-03-15      3             6                 0               199  \n",
       "13 2021-03-18      3             6                 0               199  \n",
       "14 2021-03-23      3             6                 0               199  \n",
       "15 2021-04-08      4             6                 0               199  \n",
       "16 2021-04-13      4             6                 0               199  \n",
       "17 2021-06-20      6             6                 0               199  \n",
       "18 2021-07-02      7             6                 0               199  \n",
       "19 2021-07-18      7             6                 0               199  "
      ]
     },
     "execution_count": 45,
     "metadata": {},
     "output_type": "execute_result"
    }
   ],
   "source": [
    "data = new_1.merge(subs, on = 'subscription_type', how = 'left') #создадим финальный датасет, включающий первоначальные 3\n",
    "data.head(20)"
   ]
  },
  {
   "cell_type": "code",
   "execution_count": 46,
   "id": "76fbfa8e",
   "metadata": {},
   "outputs": [
    {
     "data": {
      "text/html": [
       "<div>\n",
       "<style scoped>\n",
       "    .dataframe tbody tr th:only-of-type {\n",
       "        vertical-align: middle;\n",
       "    }\n",
       "\n",
       "    .dataframe tbody tr th {\n",
       "        vertical-align: top;\n",
       "    }\n",
       "\n",
       "    .dataframe thead th {\n",
       "        text-align: right;\n",
       "    }\n",
       "</style>\n",
       "<table border=\"1\" class=\"dataframe\">\n",
       "  <thead>\n",
       "    <tr style=\"text-align: right;\">\n",
       "      <th></th>\n",
       "      <th>user_id</th>\n",
       "      <th>name</th>\n",
       "      <th>age</th>\n",
       "      <th>city</th>\n",
       "      <th>subscription_type</th>\n",
       "      <th>distance</th>\n",
       "      <th>duration</th>\n",
       "      <th>date</th>\n",
       "      <th>month</th>\n",
       "      <th>minute_price</th>\n",
       "      <th>start_ride_price</th>\n",
       "      <th>subscription_fee</th>\n",
       "    </tr>\n",
       "  </thead>\n",
       "  <tbody>\n",
       "    <tr>\n",
       "      <th>0</th>\n",
       "      <td>1</td>\n",
       "      <td>Кира</td>\n",
       "      <td>22</td>\n",
       "      <td>Тюмень</td>\n",
       "      <td>ultra</td>\n",
       "      <td>4409.919140</td>\n",
       "      <td>25.599769</td>\n",
       "      <td>2021-01-01</td>\n",
       "      <td>1</td>\n",
       "      <td>6</td>\n",
       "      <td>0</td>\n",
       "      <td>199</td>\n",
       "    </tr>\n",
       "    <tr>\n",
       "      <th>1</th>\n",
       "      <td>1</td>\n",
       "      <td>Кира</td>\n",
       "      <td>22</td>\n",
       "      <td>Тюмень</td>\n",
       "      <td>ultra</td>\n",
       "      <td>2617.592153</td>\n",
       "      <td>15.816871</td>\n",
       "      <td>2021-01-18</td>\n",
       "      <td>1</td>\n",
       "      <td>6</td>\n",
       "      <td>0</td>\n",
       "      <td>199</td>\n",
       "    </tr>\n",
       "    <tr>\n",
       "      <th>2</th>\n",
       "      <td>1</td>\n",
       "      <td>Кира</td>\n",
       "      <td>22</td>\n",
       "      <td>Тюмень</td>\n",
       "      <td>ultra</td>\n",
       "      <td>754.159807</td>\n",
       "      <td>6.232113</td>\n",
       "      <td>2021-04-20</td>\n",
       "      <td>4</td>\n",
       "      <td>6</td>\n",
       "      <td>0</td>\n",
       "      <td>199</td>\n",
       "    </tr>\n",
       "    <tr>\n",
       "      <th>3</th>\n",
       "      <td>1</td>\n",
       "      <td>Кира</td>\n",
       "      <td>22</td>\n",
       "      <td>Тюмень</td>\n",
       "      <td>ultra</td>\n",
       "      <td>2694.783254</td>\n",
       "      <td>18.511000</td>\n",
       "      <td>2021-08-11</td>\n",
       "      <td>8</td>\n",
       "      <td>6</td>\n",
       "      <td>0</td>\n",
       "      <td>199</td>\n",
       "    </tr>\n",
       "    <tr>\n",
       "      <th>4</th>\n",
       "      <td>1</td>\n",
       "      <td>Кира</td>\n",
       "      <td>22</td>\n",
       "      <td>Тюмень</td>\n",
       "      <td>ultra</td>\n",
       "      <td>4028.687306</td>\n",
       "      <td>26.265803</td>\n",
       "      <td>2021-08-28</td>\n",
       "      <td>8</td>\n",
       "      <td>6</td>\n",
       "      <td>0</td>\n",
       "      <td>199</td>\n",
       "    </tr>\n",
       "    <tr>\n",
       "      <th>5</th>\n",
       "      <td>1</td>\n",
       "      <td>Кира</td>\n",
       "      <td>22</td>\n",
       "      <td>Тюмень</td>\n",
       "      <td>ultra</td>\n",
       "      <td>2770.890808</td>\n",
       "      <td>16.650138</td>\n",
       "      <td>2021-10-09</td>\n",
       "      <td>10</td>\n",
       "      <td>6</td>\n",
       "      <td>0</td>\n",
       "      <td>199</td>\n",
       "    </tr>\n",
       "    <tr>\n",
       "      <th>6</th>\n",
       "      <td>1</td>\n",
       "      <td>Кира</td>\n",
       "      <td>22</td>\n",
       "      <td>Тюмень</td>\n",
       "      <td>ultra</td>\n",
       "      <td>3039.020292</td>\n",
       "      <td>14.927879</td>\n",
       "      <td>2021-10-19</td>\n",
       "      <td>10</td>\n",
       "      <td>6</td>\n",
       "      <td>0</td>\n",
       "      <td>199</td>\n",
       "    </tr>\n",
       "    <tr>\n",
       "      <th>7</th>\n",
       "      <td>1</td>\n",
       "      <td>Кира</td>\n",
       "      <td>22</td>\n",
       "      <td>Тюмень</td>\n",
       "      <td>ultra</td>\n",
       "      <td>2842.118050</td>\n",
       "      <td>23.117468</td>\n",
       "      <td>2021-11-06</td>\n",
       "      <td>11</td>\n",
       "      <td>6</td>\n",
       "      <td>0</td>\n",
       "      <td>199</td>\n",
       "    </tr>\n",
       "    <tr>\n",
       "      <th>8</th>\n",
       "      <td>1</td>\n",
       "      <td>Кира</td>\n",
       "      <td>22</td>\n",
       "      <td>Тюмень</td>\n",
       "      <td>ultra</td>\n",
       "      <td>3412.690668</td>\n",
       "      <td>15.238072</td>\n",
       "      <td>2021-11-14</td>\n",
       "      <td>11</td>\n",
       "      <td>6</td>\n",
       "      <td>0</td>\n",
       "      <td>199</td>\n",
       "    </tr>\n",
       "    <tr>\n",
       "      <th>9</th>\n",
       "      <td>1</td>\n",
       "      <td>Кира</td>\n",
       "      <td>22</td>\n",
       "      <td>Тюмень</td>\n",
       "      <td>ultra</td>\n",
       "      <td>748.690645</td>\n",
       "      <td>15.041884</td>\n",
       "      <td>2021-11-22</td>\n",
       "      <td>11</td>\n",
       "      <td>6</td>\n",
       "      <td>0</td>\n",
       "      <td>199</td>\n",
       "    </tr>\n",
       "    <tr>\n",
       "      <th>10</th>\n",
       "      <td>1</td>\n",
       "      <td>Кира</td>\n",
       "      <td>22</td>\n",
       "      <td>Тюмень</td>\n",
       "      <td>ultra</td>\n",
       "      <td>4031.020195</td>\n",
       "      <td>17.674448</td>\n",
       "      <td>2021-12-14</td>\n",
       "      <td>12</td>\n",
       "      <td>6</td>\n",
       "      <td>0</td>\n",
       "      <td>199</td>\n",
       "    </tr>\n",
       "    <tr>\n",
       "      <th>11</th>\n",
       "      <td>1</td>\n",
       "      <td>Кира</td>\n",
       "      <td>22</td>\n",
       "      <td>Тюмень</td>\n",
       "      <td>ultra</td>\n",
       "      <td>2720.609748</td>\n",
       "      <td>9.529463</td>\n",
       "      <td>2021-12-22</td>\n",
       "      <td>12</td>\n",
       "      <td>6</td>\n",
       "      <td>0</td>\n",
       "      <td>199</td>\n",
       "    </tr>\n",
       "    <tr>\n",
       "      <th>12</th>\n",
       "      <td>2</td>\n",
       "      <td>Станислав</td>\n",
       "      <td>31</td>\n",
       "      <td>Омск</td>\n",
       "      <td>ultra</td>\n",
       "      <td>3105.086678</td>\n",
       "      <td>24.307514</td>\n",
       "      <td>2021-03-15</td>\n",
       "      <td>3</td>\n",
       "      <td>6</td>\n",
       "      <td>0</td>\n",
       "      <td>199</td>\n",
       "    </tr>\n",
       "    <tr>\n",
       "      <th>13</th>\n",
       "      <td>2</td>\n",
       "      <td>Станислав</td>\n",
       "      <td>31</td>\n",
       "      <td>Омск</td>\n",
       "      <td>ultra</td>\n",
       "      <td>3053.519401</td>\n",
       "      <td>11.543256</td>\n",
       "      <td>2021-03-18</td>\n",
       "      <td>3</td>\n",
       "      <td>6</td>\n",
       "      <td>0</td>\n",
       "      <td>199</td>\n",
       "    </tr>\n",
       "    <tr>\n",
       "      <th>14</th>\n",
       "      <td>2</td>\n",
       "      <td>Станислав</td>\n",
       "      <td>31</td>\n",
       "      <td>Омск</td>\n",
       "      <td>ultra</td>\n",
       "      <td>4029.116927</td>\n",
       "      <td>25.109188</td>\n",
       "      <td>2021-03-23</td>\n",
       "      <td>3</td>\n",
       "      <td>6</td>\n",
       "      <td>0</td>\n",
       "      <td>199</td>\n",
       "    </tr>\n",
       "    <tr>\n",
       "      <th>15</th>\n",
       "      <td>2</td>\n",
       "      <td>Станислав</td>\n",
       "      <td>31</td>\n",
       "      <td>Омск</td>\n",
       "      <td>ultra</td>\n",
       "      <td>2805.786329</td>\n",
       "      <td>20.652145</td>\n",
       "      <td>2021-04-08</td>\n",
       "      <td>4</td>\n",
       "      <td>6</td>\n",
       "      <td>0</td>\n",
       "      <td>199</td>\n",
       "    </tr>\n",
       "    <tr>\n",
       "      <th>16</th>\n",
       "      <td>2</td>\n",
       "      <td>Станислав</td>\n",
       "      <td>31</td>\n",
       "      <td>Омск</td>\n",
       "      <td>ultra</td>\n",
       "      <td>3358.595495</td>\n",
       "      <td>18.396489</td>\n",
       "      <td>2021-04-13</td>\n",
       "      <td>4</td>\n",
       "      <td>6</td>\n",
       "      <td>0</td>\n",
       "      <td>199</td>\n",
       "    </tr>\n",
       "    <tr>\n",
       "      <th>17</th>\n",
       "      <td>2</td>\n",
       "      <td>Станислав</td>\n",
       "      <td>31</td>\n",
       "      <td>Омск</td>\n",
       "      <td>ultra</td>\n",
       "      <td>3255.338202</td>\n",
       "      <td>13.851127</td>\n",
       "      <td>2021-06-20</td>\n",
       "      <td>6</td>\n",
       "      <td>6</td>\n",
       "      <td>0</td>\n",
       "      <td>199</td>\n",
       "    </tr>\n",
       "    <tr>\n",
       "      <th>18</th>\n",
       "      <td>2</td>\n",
       "      <td>Станислав</td>\n",
       "      <td>31</td>\n",
       "      <td>Омск</td>\n",
       "      <td>ultra</td>\n",
       "      <td>3942.817648</td>\n",
       "      <td>20.142725</td>\n",
       "      <td>2021-07-02</td>\n",
       "      <td>7</td>\n",
       "      <td>6</td>\n",
       "      <td>0</td>\n",
       "      <td>199</td>\n",
       "    </tr>\n",
       "    <tr>\n",
       "      <th>19</th>\n",
       "      <td>2</td>\n",
       "      <td>Станислав</td>\n",
       "      <td>31</td>\n",
       "      <td>Омск</td>\n",
       "      <td>ultra</td>\n",
       "      <td>2837.905316</td>\n",
       "      <td>26.027432</td>\n",
       "      <td>2021-07-18</td>\n",
       "      <td>7</td>\n",
       "      <td>6</td>\n",
       "      <td>0</td>\n",
       "      <td>199</td>\n",
       "    </tr>\n",
       "  </tbody>\n",
       "</table>\n",
       "</div>"
      ],
      "text/plain": [
       "    user_id       name  age    city subscription_type     distance   duration  \\\n",
       "0         1       Кира   22  Тюмень             ultra  4409.919140  25.599769   \n",
       "1         1       Кира   22  Тюмень             ultra  2617.592153  15.816871   \n",
       "2         1       Кира   22  Тюмень             ultra   754.159807   6.232113   \n",
       "3         1       Кира   22  Тюмень             ultra  2694.783254  18.511000   \n",
       "4         1       Кира   22  Тюмень             ultra  4028.687306  26.265803   \n",
       "5         1       Кира   22  Тюмень             ultra  2770.890808  16.650138   \n",
       "6         1       Кира   22  Тюмень             ultra  3039.020292  14.927879   \n",
       "7         1       Кира   22  Тюмень             ultra  2842.118050  23.117468   \n",
       "8         1       Кира   22  Тюмень             ultra  3412.690668  15.238072   \n",
       "9         1       Кира   22  Тюмень             ultra   748.690645  15.041884   \n",
       "10        1       Кира   22  Тюмень             ultra  4031.020195  17.674448   \n",
       "11        1       Кира   22  Тюмень             ultra  2720.609748   9.529463   \n",
       "12        2  Станислав   31    Омск             ultra  3105.086678  24.307514   \n",
       "13        2  Станислав   31    Омск             ultra  3053.519401  11.543256   \n",
       "14        2  Станислав   31    Омск             ultra  4029.116927  25.109188   \n",
       "15        2  Станислав   31    Омск             ultra  2805.786329  20.652145   \n",
       "16        2  Станислав   31    Омск             ultra  3358.595495  18.396489   \n",
       "17        2  Станислав   31    Омск             ultra  3255.338202  13.851127   \n",
       "18        2  Станислав   31    Омск             ultra  3942.817648  20.142725   \n",
       "19        2  Станислав   31    Омск             ultra  2837.905316  26.027432   \n",
       "\n",
       "         date  month  minute_price  start_ride_price  subscription_fee  \n",
       "0  2021-01-01      1             6                 0               199  \n",
       "1  2021-01-18      1             6                 0               199  \n",
       "2  2021-04-20      4             6                 0               199  \n",
       "3  2021-08-11      8             6                 0               199  \n",
       "4  2021-08-28      8             6                 0               199  \n",
       "5  2021-10-09     10             6                 0               199  \n",
       "6  2021-10-19     10             6                 0               199  \n",
       "7  2021-11-06     11             6                 0               199  \n",
       "8  2021-11-14     11             6                 0               199  \n",
       "9  2021-11-22     11             6                 0               199  \n",
       "10 2021-12-14     12             6                 0               199  \n",
       "11 2021-12-22     12             6                 0               199  \n",
       "12 2021-03-15      3             6                 0               199  \n",
       "13 2021-03-18      3             6                 0               199  \n",
       "14 2021-03-23      3             6                 0               199  \n",
       "15 2021-04-08      4             6                 0               199  \n",
       "16 2021-04-13      4             6                 0               199  \n",
       "17 2021-06-20      6             6                 0               199  \n",
       "18 2021-07-02      7             6                 0               199  \n",
       "19 2021-07-18      7             6                 0               199  "
      ]
     },
     "execution_count": 46,
     "metadata": {},
     "output_type": "execute_result"
    }
   ],
   "source": [
    "data1 = new_1.merge(subs, on = 'subscription_type', how = 'left') #создадим датасет еще раз\n",
    "data1 = data1[data1['subscription_type'] == 'ultra'] #оставляем в датасете только пользователей с подпиской\n",
    "w_subs = data1 #называем этот датасет\n",
    "w_subs.head(20)"
   ]
  },
  {
   "cell_type": "code",
   "execution_count": 47,
   "id": "442b6bd4",
   "metadata": {
    "scrolled": true
   },
   "outputs": [
    {
     "data": {
      "text/html": [
       "<div>\n",
       "<style scoped>\n",
       "    .dataframe tbody tr th:only-of-type {\n",
       "        vertical-align: middle;\n",
       "    }\n",
       "\n",
       "    .dataframe tbody tr th {\n",
       "        vertical-align: top;\n",
       "    }\n",
       "\n",
       "    .dataframe thead th {\n",
       "        text-align: right;\n",
       "    }\n",
       "</style>\n",
       "<table border=\"1\" class=\"dataframe\">\n",
       "  <thead>\n",
       "    <tr style=\"text-align: right;\">\n",
       "      <th></th>\n",
       "      <th>user_id</th>\n",
       "      <th>name</th>\n",
       "      <th>age</th>\n",
       "      <th>city</th>\n",
       "      <th>subscription_type</th>\n",
       "      <th>distance</th>\n",
       "      <th>duration</th>\n",
       "      <th>date</th>\n",
       "      <th>month</th>\n",
       "      <th>minute_price</th>\n",
       "      <th>start_ride_price</th>\n",
       "      <th>subscription_fee</th>\n",
       "    </tr>\n",
       "  </thead>\n",
       "  <tbody>\n",
       "    <tr>\n",
       "      <th>6500</th>\n",
       "      <td>700</td>\n",
       "      <td>Айдар</td>\n",
       "      <td>22</td>\n",
       "      <td>Омск</td>\n",
       "      <td>free</td>\n",
       "      <td>2515.690719</td>\n",
       "      <td>14.944286</td>\n",
       "      <td>2021-01-02</td>\n",
       "      <td>1</td>\n",
       "      <td>8</td>\n",
       "      <td>50</td>\n",
       "      <td>0</td>\n",
       "    </tr>\n",
       "    <tr>\n",
       "      <th>6501</th>\n",
       "      <td>700</td>\n",
       "      <td>Айдар</td>\n",
       "      <td>22</td>\n",
       "      <td>Омск</td>\n",
       "      <td>free</td>\n",
       "      <td>846.932642</td>\n",
       "      <td>16.234663</td>\n",
       "      <td>2021-02-01</td>\n",
       "      <td>2</td>\n",
       "      <td>8</td>\n",
       "      <td>50</td>\n",
       "      <td>0</td>\n",
       "    </tr>\n",
       "    <tr>\n",
       "      <th>6502</th>\n",
       "      <td>700</td>\n",
       "      <td>Айдар</td>\n",
       "      <td>22</td>\n",
       "      <td>Омск</td>\n",
       "      <td>free</td>\n",
       "      <td>4004.434142</td>\n",
       "      <td>20.016628</td>\n",
       "      <td>2021-02-04</td>\n",
       "      <td>2</td>\n",
       "      <td>8</td>\n",
       "      <td>50</td>\n",
       "      <td>0</td>\n",
       "    </tr>\n",
       "    <tr>\n",
       "      <th>6503</th>\n",
       "      <td>700</td>\n",
       "      <td>Айдар</td>\n",
       "      <td>22</td>\n",
       "      <td>Омск</td>\n",
       "      <td>free</td>\n",
       "      <td>1205.911290</td>\n",
       "      <td>9.782872</td>\n",
       "      <td>2021-02-10</td>\n",
       "      <td>2</td>\n",
       "      <td>8</td>\n",
       "      <td>50</td>\n",
       "      <td>0</td>\n",
       "    </tr>\n",
       "    <tr>\n",
       "      <th>6504</th>\n",
       "      <td>700</td>\n",
       "      <td>Айдар</td>\n",
       "      <td>22</td>\n",
       "      <td>Омск</td>\n",
       "      <td>free</td>\n",
       "      <td>3047.379435</td>\n",
       "      <td>17.427673</td>\n",
       "      <td>2021-02-14</td>\n",
       "      <td>2</td>\n",
       "      <td>8</td>\n",
       "      <td>50</td>\n",
       "      <td>0</td>\n",
       "    </tr>\n",
       "    <tr>\n",
       "      <th>6505</th>\n",
       "      <td>700</td>\n",
       "      <td>Айдар</td>\n",
       "      <td>22</td>\n",
       "      <td>Омск</td>\n",
       "      <td>free</td>\n",
       "      <td>4342.002254</td>\n",
       "      <td>22.368009</td>\n",
       "      <td>2021-02-23</td>\n",
       "      <td>2</td>\n",
       "      <td>8</td>\n",
       "      <td>50</td>\n",
       "      <td>0</td>\n",
       "    </tr>\n",
       "    <tr>\n",
       "      <th>6506</th>\n",
       "      <td>700</td>\n",
       "      <td>Айдар</td>\n",
       "      <td>22</td>\n",
       "      <td>Омск</td>\n",
       "      <td>free</td>\n",
       "      <td>3798.334905</td>\n",
       "      <td>18.243756</td>\n",
       "      <td>2021-03-03</td>\n",
       "      <td>3</td>\n",
       "      <td>8</td>\n",
       "      <td>50</td>\n",
       "      <td>0</td>\n",
       "    </tr>\n",
       "    <tr>\n",
       "      <th>6507</th>\n",
       "      <td>700</td>\n",
       "      <td>Айдар</td>\n",
       "      <td>22</td>\n",
       "      <td>Омск</td>\n",
       "      <td>free</td>\n",
       "      <td>2984.551206</td>\n",
       "      <td>15.424899</td>\n",
       "      <td>2021-04-09</td>\n",
       "      <td>4</td>\n",
       "      <td>8</td>\n",
       "      <td>50</td>\n",
       "      <td>0</td>\n",
       "    </tr>\n",
       "    <tr>\n",
       "      <th>6508</th>\n",
       "      <td>700</td>\n",
       "      <td>Айдар</td>\n",
       "      <td>22</td>\n",
       "      <td>Омск</td>\n",
       "      <td>free</td>\n",
       "      <td>3360.107141</td>\n",
       "      <td>16.765497</td>\n",
       "      <td>2021-06-12</td>\n",
       "      <td>6</td>\n",
       "      <td>8</td>\n",
       "      <td>50</td>\n",
       "      <td>0</td>\n",
       "    </tr>\n",
       "    <tr>\n",
       "      <th>6509</th>\n",
       "      <td>700</td>\n",
       "      <td>Айдар</td>\n",
       "      <td>22</td>\n",
       "      <td>Омск</td>\n",
       "      <td>free</td>\n",
       "      <td>2567.543847</td>\n",
       "      <td>11.312160</td>\n",
       "      <td>2021-06-23</td>\n",
       "      <td>6</td>\n",
       "      <td>8</td>\n",
       "      <td>50</td>\n",
       "      <td>0</td>\n",
       "    </tr>\n",
       "    <tr>\n",
       "      <th>6510</th>\n",
       "      <td>700</td>\n",
       "      <td>Айдар</td>\n",
       "      <td>22</td>\n",
       "      <td>Омск</td>\n",
       "      <td>free</td>\n",
       "      <td>4110.232038</td>\n",
       "      <td>15.807640</td>\n",
       "      <td>2021-07-08</td>\n",
       "      <td>7</td>\n",
       "      <td>8</td>\n",
       "      <td>50</td>\n",
       "      <td>0</td>\n",
       "    </tr>\n",
       "    <tr>\n",
       "      <th>6511</th>\n",
       "      <td>700</td>\n",
       "      <td>Айдар</td>\n",
       "      <td>22</td>\n",
       "      <td>Омск</td>\n",
       "      <td>free</td>\n",
       "      <td>288.974241</td>\n",
       "      <td>4.788112</td>\n",
       "      <td>2021-07-18</td>\n",
       "      <td>7</td>\n",
       "      <td>8</td>\n",
       "      <td>50</td>\n",
       "      <td>0</td>\n",
       "    </tr>\n",
       "    <tr>\n",
       "      <th>6512</th>\n",
       "      <td>700</td>\n",
       "      <td>Айдар</td>\n",
       "      <td>22</td>\n",
       "      <td>Омск</td>\n",
       "      <td>free</td>\n",
       "      <td>4071.654669</td>\n",
       "      <td>16.370546</td>\n",
       "      <td>2021-08-17</td>\n",
       "      <td>8</td>\n",
       "      <td>8</td>\n",
       "      <td>50</td>\n",
       "      <td>0</td>\n",
       "    </tr>\n",
       "    <tr>\n",
       "      <th>6513</th>\n",
       "      <td>700</td>\n",
       "      <td>Айдар</td>\n",
       "      <td>22</td>\n",
       "      <td>Омск</td>\n",
       "      <td>free</td>\n",
       "      <td>1920.188901</td>\n",
       "      <td>9.608453</td>\n",
       "      <td>2021-10-08</td>\n",
       "      <td>10</td>\n",
       "      <td>8</td>\n",
       "      <td>50</td>\n",
       "      <td>0</td>\n",
       "    </tr>\n",
       "    <tr>\n",
       "      <th>6514</th>\n",
       "      <td>700</td>\n",
       "      <td>Айдар</td>\n",
       "      <td>22</td>\n",
       "      <td>Омск</td>\n",
       "      <td>free</td>\n",
       "      <td>4402.389717</td>\n",
       "      <td>33.013035</td>\n",
       "      <td>2021-10-15</td>\n",
       "      <td>10</td>\n",
       "      <td>8</td>\n",
       "      <td>50</td>\n",
       "      <td>0</td>\n",
       "    </tr>\n",
       "    <tr>\n",
       "      <th>6515</th>\n",
       "      <td>700</td>\n",
       "      <td>Айдар</td>\n",
       "      <td>22</td>\n",
       "      <td>Омск</td>\n",
       "      <td>free</td>\n",
       "      <td>2409.555418</td>\n",
       "      <td>8.560513</td>\n",
       "      <td>2021-11-03</td>\n",
       "      <td>11</td>\n",
       "      <td>8</td>\n",
       "      <td>50</td>\n",
       "      <td>0</td>\n",
       "    </tr>\n",
       "    <tr>\n",
       "      <th>6516</th>\n",
       "      <td>700</td>\n",
       "      <td>Айдар</td>\n",
       "      <td>22</td>\n",
       "      <td>Омск</td>\n",
       "      <td>free</td>\n",
       "      <td>2639.817512</td>\n",
       "      <td>8.656752</td>\n",
       "      <td>2021-11-14</td>\n",
       "      <td>11</td>\n",
       "      <td>8</td>\n",
       "      <td>50</td>\n",
       "      <td>0</td>\n",
       "    </tr>\n",
       "    <tr>\n",
       "      <th>6517</th>\n",
       "      <td>700</td>\n",
       "      <td>Айдар</td>\n",
       "      <td>22</td>\n",
       "      <td>Омск</td>\n",
       "      <td>free</td>\n",
       "      <td>3686.409695</td>\n",
       "      <td>13.899449</td>\n",
       "      <td>2021-11-21</td>\n",
       "      <td>11</td>\n",
       "      <td>8</td>\n",
       "      <td>50</td>\n",
       "      <td>0</td>\n",
       "    </tr>\n",
       "    <tr>\n",
       "      <th>6518</th>\n",
       "      <td>701</td>\n",
       "      <td>Иван</td>\n",
       "      <td>31</td>\n",
       "      <td>Екатеринбург</td>\n",
       "      <td>free</td>\n",
       "      <td>2676.472894</td>\n",
       "      <td>17.470598</td>\n",
       "      <td>2021-01-23</td>\n",
       "      <td>1</td>\n",
       "      <td>8</td>\n",
       "      <td>50</td>\n",
       "      <td>0</td>\n",
       "    </tr>\n",
       "    <tr>\n",
       "      <th>6519</th>\n",
       "      <td>701</td>\n",
       "      <td>Иван</td>\n",
       "      <td>31</td>\n",
       "      <td>Екатеринбург</td>\n",
       "      <td>free</td>\n",
       "      <td>2743.677431</td>\n",
       "      <td>14.974710</td>\n",
       "      <td>2021-02-13</td>\n",
       "      <td>2</td>\n",
       "      <td>8</td>\n",
       "      <td>50</td>\n",
       "      <td>0</td>\n",
       "    </tr>\n",
       "  </tbody>\n",
       "</table>\n",
       "</div>"
      ],
      "text/plain": [
       "      user_id   name  age          city subscription_type     distance  \\\n",
       "6500      700  Айдар   22          Омск              free  2515.690719   \n",
       "6501      700  Айдар   22          Омск              free   846.932642   \n",
       "6502      700  Айдар   22          Омск              free  4004.434142   \n",
       "6503      700  Айдар   22          Омск              free  1205.911290   \n",
       "6504      700  Айдар   22          Омск              free  3047.379435   \n",
       "6505      700  Айдар   22          Омск              free  4342.002254   \n",
       "6506      700  Айдар   22          Омск              free  3798.334905   \n",
       "6507      700  Айдар   22          Омск              free  2984.551206   \n",
       "6508      700  Айдар   22          Омск              free  3360.107141   \n",
       "6509      700  Айдар   22          Омск              free  2567.543847   \n",
       "6510      700  Айдар   22          Омск              free  4110.232038   \n",
       "6511      700  Айдар   22          Омск              free   288.974241   \n",
       "6512      700  Айдар   22          Омск              free  4071.654669   \n",
       "6513      700  Айдар   22          Омск              free  1920.188901   \n",
       "6514      700  Айдар   22          Омск              free  4402.389717   \n",
       "6515      700  Айдар   22          Омск              free  2409.555418   \n",
       "6516      700  Айдар   22          Омск              free  2639.817512   \n",
       "6517      700  Айдар   22          Омск              free  3686.409695   \n",
       "6518      701   Иван   31  Екатеринбург              free  2676.472894   \n",
       "6519      701   Иван   31  Екатеринбург              free  2743.677431   \n",
       "\n",
       "       duration       date  month  minute_price  start_ride_price  \\\n",
       "6500  14.944286 2021-01-02      1             8                50   \n",
       "6501  16.234663 2021-02-01      2             8                50   \n",
       "6502  20.016628 2021-02-04      2             8                50   \n",
       "6503   9.782872 2021-02-10      2             8                50   \n",
       "6504  17.427673 2021-02-14      2             8                50   \n",
       "6505  22.368009 2021-02-23      2             8                50   \n",
       "6506  18.243756 2021-03-03      3             8                50   \n",
       "6507  15.424899 2021-04-09      4             8                50   \n",
       "6508  16.765497 2021-06-12      6             8                50   \n",
       "6509  11.312160 2021-06-23      6             8                50   \n",
       "6510  15.807640 2021-07-08      7             8                50   \n",
       "6511   4.788112 2021-07-18      7             8                50   \n",
       "6512  16.370546 2021-08-17      8             8                50   \n",
       "6513   9.608453 2021-10-08     10             8                50   \n",
       "6514  33.013035 2021-10-15     10             8                50   \n",
       "6515   8.560513 2021-11-03     11             8                50   \n",
       "6516   8.656752 2021-11-14     11             8                50   \n",
       "6517  13.899449 2021-11-21     11             8                50   \n",
       "6518  17.470598 2021-01-23      1             8                50   \n",
       "6519  14.974710 2021-02-13      2             8                50   \n",
       "\n",
       "      subscription_fee  \n",
       "6500                 0  \n",
       "6501                 0  \n",
       "6502                 0  \n",
       "6503                 0  \n",
       "6504                 0  \n",
       "6505                 0  \n",
       "6506                 0  \n",
       "6507                 0  \n",
       "6508                 0  \n",
       "6509                 0  \n",
       "6510                 0  \n",
       "6511                 0  \n",
       "6512                 0  \n",
       "6513                 0  \n",
       "6514                 0  \n",
       "6515                 0  \n",
       "6516                 0  \n",
       "6517                 0  \n",
       "6518                 0  \n",
       "6519                 0  "
      ]
     },
     "execution_count": 47,
     "metadata": {},
     "output_type": "execute_result"
    }
   ],
   "source": [
    "data2 = new_1.merge(subs, on = 'subscription_type', how = 'left') #создадим датасет еще раз\n",
    "data2 = data2[data2['subscription_type'] == 'free'] #оставляем в датасете только пользователей без подписки\n",
    "no_subs = data2 #называем этот датасет\n",
    "no_subs.head(20)"
   ]
  },
  {
   "cell_type": "markdown",
   "id": "86874837",
   "metadata": {},
   "source": [
    "<div class=\"alert alert-success\">\n",
    "<h2> Комментарий ревьюера v1 <a class=\"tocSkip\"> </h2>\n",
    "\n",
    "<b>Все супер!👍:</b> Отлично!"
   ]
  },
  {
   "cell_type": "markdown",
   "id": "ab1afbd3",
   "metadata": {},
   "source": [
    "**Теперь визуализируем данные о дистанции и длительности поездок с двумя категориями пользователей**"
   ]
  },
  {
   "cell_type": "code",
   "execution_count": 48,
   "id": "1a3b1f28",
   "metadata": {},
   "outputs": [
    {
     "data": {
      "image/png": "[encoded data removed]",
      "text/plain": [
       "<Figure size 432x288 with 1 Axes>"
      ]
     },
     "metadata": {
      "needs_background": "light"
     },
     "output_type": "display_data"
    }
   ],
   "source": [
    "w_subs.plot(kind='hist', #построим гистограмму для дистанции, пройденной пользователями с подпиской\n",
    "y='distance',\n",
    "histtype='bar',\n",
    "range=(0, 7000),\n",
    "bins=20,\n",
    "linewidth=12,\n",
    "alpha=0.5,\n",
    "label='Дистанция',\n",
    "title = 'Дистанция для пользователей с подпиской',\n",
    "grid=True,\n",
    "legend=True)\n",
    "plt.xlabel('Дистанция, м')\n",
    "plt.ylabel('Количество заездов');"
   ]
  },
  {
   "cell_type": "code",
   "execution_count": 50,
   "id": "e9f33c1c",
   "metadata": {},
   "outputs": [
    {
     "data": {
      "image/png": "[encoded data removed]",
      "text/plain": [
       "<Figure size 432x288 with 1 Axes>"
      ]
     },
     "metadata": {
      "needs_background": "light"
     },
     "output_type": "display_data"
    }
   ],
   "source": [
    "w_subs.plot(kind='hist', #построим гистограмму для длительности поездки пользователей с подпиской\n",
    "y='duration',\n",
    "histtype='bar',\n",
    "range=(0, 50),\n",
    "bins=20,\n",
    "linewidth=12,\n",
    "alpha=0.5,\n",
    "label='duration',\n",
    "title = 'Длительность для пользователей с подпиской',\n",
    "grid=True,\n",
    "legend=True)\n",
    "plt.xlabel('Длительность, мин')\n",
    "plt.ylabel('Количество заездов');"
   ]
  },
  {
   "cell_type": "code",
   "execution_count": 51,
   "id": "0d4b3695",
   "metadata": {},
   "outputs": [
    {
     "data": {
      "text/plain": [
       "count    6500.000000\n",
       "mean     3115.445388\n",
       "std       836.895330\n",
       "min       244.210438\n",
       "25%      2785.444017\n",
       "50%      3148.637229\n",
       "75%      3560.574425\n",
       "max      5699.769662\n",
       "Name: distance, dtype: float64"
      ]
     },
     "metadata": {},
     "output_type": "display_data"
    },
    {
     "data": {
      "text/plain": [
       "count    6500.000000\n",
       "mean       18.541985\n",
       "std         5.572048\n",
       "min         3.760353\n",
       "25%        14.524654\n",
       "50%        18.178153\n",
       "75%        21.884129\n",
       "max        40.823963\n",
       "Name: duration, dtype: float64"
      ]
     },
     "execution_count": 51,
     "metadata": {},
     "output_type": "execute_result"
    }
   ],
   "source": [
    "display(w_subs['distance'].describe()) #подтвердим действительность график через описание\n",
    "w_subs['duration'].describe()"
   ]
  },
  {
   "cell_type": "code",
   "execution_count": 36,
   "id": "2ea41cfc",
   "metadata": {},
   "outputs": [
    {
     "name": "stdout",
     "output_type": "stream",
     "text": [
      "Медианная дистанция для пользователей с подпиской: 3.1 км\n",
      "Медианная длительность для пользователей с подпиской: 18.2 минут\n",
      "Максимальная и минимальная дистанция для пользователей с подпиской: 5.7 км и 0.2 км\n",
      "Максимальная и минимальная длительность для пользователей с подпиской: 40.8 минут и 3.8 минут\n"
     ]
    }
   ],
   "source": [
    "print(\"Медианная дистанция для пользователей с подпиской:\", round(w_subs['distance'].median()/1000, 1), \"км\")\n",
    "print(\"Медианная длительность для пользователей с подпиской:\", round(w_subs['duration'].median(), 1), \"минут\")\n",
    "print(\"Максимальная и минимальная дистанция для пользователей с подпиской:\", round(w_subs['distance'].max()/1000, 1), \"км\", \"и\", round(w_subs['distance'].min()/1000, 1), \"км\")\n",
    "print(\"Максимальная и минимальная длительность для пользователей с подпиской:\", round(w_subs['duration'].max(), 1), \"минут\", \"и\",round(w_subs['duration'].min(), 1), \"минут\")"
   ]
  },
  {
   "cell_type": "code",
   "execution_count": 52,
   "id": "61ba50be",
   "metadata": {},
   "outputs": [
    {
     "data": {
      "image/png": "[encoded data removed]",
      "text/plain": [
       "<Figure size 432x288 with 1 Axes>"
      ]
     },
     "metadata": {
      "needs_background": "light"
     },
     "output_type": "display_data"
    }
   ],
   "source": [
    "no_subs.plot(kind='hist', #построим гистограмму для дистанции, пройденной пользователями без подписки\n",
    "y='distance',\n",
    "histtype='bar',\n",
    "range=(0, 7000),\n",
    "bins=20,\n",
    "linewidth=12,\n",
    "alpha=0.5,\n",
    "label='distance',\n",
    "title = 'Дистанция для пользователей без подписки',\n",
    "grid=True,\n",
    "legend=True)\n",
    "plt.xlabel('Дистанция, м')\n",
    "plt.ylabel('Количество заездов');"
   ]
  },
  {
   "cell_type": "code",
   "execution_count": 53,
   "id": "f67eab66",
   "metadata": {},
   "outputs": [
    {
     "data": {
      "image/png": "[encoded data removed]",
      "text/plain": [
       "<Figure size 432x288 with 1 Axes>"
      ]
     },
     "metadata": {
      "needs_background": "light"
     },
     "output_type": "display_data"
    }
   ],
   "source": [
    "no_subs.plot(kind='hist', #построим гистограмму для длительности поездки пользователей без подписки\n",
    "y='duration',\n",
    "histtype='bar',\n",
    "range=(0, 50),\n",
    "bins=20,\n",
    "linewidth=12,\n",
    "alpha=0.5,\n",
    "label='duration',\n",
    "title = 'Длительность для пользователей без подписки',\n",
    "grid=True,\n",
    "legend=True)\n",
    "plt.xlabel('Длительность, мин')\n",
    "plt.ylabel('Количество заездов');"
   ]
  },
  {
   "cell_type": "code",
   "execution_count": 39,
   "id": "4f483e9a",
   "metadata": {},
   "outputs": [
    {
     "data": {
      "text/plain": [
       "count    11568.000000\n",
       "mean      3045.495282\n",
       "std       1246.173806\n",
       "min          0.855683\n",
       "25%       2366.562689\n",
       "50%       3114.648465\n",
       "75%       3905.697894\n",
       "max       7211.007745\n",
       "Name: distance, dtype: float64"
      ]
     },
     "metadata": {},
     "output_type": "display_data"
    },
    {
     "data": {
      "text/plain": [
       "count    11568.000000\n",
       "mean        17.390909\n",
       "std          6.326803\n",
       "min          0.500000\n",
       "25%         12.958437\n",
       "50%         17.326890\n",
       "75%         21.594071\n",
       "max         34.948498\n",
       "Name: duration, dtype: float64"
      ]
     },
     "execution_count": 39,
     "metadata": {},
     "output_type": "execute_result"
    }
   ],
   "source": [
    "display(no_subs['distance'].describe()) #подтвердим действительность график через описание\n",
    "no_subs['duration'].describe()"
   ]
  },
  {
   "cell_type": "code",
   "execution_count": 40,
   "id": "36265460",
   "metadata": {},
   "outputs": [
    {
     "name": "stdout",
     "output_type": "stream",
     "text": [
      "Медианная дистанция для пользователей без подписки: 3.1 км\n",
      "Медианная длительность для пользователей без подписки: 17.3 минут\n",
      "Максимальная и минимальная дистанция для пользователей без подписки: 7.2 км и 0.0009 км\n",
      "Максимальная и минимальная длительность для пользователей без подписки: 34.9 минут и 0.5 минут\n"
     ]
    }
   ],
   "source": [
    "print(\"Медианная дистанция для пользователей без подписки:\", round(no_subs['distance'].median()/1000, 1), \"км\")\n",
    "print(\"Медианная длительность для пользователей без подписки:\", round(no_subs['duration'].median(), 1), \"минут\")\n",
    "print(\"Максимальная и минимальная дистанция для пользователей без подписки:\", round(no_subs['distance'].max()/1000, 1), \"км\", \"и\", round(no_subs['distance'].min()/1000, 4), \"км\")\n",
    "print(\"Максимальная и минимальная длительность для пользователей без подписки:\", round(no_subs['duration'].max(), 1), \"минут\", \"и\",round(no_subs['duration'].min(), 1), \"минут\")"
   ]
  },
  {
   "cell_type": "markdown",
   "id": "50f18b77",
   "metadata": {},
   "source": [
    "Медианная дистанция для обеих групп пользователей одинакова - 3,1 км. Но медианная длительность больше в группе с подпиской (но незначительно - менее минуты)."
   ]
  },
  {
   "cell_type": "markdown",
   "id": "b617d5b9",
   "metadata": {},
   "source": [
    "<div class=\"alert alert-warning\">\n",
    "    <h2> Комментарий ревьюера v1 <a class=\"tocSkip\"> </h2>\n",
    "    \n",
    "<b>Небольшие замечания и рекомендации💡:</b> Тут замечательно, только советую для наглядности совместить графики) На одном полотне рассмотерть расстояние с подпиской и без, а на втором полотне продолжительность с подпиской и без) "
   ]
  },
  {
   "cell_type": "markdown",
   "id": "50e9642b",
   "metadata": {},
   "source": [
    "<div class=\"alert alert-block alert-danger\">\n",
    "<h2> Комментарий ревьюера v1 <a class=\"tocSkip\"></h2>\n",
    "\n",
    "<b>На доработку🤔:</b>  И доработаем оформление графиков\n",
    "    "
   ]
  },
  {
   "cell_type": "markdown",
   "id": "fb93c421",
   "metadata": {},
   "source": [
    "<div class=\"alert alert-info\">\n",
    "<b>Done</b> "
   ]
  },
  {
   "cell_type": "markdown",
   "id": "d996e53c",
   "metadata": {},
   "source": [
    "<div class=\"alert alert-block alert-danger\">\n",
    "<h2> Комментарий ревьюера v2 <a class=\"tocSkip\"></h2>\n",
    "   \n",
    "<b>На доработку🤔:</b> А можем ось У подписать на русском языке?)"
   ]
  },
  {
   "cell_type": "markdown",
   "id": "d73d828a",
   "metadata": {},
   "source": [
    "<div class=\"alert alert-info\">\n",
    "<b>done </b> "
   ]
  },
  {
   "cell_type": "markdown",
   "id": "c73c55ed",
   "metadata": {},
   "source": [
    "<div class=\"alert alert-success\">\n",
    "<h2> Комментарий ревьюера v3 <a class=\"tocSkip\"> </h2>\n",
    "\n",
    "<b>Все супер!👍:</b> У-уровень"
   ]
  },
  {
   "cell_type": "markdown",
   "id": "402d620f",
   "metadata": {},
   "source": [
    "#### Шаг 5. Подсчёт выручки"
   ]
  },
  {
   "cell_type": "markdown",
   "id": "82382351",
   "metadata": {},
   "source": [
    "**Создание нового датафрейма**"
   ]
  },
  {
   "cell_type": "code",
   "execution_count": 41,
   "id": "b34c11c2",
   "metadata": {},
   "outputs": [
    {
     "data": {
      "text/html": [
       "<div>\n",
       "<style scoped>\n",
       "    .dataframe tbody tr th:only-of-type {\n",
       "        vertical-align: middle;\n",
       "    }\n",
       "\n",
       "    .dataframe tbody tr th {\n",
       "        vertical-align: top;\n",
       "    }\n",
       "\n",
       "    .dataframe thead th {\n",
       "        text-align: right;\n",
       "    }\n",
       "</style>\n",
       "<table border=\"1\" class=\"dataframe\">\n",
       "  <thead>\n",
       "    <tr style=\"text-align: right;\">\n",
       "      <th></th>\n",
       "      <th>user_id</th>\n",
       "      <th>name</th>\n",
       "      <th>month</th>\n",
       "      <th>subscription_type</th>\n",
       "      <th>minute_price</th>\n",
       "      <th>start_ride_price</th>\n",
       "      <th>subscription_fee</th>\n",
       "      <th>q_rides</th>\n",
       "    </tr>\n",
       "  </thead>\n",
       "  <tbody>\n",
       "    <tr>\n",
       "      <th>0</th>\n",
       "      <td>1</td>\n",
       "      <td>Кира</td>\n",
       "      <td>1</td>\n",
       "      <td>ultra</td>\n",
       "      <td>6</td>\n",
       "      <td>0</td>\n",
       "      <td>199</td>\n",
       "      <td>2</td>\n",
       "    </tr>\n",
       "    <tr>\n",
       "      <th>1</th>\n",
       "      <td>1</td>\n",
       "      <td>Кира</td>\n",
       "      <td>4</td>\n",
       "      <td>ultra</td>\n",
       "      <td>6</td>\n",
       "      <td>0</td>\n",
       "      <td>199</td>\n",
       "      <td>1</td>\n",
       "    </tr>\n",
       "    <tr>\n",
       "      <th>2</th>\n",
       "      <td>1</td>\n",
       "      <td>Кира</td>\n",
       "      <td>8</td>\n",
       "      <td>ultra</td>\n",
       "      <td>6</td>\n",
       "      <td>0</td>\n",
       "      <td>199</td>\n",
       "      <td>2</td>\n",
       "    </tr>\n",
       "    <tr>\n",
       "      <th>3</th>\n",
       "      <td>1</td>\n",
       "      <td>Кира</td>\n",
       "      <td>10</td>\n",
       "      <td>ultra</td>\n",
       "      <td>6</td>\n",
       "      <td>0</td>\n",
       "      <td>199</td>\n",
       "      <td>2</td>\n",
       "    </tr>\n",
       "    <tr>\n",
       "      <th>4</th>\n",
       "      <td>1</td>\n",
       "      <td>Кира</td>\n",
       "      <td>11</td>\n",
       "      <td>ultra</td>\n",
       "      <td>6</td>\n",
       "      <td>0</td>\n",
       "      <td>199</td>\n",
       "      <td>3</td>\n",
       "    </tr>\n",
       "    <tr>\n",
       "      <th>5</th>\n",
       "      <td>1</td>\n",
       "      <td>Кира</td>\n",
       "      <td>12</td>\n",
       "      <td>ultra</td>\n",
       "      <td>6</td>\n",
       "      <td>0</td>\n",
       "      <td>199</td>\n",
       "      <td>2</td>\n",
       "    </tr>\n",
       "    <tr>\n",
       "      <th>6</th>\n",
       "      <td>2</td>\n",
       "      <td>Станислав</td>\n",
       "      <td>3</td>\n",
       "      <td>ultra</td>\n",
       "      <td>6</td>\n",
       "      <td>0</td>\n",
       "      <td>199</td>\n",
       "      <td>3</td>\n",
       "    </tr>\n",
       "    <tr>\n",
       "      <th>7</th>\n",
       "      <td>2</td>\n",
       "      <td>Станислав</td>\n",
       "      <td>4</td>\n",
       "      <td>ultra</td>\n",
       "      <td>6</td>\n",
       "      <td>0</td>\n",
       "      <td>199</td>\n",
       "      <td>2</td>\n",
       "    </tr>\n",
       "    <tr>\n",
       "      <th>8</th>\n",
       "      <td>2</td>\n",
       "      <td>Станислав</td>\n",
       "      <td>6</td>\n",
       "      <td>ultra</td>\n",
       "      <td>6</td>\n",
       "      <td>0</td>\n",
       "      <td>199</td>\n",
       "      <td>1</td>\n",
       "    </tr>\n",
       "    <tr>\n",
       "      <th>9</th>\n",
       "      <td>2</td>\n",
       "      <td>Станислав</td>\n",
       "      <td>7</td>\n",
       "      <td>ultra</td>\n",
       "      <td>6</td>\n",
       "      <td>0</td>\n",
       "      <td>199</td>\n",
       "      <td>2</td>\n",
       "    </tr>\n",
       "  </tbody>\n",
       "</table>\n",
       "</div>"
      ],
      "text/plain": [
       "   user_id       name  month subscription_type  minute_price  \\\n",
       "0        1       Кира      1             ultra             6   \n",
       "1        1       Кира      4             ultra             6   \n",
       "2        1       Кира      8             ultra             6   \n",
       "3        1       Кира     10             ultra             6   \n",
       "4        1       Кира     11             ultra             6   \n",
       "5        1       Кира     12             ultra             6   \n",
       "6        2  Станислав      3             ultra             6   \n",
       "7        2  Станислав      4             ultra             6   \n",
       "8        2  Станислав      6             ultra             6   \n",
       "9        2  Станислав      7             ultra             6   \n",
       "\n",
       "   start_ride_price  subscription_fee  q_rides  \n",
       "0                 0               199        2  \n",
       "1                 0               199        1  \n",
       "2                 0               199        2  \n",
       "3                 0               199        2  \n",
       "4                 0               199        3  \n",
       "5                 0               199        2  \n",
       "6                 0               199        3  \n",
       "7                 0               199        2  \n",
       "8                 0               199        1  \n",
       "9                 0               199        2  "
      ]
     },
     "execution_count": 41,
     "metadata": {},
     "output_type": "execute_result"
    }
   ],
   "source": [
    "new_rides = data.groupby(['user_id', 'name', 'month', 'subscription_type', 'minute_price','start_ride_price', 'subscription_fee'])\\\n",
    "                        .agg({'distance':'count'})\\\n",
    "                        .reset_index()\\\n",
    "                        .rename(columns={'distance':'q_rides'})\n",
    "new_rides.head(10) #найдем кол-во поездок для каждого пользователя"
   ]
  },
  {
   "cell_type": "code",
   "execution_count": 42,
   "id": "b0b68ce8",
   "metadata": {},
   "outputs": [
    {
     "data": {
      "text/html": [
       "<div>\n",
       "<style scoped>\n",
       "    .dataframe tbody tr th:only-of-type {\n",
       "        vertical-align: middle;\n",
       "    }\n",
       "\n",
       "    .dataframe tbody tr th {\n",
       "        vertical-align: top;\n",
       "    }\n",
       "\n",
       "    .dataframe thead th {\n",
       "        text-align: right;\n",
       "    }\n",
       "</style>\n",
       "<table border=\"1\" class=\"dataframe\">\n",
       "  <thead>\n",
       "    <tr style=\"text-align: right;\">\n",
       "      <th></th>\n",
       "      <th>user_id</th>\n",
       "      <th>name</th>\n",
       "      <th>month</th>\n",
       "      <th>subscription_type</th>\n",
       "      <th>minute_price</th>\n",
       "      <th>start_ride_price</th>\n",
       "      <th>subscription_fee</th>\n",
       "      <th>distance_sum</th>\n",
       "    </tr>\n",
       "  </thead>\n",
       "  <tbody>\n",
       "    <tr>\n",
       "      <th>0</th>\n",
       "      <td>1</td>\n",
       "      <td>Кира</td>\n",
       "      <td>1</td>\n",
       "      <td>ultra</td>\n",
       "      <td>6</td>\n",
       "      <td>0</td>\n",
       "      <td>199</td>\n",
       "      <td>7027.511294</td>\n",
       "    </tr>\n",
       "    <tr>\n",
       "      <th>1</th>\n",
       "      <td>1</td>\n",
       "      <td>Кира</td>\n",
       "      <td>4</td>\n",
       "      <td>ultra</td>\n",
       "      <td>6</td>\n",
       "      <td>0</td>\n",
       "      <td>199</td>\n",
       "      <td>754.159807</td>\n",
       "    </tr>\n",
       "    <tr>\n",
       "      <th>2</th>\n",
       "      <td>1</td>\n",
       "      <td>Кира</td>\n",
       "      <td>8</td>\n",
       "      <td>ultra</td>\n",
       "      <td>6</td>\n",
       "      <td>0</td>\n",
       "      <td>199</td>\n",
       "      <td>6723.470560</td>\n",
       "    </tr>\n",
       "    <tr>\n",
       "      <th>3</th>\n",
       "      <td>1</td>\n",
       "      <td>Кира</td>\n",
       "      <td>10</td>\n",
       "      <td>ultra</td>\n",
       "      <td>6</td>\n",
       "      <td>0</td>\n",
       "      <td>199</td>\n",
       "      <td>5809.911100</td>\n",
       "    </tr>\n",
       "    <tr>\n",
       "      <th>4</th>\n",
       "      <td>1</td>\n",
       "      <td>Кира</td>\n",
       "      <td>11</td>\n",
       "      <td>ultra</td>\n",
       "      <td>6</td>\n",
       "      <td>0</td>\n",
       "      <td>199</td>\n",
       "      <td>7003.499363</td>\n",
       "    </tr>\n",
       "    <tr>\n",
       "      <th>5</th>\n",
       "      <td>1</td>\n",
       "      <td>Кира</td>\n",
       "      <td>12</td>\n",
       "      <td>ultra</td>\n",
       "      <td>6</td>\n",
       "      <td>0</td>\n",
       "      <td>199</td>\n",
       "      <td>6751.629942</td>\n",
       "    </tr>\n",
       "    <tr>\n",
       "      <th>6</th>\n",
       "      <td>2</td>\n",
       "      <td>Станислав</td>\n",
       "      <td>3</td>\n",
       "      <td>ultra</td>\n",
       "      <td>6</td>\n",
       "      <td>0</td>\n",
       "      <td>199</td>\n",
       "      <td>10187.723006</td>\n",
       "    </tr>\n",
       "    <tr>\n",
       "      <th>7</th>\n",
       "      <td>2</td>\n",
       "      <td>Станислав</td>\n",
       "      <td>4</td>\n",
       "      <td>ultra</td>\n",
       "      <td>6</td>\n",
       "      <td>0</td>\n",
       "      <td>199</td>\n",
       "      <td>6164.381824</td>\n",
       "    </tr>\n",
       "    <tr>\n",
       "      <th>8</th>\n",
       "      <td>2</td>\n",
       "      <td>Станислав</td>\n",
       "      <td>6</td>\n",
       "      <td>ultra</td>\n",
       "      <td>6</td>\n",
       "      <td>0</td>\n",
       "      <td>199</td>\n",
       "      <td>3255.338202</td>\n",
       "    </tr>\n",
       "    <tr>\n",
       "      <th>9</th>\n",
       "      <td>2</td>\n",
       "      <td>Станислав</td>\n",
       "      <td>7</td>\n",
       "      <td>ultra</td>\n",
       "      <td>6</td>\n",
       "      <td>0</td>\n",
       "      <td>199</td>\n",
       "      <td>6780.722964</td>\n",
       "    </tr>\n",
       "  </tbody>\n",
       "</table>\n",
       "</div>"
      ],
      "text/plain": [
       "   user_id       name  month subscription_type  minute_price  \\\n",
       "0        1       Кира      1             ultra             6   \n",
       "1        1       Кира      4             ultra             6   \n",
       "2        1       Кира      8             ultra             6   \n",
       "3        1       Кира     10             ultra             6   \n",
       "4        1       Кира     11             ultra             6   \n",
       "5        1       Кира     12             ultra             6   \n",
       "6        2  Станислав      3             ultra             6   \n",
       "7        2  Станислав      4             ultra             6   \n",
       "8        2  Станислав      6             ultra             6   \n",
       "9        2  Станислав      7             ultra             6   \n",
       "\n",
       "   start_ride_price  subscription_fee  distance_sum  \n",
       "0                 0               199   7027.511294  \n",
       "1                 0               199    754.159807  \n",
       "2                 0               199   6723.470560  \n",
       "3                 0               199   5809.911100  \n",
       "4                 0               199   7003.499363  \n",
       "5                 0               199   6751.629942  \n",
       "6                 0               199  10187.723006  \n",
       "7                 0               199   6164.381824  \n",
       "8                 0               199   3255.338202  \n",
       "9                 0               199   6780.722964  "
      ]
     },
     "execution_count": 42,
     "metadata": {},
     "output_type": "execute_result"
    }
   ],
   "source": [
    "distance_sum = data.groupby(['user_id', 'name', 'month', 'subscription_type','minute_price','start_ride_price', 'subscription_fee'])\\\n",
    "                        .agg({'distance':'sum'})\\\n",
    "                        .reset_index()\\\n",
    "                        .rename(columns={'distance':'distance_sum'})\n",
    "distance_sum.head(10) #найдем общую дистанцию для каждого пользователя"
   ]
  },
  {
   "cell_type": "code",
   "execution_count": 43,
   "id": "f22995e9",
   "metadata": {},
   "outputs": [
    {
     "data": {
      "text/html": [
       "<div>\n",
       "<style scoped>\n",
       "    .dataframe tbody tr th:only-of-type {\n",
       "        vertical-align: middle;\n",
       "    }\n",
       "\n",
       "    .dataframe tbody tr th {\n",
       "        vertical-align: top;\n",
       "    }\n",
       "\n",
       "    .dataframe thead th {\n",
       "        text-align: right;\n",
       "    }\n",
       "</style>\n",
       "<table border=\"1\" class=\"dataframe\">\n",
       "  <thead>\n",
       "    <tr style=\"text-align: right;\">\n",
       "      <th></th>\n",
       "      <th>user_id</th>\n",
       "      <th>name</th>\n",
       "      <th>month</th>\n",
       "      <th>subscription_type</th>\n",
       "      <th>minute_price</th>\n",
       "      <th>start_ride_price</th>\n",
       "      <th>subscription_fee</th>\n",
       "      <th>duration_sum</th>\n",
       "    </tr>\n",
       "  </thead>\n",
       "  <tbody>\n",
       "    <tr>\n",
       "      <th>0</th>\n",
       "      <td>1</td>\n",
       "      <td>Кира</td>\n",
       "      <td>1</td>\n",
       "      <td>ultra</td>\n",
       "      <td>6</td>\n",
       "      <td>0</td>\n",
       "      <td>199</td>\n",
       "      <td>41.416640</td>\n",
       "    </tr>\n",
       "    <tr>\n",
       "      <th>1</th>\n",
       "      <td>1</td>\n",
       "      <td>Кира</td>\n",
       "      <td>4</td>\n",
       "      <td>ultra</td>\n",
       "      <td>6</td>\n",
       "      <td>0</td>\n",
       "      <td>199</td>\n",
       "      <td>6.232113</td>\n",
       "    </tr>\n",
       "    <tr>\n",
       "      <th>2</th>\n",
       "      <td>1</td>\n",
       "      <td>Кира</td>\n",
       "      <td>8</td>\n",
       "      <td>ultra</td>\n",
       "      <td>6</td>\n",
       "      <td>0</td>\n",
       "      <td>199</td>\n",
       "      <td>44.776802</td>\n",
       "    </tr>\n",
       "    <tr>\n",
       "      <th>3</th>\n",
       "      <td>1</td>\n",
       "      <td>Кира</td>\n",
       "      <td>10</td>\n",
       "      <td>ultra</td>\n",
       "      <td>6</td>\n",
       "      <td>0</td>\n",
       "      <td>199</td>\n",
       "      <td>31.578017</td>\n",
       "    </tr>\n",
       "    <tr>\n",
       "      <th>4</th>\n",
       "      <td>1</td>\n",
       "      <td>Кира</td>\n",
       "      <td>11</td>\n",
       "      <td>ultra</td>\n",
       "      <td>6</td>\n",
       "      <td>0</td>\n",
       "      <td>199</td>\n",
       "      <td>53.397424</td>\n",
       "    </tr>\n",
       "    <tr>\n",
       "      <th>5</th>\n",
       "      <td>1</td>\n",
       "      <td>Кира</td>\n",
       "      <td>12</td>\n",
       "      <td>ultra</td>\n",
       "      <td>6</td>\n",
       "      <td>0</td>\n",
       "      <td>199</td>\n",
       "      <td>27.203912</td>\n",
       "    </tr>\n",
       "    <tr>\n",
       "      <th>6</th>\n",
       "      <td>2</td>\n",
       "      <td>Станислав</td>\n",
       "      <td>3</td>\n",
       "      <td>ultra</td>\n",
       "      <td>6</td>\n",
       "      <td>0</td>\n",
       "      <td>199</td>\n",
       "      <td>60.959959</td>\n",
       "    </tr>\n",
       "    <tr>\n",
       "      <th>7</th>\n",
       "      <td>2</td>\n",
       "      <td>Станислав</td>\n",
       "      <td>4</td>\n",
       "      <td>ultra</td>\n",
       "      <td>6</td>\n",
       "      <td>0</td>\n",
       "      <td>199</td>\n",
       "      <td>39.048633</td>\n",
       "    </tr>\n",
       "    <tr>\n",
       "      <th>8</th>\n",
       "      <td>2</td>\n",
       "      <td>Станислав</td>\n",
       "      <td>6</td>\n",
       "      <td>ultra</td>\n",
       "      <td>6</td>\n",
       "      <td>0</td>\n",
       "      <td>199</td>\n",
       "      <td>13.851127</td>\n",
       "    </tr>\n",
       "    <tr>\n",
       "      <th>9</th>\n",
       "      <td>2</td>\n",
       "      <td>Станислав</td>\n",
       "      <td>7</td>\n",
       "      <td>ultra</td>\n",
       "      <td>6</td>\n",
       "      <td>0</td>\n",
       "      <td>199</td>\n",
       "      <td>46.170157</td>\n",
       "    </tr>\n",
       "  </tbody>\n",
       "</table>\n",
       "</div>"
      ],
      "text/plain": [
       "   user_id       name  month subscription_type  minute_price  \\\n",
       "0        1       Кира      1             ultra             6   \n",
       "1        1       Кира      4             ultra             6   \n",
       "2        1       Кира      8             ultra             6   \n",
       "3        1       Кира     10             ultra             6   \n",
       "4        1       Кира     11             ultra             6   \n",
       "5        1       Кира     12             ultra             6   \n",
       "6        2  Станислав      3             ultra             6   \n",
       "7        2  Станислав      4             ultra             6   \n",
       "8        2  Станислав      6             ultra             6   \n",
       "9        2  Станислав      7             ultra             6   \n",
       "\n",
       "   start_ride_price  subscription_fee  duration_sum  \n",
       "0                 0               199     41.416640  \n",
       "1                 0               199      6.232113  \n",
       "2                 0               199     44.776802  \n",
       "3                 0               199     31.578017  \n",
       "4                 0               199     53.397424  \n",
       "5                 0               199     27.203912  \n",
       "6                 0               199     60.959959  \n",
       "7                 0               199     39.048633  \n",
       "8                 0               199     13.851127  \n",
       "9                 0               199     46.170157  "
      ]
     },
     "execution_count": 43,
     "metadata": {},
     "output_type": "execute_result"
    }
   ],
   "source": [
    "duration_sum = data.groupby(['user_id', 'name', 'month', 'subscription_type','minute_price','start_ride_price', 'subscription_fee'])\\\n",
    "                        .agg({'duration':'sum'})\\\n",
    "                        .reset_index()\\\n",
    "                        .rename(columns={'duration':'duration_sum'})\n",
    "duration_sum.head(10) #найдем общую длительность для каждого пользователя"
   ]
  },
  {
   "cell_type": "code",
   "execution_count": 44,
   "id": "7dddcf25",
   "metadata": {},
   "outputs": [
    {
     "data": {
      "text/html": [
       "<div>\n",
       "<style scoped>\n",
       "    .dataframe tbody tr th:only-of-type {\n",
       "        vertical-align: middle;\n",
       "    }\n",
       "\n",
       "    .dataframe tbody tr th {\n",
       "        vertical-align: top;\n",
       "    }\n",
       "\n",
       "    .dataframe thead th {\n",
       "        text-align: right;\n",
       "    }\n",
       "</style>\n",
       "<table border=\"1\" class=\"dataframe\">\n",
       "  <thead>\n",
       "    <tr style=\"text-align: right;\">\n",
       "      <th></th>\n",
       "      <th>user_id</th>\n",
       "      <th>name</th>\n",
       "      <th>month</th>\n",
       "      <th>subscription_type</th>\n",
       "      <th>minute_price</th>\n",
       "      <th>start_ride_price</th>\n",
       "      <th>subscription_fee</th>\n",
       "      <th>q_rides</th>\n",
       "      <th>distance_sum</th>\n",
       "    </tr>\n",
       "  </thead>\n",
       "  <tbody>\n",
       "    <tr>\n",
       "      <th>0</th>\n",
       "      <td>1</td>\n",
       "      <td>Кира</td>\n",
       "      <td>1</td>\n",
       "      <td>ultra</td>\n",
       "      <td>6</td>\n",
       "      <td>0</td>\n",
       "      <td>199</td>\n",
       "      <td>2</td>\n",
       "      <td>7027.511294</td>\n",
       "    </tr>\n",
       "    <tr>\n",
       "      <th>1</th>\n",
       "      <td>1</td>\n",
       "      <td>Кира</td>\n",
       "      <td>4</td>\n",
       "      <td>ultra</td>\n",
       "      <td>6</td>\n",
       "      <td>0</td>\n",
       "      <td>199</td>\n",
       "      <td>1</td>\n",
       "      <td>754.159807</td>\n",
       "    </tr>\n",
       "    <tr>\n",
       "      <th>2</th>\n",
       "      <td>1</td>\n",
       "      <td>Кира</td>\n",
       "      <td>8</td>\n",
       "      <td>ultra</td>\n",
       "      <td>6</td>\n",
       "      <td>0</td>\n",
       "      <td>199</td>\n",
       "      <td>2</td>\n",
       "      <td>6723.470560</td>\n",
       "    </tr>\n",
       "    <tr>\n",
       "      <th>3</th>\n",
       "      <td>1</td>\n",
       "      <td>Кира</td>\n",
       "      <td>10</td>\n",
       "      <td>ultra</td>\n",
       "      <td>6</td>\n",
       "      <td>0</td>\n",
       "      <td>199</td>\n",
       "      <td>2</td>\n",
       "      <td>5809.911100</td>\n",
       "    </tr>\n",
       "    <tr>\n",
       "      <th>4</th>\n",
       "      <td>1</td>\n",
       "      <td>Кира</td>\n",
       "      <td>11</td>\n",
       "      <td>ultra</td>\n",
       "      <td>6</td>\n",
       "      <td>0</td>\n",
       "      <td>199</td>\n",
       "      <td>3</td>\n",
       "      <td>7003.499363</td>\n",
       "    </tr>\n",
       "    <tr>\n",
       "      <th>5</th>\n",
       "      <td>1</td>\n",
       "      <td>Кира</td>\n",
       "      <td>12</td>\n",
       "      <td>ultra</td>\n",
       "      <td>6</td>\n",
       "      <td>0</td>\n",
       "      <td>199</td>\n",
       "      <td>2</td>\n",
       "      <td>6751.629942</td>\n",
       "    </tr>\n",
       "    <tr>\n",
       "      <th>6</th>\n",
       "      <td>2</td>\n",
       "      <td>Станислав</td>\n",
       "      <td>3</td>\n",
       "      <td>ultra</td>\n",
       "      <td>6</td>\n",
       "      <td>0</td>\n",
       "      <td>199</td>\n",
       "      <td>3</td>\n",
       "      <td>10187.723006</td>\n",
       "    </tr>\n",
       "    <tr>\n",
       "      <th>7</th>\n",
       "      <td>2</td>\n",
       "      <td>Станислав</td>\n",
       "      <td>4</td>\n",
       "      <td>ultra</td>\n",
       "      <td>6</td>\n",
       "      <td>0</td>\n",
       "      <td>199</td>\n",
       "      <td>2</td>\n",
       "      <td>6164.381824</td>\n",
       "    </tr>\n",
       "    <tr>\n",
       "      <th>8</th>\n",
       "      <td>2</td>\n",
       "      <td>Станислав</td>\n",
       "      <td>6</td>\n",
       "      <td>ultra</td>\n",
       "      <td>6</td>\n",
       "      <td>0</td>\n",
       "      <td>199</td>\n",
       "      <td>1</td>\n",
       "      <td>3255.338202</td>\n",
       "    </tr>\n",
       "    <tr>\n",
       "      <th>9</th>\n",
       "      <td>2</td>\n",
       "      <td>Станислав</td>\n",
       "      <td>7</td>\n",
       "      <td>ultra</td>\n",
       "      <td>6</td>\n",
       "      <td>0</td>\n",
       "      <td>199</td>\n",
       "      <td>2</td>\n",
       "      <td>6780.722964</td>\n",
       "    </tr>\n",
       "  </tbody>\n",
       "</table>\n",
       "</div>"
      ],
      "text/plain": [
       "   user_id       name  month subscription_type  minute_price  \\\n",
       "0        1       Кира      1             ultra             6   \n",
       "1        1       Кира      4             ultra             6   \n",
       "2        1       Кира      8             ultra             6   \n",
       "3        1       Кира     10             ultra             6   \n",
       "4        1       Кира     11             ultra             6   \n",
       "5        1       Кира     12             ultra             6   \n",
       "6        2  Станислав      3             ultra             6   \n",
       "7        2  Станислав      4             ultra             6   \n",
       "8        2  Станислав      6             ultra             6   \n",
       "9        2  Станислав      7             ultra             6   \n",
       "\n",
       "   start_ride_price  subscription_fee  q_rides  distance_sum  \n",
       "0                 0               199        2   7027.511294  \n",
       "1                 0               199        1    754.159807  \n",
       "2                 0               199        2   6723.470560  \n",
       "3                 0               199        2   5809.911100  \n",
       "4                 0               199        3   7003.499363  \n",
       "5                 0               199        2   6751.629942  \n",
       "6                 0               199        3  10187.723006  \n",
       "7                 0               199        2   6164.381824  \n",
       "8                 0               199        1   3255.338202  \n",
       "9                 0               199        2   6780.722964  "
      ]
     },
     "execution_count": 44,
     "metadata": {},
     "output_type": "execute_result"
    }
   ],
   "source": [
    "prefinal_data = new_rides.merge(distance_sum, on = ['user_id', 'month', 'name', 'subscription_type','minute_price','start_ride_price', 'subscription_fee'], how = 'outer')\n",
    "prefinal_data.head(10) #склеим два датафрейма с кол-вом поездок и общей дистанцией"
   ]
  },
  {
   "cell_type": "code",
   "execution_count": 45,
   "id": "360a52d1",
   "metadata": {
    "scrolled": true
   },
   "outputs": [
    {
     "data": {
      "text/html": [
       "<div>\n",
       "<style scoped>\n",
       "    .dataframe tbody tr th:only-of-type {\n",
       "        vertical-align: middle;\n",
       "    }\n",
       "\n",
       "    .dataframe tbody tr th {\n",
       "        vertical-align: top;\n",
       "    }\n",
       "\n",
       "    .dataframe thead th {\n",
       "        text-align: right;\n",
       "    }\n",
       "</style>\n",
       "<table border=\"1\" class=\"dataframe\">\n",
       "  <thead>\n",
       "    <tr style=\"text-align: right;\">\n",
       "      <th></th>\n",
       "      <th>user_id</th>\n",
       "      <th>name</th>\n",
       "      <th>month</th>\n",
       "      <th>subscription_type</th>\n",
       "      <th>minute_price</th>\n",
       "      <th>start_ride_price</th>\n",
       "      <th>subscription_fee</th>\n",
       "      <th>q_rides</th>\n",
       "      <th>distance_sum</th>\n",
       "      <th>duration_sum</th>\n",
       "    </tr>\n",
       "  </thead>\n",
       "  <tbody>\n",
       "    <tr>\n",
       "      <th>0</th>\n",
       "      <td>1</td>\n",
       "      <td>Кира</td>\n",
       "      <td>1</td>\n",
       "      <td>ultra</td>\n",
       "      <td>6</td>\n",
       "      <td>0</td>\n",
       "      <td>199</td>\n",
       "      <td>2</td>\n",
       "      <td>7027.511294</td>\n",
       "      <td>41.416640</td>\n",
       "    </tr>\n",
       "    <tr>\n",
       "      <th>1</th>\n",
       "      <td>1</td>\n",
       "      <td>Кира</td>\n",
       "      <td>4</td>\n",
       "      <td>ultra</td>\n",
       "      <td>6</td>\n",
       "      <td>0</td>\n",
       "      <td>199</td>\n",
       "      <td>1</td>\n",
       "      <td>754.159807</td>\n",
       "      <td>6.232113</td>\n",
       "    </tr>\n",
       "    <tr>\n",
       "      <th>2</th>\n",
       "      <td>1</td>\n",
       "      <td>Кира</td>\n",
       "      <td>8</td>\n",
       "      <td>ultra</td>\n",
       "      <td>6</td>\n",
       "      <td>0</td>\n",
       "      <td>199</td>\n",
       "      <td>2</td>\n",
       "      <td>6723.470560</td>\n",
       "      <td>44.776802</td>\n",
       "    </tr>\n",
       "    <tr>\n",
       "      <th>3</th>\n",
       "      <td>1</td>\n",
       "      <td>Кира</td>\n",
       "      <td>10</td>\n",
       "      <td>ultra</td>\n",
       "      <td>6</td>\n",
       "      <td>0</td>\n",
       "      <td>199</td>\n",
       "      <td>2</td>\n",
       "      <td>5809.911100</td>\n",
       "      <td>31.578017</td>\n",
       "    </tr>\n",
       "    <tr>\n",
       "      <th>4</th>\n",
       "      <td>1</td>\n",
       "      <td>Кира</td>\n",
       "      <td>11</td>\n",
       "      <td>ultra</td>\n",
       "      <td>6</td>\n",
       "      <td>0</td>\n",
       "      <td>199</td>\n",
       "      <td>3</td>\n",
       "      <td>7003.499363</td>\n",
       "      <td>53.397424</td>\n",
       "    </tr>\n",
       "    <tr>\n",
       "      <th>5</th>\n",
       "      <td>1</td>\n",
       "      <td>Кира</td>\n",
       "      <td>12</td>\n",
       "      <td>ultra</td>\n",
       "      <td>6</td>\n",
       "      <td>0</td>\n",
       "      <td>199</td>\n",
       "      <td>2</td>\n",
       "      <td>6751.629942</td>\n",
       "      <td>27.203912</td>\n",
       "    </tr>\n",
       "    <tr>\n",
       "      <th>6</th>\n",
       "      <td>2</td>\n",
       "      <td>Станислав</td>\n",
       "      <td>3</td>\n",
       "      <td>ultra</td>\n",
       "      <td>6</td>\n",
       "      <td>0</td>\n",
       "      <td>199</td>\n",
       "      <td>3</td>\n",
       "      <td>10187.723006</td>\n",
       "      <td>60.959959</td>\n",
       "    </tr>\n",
       "    <tr>\n",
       "      <th>7</th>\n",
       "      <td>2</td>\n",
       "      <td>Станислав</td>\n",
       "      <td>4</td>\n",
       "      <td>ultra</td>\n",
       "      <td>6</td>\n",
       "      <td>0</td>\n",
       "      <td>199</td>\n",
       "      <td>2</td>\n",
       "      <td>6164.381824</td>\n",
       "      <td>39.048633</td>\n",
       "    </tr>\n",
       "    <tr>\n",
       "      <th>8</th>\n",
       "      <td>2</td>\n",
       "      <td>Станислав</td>\n",
       "      <td>6</td>\n",
       "      <td>ultra</td>\n",
       "      <td>6</td>\n",
       "      <td>0</td>\n",
       "      <td>199</td>\n",
       "      <td>1</td>\n",
       "      <td>3255.338202</td>\n",
       "      <td>13.851127</td>\n",
       "    </tr>\n",
       "    <tr>\n",
       "      <th>9</th>\n",
       "      <td>2</td>\n",
       "      <td>Станислав</td>\n",
       "      <td>7</td>\n",
       "      <td>ultra</td>\n",
       "      <td>6</td>\n",
       "      <td>0</td>\n",
       "      <td>199</td>\n",
       "      <td>2</td>\n",
       "      <td>6780.722964</td>\n",
       "      <td>46.170157</td>\n",
       "    </tr>\n",
       "    <tr>\n",
       "      <th>10</th>\n",
       "      <td>2</td>\n",
       "      <td>Станислав</td>\n",
       "      <td>8</td>\n",
       "      <td>ultra</td>\n",
       "      <td>6</td>\n",
       "      <td>0</td>\n",
       "      <td>199</td>\n",
       "      <td>1</td>\n",
       "      <td>923.007439</td>\n",
       "      <td>6.914760</td>\n",
       "    </tr>\n",
       "    <tr>\n",
       "      <th>11</th>\n",
       "      <td>2</td>\n",
       "      <td>Станислав</td>\n",
       "      <td>10</td>\n",
       "      <td>ultra</td>\n",
       "      <td>6</td>\n",
       "      <td>0</td>\n",
       "      <td>199</td>\n",
       "      <td>1</td>\n",
       "      <td>2824.636598</td>\n",
       "      <td>18.779128</td>\n",
       "    </tr>\n",
       "    <tr>\n",
       "      <th>12</th>\n",
       "      <td>2</td>\n",
       "      <td>Станислав</td>\n",
       "      <td>12</td>\n",
       "      <td>ultra</td>\n",
       "      <td>6</td>\n",
       "      <td>0</td>\n",
       "      <td>199</td>\n",
       "      <td>1</td>\n",
       "      <td>3828.248580</td>\n",
       "      <td>11.920514</td>\n",
       "    </tr>\n",
       "    <tr>\n",
       "      <th>13</th>\n",
       "      <td>3</td>\n",
       "      <td>Алексей</td>\n",
       "      <td>1</td>\n",
       "      <td>ultra</td>\n",
       "      <td>6</td>\n",
       "      <td>0</td>\n",
       "      <td>199</td>\n",
       "      <td>1</td>\n",
       "      <td>3061.777147</td>\n",
       "      <td>12.654443</td>\n",
       "    </tr>\n",
       "    <tr>\n",
       "      <th>14</th>\n",
       "      <td>3</td>\n",
       "      <td>Алексей</td>\n",
       "      <td>2</td>\n",
       "      <td>ultra</td>\n",
       "      <td>6</td>\n",
       "      <td>0</td>\n",
       "      <td>199</td>\n",
       "      <td>2</td>\n",
       "      <td>5421.152016</td>\n",
       "      <td>37.568637</td>\n",
       "    </tr>\n",
       "    <tr>\n",
       "      <th>15</th>\n",
       "      <td>3</td>\n",
       "      <td>Алексей</td>\n",
       "      <td>4</td>\n",
       "      <td>ultra</td>\n",
       "      <td>6</td>\n",
       "      <td>0</td>\n",
       "      <td>199</td>\n",
       "      <td>1</td>\n",
       "      <td>2956.651632</td>\n",
       "      <td>20.671364</td>\n",
       "    </tr>\n",
       "    <tr>\n",
       "      <th>16</th>\n",
       "      <td>3</td>\n",
       "      <td>Алексей</td>\n",
       "      <td>5</td>\n",
       "      <td>ultra</td>\n",
       "      <td>6</td>\n",
       "      <td>0</td>\n",
       "      <td>199</td>\n",
       "      <td>3</td>\n",
       "      <td>9064.026918</td>\n",
       "      <td>61.404503</td>\n",
       "    </tr>\n",
       "    <tr>\n",
       "      <th>17</th>\n",
       "      <td>3</td>\n",
       "      <td>Алексей</td>\n",
       "      <td>7</td>\n",
       "      <td>ultra</td>\n",
       "      <td>6</td>\n",
       "      <td>0</td>\n",
       "      <td>199</td>\n",
       "      <td>3</td>\n",
       "      <td>10919.595403</td>\n",
       "      <td>65.519784</td>\n",
       "    </tr>\n",
       "    <tr>\n",
       "      <th>18</th>\n",
       "      <td>3</td>\n",
       "      <td>Алексей</td>\n",
       "      <td>9</td>\n",
       "      <td>ultra</td>\n",
       "      <td>6</td>\n",
       "      <td>0</td>\n",
       "      <td>199</td>\n",
       "      <td>1</td>\n",
       "      <td>2891.012822</td>\n",
       "      <td>22.390055</td>\n",
       "    </tr>\n",
       "    <tr>\n",
       "      <th>19</th>\n",
       "      <td>3</td>\n",
       "      <td>Алексей</td>\n",
       "      <td>12</td>\n",
       "      <td>ultra</td>\n",
       "      <td>6</td>\n",
       "      <td>0</td>\n",
       "      <td>199</td>\n",
       "      <td>1</td>\n",
       "      <td>2593.381928</td>\n",
       "      <td>12.984728</td>\n",
       "    </tr>\n",
       "  </tbody>\n",
       "</table>\n",
       "</div>"
      ],
      "text/plain": [
       "    user_id       name  month subscription_type  minute_price  \\\n",
       "0         1       Кира      1             ultra             6   \n",
       "1         1       Кира      4             ultra             6   \n",
       "2         1       Кира      8             ultra             6   \n",
       "3         1       Кира     10             ultra             6   \n",
       "4         1       Кира     11             ultra             6   \n",
       "5         1       Кира     12             ultra             6   \n",
       "6         2  Станислав      3             ultra             6   \n",
       "7         2  Станислав      4             ultra             6   \n",
       "8         2  Станислав      6             ultra             6   \n",
       "9         2  Станислав      7             ultra             6   \n",
       "10        2  Станислав      8             ultra             6   \n",
       "11        2  Станислав     10             ultra             6   \n",
       "12        2  Станислав     12             ultra             6   \n",
       "13        3    Алексей      1             ultra             6   \n",
       "14        3    Алексей      2             ultra             6   \n",
       "15        3    Алексей      4             ultra             6   \n",
       "16        3    Алексей      5             ultra             6   \n",
       "17        3    Алексей      7             ultra             6   \n",
       "18        3    Алексей      9             ultra             6   \n",
       "19        3    Алексей     12             ultra             6   \n",
       "\n",
       "    start_ride_price  subscription_fee  q_rides  distance_sum  duration_sum  \n",
       "0                  0               199        2   7027.511294     41.416640  \n",
       "1                  0               199        1    754.159807      6.232113  \n",
       "2                  0               199        2   6723.470560     44.776802  \n",
       "3                  0               199        2   5809.911100     31.578017  \n",
       "4                  0               199        3   7003.499363     53.397424  \n",
       "5                  0               199        2   6751.629942     27.203912  \n",
       "6                  0               199        3  10187.723006     60.959959  \n",
       "7                  0               199        2   6164.381824     39.048633  \n",
       "8                  0               199        1   3255.338202     13.851127  \n",
       "9                  0               199        2   6780.722964     46.170157  \n",
       "10                 0               199        1    923.007439      6.914760  \n",
       "11                 0               199        1   2824.636598     18.779128  \n",
       "12                 0               199        1   3828.248580     11.920514  \n",
       "13                 0               199        1   3061.777147     12.654443  \n",
       "14                 0               199        2   5421.152016     37.568637  \n",
       "15                 0               199        1   2956.651632     20.671364  \n",
       "16                 0               199        3   9064.026918     61.404503  \n",
       "17                 0               199        3  10919.595403     65.519784  \n",
       "18                 0               199        1   2891.012822     22.390055  \n",
       "19                 0               199        1   2593.381928     12.984728  "
      ]
     },
     "execution_count": 45,
     "metadata": {},
     "output_type": "execute_result"
    }
   ],
   "source": [
    "final_data = prefinal_data.merge(duration_sum, on = ['user_id', 'month', 'name', 'subscription_type','minute_price','start_ride_price', 'subscription_fee'], how = 'outer')\n",
    "final_data.head(20) #создаем финальный датасет по всем параметрам"
   ]
  },
  {
   "cell_type": "code",
   "execution_count": 46,
   "id": "9d6d3b31",
   "metadata": {},
   "outputs": [
    {
     "data": {
      "text/html": [
       "<div>\n",
       "<style scoped>\n",
       "    .dataframe tbody tr th:only-of-type {\n",
       "        vertical-align: middle;\n",
       "    }\n",
       "\n",
       "    .dataframe tbody tr th {\n",
       "        vertical-align: top;\n",
       "    }\n",
       "\n",
       "    .dataframe thead th {\n",
       "        text-align: right;\n",
       "    }\n",
       "</style>\n",
       "<table border=\"1\" class=\"dataframe\">\n",
       "  <thead>\n",
       "    <tr style=\"text-align: right;\">\n",
       "      <th></th>\n",
       "      <th>user_id</th>\n",
       "      <th>name</th>\n",
       "      <th>month</th>\n",
       "      <th>subscription_type</th>\n",
       "      <th>minute_price</th>\n",
       "      <th>start_ride_price</th>\n",
       "      <th>subscription_fee</th>\n",
       "      <th>q_rides</th>\n",
       "      <th>distance_sum</th>\n",
       "      <th>duration_sum</th>\n",
       "    </tr>\n",
       "  </thead>\n",
       "  <tbody>\n",
       "    <tr>\n",
       "      <th>11311</th>\n",
       "      <td>1532</td>\n",
       "      <td>Алексей</td>\n",
       "      <td>8</td>\n",
       "      <td>free</td>\n",
       "      <td>8</td>\n",
       "      <td>50</td>\n",
       "      <td>0</td>\n",
       "      <td>2</td>\n",
       "      <td>8774.460732</td>\n",
       "      <td>46.0</td>\n",
       "    </tr>\n",
       "    <tr>\n",
       "      <th>11312</th>\n",
       "      <td>1532</td>\n",
       "      <td>Алексей</td>\n",
       "      <td>10</td>\n",
       "      <td>free</td>\n",
       "      <td>8</td>\n",
       "      <td>50</td>\n",
       "      <td>0</td>\n",
       "      <td>1</td>\n",
       "      <td>2891.115711</td>\n",
       "      <td>21.0</td>\n",
       "    </tr>\n",
       "    <tr>\n",
       "      <th>11313</th>\n",
       "      <td>1532</td>\n",
       "      <td>Алексей</td>\n",
       "      <td>11</td>\n",
       "      <td>free</td>\n",
       "      <td>8</td>\n",
       "      <td>50</td>\n",
       "      <td>0</td>\n",
       "      <td>4</td>\n",
       "      <td>8627.494480</td>\n",
       "      <td>58.0</td>\n",
       "    </tr>\n",
       "    <tr>\n",
       "      <th>11314</th>\n",
       "      <td>1532</td>\n",
       "      <td>Алексей</td>\n",
       "      <td>12</td>\n",
       "      <td>free</td>\n",
       "      <td>8</td>\n",
       "      <td>50</td>\n",
       "      <td>0</td>\n",
       "      <td>2</td>\n",
       "      <td>6111.889853</td>\n",
       "      <td>41.0</td>\n",
       "    </tr>\n",
       "    <tr>\n",
       "      <th>11315</th>\n",
       "      <td>1533</td>\n",
       "      <td>Степан</td>\n",
       "      <td>1</td>\n",
       "      <td>free</td>\n",
       "      <td>8</td>\n",
       "      <td>50</td>\n",
       "      <td>0</td>\n",
       "      <td>1</td>\n",
       "      <td>3438.600356</td>\n",
       "      <td>21.0</td>\n",
       "    </tr>\n",
       "    <tr>\n",
       "      <th>11316</th>\n",
       "      <td>1533</td>\n",
       "      <td>Степан</td>\n",
       "      <td>2</td>\n",
       "      <td>free</td>\n",
       "      <td>8</td>\n",
       "      <td>50</td>\n",
       "      <td>0</td>\n",
       "      <td>1</td>\n",
       "      <td>310.488247</td>\n",
       "      <td>11.0</td>\n",
       "    </tr>\n",
       "    <tr>\n",
       "      <th>11317</th>\n",
       "      <td>1533</td>\n",
       "      <td>Степан</td>\n",
       "      <td>3</td>\n",
       "      <td>free</td>\n",
       "      <td>8</td>\n",
       "      <td>50</td>\n",
       "      <td>0</td>\n",
       "      <td>4</td>\n",
       "      <td>12822.696276</td>\n",
       "      <td>93.0</td>\n",
       "    </tr>\n",
       "    <tr>\n",
       "      <th>11318</th>\n",
       "      <td>1533</td>\n",
       "      <td>Степан</td>\n",
       "      <td>4</td>\n",
       "      <td>free</td>\n",
       "      <td>8</td>\n",
       "      <td>50</td>\n",
       "      <td>0</td>\n",
       "      <td>1</td>\n",
       "      <td>2514.498956</td>\n",
       "      <td>18.0</td>\n",
       "    </tr>\n",
       "    <tr>\n",
       "      <th>11319</th>\n",
       "      <td>1533</td>\n",
       "      <td>Степан</td>\n",
       "      <td>6</td>\n",
       "      <td>free</td>\n",
       "      <td>8</td>\n",
       "      <td>50</td>\n",
       "      <td>0</td>\n",
       "      <td>1</td>\n",
       "      <td>1034.998188</td>\n",
       "      <td>7.0</td>\n",
       "    </tr>\n",
       "    <tr>\n",
       "      <th>11320</th>\n",
       "      <td>1533</td>\n",
       "      <td>Степан</td>\n",
       "      <td>7</td>\n",
       "      <td>free</td>\n",
       "      <td>8</td>\n",
       "      <td>50</td>\n",
       "      <td>0</td>\n",
       "      <td>3</td>\n",
       "      <td>8772.518529</td>\n",
       "      <td>47.0</td>\n",
       "    </tr>\n",
       "    <tr>\n",
       "      <th>11321</th>\n",
       "      <td>1533</td>\n",
       "      <td>Степан</td>\n",
       "      <td>8</td>\n",
       "      <td>free</td>\n",
       "      <td>8</td>\n",
       "      <td>50</td>\n",
       "      <td>0</td>\n",
       "      <td>1</td>\n",
       "      <td>4581.943632</td>\n",
       "      <td>22.0</td>\n",
       "    </tr>\n",
       "    <tr>\n",
       "      <th>11322</th>\n",
       "      <td>1533</td>\n",
       "      <td>Степан</td>\n",
       "      <td>11</td>\n",
       "      <td>free</td>\n",
       "      <td>8</td>\n",
       "      <td>50</td>\n",
       "      <td>0</td>\n",
       "      <td>1</td>\n",
       "      <td>3414.448028</td>\n",
       "      <td>26.0</td>\n",
       "    </tr>\n",
       "    <tr>\n",
       "      <th>11323</th>\n",
       "      <td>1534</td>\n",
       "      <td>Альберт</td>\n",
       "      <td>1</td>\n",
       "      <td>free</td>\n",
       "      <td>8</td>\n",
       "      <td>50</td>\n",
       "      <td>0</td>\n",
       "      <td>1</td>\n",
       "      <td>4678.415899</td>\n",
       "      <td>16.0</td>\n",
       "    </tr>\n",
       "    <tr>\n",
       "      <th>11324</th>\n",
       "      <td>1534</td>\n",
       "      <td>Альберт</td>\n",
       "      <td>2</td>\n",
       "      <td>free</td>\n",
       "      <td>8</td>\n",
       "      <td>50</td>\n",
       "      <td>0</td>\n",
       "      <td>1</td>\n",
       "      <td>2103.914120</td>\n",
       "      <td>14.0</td>\n",
       "    </tr>\n",
       "    <tr>\n",
       "      <th>11325</th>\n",
       "      <td>1534</td>\n",
       "      <td>Альберт</td>\n",
       "      <td>4</td>\n",
       "      <td>free</td>\n",
       "      <td>8</td>\n",
       "      <td>50</td>\n",
       "      <td>0</td>\n",
       "      <td>1</td>\n",
       "      <td>3434.290912</td>\n",
       "      <td>15.0</td>\n",
       "    </tr>\n",
       "    <tr>\n",
       "      <th>11326</th>\n",
       "      <td>1534</td>\n",
       "      <td>Альберт</td>\n",
       "      <td>6</td>\n",
       "      <td>free</td>\n",
       "      <td>8</td>\n",
       "      <td>50</td>\n",
       "      <td>0</td>\n",
       "      <td>2</td>\n",
       "      <td>3409.468534</td>\n",
       "      <td>25.0</td>\n",
       "    </tr>\n",
       "    <tr>\n",
       "      <th>11327</th>\n",
       "      <td>1534</td>\n",
       "      <td>Альберт</td>\n",
       "      <td>8</td>\n",
       "      <td>free</td>\n",
       "      <td>8</td>\n",
       "      <td>50</td>\n",
       "      <td>0</td>\n",
       "      <td>2</td>\n",
       "      <td>7622.453034</td>\n",
       "      <td>48.0</td>\n",
       "    </tr>\n",
       "    <tr>\n",
       "      <th>11328</th>\n",
       "      <td>1534</td>\n",
       "      <td>Альберт</td>\n",
       "      <td>9</td>\n",
       "      <td>free</td>\n",
       "      <td>8</td>\n",
       "      <td>50</td>\n",
       "      <td>0</td>\n",
       "      <td>1</td>\n",
       "      <td>4928.173852</td>\n",
       "      <td>23.0</td>\n",
       "    </tr>\n",
       "    <tr>\n",
       "      <th>11329</th>\n",
       "      <td>1534</td>\n",
       "      <td>Альберт</td>\n",
       "      <td>11</td>\n",
       "      <td>free</td>\n",
       "      <td>8</td>\n",
       "      <td>50</td>\n",
       "      <td>0</td>\n",
       "      <td>4</td>\n",
       "      <td>13350.015305</td>\n",
       "      <td>77.0</td>\n",
       "    </tr>\n",
       "    <tr>\n",
       "      <th>11330</th>\n",
       "      <td>1534</td>\n",
       "      <td>Альберт</td>\n",
       "      <td>12</td>\n",
       "      <td>free</td>\n",
       "      <td>8</td>\n",
       "      <td>50</td>\n",
       "      <td>0</td>\n",
       "      <td>1</td>\n",
       "      <td>2371.711192</td>\n",
       "      <td>16.0</td>\n",
       "    </tr>\n",
       "  </tbody>\n",
       "</table>\n",
       "</div>"
      ],
      "text/plain": [
       "       user_id     name  month subscription_type  minute_price  \\\n",
       "11311     1532  Алексей      8              free             8   \n",
       "11312     1532  Алексей     10              free             8   \n",
       "11313     1532  Алексей     11              free             8   \n",
       "11314     1532  Алексей     12              free             8   \n",
       "11315     1533   Степан      1              free             8   \n",
       "11316     1533   Степан      2              free             8   \n",
       "11317     1533   Степан      3              free             8   \n",
       "11318     1533   Степан      4              free             8   \n",
       "11319     1533   Степан      6              free             8   \n",
       "11320     1533   Степан      7              free             8   \n",
       "11321     1533   Степан      8              free             8   \n",
       "11322     1533   Степан     11              free             8   \n",
       "11323     1534  Альберт      1              free             8   \n",
       "11324     1534  Альберт      2              free             8   \n",
       "11325     1534  Альберт      4              free             8   \n",
       "11326     1534  Альберт      6              free             8   \n",
       "11327     1534  Альберт      8              free             8   \n",
       "11328     1534  Альберт      9              free             8   \n",
       "11329     1534  Альберт     11              free             8   \n",
       "11330     1534  Альберт     12              free             8   \n",
       "\n",
       "       start_ride_price  subscription_fee  q_rides  distance_sum  duration_sum  \n",
       "11311                50                 0        2   8774.460732          46.0  \n",
       "11312                50                 0        1   2891.115711          21.0  \n",
       "11313                50                 0        4   8627.494480          58.0  \n",
       "11314                50                 0        2   6111.889853          41.0  \n",
       "11315                50                 0        1   3438.600356          21.0  \n",
       "11316                50                 0        1    310.488247          11.0  \n",
       "11317                50                 0        4  12822.696276          93.0  \n",
       "11318                50                 0        1   2514.498956          18.0  \n",
       "11319                50                 0        1   1034.998188           7.0  \n",
       "11320                50                 0        3   8772.518529          47.0  \n",
       "11321                50                 0        1   4581.943632          22.0  \n",
       "11322                50                 0        1   3414.448028          26.0  \n",
       "11323                50                 0        1   4678.415899          16.0  \n",
       "11324                50                 0        1   2103.914120          14.0  \n",
       "11325                50                 0        1   3434.290912          15.0  \n",
       "11326                50                 0        2   3409.468534          25.0  \n",
       "11327                50                 0        2   7622.453034          48.0  \n",
       "11328                50                 0        1   4928.173852          23.0  \n",
       "11329                50                 0        4  13350.015305          77.0  \n",
       "11330                50                 0        1   2371.711192          16.0  "
      ]
     },
     "execution_count": 46,
     "metadata": {},
     "output_type": "execute_result"
    }
   ],
   "source": [
    "final_data['duration_sum'] = np.ceil(final_data['duration_sum']) #округлим до целоых минут \"вверх\"\n",
    "final_data.tail(20)"
   ]
  },
  {
   "cell_type": "markdown",
   "id": "b1474c06",
   "metadata": {},
   "source": [
    "**Проверим бюджет от каждого пользователя**"
   ]
  },
  {
   "cell_type": "code",
   "execution_count": 47,
   "id": "3251aa4f",
   "metadata": {},
   "outputs": [
    {
     "data": {
      "text/html": [
       "<div>\n",
       "<style scoped>\n",
       "    .dataframe tbody tr th:only-of-type {\n",
       "        vertical-align: middle;\n",
       "    }\n",
       "\n",
       "    .dataframe tbody tr th {\n",
       "        vertical-align: top;\n",
       "    }\n",
       "\n",
       "    .dataframe thead th {\n",
       "        text-align: right;\n",
       "    }\n",
       "</style>\n",
       "<table border=\"1\" class=\"dataframe\">\n",
       "  <thead>\n",
       "    <tr style=\"text-align: right;\">\n",
       "      <th></th>\n",
       "      <th>user_id</th>\n",
       "      <th>name</th>\n",
       "      <th>month</th>\n",
       "      <th>subscription_type</th>\n",
       "      <th>minute_price</th>\n",
       "      <th>start_ride_price</th>\n",
       "      <th>subscription_fee</th>\n",
       "      <th>q_rides</th>\n",
       "      <th>distance_sum</th>\n",
       "      <th>duration_sum</th>\n",
       "      <th>budget</th>\n",
       "    </tr>\n",
       "  </thead>\n",
       "  <tbody>\n",
       "    <tr>\n",
       "      <th>11311</th>\n",
       "      <td>1532</td>\n",
       "      <td>Алексей</td>\n",
       "      <td>8</td>\n",
       "      <td>free</td>\n",
       "      <td>8</td>\n",
       "      <td>50</td>\n",
       "      <td>0</td>\n",
       "      <td>2</td>\n",
       "      <td>8774.460732</td>\n",
       "      <td>46.0</td>\n",
       "      <td>468.0</td>\n",
       "    </tr>\n",
       "    <tr>\n",
       "      <th>11312</th>\n",
       "      <td>1532</td>\n",
       "      <td>Алексей</td>\n",
       "      <td>10</td>\n",
       "      <td>free</td>\n",
       "      <td>8</td>\n",
       "      <td>50</td>\n",
       "      <td>0</td>\n",
       "      <td>1</td>\n",
       "      <td>2891.115711</td>\n",
       "      <td>21.0</td>\n",
       "      <td>218.0</td>\n",
       "    </tr>\n",
       "    <tr>\n",
       "      <th>11313</th>\n",
       "      <td>1532</td>\n",
       "      <td>Алексей</td>\n",
       "      <td>11</td>\n",
       "      <td>free</td>\n",
       "      <td>8</td>\n",
       "      <td>50</td>\n",
       "      <td>0</td>\n",
       "      <td>4</td>\n",
       "      <td>8627.494480</td>\n",
       "      <td>58.0</td>\n",
       "      <td>664.0</td>\n",
       "    </tr>\n",
       "    <tr>\n",
       "      <th>11314</th>\n",
       "      <td>1532</td>\n",
       "      <td>Алексей</td>\n",
       "      <td>12</td>\n",
       "      <td>free</td>\n",
       "      <td>8</td>\n",
       "      <td>50</td>\n",
       "      <td>0</td>\n",
       "      <td>2</td>\n",
       "      <td>6111.889853</td>\n",
       "      <td>41.0</td>\n",
       "      <td>428.0</td>\n",
       "    </tr>\n",
       "    <tr>\n",
       "      <th>11315</th>\n",
       "      <td>1533</td>\n",
       "      <td>Степан</td>\n",
       "      <td>1</td>\n",
       "      <td>free</td>\n",
       "      <td>8</td>\n",
       "      <td>50</td>\n",
       "      <td>0</td>\n",
       "      <td>1</td>\n",
       "      <td>3438.600356</td>\n",
       "      <td>21.0</td>\n",
       "      <td>218.0</td>\n",
       "    </tr>\n",
       "    <tr>\n",
       "      <th>11316</th>\n",
       "      <td>1533</td>\n",
       "      <td>Степан</td>\n",
       "      <td>2</td>\n",
       "      <td>free</td>\n",
       "      <td>8</td>\n",
       "      <td>50</td>\n",
       "      <td>0</td>\n",
       "      <td>1</td>\n",
       "      <td>310.488247</td>\n",
       "      <td>11.0</td>\n",
       "      <td>138.0</td>\n",
       "    </tr>\n",
       "    <tr>\n",
       "      <th>11317</th>\n",
       "      <td>1533</td>\n",
       "      <td>Степан</td>\n",
       "      <td>3</td>\n",
       "      <td>free</td>\n",
       "      <td>8</td>\n",
       "      <td>50</td>\n",
       "      <td>0</td>\n",
       "      <td>4</td>\n",
       "      <td>12822.696276</td>\n",
       "      <td>93.0</td>\n",
       "      <td>944.0</td>\n",
       "    </tr>\n",
       "    <tr>\n",
       "      <th>11318</th>\n",
       "      <td>1533</td>\n",
       "      <td>Степан</td>\n",
       "      <td>4</td>\n",
       "      <td>free</td>\n",
       "      <td>8</td>\n",
       "      <td>50</td>\n",
       "      <td>0</td>\n",
       "      <td>1</td>\n",
       "      <td>2514.498956</td>\n",
       "      <td>18.0</td>\n",
       "      <td>194.0</td>\n",
       "    </tr>\n",
       "    <tr>\n",
       "      <th>11319</th>\n",
       "      <td>1533</td>\n",
       "      <td>Степан</td>\n",
       "      <td>6</td>\n",
       "      <td>free</td>\n",
       "      <td>8</td>\n",
       "      <td>50</td>\n",
       "      <td>0</td>\n",
       "      <td>1</td>\n",
       "      <td>1034.998188</td>\n",
       "      <td>7.0</td>\n",
       "      <td>106.0</td>\n",
       "    </tr>\n",
       "    <tr>\n",
       "      <th>11320</th>\n",
       "      <td>1533</td>\n",
       "      <td>Степан</td>\n",
       "      <td>7</td>\n",
       "      <td>free</td>\n",
       "      <td>8</td>\n",
       "      <td>50</td>\n",
       "      <td>0</td>\n",
       "      <td>3</td>\n",
       "      <td>8772.518529</td>\n",
       "      <td>47.0</td>\n",
       "      <td>526.0</td>\n",
       "    </tr>\n",
       "    <tr>\n",
       "      <th>11321</th>\n",
       "      <td>1533</td>\n",
       "      <td>Степан</td>\n",
       "      <td>8</td>\n",
       "      <td>free</td>\n",
       "      <td>8</td>\n",
       "      <td>50</td>\n",
       "      <td>0</td>\n",
       "      <td>1</td>\n",
       "      <td>4581.943632</td>\n",
       "      <td>22.0</td>\n",
       "      <td>226.0</td>\n",
       "    </tr>\n",
       "    <tr>\n",
       "      <th>11322</th>\n",
       "      <td>1533</td>\n",
       "      <td>Степан</td>\n",
       "      <td>11</td>\n",
       "      <td>free</td>\n",
       "      <td>8</td>\n",
       "      <td>50</td>\n",
       "      <td>0</td>\n",
       "      <td>1</td>\n",
       "      <td>3414.448028</td>\n",
       "      <td>26.0</td>\n",
       "      <td>258.0</td>\n",
       "    </tr>\n",
       "    <tr>\n",
       "      <th>11323</th>\n",
       "      <td>1534</td>\n",
       "      <td>Альберт</td>\n",
       "      <td>1</td>\n",
       "      <td>free</td>\n",
       "      <td>8</td>\n",
       "      <td>50</td>\n",
       "      <td>0</td>\n",
       "      <td>1</td>\n",
       "      <td>4678.415899</td>\n",
       "      <td>16.0</td>\n",
       "      <td>178.0</td>\n",
       "    </tr>\n",
       "    <tr>\n",
       "      <th>11324</th>\n",
       "      <td>1534</td>\n",
       "      <td>Альберт</td>\n",
       "      <td>2</td>\n",
       "      <td>free</td>\n",
       "      <td>8</td>\n",
       "      <td>50</td>\n",
       "      <td>0</td>\n",
       "      <td>1</td>\n",
       "      <td>2103.914120</td>\n",
       "      <td>14.0</td>\n",
       "      <td>162.0</td>\n",
       "    </tr>\n",
       "    <tr>\n",
       "      <th>11325</th>\n",
       "      <td>1534</td>\n",
       "      <td>Альберт</td>\n",
       "      <td>4</td>\n",
       "      <td>free</td>\n",
       "      <td>8</td>\n",
       "      <td>50</td>\n",
       "      <td>0</td>\n",
       "      <td>1</td>\n",
       "      <td>3434.290912</td>\n",
       "      <td>15.0</td>\n",
       "      <td>170.0</td>\n",
       "    </tr>\n",
       "    <tr>\n",
       "      <th>11326</th>\n",
       "      <td>1534</td>\n",
       "      <td>Альберт</td>\n",
       "      <td>6</td>\n",
       "      <td>free</td>\n",
       "      <td>8</td>\n",
       "      <td>50</td>\n",
       "      <td>0</td>\n",
       "      <td>2</td>\n",
       "      <td>3409.468534</td>\n",
       "      <td>25.0</td>\n",
       "      <td>300.0</td>\n",
       "    </tr>\n",
       "    <tr>\n",
       "      <th>11327</th>\n",
       "      <td>1534</td>\n",
       "      <td>Альберт</td>\n",
       "      <td>8</td>\n",
       "      <td>free</td>\n",
       "      <td>8</td>\n",
       "      <td>50</td>\n",
       "      <td>0</td>\n",
       "      <td>2</td>\n",
       "      <td>7622.453034</td>\n",
       "      <td>48.0</td>\n",
       "      <td>484.0</td>\n",
       "    </tr>\n",
       "    <tr>\n",
       "      <th>11328</th>\n",
       "      <td>1534</td>\n",
       "      <td>Альберт</td>\n",
       "      <td>9</td>\n",
       "      <td>free</td>\n",
       "      <td>8</td>\n",
       "      <td>50</td>\n",
       "      <td>0</td>\n",
       "      <td>1</td>\n",
       "      <td>4928.173852</td>\n",
       "      <td>23.0</td>\n",
       "      <td>234.0</td>\n",
       "    </tr>\n",
       "    <tr>\n",
       "      <th>11329</th>\n",
       "      <td>1534</td>\n",
       "      <td>Альберт</td>\n",
       "      <td>11</td>\n",
       "      <td>free</td>\n",
       "      <td>8</td>\n",
       "      <td>50</td>\n",
       "      <td>0</td>\n",
       "      <td>4</td>\n",
       "      <td>13350.015305</td>\n",
       "      <td>77.0</td>\n",
       "      <td>816.0</td>\n",
       "    </tr>\n",
       "    <tr>\n",
       "      <th>11330</th>\n",
       "      <td>1534</td>\n",
       "      <td>Альберт</td>\n",
       "      <td>12</td>\n",
       "      <td>free</td>\n",
       "      <td>8</td>\n",
       "      <td>50</td>\n",
       "      <td>0</td>\n",
       "      <td>1</td>\n",
       "      <td>2371.711192</td>\n",
       "      <td>16.0</td>\n",
       "      <td>178.0</td>\n",
       "    </tr>\n",
       "  </tbody>\n",
       "</table>\n",
       "</div>"
      ],
      "text/plain": [
       "       user_id     name  month subscription_type  minute_price  \\\n",
       "11311     1532  Алексей      8              free             8   \n",
       "11312     1532  Алексей     10              free             8   \n",
       "11313     1532  Алексей     11              free             8   \n",
       "11314     1532  Алексей     12              free             8   \n",
       "11315     1533   Степан      1              free             8   \n",
       "11316     1533   Степан      2              free             8   \n",
       "11317     1533   Степан      3              free             8   \n",
       "11318     1533   Степан      4              free             8   \n",
       "11319     1533   Степан      6              free             8   \n",
       "11320     1533   Степан      7              free             8   \n",
       "11321     1533   Степан      8              free             8   \n",
       "11322     1533   Степан     11              free             8   \n",
       "11323     1534  Альберт      1              free             8   \n",
       "11324     1534  Альберт      2              free             8   \n",
       "11325     1534  Альберт      4              free             8   \n",
       "11326     1534  Альберт      6              free             8   \n",
       "11327     1534  Альберт      8              free             8   \n",
       "11328     1534  Альберт      9              free             8   \n",
       "11329     1534  Альберт     11              free             8   \n",
       "11330     1534  Альберт     12              free             8   \n",
       "\n",
       "       start_ride_price  subscription_fee  q_rides  distance_sum  \\\n",
       "11311                50                 0        2   8774.460732   \n",
       "11312                50                 0        1   2891.115711   \n",
       "11313                50                 0        4   8627.494480   \n",
       "11314                50                 0        2   6111.889853   \n",
       "11315                50                 0        1   3438.600356   \n",
       "11316                50                 0        1    310.488247   \n",
       "11317                50                 0        4  12822.696276   \n",
       "11318                50                 0        1   2514.498956   \n",
       "11319                50                 0        1   1034.998188   \n",
       "11320                50                 0        3   8772.518529   \n",
       "11321                50                 0        1   4581.943632   \n",
       "11322                50                 0        1   3414.448028   \n",
       "11323                50                 0        1   4678.415899   \n",
       "11324                50                 0        1   2103.914120   \n",
       "11325                50                 0        1   3434.290912   \n",
       "11326                50                 0        2   3409.468534   \n",
       "11327                50                 0        2   7622.453034   \n",
       "11328                50                 0        1   4928.173852   \n",
       "11329                50                 0        4  13350.015305   \n",
       "11330                50                 0        1   2371.711192   \n",
       "\n",
       "       duration_sum  budget  \n",
       "11311          46.0   468.0  \n",
       "11312          21.0   218.0  \n",
       "11313          58.0   664.0  \n",
       "11314          41.0   428.0  \n",
       "11315          21.0   218.0  \n",
       "11316          11.0   138.0  \n",
       "11317          93.0   944.0  \n",
       "11318          18.0   194.0  \n",
       "11319           7.0   106.0  \n",
       "11320          47.0   526.0  \n",
       "11321          22.0   226.0  \n",
       "11322          26.0   258.0  \n",
       "11323          16.0   178.0  \n",
       "11324          14.0   162.0  \n",
       "11325          15.0   170.0  \n",
       "11326          25.0   300.0  \n",
       "11327          48.0   484.0  \n",
       "11328          23.0   234.0  \n",
       "11329          77.0   816.0  \n",
       "11330          16.0   178.0  "
      ]
     },
     "execution_count": 47,
     "metadata": {},
     "output_type": "execute_result"
    }
   ],
   "source": [
    "final_data['budget'] = np.ceil(final_data['minute_price'] * final_data['duration_sum']) + (final_data['start_ride_price'] * final_data['q_rides'])\\\n",
    "+ final_data['subscription_fee'] #посчитаем бюджет кажой пользователя в каждом месяце \n",
    "final_data.tail(20) #округлим и выведем на экран"
   ]
  },
  {
   "cell_type": "code",
   "execution_count": 48,
   "id": "1a446f25",
   "metadata": {},
   "outputs": [
    {
     "data": {
      "text/html": [
       "<div>\n",
       "<style scoped>\n",
       "    .dataframe tbody tr th:only-of-type {\n",
       "        vertical-align: middle;\n",
       "    }\n",
       "\n",
       "    .dataframe tbody tr th {\n",
       "        vertical-align: top;\n",
       "    }\n",
       "\n",
       "    .dataframe thead th {\n",
       "        text-align: right;\n",
       "    }\n",
       "</style>\n",
       "<table border=\"1\" class=\"dataframe\">\n",
       "  <thead>\n",
       "    <tr style=\"text-align: right;\">\n",
       "      <th></th>\n",
       "      <th>user_id</th>\n",
       "      <th>name</th>\n",
       "      <th>month</th>\n",
       "      <th>subscription_type</th>\n",
       "      <th>minute_price</th>\n",
       "      <th>start_ride_price</th>\n",
       "      <th>subscription_fee</th>\n",
       "      <th>q_rides</th>\n",
       "      <th>distance_sum</th>\n",
       "      <th>duration_sum</th>\n",
       "      <th>budget</th>\n",
       "    </tr>\n",
       "  </thead>\n",
       "  <tbody>\n",
       "    <tr>\n",
       "      <th>4528</th>\n",
       "      <td>699</td>\n",
       "      <td>Оксана</td>\n",
       "      <td>6</td>\n",
       "      <td>ultra</td>\n",
       "      <td>6</td>\n",
       "      <td>0</td>\n",
       "      <td>199</td>\n",
       "      <td>1</td>\n",
       "      <td>4072.797406</td>\n",
       "      <td>17.0</td>\n",
       "      <td>301.0</td>\n",
       "    </tr>\n",
       "    <tr>\n",
       "      <th>4529</th>\n",
       "      <td>699</td>\n",
       "      <td>Оксана</td>\n",
       "      <td>8</td>\n",
       "      <td>ultra</td>\n",
       "      <td>6</td>\n",
       "      <td>0</td>\n",
       "      <td>199</td>\n",
       "      <td>2</td>\n",
       "      <td>7018.324143</td>\n",
       "      <td>45.0</td>\n",
       "      <td>469.0</td>\n",
       "    </tr>\n",
       "    <tr>\n",
       "      <th>4530</th>\n",
       "      <td>699</td>\n",
       "      <td>Оксана</td>\n",
       "      <td>9</td>\n",
       "      <td>ultra</td>\n",
       "      <td>6</td>\n",
       "      <td>0</td>\n",
       "      <td>199</td>\n",
       "      <td>2</td>\n",
       "      <td>6364.861911</td>\n",
       "      <td>31.0</td>\n",
       "      <td>385.0</td>\n",
       "    </tr>\n",
       "    <tr>\n",
       "      <th>4531</th>\n",
       "      <td>699</td>\n",
       "      <td>Оксана</td>\n",
       "      <td>10</td>\n",
       "      <td>ultra</td>\n",
       "      <td>6</td>\n",
       "      <td>0</td>\n",
       "      <td>199</td>\n",
       "      <td>1</td>\n",
       "      <td>4707.845501</td>\n",
       "      <td>16.0</td>\n",
       "      <td>295.0</td>\n",
       "    </tr>\n",
       "    <tr>\n",
       "      <th>4532</th>\n",
       "      <td>699</td>\n",
       "      <td>Оксана</td>\n",
       "      <td>12</td>\n",
       "      <td>ultra</td>\n",
       "      <td>6</td>\n",
       "      <td>0</td>\n",
       "      <td>199</td>\n",
       "      <td>1</td>\n",
       "      <td>3202.890770</td>\n",
       "      <td>26.0</td>\n",
       "      <td>355.0</td>\n",
       "    </tr>\n",
       "  </tbody>\n",
       "</table>\n",
       "</div>"
      ],
      "text/plain": [
       "      user_id    name  month subscription_type  minute_price  \\\n",
       "4528      699  Оксана      6             ultra             6   \n",
       "4529      699  Оксана      8             ultra             6   \n",
       "4530      699  Оксана      9             ultra             6   \n",
       "4531      699  Оксана     10             ultra             6   \n",
       "4532      699  Оксана     12             ultra             6   \n",
       "\n",
       "      start_ride_price  subscription_fee  q_rides  distance_sum  duration_sum  \\\n",
       "4528                 0               199        1   4072.797406          17.0   \n",
       "4529                 0               199        2   7018.324143          45.0   \n",
       "4530                 0               199        2   6364.861911          31.0   \n",
       "4531                 0               199        1   4707.845501          16.0   \n",
       "4532                 0               199        1   3202.890770          26.0   \n",
       "\n",
       "      budget  \n",
       "4528   301.0  \n",
       "4529   469.0  \n",
       "4530   385.0  \n",
       "4531   295.0  \n",
       "4532   355.0  "
      ]
     },
     "execution_count": 48,
     "metadata": {},
     "output_type": "execute_result"
    }
   ],
   "source": [
    "users_ultra = final_data[final_data['subscription_type'] == 'ultra'] #разделим датасет на пользователей ultra\n",
    "users_ultra.tail()"
   ]
  },
  {
   "cell_type": "code",
   "execution_count": 49,
   "id": "79ede783",
   "metadata": {},
   "outputs": [
    {
     "data": {
      "text/plain": [
       "count    4533.000000\n",
       "mean       27.080300\n",
       "std        14.399994\n",
       "min         4.000000\n",
       "25%        17.000000\n",
       "50%        22.000000\n",
       "75%        34.000000\n",
       "max       124.000000\n",
       "Name: duration_sum, dtype: float64"
      ]
     },
     "execution_count": 49,
     "metadata": {},
     "output_type": "execute_result"
    }
   ],
   "source": [
    "users_ultra['duration_sum'].describe()"
   ]
  },
  {
   "cell_type": "code",
   "execution_count": 50,
   "id": "f4c66063",
   "metadata": {},
   "outputs": [
    {
     "data": {
      "text/html": [
       "<div>\n",
       "<style scoped>\n",
       "    .dataframe tbody tr th:only-of-type {\n",
       "        vertical-align: middle;\n",
       "    }\n",
       "\n",
       "    .dataframe tbody tr th {\n",
       "        vertical-align: top;\n",
       "    }\n",
       "\n",
       "    .dataframe thead th {\n",
       "        text-align: right;\n",
       "    }\n",
       "</style>\n",
       "<table border=\"1\" class=\"dataframe\">\n",
       "  <thead>\n",
       "    <tr style=\"text-align: right;\">\n",
       "      <th></th>\n",
       "      <th>user_id</th>\n",
       "      <th>name</th>\n",
       "      <th>month</th>\n",
       "      <th>subscription_type</th>\n",
       "      <th>minute_price</th>\n",
       "      <th>start_ride_price</th>\n",
       "      <th>subscription_fee</th>\n",
       "      <th>q_rides</th>\n",
       "      <th>distance_sum</th>\n",
       "      <th>duration_sum</th>\n",
       "      <th>budget</th>\n",
       "    </tr>\n",
       "  </thead>\n",
       "  <tbody>\n",
       "    <tr>\n",
       "      <th>11326</th>\n",
       "      <td>1534</td>\n",
       "      <td>Альберт</td>\n",
       "      <td>6</td>\n",
       "      <td>free</td>\n",
       "      <td>8</td>\n",
       "      <td>50</td>\n",
       "      <td>0</td>\n",
       "      <td>2</td>\n",
       "      <td>3409.468534</td>\n",
       "      <td>25.0</td>\n",
       "      <td>300.0</td>\n",
       "    </tr>\n",
       "    <tr>\n",
       "      <th>11327</th>\n",
       "      <td>1534</td>\n",
       "      <td>Альберт</td>\n",
       "      <td>8</td>\n",
       "      <td>free</td>\n",
       "      <td>8</td>\n",
       "      <td>50</td>\n",
       "      <td>0</td>\n",
       "      <td>2</td>\n",
       "      <td>7622.453034</td>\n",
       "      <td>48.0</td>\n",
       "      <td>484.0</td>\n",
       "    </tr>\n",
       "    <tr>\n",
       "      <th>11328</th>\n",
       "      <td>1534</td>\n",
       "      <td>Альберт</td>\n",
       "      <td>9</td>\n",
       "      <td>free</td>\n",
       "      <td>8</td>\n",
       "      <td>50</td>\n",
       "      <td>0</td>\n",
       "      <td>1</td>\n",
       "      <td>4928.173852</td>\n",
       "      <td>23.0</td>\n",
       "      <td>234.0</td>\n",
       "    </tr>\n",
       "    <tr>\n",
       "      <th>11329</th>\n",
       "      <td>1534</td>\n",
       "      <td>Альберт</td>\n",
       "      <td>11</td>\n",
       "      <td>free</td>\n",
       "      <td>8</td>\n",
       "      <td>50</td>\n",
       "      <td>0</td>\n",
       "      <td>4</td>\n",
       "      <td>13350.015305</td>\n",
       "      <td>77.0</td>\n",
       "      <td>816.0</td>\n",
       "    </tr>\n",
       "    <tr>\n",
       "      <th>11330</th>\n",
       "      <td>1534</td>\n",
       "      <td>Альберт</td>\n",
       "      <td>12</td>\n",
       "      <td>free</td>\n",
       "      <td>8</td>\n",
       "      <td>50</td>\n",
       "      <td>0</td>\n",
       "      <td>1</td>\n",
       "      <td>2371.711192</td>\n",
       "      <td>16.0</td>\n",
       "      <td>178.0</td>\n",
       "    </tr>\n",
       "  </tbody>\n",
       "</table>\n",
       "</div>"
      ],
      "text/plain": [
       "       user_id     name  month subscription_type  minute_price  \\\n",
       "11326     1534  Альберт      6              free             8   \n",
       "11327     1534  Альберт      8              free             8   \n",
       "11328     1534  Альберт      9              free             8   \n",
       "11329     1534  Альберт     11              free             8   \n",
       "11330     1534  Альберт     12              free             8   \n",
       "\n",
       "       start_ride_price  subscription_fee  q_rides  distance_sum  \\\n",
       "11326                50                 0        2   3409.468534   \n",
       "11327                50                 0        2   7622.453034   \n",
       "11328                50                 0        1   4928.173852   \n",
       "11329                50                 0        4  13350.015305   \n",
       "11330                50                 0        1   2371.711192   \n",
       "\n",
       "       duration_sum  budget  \n",
       "11326          25.0   300.0  \n",
       "11327          48.0   484.0  \n",
       "11328          23.0   234.0  \n",
       "11329          77.0   816.0  \n",
       "11330          16.0   178.0  "
      ]
     },
     "execution_count": 50,
     "metadata": {},
     "output_type": "execute_result"
    }
   ],
   "source": [
    "users_free = final_data[final_data['subscription_type'] == 'free'] #разделим датасет на пользователей free\n",
    "users_free.tail()"
   ]
  },
  {
   "cell_type": "code",
   "execution_count": 51,
   "id": "557877f7",
   "metadata": {
    "scrolled": true
   },
   "outputs": [
    {
     "data": {
      "text/plain": [
       "count    6798.000000\n",
       "mean       30.094881\n",
       "std        17.478635\n",
       "min         1.000000\n",
       "25%        18.000000\n",
       "50%        25.000000\n",
       "75%        40.000000\n",
       "max       141.000000\n",
       "Name: duration_sum, dtype: float64"
      ]
     },
     "execution_count": 51,
     "metadata": {},
     "output_type": "execute_result"
    }
   ],
   "source": [
    "users_free['duration_sum'].describe()"
   ]
  },
  {
   "cell_type": "markdown",
   "id": "b93e46f2",
   "metadata": {},
   "source": [
    "<div class=\"alert alert-block alert-danger\">\n",
    "<h2> Комментарий ревьюера v1 <a class=\"tocSkip\"></h2>\n",
    "\n",
    "<b>На доработку🤔:</b>  Хорошечно, только давай округлим столбец \"длительность поездки\" вверх до целой минуты?)"
   ]
  },
  {
   "cell_type": "markdown",
   "id": "cbd4487f",
   "metadata": {},
   "source": [
    "<div class=\"alert alert-info\">\n",
    "<b>Done</b> "
   ]
  },
  {
   "cell_type": "markdown",
   "id": "89222605",
   "metadata": {},
   "source": [
    "<div class=\"alert alert-success\">\n",
    "<h2> Комментарий ревьюера v2 <a class=\"tocSkip\"> </h2>\n",
    "\n",
    "<b>Все супер!👍:</b>Хорошо) "
   ]
  },
  {
   "cell_type": "markdown",
   "id": "41545ac0",
   "metadata": {},
   "source": [
    "#### Шаг 6. Проверка гипотез"
   ]
  },
  {
   "cell_type": "markdown",
   "id": "2ec28eb9",
   "metadata": {},
   "source": [
    "**Проверим гипотезу о среднем времени**"
   ]
  },
  {
   "cell_type": "markdown",
   "id": "bf8c1980",
   "metadata": {},
   "source": [
    "**Нулевая гипотеза** - среднее время поездок пользователей с подпиской равно среднему времени поездок пользователей без подписки.\n",
    "**Альтернативная гипотеза** - среднее время поездок пользователей с подпиской больше среднего времени поездок пользователей без подписки"
   ]
  },
  {
   "cell_type": "markdown",
   "id": "c54e8fe1",
   "metadata": {},
   "source": [
    "<div class=\"alert alert-success\">\n",
    "<h2> Комментарий ревьюера v1 <a class=\"tocSkip\"> </h2>\n",
    "\n",
    "<b>Все супер!👍:</b> Гипотезы сформулированы верно "
   ]
  },
  {
   "cell_type": "code",
   "execution_count": 52,
   "id": "ce11b8e1",
   "metadata": {},
   "outputs": [
    {
     "name": "stdout",
     "output_type": "stream",
     "text": [
      "p-значение: 6.922200706540667e-22\n",
      "Отвергаем нулевую гипотезу\n"
     ]
    }
   ],
   "source": [
    "alpha = 0.01\n",
    "x = st.ttest_ind(users_ultra['duration_sum'], users_free['duration_sum'])\n",
    "\n",
    "print(\"p-значение:\", x.pvalue)\n",
    "if x.pvalue < alpha:\n",
    "    print(\"Отвергаем нулевую гипотезу\")\n",
    "else:\n",
    "    print(\"Не получилось опровергнуть нулевую гипотезу\")\n"
   ]
  },
  {
   "cell_type": "markdown",
   "id": "61c0776c",
   "metadata": {},
   "source": [
    "<div class=\"alert alert-block alert-danger\">\n",
    "<h2> Комментарий ревьюера v1 <a class=\"tocSkip\"></h2>\n",
    "\n",
    "<b>На доработку🤔:</b>  А вывод?)"
   ]
  },
  {
   "cell_type": "markdown",
   "id": "bedca410",
   "metadata": {},
   "source": [
    "Построили гипотезу о равенстве среднего времени пользователей с подпиской и без. \n",
    "Исходя из полученных данных, видим, что равенства между этими значениями нет. \n"
   ]
  },
  {
   "cell_type": "markdown",
   "id": "aec4a206",
   "metadata": {},
   "source": [
    "<div class=\"alert alert-success\">\n",
    "<h2> Комментарий ревьюера v2 <a class=\"tocSkip\"> </h2>\n",
    "\n",
    "<b>Все супер!👍:</b> Хорошо \n",
    "    "
   ]
  },
  {
   "cell_type": "markdown",
   "id": "2cec1ce7",
   "metadata": {},
   "source": [
    "<div class=\"alert alert-warning\">\n",
    "    <h2> Комментарий ревьюера v1 <a class=\"tocSkip\"> </h2>\n",
    "    \n",
    "<b>Небольшие замечания и рекомендации💡:</b> А почему тут не используешь параметр alternative ?"
   ]
  },
  {
   "cell_type": "markdown",
   "id": "68f126fe",
   "metadata": {},
   "source": [
    "**Проверим гипотезу о дистанции**\n",
    "Для этого используем t test.\n",
    "Нулевая гипотеза - дальность поездки у пользователей с подпиской ultra равна 3130 метров\n",
    "Альтернативная гипотеза - дальность поездки пользователей с подпиской ultra больше 3130 метров"
   ]
  },
  {
   "cell_type": "markdown",
   "id": "5d4f1b3d",
   "metadata": {},
   "source": [
    "<div class=\"alert alert-success\">\n",
    "<h2> Комментарий ревьюера v1 <a class=\"tocSkip\"> </h2>\n",
    "\n",
    "<b>Все супер!👍:</b> Гипоетзы сформулированы верно "
   ]
  },
  {
   "cell_type": "code",
   "execution_count": 53,
   "id": "5c26ebf0",
   "metadata": {
    "scrolled": true
   },
   "outputs": [
    {
     "name": "stdout",
     "output_type": "stream",
     "text": [
      "3.883541374011314e-278\n",
      "Отвергаем нулевую гипотезу\n"
     ]
    }
   ],
   "source": [
    "ultra_dist = users_ultra['distance_sum']\n",
    "\n",
    "interested_value = 3130\n",
    "\n",
    "alpha = 0.05\n",
    "results = st.ttest_1samp(ultra_dist, interested_value, alternative = 'greater')\n",
    "\n",
    "print(results.pvalue)\n",
    "if (results.pvalue < alpha):\n",
    "    print(\"Отвергаем нулевую гипотезу\")\n",
    "else:\n",
    "    print(\"Не удалось опровергнуть нулевую гипотезу\")"
   ]
  },
  {
   "cell_type": "markdown",
   "id": "ad2765d1",
   "metadata": {},
   "source": [
    "<div class=\"alert alert-block alert-danger\">\n",
    "<h2> Комментарий ревьюера v1 <a class=\"tocSkip\"></h2>\n",
    "\n",
    "<b>На доработку🤔:</b>  А вывод?"
   ]
  },
  {
   "cell_type": "markdown",
   "id": "b6b8373e",
   "metadata": {},
   "source": [
    "Снова проверяем гипотезы. Исходя из теста, видим, что нудевая гипотеза должна быть опровергнута.\n",
    "Соотвественно средняя дистанция пользователей ultra не равна 3130 метрам."
   ]
  },
  {
   "cell_type": "markdown",
   "id": "9fe7c3a0",
   "metadata": {},
   "source": [
    "<div class=\"alert alert-success\">\n",
    "<h2> Комментарий ревьюера v2 <a class=\"tocSkip\"> </h2>\n",
    "\n",
    "<b>Все супер!👍:</b> ++"
   ]
  },
  {
   "cell_type": "markdown",
   "id": "8a9eea3f",
   "metadata": {},
   "source": [
    "Проверим гипотезы по средней выручке."
   ]
  },
  {
   "cell_type": "code",
   "execution_count": 54,
   "id": "4f76a700",
   "metadata": {},
   "outputs": [
    {
     "data": {
      "text/plain": [
       "361.5"
      ]
     },
     "metadata": {},
     "output_type": "display_data"
    },
    {
     "data": {
      "text/plain": [
       "325.8"
      ]
     },
     "execution_count": 54,
     "metadata": {},
     "output_type": "execute_result"
    }
   ],
   "source": [
    "display(round(users_ultra['budget'].mean(),1)) #посмотрим средние значения трат в месяц пользователей с подпиской и без\n",
    "round(users_free['budget'].mean(),1)"
   ]
  },
  {
   "cell_type": "markdown",
   "id": "c52cbfb2",
   "metadata": {},
   "source": [
    "**Нулевая гипотеза** - среднемесячная выручка пользователей с подпиской равна среднемесячной выручке без.\n",
    "**Альтернативная гипотеза**- среднемесячная выручка пользователей с подпиской выше, чем у пользователей без подписки."
   ]
  },
  {
   "cell_type": "markdown",
   "id": "d545a2e0",
   "metadata": {},
   "source": [
    "<div class=\"alert alert-success\">\n",
    "<h2> Комментарий ревьюера v1 <a class=\"tocSkip\"> </h2>\n",
    "\n",
    "<b>Все супер!👍:</b> Гипотезы сформулированы верно) \n",
    "    "
   ]
  },
  {
   "cell_type": "code",
   "execution_count": 55,
   "id": "9d9aad99",
   "metadata": {},
   "outputs": [
    {
     "name": "stdout",
     "output_type": "stream",
     "text": [
      "p-value: 2.8130926188487286e-35\n",
      "Опровергаем нулевую гипотезу\n"
     ]
    }
   ],
   "source": [
    "alpha = 0.05\n",
    "\n",
    "revenue_ultra = users_ultra['budget']\n",
    "revenue_free = users_free['budget']\n",
    "\n",
    "result = st.ttest_ind(revenue_ultra, revenue_free, alternative = 'greater')\n",
    "\n",
    "print(f'p-value: {result.pvalue}')\n",
    "\n",
    "if result.pvalue < alpha:\n",
    "    print('Опровергаем нулевую гипотезу')\n",
    "else:\n",
    "    print('Не можем опровергнуть нулевую гипотезу')"
   ]
  },
  {
   "cell_type": "markdown",
   "id": "fa580085",
   "metadata": {},
   "source": [
    "<div class=\"alert alert-block alert-danger\">\n",
    "<h2> Комментарий ревьюера v1 <a class=\"tocSkip\"></h2>\n",
    "\n",
    "<b>На доработку🤔:</b>  Вывод) "
   ]
  },
  {
   "cell_type": "markdown",
   "id": "c8dfa507",
   "metadata": {},
   "source": [
    "Гипотеза по выручке - среднемесячная выручка пользователей с подпиской равна среднемесячной выручке пользователей без. \n",
    "Исходя из теста, вижу, что гипотеза не подтверждена. Среднемесячная выручка пользователей с подпиской выше."
   ]
  },
  {
   "cell_type": "markdown",
   "id": "ce612f4f",
   "metadata": {},
   "source": [
    "<div class=\"alert alert-block alert-danger\">\n",
    "<h2> Комментарий ревьюера v1 <a class=\"tocSkip\"></h2>\n",
    "\n",
    "<b>На доработку🤔:</b>  А разве мы должны смотреть выручки не по месяцам?) "
   ]
  },
  {
   "cell_type": "markdown",
   "id": "71ec0bf3",
   "metadata": {},
   "source": [
    "<div class=\"alert alert-info\">\n",
    "<b>Подскажи, пжлст, что ты имеешь ввиду по месяцам? В тесте я брал 2 датасета users_ultra, users_free и там, и там выручка на каждого юзера по месяцам разбито. Разве не так правильно? </b> "
   ]
  },
  {
   "cell_type": "markdown",
   "id": "0d0a5868",
   "metadata": {},
   "source": [
    "<div class=\"alert alert-success\">\n",
    "<h2> Комментарий ревьюера v2 <a class=\"tocSkip\"> </h2>\n",
    "\n",
    "<b>Все супер!👍:</b> Да все верно) "
   ]
  },
  {
   "cell_type": "markdown",
   "id": "6255ca62",
   "metadata": {},
   "source": [
    "**6.4** Для проверки гипотезы по изменению количества обращений в техподдержку, я бы использовал парный t-test Стьюдента."
   ]
  },
  {
   "cell_type": "markdown",
   "id": "f419882a",
   "metadata": {},
   "source": [
    "<div class=\"alert alert-success\">\n",
    "<h2> Комментарий ревьюера v1 <a class=\"tocSkip\"> </h2>\n",
    "\n",
    "<b>Все супер!👍:</b> +++"
   ]
  },
  {
   "cell_type": "markdown",
   "id": "1f061c90",
   "metadata": {},
   "source": [
    "# Общий вывод и рекомендации для сервиса.\n",
    "1. Основная группа пользователей от 22 до 28 лет.\n",
    "2. В среднем проезжают 3,1 км\n",
    "3. Длительность в среднем чуть менее 18 минут.\n",
    "4. Пользователей с подпиской - 46%, без подписки - 54%.\n",
    "\n",
    "Рекомендации:\n",
    "Проверка гипотез показала, что основные параметры (длительность поездки, дистанция и траты) пользвоателя с подпиской не равны тратам пользователей без подписки. \n",
    "Исходя из проверки гипотез и исследования двух групп, рекомендация сревису - увлечивать долю пользователей с подпиской. "
   ]
  },
  {
   "cell_type": "markdown",
   "id": "61213c5e",
   "metadata": {},
   "source": [
    "#### Шаг 7. Распределения"
   ]
  },
  {
   "cell_type": "markdown",
   "id": "0fcf12eb",
   "metadata": {},
   "source": [
    "<div class=\"alert alert-block alert-danger\">\n",
    "<h2> Комментарий ревьюера v1 <a class=\"tocSkip\"></h2>\n",
    "\n",
    "<b>На доработку🤔:</b>  Исправим замечания и доработаем вывод) "
   ]
  },
  {
   "cell_type": "markdown",
   "id": "8a9c587d",
   "metadata": {},
   "source": [
    "<div class=\"alert alert-success\">\n",
    "<h2> Комментарий ревьюера v2 <a class=\"tocSkip\"> </h2>\n",
    "\n",
    "<b>Все супер!👍:</b> Вывод отражает проделанную работу"
   ]
  },
  {
   "cell_type": "markdown",
   "id": "5d21607d",
   "metadata": {},
   "source": [
    "<div style=\"border:solid Chocolate 2px; padding: 40px\">\n",
    "    \n",
    "**Общий вывод по проекту ревьювера**:\n",
    "Этибар, спасибо за  проект! Ты приложил много усилий, чтобы довести его до конца, проделана огромная работа, и это видно невооруженным глазом, ты большой молодец!\n",
    "    \n",
    "**Отмечу положительные моменты**:\n",
    "    \n",
    "    1. Все разложено по полочкам, всегда понятен ход твоих мыслей, приятно смотреть\n",
    "    \n",
    "    2. Отличные визуализации\n",
    "    \n",
    "    3. На разных шагах проекта ты предлагал очень интересные решения и методы для их реализации. Хорошая работа!\n",
    "    \n",
    "    \n",
    "**На что стоит обратить внимание**:\n",
    "    \n",
    "    1. Оформление визуализаций\n",
    "    \n",
    "    \n",
    "**Удачи и жду твой проект на повторное ревью!**"
   ]
  },
  {
   "cell_type": "markdown",
   "id": "e43b9f84",
   "metadata": {},
   "source": [
    "<div style=\"border:solid Chocolate 2px; padding: 40px\">\n",
    "    \n",
    "**Общий вывод по проекту ревьювера v2**:\n",
    "Этибар, исправим оставшиеся замечания и проект будет зачтен) "
   ]
  },
  {
   "cell_type": "markdown",
   "id": "40fec6f1",
   "metadata": {},
   "source": [
    "<div style=\"border:solid Chocolate 2px; padding: 40px\">\n",
    "    \n",
    "**Общий вывод по проекту ревьювера v3**:\n",
    "Этибар, ошибки исправлены, проект принят, поздравляю тебя! Успешной учебы и еще увидимся в Практикуме!"
   ]
  },
  {
   "cell_type": "markdown",
   "id": "5fea9628",
   "metadata": {},
   "source": [
    "**Спасибо!!**"
   ]
  }
 ],
 "metadata": {
  "ExecuteTimeLog": [
   {
    "duration": 54,
    "start_time": "2023-07-05T18:40:13.632Z"
   },
   {
    "duration": 6,
    "start_time": "2023-07-05T18:40:20.590Z"
   },
   {
    "duration": 1381,
    "start_time": "2023-07-05T18:40:28.168Z"
   },
   {
    "duration": 559,
    "start_time": "2023-07-05T18:40:30.422Z"
   },
   {
    "duration": 3,
    "start_time": "2023-07-05T18:40:33.026Z"
   },
   {
    "duration": 1214,
    "start_time": "2023-07-06T19:52:55.055Z"
   },
   {
    "duration": 372,
    "start_time": "2023-07-06T19:52:58.583Z"
   },
   {
    "duration": 104,
    "start_time": "2023-07-06T19:53:12.929Z"
   },
   {
    "duration": 14,
    "start_time": "2023-07-06T19:53:18.170Z"
   },
   {
    "duration": 13,
    "start_time": "2023-07-06T20:01:39.149Z"
   },
   {
    "duration": 22,
    "start_time": "2023-07-06T20:01:53.226Z"
   },
   {
    "duration": 21,
    "start_time": "2023-07-06T20:03:05.245Z"
   },
   {
    "duration": 38,
    "start_time": "2023-07-06T20:03:10.918Z"
   },
   {
    "duration": 23,
    "start_time": "2023-07-06T20:03:14.054Z"
   },
   {
    "duration": 48,
    "start_time": "2023-07-06T20:07:30.230Z"
   },
   {
    "duration": 25,
    "start_time": "2023-07-06T20:09:16.341Z"
   },
   {
    "duration": 13,
    "start_time": "2023-07-06T20:14:07.611Z"
   },
   {
    "duration": 25,
    "start_time": "2023-07-06T20:14:26.530Z"
   },
   {
    "duration": 13,
    "start_time": "2023-07-06T20:20:28.228Z"
   },
   {
    "duration": 31,
    "start_time": "2023-07-06T20:24:07.296Z"
   },
   {
    "duration": 6,
    "start_time": "2023-07-06T20:24:17.026Z"
   },
   {
    "duration": 11,
    "start_time": "2023-07-06T20:25:05.754Z"
   },
   {
    "duration": 7,
    "start_time": "2023-07-06T20:26:37.155Z"
   },
   {
    "duration": 17,
    "start_time": "2023-07-06T20:26:47.560Z"
   },
   {
    "duration": 5,
    "start_time": "2023-07-06T20:27:13.938Z"
   },
   {
    "duration": 11,
    "start_time": "2023-07-06T20:28:01.156Z"
   },
   {
    "duration": 13,
    "start_time": "2023-07-06T20:28:15.419Z"
   },
   {
    "duration": 13,
    "start_time": "2023-07-06T20:28:18.538Z"
   },
   {
    "duration": 11,
    "start_time": "2023-07-06T20:28:26.931Z"
   },
   {
    "duration": 5,
    "start_time": "2023-07-06T20:28:44.935Z"
   },
   {
    "duration": 12,
    "start_time": "2023-07-06T20:28:47.133Z"
   },
   {
    "duration": 11,
    "start_time": "2023-07-06T20:28:56.740Z"
   },
   {
    "duration": 23,
    "start_time": "2023-07-06T20:29:45.323Z"
   },
   {
    "duration": 8,
    "start_time": "2023-07-06T20:30:11.434Z"
   },
   {
    "duration": 11,
    "start_time": "2023-07-06T20:30:24.134Z"
   },
   {
    "duration": 5,
    "start_time": "2023-07-06T20:30:40.541Z"
   },
   {
    "duration": 6,
    "start_time": "2023-07-06T20:30:55.355Z"
   },
   {
    "duration": 7,
    "start_time": "2023-07-06T20:31:08.369Z"
   },
   {
    "duration": 4,
    "start_time": "2023-07-06T20:37:03.462Z"
   },
   {
    "duration": 11,
    "start_time": "2023-07-06T20:37:56.225Z"
   },
   {
    "duration": 8,
    "start_time": "2023-07-06T20:38:02.602Z"
   },
   {
    "duration": 4,
    "start_time": "2023-07-06T20:38:09.532Z"
   },
   {
    "duration": 5,
    "start_time": "2023-07-06T20:38:15.777Z"
   },
   {
    "duration": 9,
    "start_time": "2023-07-06T20:40:27.765Z"
   },
   {
    "duration": 8,
    "start_time": "2023-07-06T20:41:09.960Z"
   },
   {
    "duration": 10,
    "start_time": "2023-07-06T20:41:15.100Z"
   },
   {
    "duration": 14,
    "start_time": "2023-07-06T20:42:02.781Z"
   },
   {
    "duration": 7,
    "start_time": "2023-07-06T20:43:00.714Z"
   },
   {
    "duration": 164,
    "start_time": "2023-07-06T20:44:34.397Z"
   },
   {
    "duration": 187,
    "start_time": "2023-07-06T20:44:50.498Z"
   },
   {
    "duration": 217,
    "start_time": "2023-07-06T20:45:04.680Z"
   },
   {
    "duration": 13,
    "start_time": "2023-07-06T20:47:55.231Z"
   },
   {
    "duration": 22,
    "start_time": "2023-07-06T20:48:04.576Z"
   },
   {
    "duration": 19,
    "start_time": "2023-07-06T20:50:31.539Z"
   },
   {
    "duration": 8,
    "start_time": "2023-07-06T20:50:44.493Z"
   },
   {
    "duration": 6,
    "start_time": "2023-07-06T20:50:46.788Z"
   },
   {
    "duration": 13,
    "start_time": "2023-07-06T20:50:50.470Z"
   },
   {
    "duration": 139,
    "start_time": "2023-07-06T20:52:02.026Z"
   },
   {
    "duration": 132,
    "start_time": "2023-07-06T20:54:04.310Z"
   },
   {
    "duration": 289,
    "start_time": "2023-07-06T20:54:12.887Z"
   },
   {
    "duration": 194,
    "start_time": "2023-07-06T20:54:27.180Z"
   },
   {
    "duration": 127,
    "start_time": "2023-07-06T20:55:45.746Z"
   },
   {
    "duration": 173,
    "start_time": "2023-07-06T20:55:57.216Z"
   },
   {
    "duration": 165,
    "start_time": "2023-07-06T20:56:09.173Z"
   },
   {
    "duration": 155,
    "start_time": "2023-07-06T20:56:17.515Z"
   },
   {
    "duration": 203,
    "start_time": "2023-07-06T20:56:25.916Z"
   },
   {
    "duration": 13,
    "start_time": "2023-07-06T20:58:12.676Z"
   },
   {
    "duration": 147,
    "start_time": "2023-07-06T20:58:55.270Z"
   },
   {
    "duration": 197,
    "start_time": "2023-07-06T20:59:08.519Z"
   },
   {
    "duration": 52,
    "start_time": "2023-07-06T21:03:27.930Z"
   },
   {
    "duration": 143,
    "start_time": "2023-07-06T21:03:41.427Z"
   },
   {
    "duration": 1336,
    "start_time": "2023-07-09T10:01:03.776Z"
   },
   {
    "duration": 303,
    "start_time": "2023-07-09T10:01:05.968Z"
   },
   {
    "duration": 35,
    "start_time": "2023-07-09T10:01:08.332Z"
   },
   {
    "duration": 36,
    "start_time": "2023-07-09T10:01:11.112Z"
   },
   {
    "duration": 23,
    "start_time": "2023-07-09T10:01:14.839Z"
   },
   {
    "duration": 17,
    "start_time": "2023-07-09T10:01:18.134Z"
   },
   {
    "duration": 12,
    "start_time": "2023-07-09T10:01:20.337Z"
   },
   {
    "duration": 12,
    "start_time": "2023-07-09T10:01:22.722Z"
   },
   {
    "duration": 6,
    "start_time": "2023-07-09T10:01:25.012Z"
   },
   {
    "duration": 12,
    "start_time": "2023-07-09T10:01:26.966Z"
   },
   {
    "duration": 6,
    "start_time": "2023-07-09T10:01:29.664Z"
   },
   {
    "duration": 9,
    "start_time": "2023-07-09T10:01:32.052Z"
   },
   {
    "duration": 142,
    "start_time": "2023-07-09T10:01:34.527Z"
   },
   {
    "duration": 158,
    "start_time": "2023-07-09T10:07:12.316Z"
   },
   {
    "duration": 10,
    "start_time": "2023-07-09T10:07:26.157Z"
   },
   {
    "duration": 12,
    "start_time": "2023-07-09T10:09:16.372Z"
   },
   {
    "duration": 15,
    "start_time": "2023-07-09T10:12:44.666Z"
   },
   {
    "duration": 3,
    "start_time": "2023-07-09T10:14:44.743Z"
   },
   {
    "duration": 2,
    "start_time": "2023-07-09T10:14:48.080Z"
   },
   {
    "duration": 9,
    "start_time": "2023-07-09T10:15:08.039Z"
   },
   {
    "duration": 4,
    "start_time": "2023-07-09T10:15:32.141Z"
   },
   {
    "duration": 108,
    "start_time": "2023-07-09T10:16:14.631Z"
   },
   {
    "duration": 102,
    "start_time": "2023-07-09T10:16:23.130Z"
   },
   {
    "duration": 207,
    "start_time": "2023-07-09T10:16:26.526Z"
   },
   {
    "duration": 124,
    "start_time": "2023-07-09T10:16:32.267Z"
   },
   {
    "duration": 16,
    "start_time": "2023-07-09T10:30:13.622Z"
   },
   {
    "duration": 6,
    "start_time": "2023-07-09T10:31:52.731Z"
   },
   {
    "duration": 8,
    "start_time": "2023-07-09T10:32:32.969Z"
   },
   {
    "duration": 11,
    "start_time": "2023-07-09T10:32:46.944Z"
   },
   {
    "duration": 8,
    "start_time": "2023-07-09T10:32:57.685Z"
   },
   {
    "duration": 35,
    "start_time": "2023-07-09T10:33:13.098Z"
   },
   {
    "duration": 6,
    "start_time": "2023-07-09T10:34:20.037Z"
   },
   {
    "duration": 34,
    "start_time": "2023-07-09T10:34:25.390Z"
   },
   {
    "duration": 162,
    "start_time": "2023-07-09T10:34:44.535Z"
   },
   {
    "duration": 80,
    "start_time": "2023-07-09T10:36:29.347Z"
   },
   {
    "duration": 21,
    "start_time": "2023-07-09T10:36:44.133Z"
   },
   {
    "duration": 17,
    "start_time": "2023-07-09T10:37:15.721Z"
   },
   {
    "duration": 29,
    "start_time": "2023-07-09T10:37:26.998Z"
   },
   {
    "duration": 12,
    "start_time": "2023-07-09T10:37:32.654Z"
   },
   {
    "duration": 12,
    "start_time": "2023-07-09T10:37:42.342Z"
   },
   {
    "duration": 16,
    "start_time": "2023-07-09T10:38:01.738Z"
   },
   {
    "duration": 18,
    "start_time": "2023-07-09T10:38:12.645Z"
   },
   {
    "duration": 10,
    "start_time": "2023-07-09T10:38:30.447Z"
   },
   {
    "duration": 16,
    "start_time": "2023-07-09T10:38:40.163Z"
   },
   {
    "duration": 142,
    "start_time": "2023-07-09T10:39:32.341Z"
   },
   {
    "duration": 153,
    "start_time": "2023-07-09T10:39:44.031Z"
   },
   {
    "duration": 292,
    "start_time": "2023-07-09T10:40:03.735Z"
   },
   {
    "duration": 11,
    "start_time": "2023-07-09T10:40:48.960Z"
   },
   {
    "duration": 7,
    "start_time": "2023-07-09T10:40:57.428Z"
   },
   {
    "duration": 204,
    "start_time": "2023-07-09T10:41:27.858Z"
   },
   {
    "duration": 8,
    "start_time": "2023-07-09T10:45:46.496Z"
   },
   {
    "duration": 21,
    "start_time": "2023-07-09T10:46:48.497Z"
   },
   {
    "duration": 6,
    "start_time": "2023-07-09T10:48:32.216Z"
   },
   {
    "duration": 6,
    "start_time": "2023-07-09T10:48:48.721Z"
   },
   {
    "duration": 6,
    "start_time": "2023-07-09T10:49:52.537Z"
   },
   {
    "duration": 7,
    "start_time": "2023-07-09T10:50:28.957Z"
   },
   {
    "duration": 7,
    "start_time": "2023-07-09T10:51:57.275Z"
   },
   {
    "duration": 6,
    "start_time": "2023-07-09T10:52:15.697Z"
   },
   {
    "duration": 137,
    "start_time": "2023-07-09T10:53:18.713Z"
   },
   {
    "duration": 216,
    "start_time": "2023-07-09T10:53:35.868Z"
   },
   {
    "duration": 192,
    "start_time": "2023-07-09T10:54:08.799Z"
   },
   {
    "duration": 6,
    "start_time": "2023-07-09T10:54:49.264Z"
   },
   {
    "duration": 222,
    "start_time": "2023-07-09T10:55:11.366Z"
   },
   {
    "duration": 7,
    "start_time": "2023-07-09T10:55:22.711Z"
   },
   {
    "duration": 7,
    "start_time": "2023-07-09T10:55:29.954Z"
   },
   {
    "duration": 132,
    "start_time": "2023-07-09T10:55:47.541Z"
   },
   {
    "duration": 172,
    "start_time": "2023-07-09T10:55:55.102Z"
   },
   {
    "duration": 10,
    "start_time": "2023-07-09T13:09:48.154Z"
   },
   {
    "duration": 13,
    "start_time": "2023-07-09T13:10:04.087Z"
   },
   {
    "duration": 16,
    "start_time": "2023-07-09T13:10:29.472Z"
   },
   {
    "duration": 30,
    "start_time": "2023-07-09T13:15:37.892Z"
   },
   {
    "duration": 9,
    "start_time": "2023-07-09T13:21:02.711Z"
   },
   {
    "duration": 8,
    "start_time": "2023-07-09T13:22:40.923Z"
   },
   {
    "duration": 24,
    "start_time": "2023-07-09T13:30:46.466Z"
   },
   {
    "duration": 19,
    "start_time": "2023-07-09T13:33:06.643Z"
   },
   {
    "duration": 26,
    "start_time": "2023-07-09T13:34:59.690Z"
   },
   {
    "duration": 18,
    "start_time": "2023-07-09T13:38:39.564Z"
   },
   {
    "duration": 35,
    "start_time": "2023-07-09T13:38:45.598Z"
   },
   {
    "duration": 35,
    "start_time": "2023-07-09T13:38:53.215Z"
   },
   {
    "duration": 10,
    "start_time": "2023-07-09T13:44:48.519Z"
   },
   {
    "duration": 28,
    "start_time": "2023-07-09T13:44:57.599Z"
   },
   {
    "duration": 30,
    "start_time": "2023-07-09T13:45:00.292Z"
   },
   {
    "duration": 12,
    "start_time": "2023-07-09T13:45:02.699Z"
   },
   {
    "duration": 101,
    "start_time": "2023-07-09T13:45:07.260Z"
   },
   {
    "duration": 19,
    "start_time": "2023-07-09T13:48:56.261Z"
   },
   {
    "duration": 170,
    "start_time": "2023-07-09T13:49:27.396Z"
   },
   {
    "duration": 196,
    "start_time": "2023-07-09T13:49:42.398Z"
   },
   {
    "duration": 289,
    "start_time": "2023-07-09T13:50:11.795Z"
   },
   {
    "duration": 240,
    "start_time": "2023-07-09T13:50:26.039Z"
   },
   {
    "duration": 111,
    "start_time": "2023-07-09T13:56:03.211Z"
   },
   {
    "duration": 198,
    "start_time": "2023-07-09T13:56:10.015Z"
   },
   {
    "duration": 189,
    "start_time": "2023-07-09T13:56:39.319Z"
   },
   {
    "duration": 203,
    "start_time": "2023-07-09T13:57:51.295Z"
   },
   {
    "duration": 189,
    "start_time": "2023-07-09T13:57:59.534Z"
   },
   {
    "duration": 337,
    "start_time": "2023-07-09T14:02:05.570Z"
   },
   {
    "duration": 148,
    "start_time": "2023-07-09T14:02:11.394Z"
   },
   {
    "duration": 160,
    "start_time": "2023-07-09T14:02:22.433Z"
   },
   {
    "duration": 175,
    "start_time": "2023-07-09T14:02:32.415Z"
   },
   {
    "duration": 188,
    "start_time": "2023-07-09T14:02:41.433Z"
   },
   {
    "duration": 171,
    "start_time": "2023-07-09T14:02:48.911Z"
   },
   {
    "duration": 154,
    "start_time": "2023-07-09T14:03:00.918Z"
   },
   {
    "duration": 11,
    "start_time": "2023-07-09T14:03:54.211Z"
   },
   {
    "duration": 4,
    "start_time": "2023-07-09T14:07:06.811Z"
   },
   {
    "duration": 4,
    "start_time": "2023-07-09T14:07:32.594Z"
   },
   {
    "duration": 12,
    "start_time": "2023-07-09T14:08:16.501Z"
   },
   {
    "duration": 4,
    "start_time": "2023-07-09T14:08:38.351Z"
   },
   {
    "duration": 152,
    "start_time": "2023-07-09T14:26:10.740Z"
   },
   {
    "duration": 164,
    "start_time": "2023-07-09T14:26:46.978Z"
   },
   {
    "duration": 7,
    "start_time": "2023-07-09T14:28:39.820Z"
   },
   {
    "duration": 21,
    "start_time": "2023-07-09T14:30:02.496Z"
   },
   {
    "duration": 7,
    "start_time": "2023-07-09T14:30:37.965Z"
   },
   {
    "duration": 10,
    "start_time": "2023-07-09T14:31:01.632Z"
   },
   {
    "duration": 15,
    "start_time": "2023-07-09T14:31:53.912Z"
   },
   {
    "duration": 9,
    "start_time": "2023-07-09T14:33:09.286Z"
   },
   {
    "duration": 9,
    "start_time": "2023-07-09T14:33:47.137Z"
   },
   {
    "duration": 8,
    "start_time": "2023-07-09T14:34:07.230Z"
   },
   {
    "duration": 12,
    "start_time": "2023-07-09T14:34:13.583Z"
   },
   {
    "duration": 116,
    "start_time": "2023-07-09T15:15:25.862Z"
   },
   {
    "duration": 64,
    "start_time": "2023-07-09T15:15:56.332Z"
   },
   {
    "duration": 7,
    "start_time": "2023-07-09T15:17:58.747Z"
   },
   {
    "duration": 56,
    "start_time": "2023-07-09T15:20:01.627Z"
   },
   {
    "duration": 40,
    "start_time": "2023-07-09T15:20:45.192Z"
   },
   {
    "duration": 23,
    "start_time": "2023-07-09T15:32:44.370Z"
   },
   {
    "duration": 15,
    "start_time": "2023-07-09T15:38:18.274Z"
   },
   {
    "duration": 23,
    "start_time": "2023-07-09T15:39:39.894Z"
   },
   {
    "duration": 58,
    "start_time": "2023-07-09T15:42:23.521Z"
   },
   {
    "duration": 17,
    "start_time": "2023-07-09T15:42:32.154Z"
   },
   {
    "duration": 22,
    "start_time": "2023-07-09T15:48:35.731Z"
   },
   {
    "duration": 15,
    "start_time": "2023-07-09T15:52:47.968Z"
   },
   {
    "duration": 13,
    "start_time": "2023-07-09T15:53:00.439Z"
   },
   {
    "duration": 9,
    "start_time": "2023-07-09T15:58:20.643Z"
   },
   {
    "duration": 21,
    "start_time": "2023-07-09T15:58:33.190Z"
   },
   {
    "duration": 16,
    "start_time": "2023-07-09T15:58:39.676Z"
   },
   {
    "duration": 20,
    "start_time": "2023-07-09T16:01:03.852Z"
   },
   {
    "duration": 20,
    "start_time": "2023-07-09T16:01:27.377Z"
   },
   {
    "duration": 43,
    "start_time": "2023-07-09T16:01:33.082Z"
   },
   {
    "duration": 17,
    "start_time": "2023-07-09T16:01:47.651Z"
   },
   {
    "duration": 27,
    "start_time": "2023-07-09T16:01:59.930Z"
   },
   {
    "duration": 11,
    "start_time": "2023-07-09T17:43:51.070Z"
   },
   {
    "duration": 24,
    "start_time": "2023-07-09T17:44:10.557Z"
   },
   {
    "duration": 22,
    "start_time": "2023-07-09T17:44:30.820Z"
   },
   {
    "duration": 33,
    "start_time": "2023-07-09T17:44:41.131Z"
   },
   {
    "duration": 18,
    "start_time": "2023-07-09T17:44:51.521Z"
   },
   {
    "duration": 21,
    "start_time": "2023-07-09T17:45:28.774Z"
   },
   {
    "duration": 12,
    "start_time": "2023-07-09T17:51:30.783Z"
   },
   {
    "duration": 17,
    "start_time": "2023-07-09T17:51:41.606Z"
   },
   {
    "duration": 18,
    "start_time": "2023-07-09T17:54:00.035Z"
   },
   {
    "duration": 7,
    "start_time": "2023-07-09T18:51:43.822Z"
   },
   {
    "duration": 29,
    "start_time": "2023-07-09T18:53:41.699Z"
   },
   {
    "duration": 11,
    "start_time": "2023-07-09T18:54:06.383Z"
   },
   {
    "duration": 17,
    "start_time": "2023-07-09T18:59:34.218Z"
   },
   {
    "duration": 4,
    "start_time": "2023-07-09T18:59:44.070Z"
   },
   {
    "duration": 4,
    "start_time": "2023-07-09T18:59:52.371Z"
   },
   {
    "duration": 8,
    "start_time": "2023-07-09T19:06:30.943Z"
   },
   {
    "duration": 7,
    "start_time": "2023-07-09T19:06:56.534Z"
   },
   {
    "duration": 8,
    "start_time": "2023-07-09T19:22:05.626Z"
   },
   {
    "duration": 6,
    "start_time": "2023-07-09T19:22:52.922Z"
   },
   {
    "duration": 1462,
    "start_time": "2023-07-12T19:13:42.424Z"
   },
   {
    "duration": 715,
    "start_time": "2023-07-12T19:13:44.852Z"
   },
   {
    "duration": 48,
    "start_time": "2023-07-12T19:13:49.582Z"
   },
   {
    "duration": 40,
    "start_time": "2023-07-12T19:13:54.014Z"
   },
   {
    "duration": 27,
    "start_time": "2023-07-12T19:13:59.210Z"
   },
   {
    "duration": 20,
    "start_time": "2023-07-12T19:14:04.310Z"
   },
   {
    "duration": 10,
    "start_time": "2023-07-12T19:14:07.630Z"
   },
   {
    "duration": 21,
    "start_time": "2023-07-12T19:14:10.394Z"
   },
   {
    "duration": 8,
    "start_time": "2023-07-12T19:14:12.993Z"
   },
   {
    "duration": 36,
    "start_time": "2023-07-12T19:14:15.160Z"
   },
   {
    "duration": 21,
    "start_time": "2023-07-12T19:14:21.097Z"
   },
   {
    "duration": 6,
    "start_time": "2023-07-12T19:14:26.143Z"
   },
   {
    "duration": 214,
    "start_time": "2023-07-12T19:14:33.544Z"
   },
   {
    "duration": 18,
    "start_time": "2023-07-12T19:14:38.202Z"
   },
   {
    "duration": 5,
    "start_time": "2023-07-12T19:14:40.959Z"
   },
   {
    "duration": 134,
    "start_time": "2023-07-12T19:14:44.543Z"
   },
   {
    "duration": 11,
    "start_time": "2023-07-12T19:14:48.032Z"
   },
   {
    "duration": 24,
    "start_time": "2023-07-12T19:14:53.354Z"
   },
   {
    "duration": 12,
    "start_time": "2023-07-12T19:15:22.388Z"
   },
   {
    "duration": 255,
    "start_time": "2023-07-12T19:15:25.185Z"
   },
   {
    "duration": 9,
    "start_time": "2023-07-12T19:15:29.757Z"
   },
   {
    "duration": 6,
    "start_time": "2023-07-12T19:15:32.661Z"
   },
   {
    "duration": 221,
    "start_time": "2023-07-12T19:15:35.381Z"
   },
   {
    "duration": 6,
    "start_time": "2023-07-12T19:15:39.319Z"
   },
   {
    "duration": 217,
    "start_time": "2023-07-12T19:15:42.202Z"
   },
   {
    "duration": 19,
    "start_time": "2023-07-12T19:15:46.111Z"
   },
   {
    "duration": 25,
    "start_time": "2023-07-12T19:15:48.401Z"
   },
   {
    "duration": 34,
    "start_time": "2023-07-12T19:15:50.994Z"
   },
   {
    "duration": 37,
    "start_time": "2023-07-12T19:15:54.006Z"
   },
   {
    "duration": 227,
    "start_time": "2023-07-12T19:15:58.102Z"
   },
   {
    "duration": 201,
    "start_time": "2023-07-12T19:16:00.607Z"
   },
   {
    "duration": 13,
    "start_time": "2023-07-12T19:16:03.210Z"
   },
   {
    "duration": 22,
    "start_time": "2023-07-12T19:16:06.265Z"
   },
   {
    "duration": 199,
    "start_time": "2023-07-12T19:16:08.210Z"
   },
   {
    "duration": 275,
    "start_time": "2023-07-12T19:16:10.864Z"
   },
   {
    "duration": 13,
    "start_time": "2023-07-12T19:16:13.851Z"
   },
   {
    "duration": 18,
    "start_time": "2023-07-12T19:16:16.585Z"
   },
   {
    "duration": 25,
    "start_time": "2023-07-12T19:16:19.425Z"
   },
   {
    "duration": 28,
    "start_time": "2023-07-12T19:16:21.809Z"
   },
   {
    "duration": 25,
    "start_time": "2023-07-12T19:16:24.523Z"
   },
   {
    "duration": 48,
    "start_time": "2023-07-12T19:16:27.765Z"
   },
   {
    "duration": 43,
    "start_time": "2023-07-12T19:16:30.362Z"
   },
   {
    "duration": 26,
    "start_time": "2023-07-12T19:16:34.095Z"
   },
   {
    "duration": 21,
    "start_time": "2023-07-12T19:16:37.407Z"
   },
   {
    "duration": 9,
    "start_time": "2023-07-12T19:16:39.903Z"
   },
   {
    "duration": 14,
    "start_time": "2023-07-12T19:16:42.447Z"
   },
   {
    "duration": 8,
    "start_time": "2023-07-12T19:16:45.144Z"
   },
   {
    "duration": 5,
    "start_time": "2023-07-12T19:16:48.687Z"
   },
   {
    "duration": 5,
    "start_time": "2023-07-12T19:16:53.155Z"
   },
   {
    "duration": 11,
    "start_time": "2023-07-12T19:22:29.282Z"
   },
   {
    "duration": 112,
    "start_time": "2023-07-12T19:22:53.983Z"
   },
   {
    "duration": 15,
    "start_time": "2023-07-12T19:23:04.077Z"
   },
   {
    "duration": 12,
    "start_time": "2023-07-12T19:23:19.464Z"
   },
   {
    "duration": 18,
    "start_time": "2023-07-12T19:41:31.399Z"
   },
   {
    "duration": 1559,
    "start_time": "2023-07-12T20:51:28.862Z"
   },
   {
    "duration": 318,
    "start_time": "2023-07-12T20:51:30.423Z"
   },
   {
    "duration": 33,
    "start_time": "2023-07-12T20:51:30.744Z"
   },
   {
    "duration": 61,
    "start_time": "2023-07-12T20:51:30.779Z"
   },
   {
    "duration": 45,
    "start_time": "2023-07-12T20:51:30.843Z"
   },
   {
    "duration": 63,
    "start_time": "2023-07-12T20:51:30.890Z"
   },
   {
    "duration": 27,
    "start_time": "2023-07-12T20:51:30.955Z"
   },
   {
    "duration": 80,
    "start_time": "2023-07-12T20:51:30.984Z"
   },
   {
    "duration": 32,
    "start_time": "2023-07-12T20:51:31.065Z"
   },
   {
    "duration": 48,
    "start_time": "2023-07-12T20:51:31.100Z"
   },
   {
    "duration": 23,
    "start_time": "2023-07-12T20:51:31.151Z"
   },
   {
    "duration": 27,
    "start_time": "2023-07-12T20:51:31.176Z"
   },
   {
    "duration": 201,
    "start_time": "2023-07-12T20:51:31.206Z"
   },
   {
    "duration": 10,
    "start_time": "2023-07-12T20:51:31.410Z"
   },
   {
    "duration": 12,
    "start_time": "2023-07-12T20:51:31.423Z"
   },
   {
    "duration": 147,
    "start_time": "2023-07-12T20:51:31.436Z"
   },
   {
    "duration": 30,
    "start_time": "2023-07-12T20:51:31.585Z"
   },
   {
    "duration": 42,
    "start_time": "2023-07-12T20:51:31.618Z"
   },
   {
    "duration": 10,
    "start_time": "2023-07-12T20:51:31.663Z"
   },
   {
    "duration": 287,
    "start_time": "2023-07-12T20:51:31.676Z"
   },
   {
    "duration": 9,
    "start_time": "2023-07-12T20:51:31.965Z"
   },
   {
    "duration": 16,
    "start_time": "2023-07-12T20:51:31.977Z"
   },
   {
    "duration": 244,
    "start_time": "2023-07-12T20:51:31.996Z"
   },
   {
    "duration": 7,
    "start_time": "2023-07-12T20:51:32.242Z"
   },
   {
    "duration": 374,
    "start_time": "2023-07-12T20:51:32.251Z"
   },
   {
    "duration": 26,
    "start_time": "2023-07-12T20:51:32.627Z"
   },
   {
    "duration": 32,
    "start_time": "2023-07-12T20:51:32.655Z"
   },
   {
    "duration": 51,
    "start_time": "2023-07-12T20:51:32.691Z"
   },
   {
    "duration": 31,
    "start_time": "2023-07-12T20:51:32.745Z"
   },
   {
    "duration": 230,
    "start_time": "2023-07-12T20:51:32.778Z"
   },
   {
    "duration": 205,
    "start_time": "2023-07-12T20:51:33.014Z"
   },
   {
    "duration": 20,
    "start_time": "2023-07-12T20:51:33.222Z"
   },
   {
    "duration": 11,
    "start_time": "2023-07-12T20:51:33.245Z"
   },
   {
    "duration": 306,
    "start_time": "2023-07-12T20:51:33.258Z"
   },
   {
    "duration": 213,
    "start_time": "2023-07-12T20:51:33.566Z"
   },
   {
    "duration": 15,
    "start_time": "2023-07-12T20:51:33.781Z"
   },
   {
    "duration": 22,
    "start_time": "2023-07-12T20:51:33.799Z"
   },
   {
    "duration": 46,
    "start_time": "2023-07-12T20:51:33.823Z"
   },
   {
    "duration": 56,
    "start_time": "2023-07-12T20:51:33.871Z"
   },
   {
    "duration": 38,
    "start_time": "2023-07-12T20:51:33.929Z"
   },
   {
    "duration": 47,
    "start_time": "2023-07-12T20:51:33.970Z"
   },
   {
    "duration": 35,
    "start_time": "2023-07-12T20:51:34.019Z"
   },
   {
    "duration": 26,
    "start_time": "2023-07-12T20:51:34.056Z"
   },
   {
    "duration": 45,
    "start_time": "2023-07-12T20:51:34.084Z"
   },
   {
    "duration": 10,
    "start_time": "2023-07-12T20:51:34.132Z"
   },
   {
    "duration": 43,
    "start_time": "2023-07-12T20:51:34.144Z"
   },
   {
    "duration": 23,
    "start_time": "2023-07-12T20:51:34.190Z"
   },
   {
    "duration": 6,
    "start_time": "2023-07-12T20:51:34.215Z"
   },
   {
    "duration": 42,
    "start_time": "2023-07-12T20:51:34.223Z"
   },
   {
    "duration": 32,
    "start_time": "2023-07-12T20:51:34.267Z"
   },
   {
    "duration": 11,
    "start_time": "2023-07-12T20:51:34.301Z"
   },
   {
    "duration": 50,
    "start_time": "2023-07-13T07:06:37.426Z"
   },
   {
    "duration": 1350,
    "start_time": "2023-07-13T07:06:46.141Z"
   },
   {
    "duration": 308,
    "start_time": "2023-07-13T07:06:47.493Z"
   },
   {
    "duration": 34,
    "start_time": "2023-07-13T07:06:47.802Z"
   },
   {
    "duration": 51,
    "start_time": "2023-07-13T07:06:47.838Z"
   },
   {
    "duration": 30,
    "start_time": "2023-07-13T07:06:47.891Z"
   },
   {
    "duration": 26,
    "start_time": "2023-07-13T07:06:47.923Z"
   },
   {
    "duration": 11,
    "start_time": "2023-07-13T07:06:47.951Z"
   },
   {
    "duration": 13,
    "start_time": "2023-07-13T07:06:47.964Z"
   },
   {
    "duration": 5,
    "start_time": "2023-07-13T07:06:47.979Z"
   },
   {
    "duration": 33,
    "start_time": "2023-07-13T07:06:47.987Z"
   },
   {
    "duration": 5,
    "start_time": "2023-07-13T07:06:48.022Z"
   },
   {
    "duration": 8,
    "start_time": "2023-07-13T07:06:48.029Z"
   },
   {
    "duration": 202,
    "start_time": "2023-07-13T07:06:48.038Z"
   },
   {
    "duration": 13,
    "start_time": "2023-07-13T07:06:48.242Z"
   },
   {
    "duration": 18,
    "start_time": "2023-07-13T07:06:48.256Z"
   },
   {
    "duration": 152,
    "start_time": "2023-07-13T07:06:48.276Z"
   },
   {
    "duration": 13,
    "start_time": "2023-07-13T07:06:48.430Z"
   },
   {
    "duration": 31,
    "start_time": "2023-07-13T07:06:48.446Z"
   },
   {
    "duration": 12,
    "start_time": "2023-07-13T07:06:48.480Z"
   },
   {
    "duration": 268,
    "start_time": "2023-07-13T07:06:48.513Z"
   },
   {
    "duration": 9,
    "start_time": "2023-07-13T07:06:48.783Z"
   },
   {
    "duration": 20,
    "start_time": "2023-07-13T07:06:48.794Z"
   },
   {
    "duration": 211,
    "start_time": "2023-07-13T07:06:48.816Z"
   },
   {
    "duration": 6,
    "start_time": "2023-07-13T07:06:49.030Z"
   },
   {
    "duration": 202,
    "start_time": "2023-07-13T07:06:49.038Z"
   },
   {
    "duration": 20,
    "start_time": "2023-07-13T07:06:49.242Z"
   },
   {
    "duration": 22,
    "start_time": "2023-07-13T07:06:49.263Z"
   },
   {
    "duration": 53,
    "start_time": "2023-07-13T07:06:49.288Z"
   },
   {
    "duration": 33,
    "start_time": "2023-07-13T07:06:49.342Z"
   },
   {
    "duration": 210,
    "start_time": "2023-07-13T07:06:49.377Z"
   },
   {
    "duration": 232,
    "start_time": "2023-07-13T07:06:49.588Z"
   },
   {
    "duration": 17,
    "start_time": "2023-07-13T07:06:49.823Z"
   },
   {
    "duration": 13,
    "start_time": "2023-07-13T07:06:49.843Z"
   },
   {
    "duration": 304,
    "start_time": "2023-07-13T07:06:49.858Z"
   },
   {
    "duration": 185,
    "start_time": "2023-07-13T07:06:50.164Z"
   },
   {
    "duration": 13,
    "start_time": "2023-07-13T07:06:50.351Z"
   },
   {
    "duration": 18,
    "start_time": "2023-07-13T07:06:50.366Z"
   },
   {
    "duration": 42,
    "start_time": "2023-07-13T07:06:50.386Z"
   },
   {
    "duration": 27,
    "start_time": "2023-07-13T07:06:50.430Z"
   },
   {
    "duration": 26,
    "start_time": "2023-07-13T07:06:50.459Z"
   },
   {
    "duration": 47,
    "start_time": "2023-07-13T07:06:50.487Z"
   },
   {
    "duration": 24,
    "start_time": "2023-07-13T07:06:50.536Z"
   },
   {
    "duration": 19,
    "start_time": "2023-07-13T07:06:50.562Z"
   },
   {
    "duration": 38,
    "start_time": "2023-07-13T07:06:50.583Z"
   },
   {
    "duration": 8,
    "start_time": "2023-07-13T07:06:50.623Z"
   },
   {
    "duration": 19,
    "start_time": "2023-07-13T07:06:50.633Z"
   },
   {
    "duration": 9,
    "start_time": "2023-07-13T07:06:50.654Z"
   },
   {
    "duration": 9,
    "start_time": "2023-07-13T07:06:50.664Z"
   },
   {
    "duration": 1900,
    "start_time": "2023-07-13T07:06:50.674Z"
   },
   {
    "duration": 0,
    "start_time": "2023-07-13T07:06:52.576Z"
   },
   {
    "duration": 0,
    "start_time": "2023-07-13T07:06:52.577Z"
   },
   {
    "duration": 5,
    "start_time": "2023-07-13T07:07:20.258Z"
   },
   {
    "duration": 1378,
    "start_time": "2023-07-14T16:32:28.921Z"
   },
   {
    "duration": 326,
    "start_time": "2023-07-14T16:32:31.262Z"
   },
   {
    "duration": 41,
    "start_time": "2023-07-14T16:32:46.413Z"
   },
   {
    "duration": 47,
    "start_time": "2023-07-14T16:33:00.758Z"
   },
   {
    "duration": 33,
    "start_time": "2023-07-14T16:33:12.574Z"
   },
   {
    "duration": 16,
    "start_time": "2023-07-14T16:35:58.922Z"
   },
   {
    "duration": 13,
    "start_time": "2023-07-14T16:36:01.503Z"
   },
   {
    "duration": 15,
    "start_time": "2023-07-14T16:36:04.850Z"
   },
   {
    "duration": 7,
    "start_time": "2023-07-14T16:36:08.762Z"
   },
   {
    "duration": 18,
    "start_time": "2023-07-14T16:36:10.673Z"
   },
   {
    "duration": 5,
    "start_time": "2023-07-14T16:36:16.209Z"
   },
   {
    "duration": 8,
    "start_time": "2023-07-14T16:36:18.423Z"
   },
   {
    "duration": 9,
    "start_time": "2023-07-14T16:41:22.804Z"
   },
   {
    "duration": 5,
    "start_time": "2023-07-14T16:41:28.181Z"
   },
   {
    "duration": 11,
    "start_time": "2023-07-14T16:41:30.647Z"
   },
   {
    "duration": 78,
    "start_time": "2023-07-14T16:41:43.705Z"
   },
   {
    "duration": 10,
    "start_time": "2023-07-14T16:41:46.579Z"
   },
   {
    "duration": 10,
    "start_time": "2023-07-14T16:41:59.257Z"
   },
   {
    "duration": 105,
    "start_time": "2023-07-14T16:43:43.633Z"
   },
   {
    "duration": 9,
    "start_time": "2023-07-14T16:44:20.748Z"
   },
   {
    "duration": 10,
    "start_time": "2023-07-14T16:44:42.116Z"
   },
   {
    "duration": 16,
    "start_time": "2023-07-14T16:45:22.005Z"
   },
   {
    "duration": 14,
    "start_time": "2023-07-14T16:45:35.962Z"
   },
   {
    "duration": 10,
    "start_time": "2023-07-14T16:46:54.117Z"
   },
   {
    "duration": 12,
    "start_time": "2023-07-14T16:47:16.595Z"
   },
   {
    "duration": 8,
    "start_time": "2023-07-14T16:47:27.299Z"
   },
   {
    "duration": 7,
    "start_time": "2023-07-14T16:47:35.963Z"
   },
   {
    "duration": 208,
    "start_time": "2023-07-14T17:00:50.991Z"
   },
   {
    "duration": 137,
    "start_time": "2023-07-14T17:01:14.860Z"
   },
   {
    "duration": 359,
    "start_time": "2023-07-14T17:01:27.168Z"
   },
   {
    "duration": 17,
    "start_time": "2023-07-14T17:02:39.782Z"
   },
   {
    "duration": 345,
    "start_time": "2023-07-14T17:02:51.904Z"
   },
   {
    "duration": 352,
    "start_time": "2023-07-14T17:02:57.358Z"
   },
   {
    "duration": 18,
    "start_time": "2023-07-14T17:11:45.191Z"
   },
   {
    "duration": 18,
    "start_time": "2023-07-14T17:11:52.595Z"
   },
   {
    "duration": 466,
    "start_time": "2023-07-14T17:12:26.708Z"
   },
   {
    "duration": 19,
    "start_time": "2023-07-14T17:12:41.855Z"
   },
   {
    "duration": 20,
    "start_time": "2023-07-14T17:12:48.569Z"
   },
   {
    "duration": 16,
    "start_time": "2023-07-14T17:12:56.723Z"
   },
   {
    "duration": 169,
    "start_time": "2023-07-14T17:14:12.525Z"
   },
   {
    "duration": 175,
    "start_time": "2023-07-14T17:14:37.298Z"
   },
   {
    "duration": 170,
    "start_time": "2023-07-14T17:14:49.648Z"
   },
   {
    "duration": 164,
    "start_time": "2023-07-14T17:20:06.106Z"
   },
   {
    "duration": 173,
    "start_time": "2023-07-14T17:20:27.442Z"
   },
   {
    "duration": 180,
    "start_time": "2023-07-14T17:20:41.930Z"
   },
   {
    "duration": 181,
    "start_time": "2023-07-14T17:21:02.776Z"
   },
   {
    "duration": 179,
    "start_time": "2023-07-14T17:21:12.573Z"
   },
   {
    "duration": 167,
    "start_time": "2023-07-14T17:21:57.441Z"
   },
   {
    "duration": 20,
    "start_time": "2023-07-14T17:23:52.856Z"
   },
   {
    "duration": 20241,
    "start_time": "2023-07-14T17:25:02.689Z"
   },
   {
    "duration": 18,
    "start_time": "2023-07-14T17:26:20.917Z"
   },
   {
    "duration": 83,
    "start_time": "2023-07-14T17:26:28.882Z"
   },
   {
    "duration": 18,
    "start_time": "2023-07-14T17:26:32.971Z"
   },
   {
    "duration": 168,
    "start_time": "2023-07-14T17:30:54.982Z"
   },
   {
    "duration": 164,
    "start_time": "2023-07-14T17:31:11.681Z"
   },
   {
    "duration": 189,
    "start_time": "2023-07-14T17:31:25.721Z"
   },
   {
    "duration": 555,
    "start_time": "2023-07-14T17:31:33.502Z"
   },
   {
    "duration": 166,
    "start_time": "2023-07-14T17:32:17.534Z"
   },
   {
    "duration": 182,
    "start_time": "2023-07-14T17:32:39.501Z"
   },
   {
    "duration": 166,
    "start_time": "2023-07-14T17:32:44.207Z"
   },
   {
    "duration": 163,
    "start_time": "2023-07-14T17:32:55.945Z"
   },
   {
    "duration": 2200,
    "start_time": "2023-07-14T17:35:19.358Z"
   },
   {
    "duration": 4920,
    "start_time": "2023-07-14T17:35:43.032Z"
   },
   {
    "duration": 623,
    "start_time": "2023-07-14T17:37:17.545Z"
   },
   {
    "duration": 10,
    "start_time": "2023-07-14T17:37:44.541Z"
   },
   {
    "duration": 2538,
    "start_time": "2023-07-14T17:37:54.600Z"
   },
   {
    "duration": 2531,
    "start_time": "2023-07-14T17:38:41.832Z"
   },
   {
    "duration": 170,
    "start_time": "2023-07-14T17:39:22.447Z"
   },
   {
    "duration": 167,
    "start_time": "2023-07-14T17:39:52.912Z"
   },
   {
    "duration": 2040,
    "start_time": "2023-07-14T17:40:17.151Z"
   },
   {
    "duration": 166,
    "start_time": "2023-07-14T17:40:26.255Z"
   },
   {
    "duration": 175,
    "start_time": "2023-07-14T17:45:19.483Z"
   },
   {
    "duration": 166,
    "start_time": "2023-07-14T17:45:33.576Z"
   },
   {
    "duration": 163,
    "start_time": "2023-07-14T17:46:07.309Z"
   },
   {
    "duration": 199,
    "start_time": "2023-07-14T17:46:11.764Z"
   },
   {
    "duration": 131,
    "start_time": "2023-07-14T17:46:25.974Z"
   },
   {
    "duration": 119,
    "start_time": "2023-07-14T17:46:36.316Z"
   },
   {
    "duration": 154,
    "start_time": "2023-07-14T17:46:43.643Z"
   },
   {
    "duration": 115,
    "start_time": "2023-07-14T17:57:14.133Z"
   },
   {
    "duration": 113,
    "start_time": "2023-07-14T17:57:24.610Z"
   },
   {
    "duration": 111,
    "start_time": "2023-07-14T17:57:44.247Z"
   },
   {
    "duration": 165,
    "start_time": "2023-07-14T17:57:55.433Z"
   },
   {
    "duration": 137,
    "start_time": "2023-07-14T17:59:52.397Z"
   },
   {
    "duration": 13,
    "start_time": "2023-07-14T18:00:53.000Z"
   },
   {
    "duration": 10,
    "start_time": "2023-07-14T18:02:06.254Z"
   },
   {
    "duration": 326,
    "start_time": "2023-07-14T18:02:11.967Z"
   },
   {
    "duration": 523,
    "start_time": "2023-07-14T18:02:42.430Z"
   },
   {
    "duration": 12,
    "start_time": "2023-07-14T18:03:08.458Z"
   },
   {
    "duration": 13,
    "start_time": "2023-07-14T18:03:12.635Z"
   },
   {
    "duration": 358,
    "start_time": "2023-07-14T18:03:56.303Z"
   },
   {
    "duration": 13,
    "start_time": "2023-07-14T18:10:06.072Z"
   },
   {
    "duration": 14,
    "start_time": "2023-07-14T18:10:30.646Z"
   },
   {
    "duration": 16,
    "start_time": "2023-07-14T18:10:56.196Z"
   },
   {
    "duration": 13,
    "start_time": "2023-07-14T18:11:04.753Z"
   },
   {
    "duration": 119,
    "start_time": "2023-07-14T18:11:44.952Z"
   },
   {
    "duration": 13,
    "start_time": "2023-07-14T18:11:52.791Z"
   },
   {
    "duration": 995,
    "start_time": "2023-07-14T18:12:07.526Z"
   },
   {
    "duration": 15,
    "start_time": "2023-07-14T18:12:58.312Z"
   },
   {
    "duration": 359,
    "start_time": "2023-07-14T18:13:20.134Z"
   },
   {
    "duration": 6,
    "start_time": "2023-07-14T18:14:37.196Z"
   },
   {
    "duration": 131,
    "start_time": "2023-07-14T18:15:18.644Z"
   },
   {
    "duration": 7,
    "start_time": "2023-07-14T18:15:28.578Z"
   },
   {
    "duration": 127,
    "start_time": "2023-07-14T18:15:31.266Z"
   },
   {
    "duration": 121,
    "start_time": "2023-07-14T18:15:35.028Z"
   },
   {
    "duration": 271,
    "start_time": "2023-07-14T18:15:40.436Z"
   },
   {
    "duration": 12,
    "start_time": "2023-07-14T18:15:45.318Z"
   },
   {
    "duration": 7,
    "start_time": "2023-07-14T18:15:49.218Z"
   },
   {
    "duration": 46,
    "start_time": "2023-07-16T09:42:43.971Z"
   },
   {
    "duration": 1275,
    "start_time": "2023-07-16T09:42:53.944Z"
   },
   {
    "duration": 205,
    "start_time": "2023-07-16T09:42:56.360Z"
   },
   {
    "duration": 34,
    "start_time": "2023-07-16T09:42:59.648Z"
   },
   {
    "duration": 33,
    "start_time": "2023-07-16T09:43:04.996Z"
   },
   {
    "duration": 30,
    "start_time": "2023-07-16T09:43:07.994Z"
   },
   {
    "duration": 13,
    "start_time": "2023-07-16T09:43:12.251Z"
   },
   {
    "duration": 16,
    "start_time": "2023-07-16T09:43:15.361Z"
   },
   {
    "duration": 14,
    "start_time": "2023-07-16T09:43:18.271Z"
   },
   {
    "duration": 5,
    "start_time": "2023-07-16T09:43:24.806Z"
   },
   {
    "duration": 10,
    "start_time": "2023-07-16T09:43:26.449Z"
   },
   {
    "duration": 5,
    "start_time": "2023-07-16T09:43:29.619Z"
   },
   {
    "duration": 7,
    "start_time": "2023-07-16T09:43:32.581Z"
   },
   {
    "duration": 165,
    "start_time": "2023-07-16T09:43:35.244Z"
   },
   {
    "duration": 141,
    "start_time": "2023-07-16T09:44:42.219Z"
   },
   {
    "duration": 63,
    "start_time": "2023-07-16T09:59:53.900Z"
   },
   {
    "duration": 10,
    "start_time": "2023-07-16T09:59:59.757Z"
   },
   {
    "duration": 6,
    "start_time": "2023-07-16T10:00:02.780Z"
   },
   {
    "duration": 121,
    "start_time": "2023-07-16T10:00:05.132Z"
   },
   {
    "duration": 94,
    "start_time": "2023-07-16T10:02:08.191Z"
   },
   {
    "duration": 4,
    "start_time": "2023-07-16T11:09:56.344Z"
   },
   {
    "duration": 75,
    "start_time": "2023-07-16T11:09:59.463Z"
   },
   {
    "duration": 34,
    "start_time": "2023-07-16T11:10:01.645Z"
   },
   {
    "duration": 32,
    "start_time": "2023-07-16T11:10:19.910Z"
   },
   {
    "duration": 27,
    "start_time": "2023-07-16T11:10:24.859Z"
   },
   {
    "duration": 13,
    "start_time": "2023-07-16T11:10:31.344Z"
   },
   {
    "duration": 11,
    "start_time": "2023-07-16T11:10:34.403Z"
   },
   {
    "duration": 13,
    "start_time": "2023-07-16T11:10:37.319Z"
   },
   {
    "duration": 5,
    "start_time": "2023-07-16T11:10:41.061Z"
   },
   {
    "duration": 11,
    "start_time": "2023-07-16T11:10:42.817Z"
   },
   {
    "duration": 4,
    "start_time": "2023-07-16T11:10:46.444Z"
   },
   {
    "duration": 6,
    "start_time": "2023-07-16T11:10:49.697Z"
   },
   {
    "duration": 149,
    "start_time": "2023-07-16T11:11:00.909Z"
   },
   {
    "duration": 8,
    "start_time": "2023-07-16T11:11:07.392Z"
   },
   {
    "duration": 4,
    "start_time": "2023-07-16T11:11:10.015Z"
   },
   {
    "duration": 96,
    "start_time": "2023-07-16T11:11:12.886Z"
   },
   {
    "duration": 102,
    "start_time": "2023-07-16T11:14:43.845Z"
   },
   {
    "duration": 104,
    "start_time": "2023-07-16T11:15:13.618Z"
   },
   {
    "duration": 237,
    "start_time": "2023-07-16T11:15:48.160Z"
   },
   {
    "duration": 97,
    "start_time": "2023-07-16T11:15:59.506Z"
   },
   {
    "duration": 47,
    "start_time": "2023-07-16T11:23:22.268Z"
   },
   {
    "duration": 205,
    "start_time": "2023-07-16T11:24:16.837Z"
   },
   {
    "duration": 106,
    "start_time": "2023-07-16T11:24:40.593Z"
   },
   {
    "duration": 53,
    "start_time": "2023-07-16T11:28:17.233Z"
   },
   {
    "duration": 51,
    "start_time": "2023-07-16T11:29:53.505Z"
   },
   {
    "duration": 75,
    "start_time": "2023-07-16T11:32:38.099Z"
   },
   {
    "duration": 116,
    "start_time": "2023-07-16T11:34:32.509Z"
   },
   {
    "duration": 231,
    "start_time": "2023-07-16T11:39:13.701Z"
   },
   {
    "duration": 254,
    "start_time": "2023-07-16T11:41:20.421Z"
   },
   {
    "duration": 364,
    "start_time": "2023-07-16T11:46:35.222Z"
   },
   {
    "duration": 173,
    "start_time": "2023-07-16T11:49:38.759Z"
   },
   {
    "duration": 203,
    "start_time": "2023-07-16T11:51:01.356Z"
   },
   {
    "duration": 8,
    "start_time": "2023-07-16T11:52:03.585Z"
   },
   {
    "duration": 8,
    "start_time": "2023-07-16T11:52:13.719Z"
   },
   {
    "duration": 7,
    "start_time": "2023-07-16T11:52:24.455Z"
   },
   {
    "duration": 201,
    "start_time": "2023-07-16T11:52:30.309Z"
   },
   {
    "duration": 9,
    "start_time": "2023-07-16T11:52:53.053Z"
   },
   {
    "duration": 5,
    "start_time": "2023-07-16T11:58:01.510Z"
   },
   {
    "duration": 185,
    "start_time": "2023-07-16T11:58:06.401Z"
   },
   {
    "duration": 8,
    "start_time": "2023-07-16T11:58:12.617Z"
   },
   {
    "duration": 19,
    "start_time": "2023-07-16T12:00:16.241Z"
   },
   {
    "duration": 27,
    "start_time": "2023-07-16T12:00:43.545Z"
   },
   {
    "duration": 37,
    "start_time": "2023-07-16T12:01:07.329Z"
   },
   {
    "duration": 20,
    "start_time": "2023-07-16T12:01:42.046Z"
   },
   {
    "duration": 12,
    "start_time": "2023-07-16T12:04:41.708Z"
   },
   {
    "duration": 26,
    "start_time": "2023-07-16T12:05:26.918Z"
   },
   {
    "duration": 27,
    "start_time": "2023-07-16T12:07:30.022Z"
   },
   {
    "duration": 31,
    "start_time": "2023-07-16T12:07:32.841Z"
   },
   {
    "duration": 32,
    "start_time": "2023-07-16T12:07:35.826Z"
   },
   {
    "duration": 63,
    "start_time": "2023-07-16T12:09:22.341Z"
   },
   {
    "duration": 191,
    "start_time": "2023-07-16T12:09:35.910Z"
   },
   {
    "duration": 197,
    "start_time": "2023-07-16T12:10:35.949Z"
   },
   {
    "duration": 60,
    "start_time": "2023-07-16T12:10:46.218Z"
   },
   {
    "duration": 170,
    "start_time": "2023-07-16T12:11:03.906Z"
   },
   {
    "duration": 256,
    "start_time": "2023-07-16T12:11:13.721Z"
   },
   {
    "duration": 1430,
    "start_time": "2023-07-16T12:11:24.449Z"
   },
   {
    "duration": 174,
    "start_time": "2023-07-16T12:11:31.914Z"
   },
   {
    "duration": 172,
    "start_time": "2023-07-16T12:16:08.897Z"
   },
   {
    "duration": 88,
    "start_time": "2023-07-16T12:16:19.519Z"
   },
   {
    "duration": 182,
    "start_time": "2023-07-16T12:16:25.699Z"
   },
   {
    "duration": 99,
    "start_time": "2023-07-16T12:16:38.409Z"
   },
   {
    "duration": 84,
    "start_time": "2023-07-16T12:16:44.705Z"
   },
   {
    "duration": 77,
    "start_time": "2023-07-16T12:16:55.950Z"
   },
   {
    "duration": 213,
    "start_time": "2023-07-16T12:17:02.209Z"
   },
   {
    "duration": 200,
    "start_time": "2023-07-16T12:17:21.590Z"
   },
   {
    "duration": 15,
    "start_time": "2023-07-16T12:18:41.559Z"
   },
   {
    "duration": 63,
    "start_time": "2023-07-16T12:19:02.362Z"
   },
   {
    "duration": 16,
    "start_time": "2023-07-16T12:19:11.809Z"
   },
   {
    "duration": 15,
    "start_time": "2023-07-16T12:19:22.115Z"
   },
   {
    "duration": 186,
    "start_time": "2023-07-16T12:19:29.613Z"
   },
   {
    "duration": 184,
    "start_time": "2023-07-16T12:20:18.624Z"
   },
   {
    "duration": 204,
    "start_time": "2023-07-16T12:20:55.501Z"
   },
   {
    "duration": 182,
    "start_time": "2023-07-16T12:21:12.383Z"
   },
   {
    "duration": 190,
    "start_time": "2023-07-16T12:21:23.617Z"
   },
   {
    "duration": 291,
    "start_time": "2023-07-16T12:21:37.359Z"
   },
   {
    "duration": 167,
    "start_time": "2023-07-16T12:21:59.497Z"
   },
   {
    "duration": 166,
    "start_time": "2023-07-16T12:22:08.709Z"
   },
   {
    "duration": 13,
    "start_time": "2023-07-16T12:22:15.231Z"
   },
   {
    "duration": 13,
    "start_time": "2023-07-16T12:22:23.443Z"
   },
   {
    "duration": 25,
    "start_time": "2023-07-16T12:22:45.449Z"
   },
   {
    "duration": 11,
    "start_time": "2023-07-16T12:23:05.849Z"
   },
   {
    "duration": 174,
    "start_time": "2023-07-16T12:24:10.657Z"
   },
   {
    "duration": 168,
    "start_time": "2023-07-16T12:24:30.153Z"
   },
   {
    "duration": 13,
    "start_time": "2023-07-16T12:24:42.243Z"
   },
   {
    "duration": 23,
    "start_time": "2023-07-16T12:25:36.123Z"
   },
   {
    "duration": 26,
    "start_time": "2023-07-16T12:25:39.525Z"
   },
   {
    "duration": 30,
    "start_time": "2023-07-16T12:25:42.345Z"
   },
   {
    "duration": 19,
    "start_time": "2023-07-16T12:25:45.270Z"
   },
   {
    "duration": 22,
    "start_time": "2023-07-16T12:25:48.257Z"
   },
   {
    "duration": 17,
    "start_time": "2023-07-16T12:25:52.512Z"
   },
   {
    "duration": 13,
    "start_time": "2023-07-16T12:25:55.857Z"
   },
   {
    "duration": 8,
    "start_time": "2023-07-16T12:25:58.421Z"
   },
   {
    "duration": 15,
    "start_time": "2023-07-16T12:26:01.669Z"
   },
   {
    "duration": 32,
    "start_time": "2023-07-16T12:29:38.720Z"
   },
   {
    "duration": 25,
    "start_time": "2023-07-16T12:29:46.328Z"
   },
   {
    "duration": 29,
    "start_time": "2023-07-16T12:30:02.201Z"
   },
   {
    "duration": 26,
    "start_time": "2023-07-16T12:30:08.521Z"
   },
   {
    "duration": 20,
    "start_time": "2023-07-16T12:30:40.269Z"
   },
   {
    "duration": 28,
    "start_time": "2023-07-16T12:30:48.514Z"
   },
   {
    "duration": 15,
    "start_time": "2023-07-16T12:31:36.925Z"
   },
   {
    "duration": 16,
    "start_time": "2023-07-16T12:32:29.398Z"
   },
   {
    "duration": 14,
    "start_time": "2023-07-16T12:32:33.139Z"
   },
   {
    "duration": 7,
    "start_time": "2023-07-16T12:32:39.432Z"
   },
   {
    "duration": 13,
    "start_time": "2023-07-16T12:32:42.501Z"
   },
   {
    "duration": 8,
    "start_time": "2023-07-16T12:32:45.933Z"
   },
   {
    "duration": 5,
    "start_time": "2023-07-16T12:45:32.769Z"
   },
   {
    "duration": 6,
    "start_time": "2023-07-16T12:45:41.245Z"
   },
   {
    "duration": 9,
    "start_time": "2023-07-16T12:45:48.410Z"
   },
   {
    "duration": 5,
    "start_time": "2023-07-16T12:46:09.813Z"
   },
   {
    "duration": 11,
    "start_time": "2023-07-16T13:02:51.969Z"
   },
   {
    "duration": 1329,
    "start_time": "2023-07-17T08:24:54.388Z"
   },
   {
    "duration": 215,
    "start_time": "2023-07-17T08:24:55.720Z"
   },
   {
    "duration": 29,
    "start_time": "2023-07-17T08:24:55.937Z"
   },
   {
    "duration": 77,
    "start_time": "2023-07-17T08:24:55.968Z"
   },
   {
    "duration": 66,
    "start_time": "2023-07-17T08:24:56.049Z"
   },
   {
    "duration": 46,
    "start_time": "2023-07-17T08:24:56.117Z"
   },
   {
    "duration": 44,
    "start_time": "2023-07-17T08:24:56.165Z"
   },
   {
    "duration": 59,
    "start_time": "2023-07-17T08:24:56.210Z"
   },
   {
    "duration": 12,
    "start_time": "2023-07-17T08:24:56.271Z"
   },
   {
    "duration": 20,
    "start_time": "2023-07-17T08:24:56.287Z"
   },
   {
    "duration": 60,
    "start_time": "2023-07-17T08:24:56.309Z"
   },
   {
    "duration": 18,
    "start_time": "2023-07-17T08:24:56.371Z"
   },
   {
    "duration": 191,
    "start_time": "2023-07-17T08:24:56.391Z"
   },
   {
    "duration": 9,
    "start_time": "2023-07-17T08:24:56.584Z"
   },
   {
    "duration": 42,
    "start_time": "2023-07-17T08:24:56.595Z"
   },
   {
    "duration": 121,
    "start_time": "2023-07-17T08:24:56.640Z"
   },
   {
    "duration": 11,
    "start_time": "2023-07-17T08:24:56.763Z"
   },
   {
    "duration": 34,
    "start_time": "2023-07-17T08:24:56.776Z"
   },
   {
    "duration": 45,
    "start_time": "2023-07-17T08:24:56.812Z"
   },
   {
    "duration": 246,
    "start_time": "2023-07-17T08:24:56.859Z"
   },
   {
    "duration": 28,
    "start_time": "2023-07-17T08:24:57.107Z"
   },
   {
    "duration": 41,
    "start_time": "2023-07-17T08:24:57.138Z"
   },
   {
    "duration": 205,
    "start_time": "2023-07-17T08:24:57.181Z"
   },
   {
    "duration": 8,
    "start_time": "2023-07-17T08:24:57.388Z"
   },
   {
    "duration": 54,
    "start_time": "2023-07-17T08:24:57.398Z"
   },
   {
    "duration": 219,
    "start_time": "2023-07-17T08:24:57.454Z"
   },
   {
    "duration": 10,
    "start_time": "2023-07-17T08:24:57.675Z"
   },
   {
    "duration": 28,
    "start_time": "2023-07-17T08:24:57.688Z"
   },
   {
    "duration": 44,
    "start_time": "2023-07-17T08:24:57.718Z"
   },
   {
    "duration": 26,
    "start_time": "2023-07-17T08:24:57.764Z"
   },
   {
    "duration": 47,
    "start_time": "2023-07-17T08:24:57.791Z"
   },
   {
    "duration": 45,
    "start_time": "2023-07-17T08:24:57.840Z"
   },
   {
    "duration": 218,
    "start_time": "2023-07-17T08:24:57.886Z"
   },
   {
    "duration": 256,
    "start_time": "2023-07-17T08:24:58.106Z"
   },
   {
    "duration": 15,
    "start_time": "2023-07-17T08:24:58.364Z"
   },
   {
    "duration": 12,
    "start_time": "2023-07-17T08:24:58.381Z"
   },
   {
    "duration": 255,
    "start_time": "2023-07-17T08:24:58.395Z"
   },
   {
    "duration": 173,
    "start_time": "2023-07-17T08:24:58.652Z"
   },
   {
    "duration": 19,
    "start_time": "2023-07-17T08:24:58.826Z"
   },
   {
    "duration": 26,
    "start_time": "2023-07-17T08:24:58.847Z"
   },
   {
    "duration": 27,
    "start_time": "2023-07-17T08:24:58.875Z"
   },
   {
    "duration": 35,
    "start_time": "2023-07-17T08:24:58.904Z"
   },
   {
    "duration": 35,
    "start_time": "2023-07-17T08:24:58.941Z"
   },
   {
    "duration": 29,
    "start_time": "2023-07-17T08:24:58.978Z"
   },
   {
    "duration": 41,
    "start_time": "2023-07-17T08:24:59.009Z"
   },
   {
    "duration": 22,
    "start_time": "2023-07-17T08:24:59.052Z"
   },
   {
    "duration": 25,
    "start_time": "2023-07-17T08:24:59.076Z"
   },
   {
    "duration": 41,
    "start_time": "2023-07-17T08:24:59.126Z"
   },
   {
    "duration": 13,
    "start_time": "2023-07-17T08:24:59.168Z"
   },
   {
    "duration": 24,
    "start_time": "2023-07-17T08:24:59.182Z"
   },
   {
    "duration": 22,
    "start_time": "2023-07-17T08:24:59.208Z"
   },
   {
    "duration": 22,
    "start_time": "2023-07-17T08:24:59.232Z"
   },
   {
    "duration": 28,
    "start_time": "2023-07-17T08:24:59.256Z"
   },
   {
    "duration": 19,
    "start_time": "2023-07-17T08:24:59.286Z"
   },
   {
    "duration": 18,
    "start_time": "2023-07-17T08:24:59.307Z"
   },
   {
    "duration": 48,
    "start_time": "2023-07-17T14:24:06.277Z"
   },
   {
    "duration": 1310,
    "start_time": "2023-07-17T14:24:21.253Z"
   },
   {
    "duration": 324,
    "start_time": "2023-07-17T14:24:24.693Z"
   },
   {
    "duration": 31,
    "start_time": "2023-07-17T14:24:27.749Z"
   },
   {
    "duration": 33,
    "start_time": "2023-07-17T14:24:31.710Z"
   },
   {
    "duration": 24,
    "start_time": "2023-07-17T14:24:35.623Z"
   },
   {
    "duration": 13,
    "start_time": "2023-07-17T14:24:40.957Z"
   },
   {
    "duration": 10,
    "start_time": "2023-07-17T14:24:43.781Z"
   },
   {
    "duration": 13,
    "start_time": "2023-07-17T14:24:46.917Z"
   },
   {
    "duration": 6,
    "start_time": "2023-07-17T14:24:49.757Z"
   },
   {
    "duration": 10,
    "start_time": "2023-07-17T14:24:51.477Z"
   },
   {
    "duration": 4,
    "start_time": "2023-07-17T14:24:55.169Z"
   },
   {
    "duration": 6,
    "start_time": "2023-07-17T14:25:01.921Z"
   },
   {
    "duration": 242,
    "start_time": "2023-07-17T14:25:14.993Z"
   },
   {
    "duration": 146,
    "start_time": "2023-07-17T14:29:56.180Z"
   },
   {
    "duration": 245,
    "start_time": "2023-07-17T14:30:50.006Z"
   },
   {
    "duration": 153,
    "start_time": "2023-07-17T14:31:14.073Z"
   },
   {
    "duration": 143,
    "start_time": "2023-07-17T14:31:20.949Z"
   },
   {
    "duration": 11,
    "start_time": "2023-07-17T14:31:38.817Z"
   },
   {
    "duration": 147,
    "start_time": "2023-07-17T14:31:55.575Z"
   },
   {
    "duration": 155,
    "start_time": "2023-07-17T14:32:41.765Z"
   },
   {
    "duration": 142,
    "start_time": "2023-07-17T14:32:50.887Z"
   },
   {
    "duration": 248,
    "start_time": "2023-07-17T14:33:17.678Z"
   },
   {
    "duration": 6,
    "start_time": "2023-07-17T14:33:24.086Z"
   },
   {
    "duration": 9,
    "start_time": "2023-07-17T14:34:54.225Z"
   },
   {
    "duration": 10,
    "start_time": "2023-07-17T14:35:01.057Z"
   },
   {
    "duration": 149,
    "start_time": "2023-07-17T14:35:05.294Z"
   },
   {
    "duration": 10,
    "start_time": "2023-07-17T14:37:56.923Z"
   },
   {
    "duration": 13,
    "start_time": "2023-07-17T14:39:02.702Z"
   },
   {
    "duration": 368,
    "start_time": "2023-07-17T14:39:20.001Z"
   },
   {
    "duration": 143,
    "start_time": "2023-07-17T14:39:50.888Z"
   },
   {
    "duration": 120,
    "start_time": "2023-07-17T14:42:59.173Z"
   },
   {
    "duration": 8,
    "start_time": "2023-07-17T14:43:22.863Z"
   },
   {
    "duration": 112,
    "start_time": "2023-07-17T14:44:30.671Z"
   },
   {
    "duration": 6,
    "start_time": "2023-07-17T14:45:01.153Z"
   },
   {
    "duration": 119,
    "start_time": "2023-07-17T14:45:05.223Z"
   },
   {
    "duration": 120,
    "start_time": "2023-07-17T14:45:44.795Z"
   },
   {
    "duration": 293,
    "start_time": "2023-07-17T14:46:59.149Z"
   },
   {
    "duration": 169,
    "start_time": "2023-07-17T14:48:09.693Z"
   },
   {
    "duration": 174,
    "start_time": "2023-07-17T14:48:32.573Z"
   },
   {
    "duration": 10,
    "start_time": "2023-07-17T14:49:35.819Z"
   },
   {
    "duration": 9,
    "start_time": "2023-07-17T14:49:48.282Z"
   },
   {
    "duration": 16,
    "start_time": "2023-07-17T14:49:51.953Z"
   },
   {
    "duration": 17,
    "start_time": "2023-07-17T14:49:54.483Z"
   },
   {
    "duration": 20,
    "start_time": "2023-07-17T14:49:57.902Z"
   },
   {
    "duration": 25,
    "start_time": "2023-07-17T14:50:00.861Z"
   },
   {
    "duration": 24,
    "start_time": "2023-07-17T14:50:03.625Z"
   },
   {
    "duration": 173,
    "start_time": "2023-07-17T14:50:10.289Z"
   },
   {
    "duration": 157,
    "start_time": "2023-07-17T14:50:30.796Z"
   },
   {
    "duration": 157,
    "start_time": "2023-07-17T14:50:39.382Z"
   },
   {
    "duration": 13,
    "start_time": "2023-07-17T14:50:44.287Z"
   },
   {
    "duration": 168,
    "start_time": "2023-07-17T14:51:08.441Z"
   },
   {
    "duration": 156,
    "start_time": "2023-07-17T14:51:29.220Z"
   }
  ],
  "kernelspec": {
   "display_name": "Python 3 (ipykernel)",
   "language": "python",
   "name": "python3"
  },
  "language_info": {
   "codemirror_mode": {
    "name": "ipython",
    "version": 3
   },
   "file_extension": ".py",
   "mimetype": "text/x-python",
   "name": "python",
   "nbconvert_exporter": "python",
   "pygments_lexer": "ipython3",
   "version": "3.9.5"
  },
  "toc": {
   "base_numbering": 1,
   "nav_menu": {},
   "number_sections": true,
   "sideBar": true,
   "skip_h1_title": true,
   "title_cell": "Table of Contents",
   "title_sidebar": "Contents",
   "toc_cell": false,
   "toc_position": {},
   "toc_section_display": true,
   "toc_window_display": false
  }
 },
 "nbformat": 4,
 "nbformat_minor": 5
}
